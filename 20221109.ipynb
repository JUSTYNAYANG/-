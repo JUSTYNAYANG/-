{
  "nbformat": 4,
  "nbformat_minor": 0,
  "metadata": {
    "colab": {
      "provenance": [],
      "authorship_tag": "ABX9TyOmBCC2wnVD5KgmUbomTHTS",
      "include_colab_link": true
    },
    "kernelspec": {
      "name": "python3",
      "display_name": "Python 3"
    },
    "language_info": {
      "name": "python"
    }
  },
  "cells": [
    {
      "cell_type": "markdown",
      "metadata": {
        "id": "view-in-github",
        "colab_type": "text"
      },
      "source": [
        "<a href=\"https://colab.research.google.com/github/JUSTYNAYANG/summerpy/blob/main/20221109.ipynb\" target=\"_parent\"><img src=\"https://colab.research.google.com/assets/colab-badge.svg\" alt=\"Open In Colab\"/></a>"
      ]
    },
    {
      "cell_type": "code",
      "execution_count": 110,
      "metadata": {
        "colab": {
          "base_uri": "https://localhost:8080/"
        },
        "id": "zx8l1QDOVkfj",
        "outputId": "b9f83602-ceb2-4aca-8445-a1f981fe514d"
      },
      "outputs": [
        {
          "output_type": "execute_result",
          "data": {
            "text/plain": [
              "1"
            ]
          },
          "metadata": {},
          "execution_count": 110
        }
      ],
      "source": [
        "# % returns the remainder\n",
        "5 % 2"
      ]
    },
    {
      "cell_type": "code",
      "source": [
        "5 % 3"
      ],
      "metadata": {
        "colab": {
          "base_uri": "https://localhost:8080/"
        },
        "id": "SYf9F82aV2st",
        "outputId": "3abf026b-6ad6-4c6b-8c3f-e3d7f4d8be79"
      },
      "execution_count": 111,
      "outputs": [
        {
          "output_type": "execute_result",
          "data": {
            "text/plain": [
              "2"
            ]
          },
          "metadata": {},
          "execution_count": 111
        }
      ]
    },
    {
      "cell_type": "code",
      "source": [
        "for i in range(5):\n",
        "  print(i, end= \" \")\n",
        "  #prints i and a space"
      ],
      "metadata": {
        "colab": {
          "base_uri": "https://localhost:8080/"
        },
        "id": "_rEWqkPDVu7D",
        "outputId": "51899624-4dcf-4f16-efd5-acc84194b303"
      },
      "execution_count": 112,
      "outputs": [
        {
          "output_type": "stream",
          "name": "stdout",
          "text": [
            "0 1 2 3 4 "
          ]
        }
      ]
    },
    {
      "cell_type": "code",
      "source": [
        "bool(0)"
      ],
      "metadata": {
        "colab": {
          "base_uri": "https://localhost:8080/"
        },
        "id": "me-29bAbWH55",
        "outputId": "06c56655-c330-42fd-e2e7-ce63e6b76b01"
      },
      "execution_count": 113,
      "outputs": [
        {
          "output_type": "execute_result",
          "data": {
            "text/plain": [
              "False"
            ]
          },
          "metadata": {},
          "execution_count": 113
        }
      ]
    },
    {
      "cell_type": "code",
      "source": [
        "# prints out odd numbers\n",
        "for i in range(5):\n",
        "  # if the remainder is of i /2 is equal to 1 (because 1 is true, 0 is not), print it \n",
        "  if i % 2:\n",
        "    print(i)"
      ],
      "metadata": {
        "colab": {
          "base_uri": "https://localhost:8080/"
        },
        "id": "hLxSG6oAV_fA",
        "outputId": "63e94604-07c6-44e5-d426-11d5d1c331c1"
      },
      "execution_count": 114,
      "outputs": [
        {
          "output_type": "stream",
          "name": "stdout",
          "text": [
            "1\n",
            "3\n"
          ]
        }
      ]
    },
    {
      "cell_type": "code",
      "source": [
        "# prints out even numbers\n",
        "for i in range(5):\n",
        "  if i % 2:\n",
        "    # continue = move on to the next one(pass)\n",
        "    # when the remainer of i/2 is 1, move onto the next one\n",
        "    continue\n",
        "  print(i)"
      ],
      "metadata": {
        "colab": {
          "base_uri": "https://localhost:8080/"
        },
        "id": "Tm_65Ep-WYwO",
        "outputId": "4b3b8b46-f3bf-4d6a-ccf7-81bcb6a246a3"
      },
      "execution_count": 115,
      "outputs": [
        {
          "output_type": "stream",
          "name": "stdout",
          "text": [
            "0\n",
            "2\n",
            "4\n"
          ]
        }
      ]
    },
    {
      "cell_type": "markdown",
      "source": [
        "# for/ else"
      ],
      "metadata": {
        "id": "4LVA65POYNYL"
      }
    },
    {
      "cell_type": "code",
      "source": [
        "# after running through for, else will be runned\n",
        "for i in range(5):\n",
        "  print(i, end= \" \")\n",
        "else:\n",
        "  print(i+1)"
      ],
      "metadata": {
        "colab": {
          "base_uri": "https://localhost:8080/"
        },
        "id": "nsR7yd-LXOeW",
        "outputId": "f261ef48-61d4-4584-85ec-300075011d79"
      },
      "execution_count": 116,
      "outputs": [
        {
          "output_type": "stream",
          "name": "stdout",
          "text": [
            "0 1 2 3 4 5\n"
          ]
        }
      ]
    },
    {
      "cell_type": "markdown",
      "source": [
        "## is this a prime number?"
      ],
      "metadata": {
        "id": "9-vzohOTY6Tx"
      }
    },
    {
      "cell_type": "code",
      "source": [
        "n = 17\n",
        "for i in range(2, n):\n",
        "  if n % i == 0:\n",
        "    print(f\"found a factor: {i}\")\n",
        "    break\n",
        "else:\n",
        "  print(f\"{n} is a prime number\")"
      ],
      "metadata": {
        "colab": {
          "base_uri": "https://localhost:8080/"
        },
        "id": "OAiLAhSBY51O",
        "outputId": "65f87b4d-f071-4e54-c32b-ab2917ee90c9"
      },
      "execution_count": 117,
      "outputs": [
        {
          "output_type": "stream",
          "name": "stdout",
          "text": [
            "17 is a prime number\n"
          ]
        }
      ]
    },
    {
      "cell_type": "code",
      "source": [
        "n = 15\n",
        "for i in range(2, n):\n",
        "  if n % i == 0:\n",
        "    print(f\"found a factor: {i}\")\n",
        "    break\n",
        "else:\n",
        "  print(f\"{n} is a prime number\")"
      ],
      "metadata": {
        "colab": {
          "base_uri": "https://localhost:8080/"
        },
        "id": "Zh6T_kV3Zp_I",
        "outputId": "acd59645-ffd6-48d1-dddd-9d6d14c9abdb"
      },
      "execution_count": 118,
      "outputs": [
        {
          "output_type": "stream",
          "name": "stdout",
          "text": [
            "found a factor: 3\n"
          ]
        }
      ]
    },
    {
      "cell_type": "code",
      "source": [
        "n = int(input(\"please input a number \"))\n",
        "for i in range(2, n):\n",
        "  if n % i == 0:\n",
        "    print(f\"found a factor: {i}\")\n",
        "    break\n",
        "else:\n",
        "  print(f\"{n} is a prime number\")"
      ],
      "metadata": {
        "colab": {
          "base_uri": "https://localhost:8080/"
        },
        "id": "_4-OmJndZsAX",
        "outputId": "fe3b5873-9c2a-49cc-fbf3-32f0a04baadb"
      },
      "execution_count": 119,
      "outputs": [
        {
          "output_type": "stream",
          "name": "stdout",
          "text": [
            "please input a number 19\n",
            "19 is a prime number\n"
          ]
        }
      ]
    },
    {
      "cell_type": "code",
      "source": [
        "a = []\n",
        "n = int(input(\"please input a number \"))\n",
        "for i in range(2, n):\n",
        "  if n % i == 0:\n",
        "    a.append(i)\n",
        "if a:\n",
        "  print(f\"found a factor: {a}\")\n",
        "else:\n",
        "  print(f\"{n} is a prime number\")"
      ],
      "metadata": {
        "colab": {
          "base_uri": "https://localhost:8080/"
        },
        "id": "d6Cnl9ZkZ9F5",
        "outputId": "5ffe838d-c17e-49bd-c1c2-e6bbd6f754bd"
      },
      "execution_count": 120,
      "outputs": [
        {
          "output_type": "stream",
          "name": "stdout",
          "text": [
            "please input a number 15\n",
            "found a factor: [3, 5]\n"
          ]
        }
      ]
    },
    {
      "cell_type": "markdown",
      "source": [
        "# dictionary practice"
      ],
      "metadata": {
        "id": "pxrpnfv9d0o0"
      }
    },
    {
      "cell_type": "code",
      "source": [
        "d = {}"
      ],
      "metadata": {
        "id": "fnDYFnhMf1vi"
      },
      "execution_count": 121,
      "outputs": []
    },
    {
      "cell_type": "code",
      "source": [
        "d['cat'] = '貓咪'"
      ],
      "metadata": {
        "id": "YYaV-Duaf_oJ"
      },
      "execution_count": 122,
      "outputs": []
    },
    {
      "cell_type": "code",
      "source": [
        "d['dog'] = '狗狗'"
      ],
      "metadata": {
        "id": "cxmJV6ndgjse"
      },
      "execution_count": 123,
      "outputs": []
    },
    {
      "cell_type": "code",
      "source": [
        "d.keys()"
      ],
      "metadata": {
        "colab": {
          "base_uri": "https://localhost:8080/"
        },
        "id": "vTtLebqcgddP",
        "outputId": "24bdfb99-272a-45cc-bde0-a3c3a9c3024e"
      },
      "execution_count": 124,
      "outputs": [
        {
          "output_type": "execute_result",
          "data": {
            "text/plain": [
              "dict_keys(['cat', 'dog'])"
            ]
          },
          "metadata": {},
          "execution_count": 124
        }
      ]
    },
    {
      "cell_type": "code",
      "source": [
        "d.values()"
      ],
      "metadata": {
        "colab": {
          "base_uri": "https://localhost:8080/"
        },
        "id": "HncG0oKdggE7",
        "outputId": "1b364ed7-1c94-469f-f649-c718d86c9b84"
      },
      "execution_count": 125,
      "outputs": [
        {
          "output_type": "execute_result",
          "data": {
            "text/plain": [
              "dict_values(['貓咪', '狗狗'])"
            ]
          },
          "metadata": {},
          "execution_count": 125
        }
      ]
    },
    {
      "cell_type": "code",
      "source": [
        "d.items()"
      ],
      "metadata": {
        "colab": {
          "base_uri": "https://localhost:8080/"
        },
        "id": "s9Z4qUwoghac",
        "outputId": "e935f005-7e7a-4337-87c5-72973f6f89b4"
      },
      "execution_count": 126,
      "outputs": [
        {
          "output_type": "execute_result",
          "data": {
            "text/plain": [
              "dict_items([('cat', '貓咪'), ('dog', '狗狗')])"
            ]
          },
          "metadata": {},
          "execution_count": 126
        }
      ]
    },
    {
      "cell_type": "code",
      "source": [
        "d['cat']"
      ],
      "metadata": {
        "colab": {
          "base_uri": "https://localhost:8080/",
          "height": 35
        },
        "id": "xghc8YDpg1N4",
        "outputId": "53397cfd-c022-44e4-d8dd-86fd7bb07f80"
      },
      "execution_count": 127,
      "outputs": [
        {
          "output_type": "execute_result",
          "data": {
            "text/plain": [
              "'貓咪'"
            ],
            "application/vnd.google.colaboratory.intrinsic+json": {
              "type": "string"
            }
          },
          "metadata": {},
          "execution_count": 127
        }
      ]
    },
    {
      "cell_type": "code",
      "source": [
        "d['dog']"
      ],
      "metadata": {
        "colab": {
          "base_uri": "https://localhost:8080/",
          "height": 35
        },
        "id": "d5Rl_aSghJ9X",
        "outputId": "ce57ac67-ef8c-4e5b-dea0-a07edfc80f61"
      },
      "execution_count": 128,
      "outputs": [
        {
          "output_type": "execute_result",
          "data": {
            "text/plain": [
              "'狗狗'"
            ],
            "application/vnd.google.colaboratory.intrinsic+json": {
              "type": "string"
            }
          },
          "metadata": {},
          "execution_count": 128
        }
      ]
    },
    {
      "cell_type": "code",
      "source": [
        "d"
      ],
      "metadata": {
        "colab": {
          "base_uri": "https://localhost:8080/"
        },
        "id": "kTIiOsIrhMmN",
        "outputId": "35d35eed-3605-471c-843f-310e5322aebb"
      },
      "execution_count": 129,
      "outputs": [
        {
          "output_type": "execute_result",
          "data": {
            "text/plain": [
              "{'cat': '貓咪', 'dog': '狗狗'}"
            ]
          },
          "metadata": {},
          "execution_count": 129
        }
      ]
    },
    {
      "cell_type": "code",
      "source": [
        "'pig' in d"
      ],
      "metadata": {
        "colab": {
          "base_uri": "https://localhost:8080/"
        },
        "id": "aZ1iyLmkh4-V",
        "outputId": "00e629be-ac22-4139-a17a-6aa70f150bca"
      },
      "execution_count": 130,
      "outputs": [
        {
          "output_type": "execute_result",
          "data": {
            "text/plain": [
              "False"
            ]
          },
          "metadata": {},
          "execution_count": 130
        }
      ]
    },
    {
      "cell_type": "code",
      "source": [
        "if 'pig' in d:\n",
        " print(d['pig'])\n",
        "else:\n",
        "  print(\"'pig' is not in dictionary\")"
      ],
      "metadata": {
        "colab": {
          "base_uri": "https://localhost:8080/"
        },
        "id": "_bGc3fgshlbV",
        "outputId": "db413f36-f9d9-46ea-cf53-0f687db84089"
      },
      "execution_count": 131,
      "outputs": [
        {
          "output_type": "stream",
          "name": "stdout",
          "text": [
            "'pig' is not in dictionary\n"
          ]
        }
      ]
    },
    {
      "cell_type": "code",
      "source": [
        "# searches the key, if not found print \"not found\"\n",
        "d.get('pig', \"not found\")"
      ],
      "metadata": {
        "colab": {
          "base_uri": "https://localhost:8080/",
          "height": 35
        },
        "id": "4UTsrML2iAnR",
        "outputId": "cab5bbe7-7d0a-468e-87b7-94e7390cf4f9"
      },
      "execution_count": 132,
      "outputs": [
        {
          "output_type": "execute_result",
          "data": {
            "text/plain": [
              "'not found'"
            ],
            "application/vnd.google.colaboratory.intrinsic+json": {
              "type": "string"
            }
          },
          "metadata": {},
          "execution_count": 132
        }
      ]
    },
    {
      "cell_type": "code",
      "source": [
        "d.get('cat', \"not found\")"
      ],
      "metadata": {
        "colab": {
          "base_uri": "https://localhost:8080/",
          "height": 35
        },
        "id": "CH3PtV5JiQFh",
        "outputId": "03abce9d-e03e-4df7-8db3-efc9f0bb1ea9"
      },
      "execution_count": 133,
      "outputs": [
        {
          "output_type": "execute_result",
          "data": {
            "text/plain": [
              "'貓咪'"
            ],
            "application/vnd.google.colaboratory.intrinsic+json": {
              "type": "string"
            }
          },
          "metadata": {},
          "execution_count": 133
        }
      ]
    },
    {
      "cell_type": "code",
      "source": [
        "d['pig'] = \"豬豬\""
      ],
      "metadata": {
        "id": "XSKfXabOjLfe"
      },
      "execution_count": 134,
      "outputs": []
    },
    {
      "cell_type": "code",
      "source": [
        "d['cow'] = \"牛\""
      ],
      "metadata": {
        "id": "-Xg3J5itjIne"
      },
      "execution_count": 135,
      "outputs": []
    },
    {
      "cell_type": "code",
      "source": [
        "len(d)"
      ],
      "metadata": {
        "colab": {
          "base_uri": "https://localhost:8080/"
        },
        "id": "k1I_-wB8jSSQ",
        "outputId": "be3ebeba-58a4-48d3-a3b8-1a5b6e149cc3"
      },
      "execution_count": 136,
      "outputs": [
        {
          "output_type": "execute_result",
          "data": {
            "text/plain": [
              "4"
            ]
          },
          "metadata": {},
          "execution_count": 136
        }
      ]
    },
    {
      "cell_type": "code",
      "source": [
        "d['rabbit'] = \"兔\""
      ],
      "metadata": {
        "id": "s5Iqw-FjjUXc"
      },
      "execution_count": 137,
      "outputs": []
    },
    {
      "cell_type": "code",
      "source": [
        "d"
      ],
      "metadata": {
        "colab": {
          "base_uri": "https://localhost:8080/"
        },
        "id": "Yn71S2YGj1uU",
        "outputId": "f9bce73b-2601-41a2-948f-e811c51b8a0b"
      },
      "execution_count": 138,
      "outputs": [
        {
          "output_type": "execute_result",
          "data": {
            "text/plain": [
              "{'cat': '貓咪', 'dog': '狗狗', 'pig': '豬豬', 'cow': '牛', 'rabbit': '兔'}"
            ]
          },
          "metadata": {},
          "execution_count": 138
        }
      ]
    },
    {
      "cell_type": "code",
      "source": [
        "# can update/ change more than one key at the same time\n",
        "d.update({'cow': \"牛牛\", 'rabbit': \"兔子\"})"
      ],
      "metadata": {
        "id": "yE6FtB7Njp--"
      },
      "execution_count": 139,
      "outputs": []
    },
    {
      "cell_type": "code",
      "source": [
        "# can also be used to add\n",
        "d.update({'monkey': \"猴子\"})"
      ],
      "metadata": {
        "id": "8wfwvRmdkEKE"
      },
      "execution_count": 140,
      "outputs": []
    },
    {
      "cell_type": "code",
      "source": [
        "d"
      ],
      "metadata": {
        "colab": {
          "base_uri": "https://localhost:8080/"
        },
        "id": "E1J6m7FwkYjO",
        "outputId": "e71d0bfd-3cff-4740-b252-9f2a446b88de"
      },
      "execution_count": 141,
      "outputs": [
        {
          "output_type": "execute_result",
          "data": {
            "text/plain": [
              "{'cat': '貓咪',\n",
              " 'dog': '狗狗',\n",
              " 'pig': '豬豬',\n",
              " 'cow': '牛牛',\n",
              " 'rabbit': '兔子',\n",
              " 'monkey': '猴子'}"
            ]
          },
          "metadata": {},
          "execution_count": 141
        }
      ]
    },
    {
      "cell_type": "code",
      "source": [
        "#removes the key and its value from the dictionary\n",
        "x = d.pop('dog')"
      ],
      "metadata": {
        "id": "8yVpNO0jkjXB"
      },
      "execution_count": 142,
      "outputs": []
    },
    {
      "cell_type": "code",
      "source": [
        "x"
      ],
      "metadata": {
        "colab": {
          "base_uri": "https://localhost:8080/",
          "height": 35
        },
        "id": "WmUO2ULnlM3U",
        "outputId": "561b14d2-f598-47a8-e1cf-b8f8cbcc8442"
      },
      "execution_count": 143,
      "outputs": [
        {
          "output_type": "execute_result",
          "data": {
            "text/plain": [
              "'狗狗'"
            ],
            "application/vnd.google.colaboratory.intrinsic+json": {
              "type": "string"
            }
          },
          "metadata": {},
          "execution_count": 143
        }
      ]
    },
    {
      "cell_type": "code",
      "source": [
        "d"
      ],
      "metadata": {
        "colab": {
          "base_uri": "https://localhost:8080/"
        },
        "id": "-i6x0MCdk2N_",
        "outputId": "4f92b7a6-3564-46e2-8858-0f284d8ae73c"
      },
      "execution_count": 144,
      "outputs": [
        {
          "output_type": "execute_result",
          "data": {
            "text/plain": [
              "{'cat': '貓咪', 'pig': '豬豬', 'cow': '牛牛', 'rabbit': '兔子', 'monkey': '猴子'}"
            ]
          },
          "metadata": {},
          "execution_count": 144
        }
      ]
    },
    {
      "cell_type": "code",
      "source": [
        "# if the item is not in the dictionary, \"there isn't the item you requested\" will be printed\n",
        "d.pop(\"dog\", \"there isn't the item you requested\")"
      ],
      "metadata": {
        "colab": {
          "base_uri": "https://localhost:8080/",
          "height": 35
        },
        "id": "WzvJHaPHlOHT",
        "outputId": "c3e4ef5c-5ff1-455c-9079-06a9635c31d3"
      },
      "execution_count": 145,
      "outputs": [
        {
          "output_type": "execute_result",
          "data": {
            "text/plain": [
              "\"there isn't the item you requested\""
            ],
            "application/vnd.google.colaboratory.intrinsic+json": {
              "type": "string"
            }
          },
          "metadata": {},
          "execution_count": 145
        }
      ]
    },
    {
      "cell_type": "code",
      "source": [
        "e = {}"
      ],
      "metadata": {
        "id": "ktQNuQ9JmPSK"
      },
      "execution_count": 146,
      "outputs": []
    },
    {
      "cell_type": "code",
      "source": [
        "x = list('abcde')"
      ],
      "metadata": {
        "id": "O8-yDhiKmQrB"
      },
      "execution_count": 147,
      "outputs": []
    },
    {
      "cell_type": "code",
      "source": [
        "x"
      ],
      "metadata": {
        "colab": {
          "base_uri": "https://localhost:8080/"
        },
        "id": "4OJOsjeJmTnB",
        "outputId": "6701e97b-1ace-4064-c2a8-e870f94993f8"
      },
      "execution_count": 148,
      "outputs": [
        {
          "output_type": "execute_result",
          "data": {
            "text/plain": [
              "['a', 'b', 'c', 'd', 'e']"
            ]
          },
          "metadata": {},
          "execution_count": 148
        }
      ]
    },
    {
      "cell_type": "code",
      "source": [
        "y = list(\"knmedu\")"
      ],
      "metadata": {
        "id": "XO5ZSLVSmqFw"
      },
      "execution_count": 154,
      "outputs": []
    },
    {
      "cell_type": "code",
      "source": [
        "e.fromkeys?\n"
      ],
      "metadata": {
        "id": "E1QCnLPwmaZf"
      },
      "execution_count": 149,
      "outputs": []
    },
    {
      "cell_type": "code",
      "source": [
        "# gives creates keys and value\n",
        "e = e.fromkeys(x, 100)"
      ],
      "metadata": {
        "id": "51057jNAmUqr"
      },
      "execution_count": 150,
      "outputs": []
    },
    {
      "cell_type": "code",
      "source": [
        "e"
      ],
      "metadata": {
        "colab": {
          "base_uri": "https://localhost:8080/"
        },
        "id": "p8_qo720moK4",
        "outputId": "050082b2-2aa0-4d4f-b1ba-b437ddb804be"
      },
      "execution_count": 151,
      "outputs": [
        {
          "output_type": "execute_result",
          "data": {
            "text/plain": [
              "{'a': 100, 'b': 100, 'c': 100, 'd': 100, 'e': 100}"
            ]
          },
          "metadata": {},
          "execution_count": 151
        }
      ]
    },
    {
      "cell_type": "code",
      "source": [
        "# if we do not put \"e =\", it will not save\n",
        "e.fromkeys(y, 50)"
      ],
      "metadata": {
        "colab": {
          "base_uri": "https://localhost:8080/"
        },
        "id": "RYYuP-wcmpc3",
        "outputId": "90d6a675-1313-4a00-ab82-b014c5b946dd"
      },
      "execution_count": 155,
      "outputs": [
        {
          "output_type": "execute_result",
          "data": {
            "text/plain": [
              "{'k': 50, 'n': 50, 'm': 50, 'e': 50, 'd': 50, 'u': 50}"
            ]
          },
          "metadata": {},
          "execution_count": 155
        }
      ]
    },
    {
      "cell_type": "code",
      "source": [
        "e"
      ],
      "metadata": {
        "colab": {
          "base_uri": "https://localhost:8080/"
        },
        "id": "OCFKgUpOm3e7",
        "outputId": "1599b163-191f-4b4e-a209-e0fc3db068e7"
      },
      "execution_count": 156,
      "outputs": [
        {
          "output_type": "execute_result",
          "data": {
            "text/plain": [
              "{'a': 100, 'b': 100, 'c': 100, 'd': 100, 'e': 100}"
            ]
          },
          "metadata": {},
          "execution_count": 156
        }
      ]
    },
    {
      "cell_type": "code",
      "source": [
        "d"
      ],
      "metadata": {
        "colab": {
          "base_uri": "https://localhost:8080/"
        },
        "id": "WiC6UqiynDzk",
        "outputId": "265a30d5-e2e6-4d95-a206-07f9738b3503"
      },
      "execution_count": 157,
      "outputs": [
        {
          "output_type": "execute_result",
          "data": {
            "text/plain": [
              "{'cat': '貓咪', 'pig': '豬豬', 'cow': '牛牛', 'rabbit': '兔子', 'monkey': '猴子'}"
            ]
          },
          "metadata": {},
          "execution_count": 157
        }
      ]
    },
    {
      "cell_type": "code",
      "source": [
        "# not only returns the value, it also add it into the dictionary\n",
        "z = d.setdefault('dog', '狗狗')"
      ],
      "metadata": {
        "id": "MxNu4GkOnFBk"
      },
      "execution_count": 158,
      "outputs": []
    },
    {
      "cell_type": "code",
      "source": [
        "z"
      ],
      "metadata": {
        "colab": {
          "base_uri": "https://localhost:8080/",
          "height": 35
        },
        "id": "RxZtST8fnYQd",
        "outputId": "7e2950dc-1452-48de-83d2-0729ace5c790"
      },
      "execution_count": 159,
      "outputs": [
        {
          "output_type": "execute_result",
          "data": {
            "text/plain": [
              "'狗狗'"
            ],
            "application/vnd.google.colaboratory.intrinsic+json": {
              "type": "string"
            }
          },
          "metadata": {},
          "execution_count": 159
        }
      ]
    },
    {
      "cell_type": "code",
      "source": [
        "d"
      ],
      "metadata": {
        "colab": {
          "base_uri": "https://localhost:8080/"
        },
        "id": "qU9nDc6NnY_i",
        "outputId": "54bde064-85ec-4224-f76e-fc15d85d5ffe"
      },
      "execution_count": 160,
      "outputs": [
        {
          "output_type": "execute_result",
          "data": {
            "text/plain": [
              "{'cat': '貓咪',\n",
              " 'pig': '豬豬',\n",
              " 'cow': '牛牛',\n",
              " 'rabbit': '兔子',\n",
              " 'monkey': '猴子',\n",
              " 'dog': '狗狗'}"
            ]
          },
          "metadata": {},
          "execution_count": 160
        }
      ]
    },
    {
      "cell_type": "code",
      "source": [
        "# docstring: tells you what the function does\n",
        "d.setdefault.__doc__"
      ],
      "metadata": {
        "colab": {
          "base_uri": "https://localhost:8080/",
          "height": 53
        },
        "id": "3a4cnk35n3mz",
        "outputId": "921c3d5f-4de5-491c-b9d5-71b029b21811"
      },
      "execution_count": 162,
      "outputs": [
        {
          "output_type": "execute_result",
          "data": {
            "text/plain": [
              "'Insert key with a value of default if key is not in the dictionary.\\n\\nReturn the value for key if key is in the dictionary, else default.'"
            ],
            "application/vnd.google.colaboratory.intrinsic+json": {
              "type": "string"
            }
          },
          "metadata": {},
          "execution_count": 162
        }
      ]
    },
    {
      "cell_type": "code",
      "source": [
        "print(d.setdefault.__doc__)"
      ],
      "metadata": {
        "colab": {
          "base_uri": "https://localhost:8080/"
        },
        "id": "w7rOztxLoDEi",
        "outputId": "c9813efe-7dc2-4d23-c291-648d6726c0a0"
      },
      "execution_count": 163,
      "outputs": [
        {
          "output_type": "stream",
          "name": "stdout",
          "text": [
            "Insert key with a value of default if key is not in the dictionary.\n",
            "\n",
            "Return the value for key if key is in the dictionary, else default.\n"
          ]
        }
      ]
    }
  ]
}
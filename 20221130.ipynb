{
  "nbformat": 4,
  "nbformat_minor": 0,
  "metadata": {
    "colab": {
      "provenance": [],
      "authorship_tag": "ABX9TyMdhSWzca2YwkctRBDiI/Tc",
      "include_colab_link": true
    },
    "kernelspec": {
      "name": "python3",
      "display_name": "Python 3"
    },
    "language_info": {
      "name": "python"
    }
  },
  "cells": [
    {
      "cell_type": "markdown",
      "metadata": {
        "id": "view-in-github",
        "colab_type": "text"
      },
      "source": [
        "<a href=\"https://colab.research.google.com/github/JUSTYNAYANG/summerpy/blob/main/20221130.ipynb\" target=\"_parent\"><img src=\"https://colab.research.google.com/assets/colab-badge.svg\" alt=\"Open In Colab\"/></a>"
      ]
    },
    {
      "cell_type": "markdown",
      "source": [
        "#zerojudge\n",
        "- a010\n",
        "- a017"
      ],
      "metadata": {
        "id": "eQinTYomcMXW"
      }
    },
    {
      "cell_type": "code",
      "source": [
        "#a010"
      ],
      "metadata": {
        "id": "i1Q_MWG9ikZa"
      },
      "execution_count": null,
      "outputs": []
    },
    {
      "cell_type": "code",
      "source": [
        "num = int(input())\n",
        "factors = {}\n",
        "\n",
        "while True:\n",
        "  for i in range(2, num + 1):\n",
        "    if num % i == 0:\n",
        "      if i in factors:\n",
        "        factors[i] += 1\n",
        "      else:\n",
        "        factors[i] = 1\n",
        "      num = num // i\n",
        "      break\n",
        "  \n",
        "  if num == 1:\n",
        "    break\n",
        "\n",
        "k = factors.keys()\n",
        "k = list(k)\n",
        "m = []\n",
        "for s in range(len(factors)):\n",
        "  d = k[s]\n",
        "  if factors[d] == 1:\n",
        "    m.append(f\"{d}\")\n",
        "  else:\n",
        "    m.append(f\"{d}^{factors[d]}\")\n",
        "\n",
        "print(\" * \".join(m))"
      ],
      "metadata": {
        "colab": {
          "base_uri": "https://localhost:8080/"
        },
        "id": "yaKTWAkTgwJQ",
        "outputId": "c94848aa-51a1-4023-ea46-669b0061bc6e"
      },
      "execution_count": 51,
      "outputs": [
        {
          "output_type": "stream",
          "name": "stdout",
          "text": [
            "20\n",
            "2^2 * 5\n"
          ]
        }
      ]
    },
    {
      "cell_type": "code",
      "execution_count": 42,
      "metadata": {
        "colab": {
          "base_uri": "https://localhost:8080/"
        },
        "id": "ggMqbRRpa0EB",
        "outputId": "139fce8a-68b9-412e-a176-f0f13f8fd32b"
      },
      "outputs": [
        {
          "output_type": "stream",
          "name": "stdout",
          "text": [
            "20\n",
            "2^2 * 5\n"
          ]
        }
      ],
      "source": [
        "num = int(input())\n",
        "factors = {}\n",
        "\n",
        "while True:\n",
        "  for i in range(2, num + 1):\n",
        "    if num % i == 0:\n",
        "      if i in factors:\n",
        "        factors[i] += 1\n",
        "      else:\n",
        "        factors[i] = 1\n",
        "      num = num // i\n",
        "      break\n",
        "  \n",
        "  if num == 1:\n",
        "    break\n",
        "\n",
        "s = []\n",
        "for i in factors:\n",
        "  if factors[i] != 1:\n",
        "    s.append(f\"{i}^{factors[i]}\")\n",
        "  else:\n",
        "    s.append(f\"{i}\")\n",
        "s\n",
        "print(\" * \".join(s))"
      ]
    },
    {
      "cell_type": "code",
      "source": [
        "s = {\"a\":1, \"b\":2}"
      ],
      "metadata": {
        "id": "xkJ-Dz9dc8mf"
      },
      "execution_count": 35,
      "outputs": []
    },
    {
      "cell_type": "code",
      "source": [
        "a = s.keys()"
      ],
      "metadata": {
        "id": "u1bZzhl1dDw_"
      },
      "execution_count": 36,
      "outputs": []
    },
    {
      "cell_type": "code",
      "source": [
        "a"
      ],
      "metadata": {
        "colab": {
          "base_uri": "https://localhost:8080/"
        },
        "id": "zSdOgZqyePsY",
        "outputId": "976c40f5-9733-4e57-b82c-e171ddd5f269"
      },
      "execution_count": 37,
      "outputs": [
        {
          "output_type": "execute_result",
          "data": {
            "text/plain": [
              "dict_keys(['a', 'b'])"
            ]
          },
          "metadata": {},
          "execution_count": 37
        }
      ]
    },
    {
      "cell_type": "code",
      "source": [
        "a = list(a)"
      ],
      "metadata": {
        "id": "zpoiP0SKfFbR"
      },
      "execution_count": 38,
      "outputs": []
    },
    {
      "cell_type": "code",
      "source": [
        "a"
      ],
      "metadata": {
        "colab": {
          "base_uri": "https://localhost:8080/"
        },
        "id": "MKQn3mlhfOss",
        "outputId": "1c450f48-5fdc-40d6-b066-0149804d263a"
      },
      "execution_count": 39,
      "outputs": [
        {
          "output_type": "execute_result",
          "data": {
            "text/plain": [
              "['a', 'b']"
            ]
          },
          "metadata": {},
          "execution_count": 39
        }
      ]
    },
    {
      "cell_type": "code",
      "source": [
        "#solve the str\n",
        "eval(\"2+1\")"
      ],
      "metadata": {
        "colab": {
          "base_uri": "https://localhost:8080/"
        },
        "id": "JJ5eEvIHi19-",
        "outputId": "38db76e3-da64-477c-b664-dedd22bae726"
      },
      "execution_count": 54,
      "outputs": [
        {
          "output_type": "execute_result",
          "data": {
            "text/plain": [
              "3"
            ]
          },
          "metadata": {},
          "execution_count": 54
        }
      ]
    },
    {
      "cell_type": "code",
      "source": [
        "eval(input())"
      ],
      "metadata": {
        "colab": {
          "base_uri": "https://localhost:8080/"
        },
        "id": "zw73TlucimKe",
        "outputId": "d51aa835-d18c-40d6-9cbf-15a0e331a555"
      },
      "execution_count": 55,
      "outputs": [
        {
          "name": "stdout",
          "output_type": "stream",
          "text": [
            "1 +  2\n"
          ]
        },
        {
          "output_type": "execute_result",
          "data": {
            "text/plain": [
              "3"
            ]
          },
          "metadata": {},
          "execution_count": 55
        }
      ]
    },
    {
      "cell_type": "code",
      "source": [
        "eval(\"9/3\")"
      ],
      "metadata": {
        "colab": {
          "base_uri": "https://localhost:8080/"
        },
        "id": "9iWkOTAgmmAf",
        "outputId": "fdd0e885-ec78-4572-c30c-18cab6e76d17"
      },
      "execution_count": 61,
      "outputs": [
        {
          "output_type": "execute_result",
          "data": {
            "text/plain": [
              "3.0"
            ]
          },
          "metadata": {},
          "execution_count": 61
        }
      ]
    },
    {
      "cell_type": "code",
      "source": [
        "# dividing with eval makes float instead"
      ],
      "metadata": {
        "id": "YDIelNlZmp_-"
      },
      "execution_count": 62,
      "outputs": []
    },
    {
      "cell_type": "code",
      "source": [
        "s = \"9 / 3\""
      ],
      "metadata": {
        "id": "m7xzAZ9UncjD"
      },
      "execution_count": 69,
      "outputs": []
    },
    {
      "cell_type": "code",
      "source": [
        "eval(s)"
      ],
      "metadata": {
        "colab": {
          "base_uri": "https://localhost:8080/"
        },
        "id": "DV6uTuz_nniO",
        "outputId": "fea3313e-f735-4b95-beac-b10a44a6fc64"
      },
      "execution_count": 70,
      "outputs": [
        {
          "output_type": "execute_result",
          "data": {
            "text/plain": [
              "3.0"
            ]
          },
          "metadata": {},
          "execution_count": 70
        }
      ]
    },
    {
      "cell_type": "code",
      "source": [
        "s = s.replace(\"/\",\"//\")"
      ],
      "metadata": {
        "colab": {
          "base_uri": "https://localhost:8080/",
          "height": 35
        },
        "id": "jNSagCzCnhjG",
        "outputId": "84cb7c67-ce22-4cb5-87f1-fb556d10d0e3"
      },
      "execution_count": 71,
      "outputs": [
        {
          "output_type": "execute_result",
          "data": {
            "text/plain": [
              "'9 // 3'"
            ],
            "application/vnd.google.colaboratory.intrinsic+json": {
              "type": "string"
            }
          },
          "metadata": {},
          "execution_count": 71
        }
      ]
    },
    {
      "cell_type": "code",
      "source": [
        "eval(s)"
      ],
      "metadata": {
        "colab": {
          "base_uri": "https://localhost:8080/"
        },
        "id": "p8MRjPnRnrA6",
        "outputId": "b497560b-36fb-4ade-adf6-edf3992b838b"
      },
      "execution_count": 72,
      "outputs": [
        {
          "output_type": "execute_result",
          "data": {
            "text/plain": [
              "3.0"
            ]
          },
          "metadata": {},
          "execution_count": 72
        }
      ]
    },
    {
      "cell_type": "code",
      "source": [
        "while True:\n",
        "    try:\n",
        "        print(eval(input().replace('/','//')))\n",
        "    except:\n",
        "        break"
      ],
      "metadata": {
        "colab": {
          "base_uri": "https://localhost:8080/"
        },
        "id": "xGPdVZ1DmQBZ",
        "outputId": "78926b9d-a708-455d-9989-dffdae931e96"
      },
      "execution_count": 60,
      "outputs": [
        {
          "name": "stdout",
          "output_type": "stream",
          "text": [
            "2 + 3 * 4\n",
            "14\n",
            "2 * ( 3 + 4 ) * 5\n",
            "70\n",
            "\n"
          ]
        }
      ]
    },
    {
      "cell_type": "code",
      "source": [
        "d = {'A' : 10, 'B' : 11, 'C' : 12, 'D' : 13 , 'E' : 14,  #先建立字典\n",
        "       'F' : 15, 'G' : 16, 'H' : 17, 'I' : 34, 'J': 18,\n",
        "       'K' : 19, 'L' : 20, 'M' : 21, 'N' : 22, 'O' : 35,\n",
        "       'P' : 23, 'Q' : 24, 'R' : 25, 'S' : 26, 'T' : 27,\n",
        "       'U' : 28, 'V' : 29, 'W' : 32, 'X' : 30, 'Y' : 31,\n",
        "       'Z' : 33}\n",
        "a = input()\n",
        "a = list(a)\n",
        "b = list(str(d[(a[0])]))\n",
        "c = (int(b[1])*9)+int(b[0])\n",
        "e = 0\n",
        "for i in range(1, 9):\n",
        "  e += (int(a[i]))*(9-i)\n",
        "sum = int(c) + int(e) + int(a[-1])\n",
        "deter = sum%10\n",
        "if deter == 0:\n",
        "  print(\"real\")\n",
        "else:\n",
        "  print(\"fake\")\n"
      ],
      "metadata": {
        "colab": {
          "base_uri": "https://localhost:8080/"
        },
        "id": "JoJoBojpo2OL",
        "outputId": "4e076f80-80bb-4013-d734-d6f39c0d3ec5"
      },
      "execution_count": 112,
      "outputs": [
        {
          "output_type": "stream",
          "name": "stdout",
          "text": [
            "T112663836\n",
            "real\n"
          ]
        }
      ]
    },
    {
      "cell_type": "code",
      "source": [
        "d = {'A' : 10, 'B' : 11, 'C' : 12, 'D' : 13 , 'E' : 14,  #先建立字典\n",
        "       'F' : 15, 'G' : 16, 'H' : 17, 'I' : 34, 'J': 18,\n",
        "       'K' : 19, 'L' : 20, 'M' : 21, 'N' : 22, 'O' : 35,\n",
        "       'P' : 23, 'Q' : 24, 'R' : 25, 'S' : 26, 'T' : 27,\n",
        "       'U' : 28, 'V' : 29, 'W' : 32, 'X' : 30, 'Y' : 31,\n",
        "       'Z' : 33}\n",
        "while True:\n",
        "  try:\n",
        "    a = input()\n",
        "    a = list(a)\n",
        "    b = list(str(d[(a[0])]))\n",
        "    c = (int(b[1])*9)+int(b[0])\n",
        "    e = 0\n",
        "    for i in range(1, 9):\n",
        "      e += (int(a[i]))*(9-i)\n",
        "    sum = int(c) + int(e) + int(a[-1])\n",
        "    deter = sum%10\n",
        "    if deter == 0:\n",
        "      print(\"real\")\n",
        "    else:\n",
        "      print(\"fake\")\n",
        "      \n",
        "  except:\n",
        "    break"
      ],
      "metadata": {
        "colab": {
          "base_uri": "https://localhost:8080/"
        },
        "id": "OG5yV7TPvOmV",
        "outputId": "6b054f02-6b1d-442e-88f8-bb7f23f9e390"
      },
      "execution_count": 113,
      "outputs": [
        {
          "name": "stdout",
          "output_type": "stream",
          "text": [
            "T112663836\n",
            "real\n",
            "S154287863\n",
            "fake\n",
            "\n"
          ]
        }
      ]
    },
    {
      "cell_type": "code",
      "source": [
        "dic = {'A' : 10, 'B' : 11, 'C' : 12, 'D' : 13 , 'E' : 14, \n",
        "       'F' : 15, 'G' : 16, 'H' : 17, 'I' : 34, 'J': 18,\n",
        "       'K' : 19, 'L' : 20, 'M' : 21, 'N' : 22, 'O' : 35,\n",
        "       'P' : 23, 'Q' : 24, 'R' : 25, 'S' : 26, 'T' : 27,\n",
        "       'U' : 28, 'V' : 29, 'W' : 32, 'X' : 30, 'Y' : 31,\n",
        "       'Z' : 33}\n",
        "x = input()\n",
        "a = dic[x[0].upper()]//10 + dic[x[0].upper()]%10*9 + int(x[1])*8 + int(x[2])*7 + int(x[3])*6 + int(x[4])*5 + int(x[5])*4 + int(x[6])*3 + int(x[7])*2+ int(x[8])*1+int(x[9])\n",
        "if a%10 == 0:\n",
        "  print(\"real\")\n",
        "else:\n",
        "  print(\"fake\")"
      ],
      "metadata": {
        "colab": {
          "base_uri": "https://localhost:8080/"
        },
        "id": "F6ay9bAXwPFL",
        "outputId": "39c20326-a6a1-4bba-892a-0ab22fa11bff"
      },
      "execution_count": 114,
      "outputs": [
        {
          "output_type": "stream",
          "name": "stdout",
          "text": [
            "S154287863\n",
            "fake\n"
          ]
        }
      ]
    }
  ]
}
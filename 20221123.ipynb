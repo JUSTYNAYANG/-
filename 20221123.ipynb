{
  "nbformat": 4,
  "nbformat_minor": 0,
  "metadata": {
    "colab": {
      "provenance": [],
      "authorship_tag": "ABX9TyMNsD9vTD2GPw0Tam0/JzVc",
      "include_colab_link": true
    },
    "kernelspec": {
      "name": "python3",
      "display_name": "Python 3"
    },
    "language_info": {
      "name": "python"
    }
  },
  "cells": [
    {
      "cell_type": "markdown",
      "metadata": {
        "id": "view-in-github",
        "colab_type": "text"
      },
      "source": [
        "<a href=\"https://colab.research.google.com/github/JUSTYNAYANG/summerpy/blob/main/20221123.ipynb\" target=\"_parent\"><img src=\"https://colab.research.google.com/assets/colab-badge.svg\" alt=\"Open In Colab\"/></a>"
      ]
    },
    {
      "cell_type": "markdown",
      "source": [
        "#zerojudge\n",
        "\n",
        "- a004\n",
        "- a010\n",
        "- a005"
      ],
      "metadata": {
        "id": "6ILavenIamzE"
      }
    },
    {
      "cell_type": "code",
      "execution_count": null,
      "metadata": {
        "id": "p8JfFRzlX2ie"
      },
      "outputs": [],
      "source": [
        "#a004"
      ]
    },
    {
      "cell_type": "code",
      "source": [
        "20//6"
      ],
      "metadata": {
        "colab": {
          "base_uri": "https://localhost:8080/"
        },
        "id": "Y7To0vXZbUkU",
        "outputId": "feaea150-1f4c-4e0b-c809-29a2f60f83b6"
      },
      "execution_count": null,
      "outputs": [
        {
          "output_type": "execute_result",
          "data": {
            "text/plain": [
              "3"
            ]
          },
          "metadata": {},
          "execution_count": 2
        }
      ]
    },
    {
      "cell_type": "code",
      "source": [
        "20%6"
      ],
      "metadata": {
        "colab": {
          "base_uri": "https://localhost:8080/"
        },
        "id": "NAI3YldYbYRi",
        "outputId": "bad85ba1-f28e-4747-bb0d-dcf32f656512"
      },
      "execution_count": null,
      "outputs": [
        {
          "output_type": "execute_result",
          "data": {
            "text/plain": [
              "2"
            ]
          },
          "metadata": {},
          "execution_count": 3
        }
      ]
    },
    {
      "cell_type": "code",
      "source": [
        "x = int(input())\n",
        "if x%400 == 0:\n",
        "  print(\"閏年\")\n",
        "elif x%4 == 0:\n",
        "  if x%100 == 0:\n",
        "      print(\"平年\")\n",
        "  else:\n",
        "      print(\"閏年\")\n",
        "else:\n",
        "  print(\"平年\")"
      ],
      "metadata": {
        "colab": {
          "base_uri": "https://localhost:8080/"
        },
        "id": "LrZPRc5OcZ_4",
        "outputId": "6f679f00-8341-4729-98a0-47bb6291e2e7"
      },
      "execution_count": null,
      "outputs": [
        {
          "output_type": "stream",
          "name": "stdout",
          "text": [
            "1977\n",
            "平年\n"
          ]
        }
      ]
    },
    {
      "cell_type": "code",
      "source": [
        "while True:\n",
        "  try:\n",
        "    x = int(input())\n",
        "    if x%400 == 0:\n",
        "      print(\"閏年\")\n",
        "    elif x%4 == 0:\n",
        "      if x%100 == 0:\n",
        "        print(\"平年\")\n",
        "      else:\n",
        "        print(\"閏年\")\n",
        "    else:\n",
        "      print(\"平年\")\n",
        "  except:\n",
        "    break\n"
      ],
      "metadata": {
        "colab": {
          "base_uri": "https://localhost:8080/"
        },
        "id": "iAwWdZMBasC2",
        "outputId": "25acee3c-c5f6-4ed8-c835-4d5cf7e71e45"
      },
      "execution_count": null,
      "outputs": [
        {
          "name": "stdout",
          "output_type": "stream",
          "text": [
            "1977\n",
            "平年\n",
            "1980\n",
            "閏年\n",
            "\n"
          ]
        }
      ]
    },
    {
      "cell_type": "code",
      "source": [
        "while True:\n",
        "  try:\n",
        "    n = int(input ())\n",
        "    y = bin(n)\n",
        "    print(y.replace(\"0b\", \"\"))\n",
        "  except:\n",
        "    break"
      ],
      "metadata": {
        "id": "wPLn6GCnbJ9c"
      },
      "execution_count": null,
      "outputs": []
    },
    {
      "cell_type": "code",
      "source": [
        "#a010"
      ],
      "metadata": {
        "id": "VtoefylMlIN3"
      },
      "execution_count": 13,
      "outputs": []
    },
    {
      "cell_type": "code",
      "source": [
        "num = int(input())\n",
        "a = 1\n",
        "while num != 1:\n",
        "  a = a + 1\n",
        "  while num % a == 0:\n",
        "    num = num // a\n",
        "    print(a)"
      ],
      "metadata": {
        "colab": {
          "base_uri": "https://localhost:8080/"
        },
        "id": "jVZ2oGZklb_j",
        "outputId": "23a07663-994c-4bae-ba4f-ee9ca927874b"
      },
      "execution_count": 20,
      "outputs": [
        {
          "output_type": "stream",
          "name": "stdout",
          "text": [
            "48\n",
            "2\n",
            "2\n",
            "2\n",
            "2\n",
            "3\n"
          ]
        }
      ]
    },
    {
      "cell_type": "code",
      "source": [
        "num = int(input())\n",
        "a = 1\n",
        "b = []\n",
        "while num != 1:\n",
        "  a = a + 1\n",
        "  while num % a == 0:\n",
        "    num = num // a\n",
        "    b.append(a)\n",
        "print(b)"
      ],
      "metadata": {
        "colab": {
          "base_uri": "https://localhost:8080/"
        },
        "id": "XAW5NLr9nRoI",
        "outputId": "785a87ba-6196-4e96-ea82-70c1b25af889"
      },
      "execution_count": 22,
      "outputs": [
        {
          "output_type": "stream",
          "name": "stdout",
          "text": [
            "24\n",
            "[2, 2, 2, 3]\n"
          ]
        }
      ]
    },
    {
      "cell_type": "code",
      "source": [
        "b = [2, 2, 3]"
      ],
      "metadata": {
        "id": "Vkhqs5JUnb0S"
      },
      "execution_count": 23,
      "outputs": []
    },
    {
      "cell_type": "code",
      "source": [
        "b.count?"
      ],
      "metadata": {
        "id": "vS3On7Xyni3c"
      },
      "execution_count": 24,
      "outputs": []
    },
    {
      "cell_type": "code",
      "source": [
        "b.remove?"
      ],
      "metadata": {
        "id": "UX1Ie-rsnmZm"
      },
      "execution_count": 27,
      "outputs": []
    },
    {
      "cell_type": "code",
      "source": [
        "#a005"
      ],
      "metadata": {
        "id": "SnPCjJEFn6Oe"
      },
      "execution_count": null,
      "outputs": []
    },
    {
      "cell_type": "code",
      "source": [
        "y = []\n",
        "d = 0\n",
        "while True:\n",
        "  try:\n",
        "    x = input()\n",
        "    y.append(x)\n",
        "    a = x[0]\n",
        "    if d == 0:\n",
        "      pass\n",
        "    else:\n",
        "      c = y[a+1]\n",
        "      c.split(\" \")\n",
        "      print(c)\n",
        "  except:\n",
        "    break"
      ],
      "metadata": {
        "colab": {
          "base_uri": "https://localhost:8080/"
        },
        "id": "eSYdgwgRoNI7",
        "outputId": "3e72ae11-4923-4034-e835-232d39bd4e74"
      },
      "execution_count": 40,
      "outputs": [
        {
          "name": "stdout",
          "output_type": "stream",
          "text": [
            "1\n",
            "1 2 3\n",
            "\n"
          ]
        }
      ]
    },
    {
      "cell_type": "code",
      "source": [
        "n = int(input())\n",
        "a = []\n",
        "for i in range(n):\n",
        "  x = input().split()\n",
        "  if int(x[1])-int(x[0]) == int(x[2])-int(x[1]):\n",
        "    x.append(str(int(x[3])+int(x[1])-int(x[0])))\n",
        "    print(\" \".join(x))\n",
        "  else:\n",
        "    x.append(str(int(int(x[3])*(int(x[1])/int(x[0])))))\n",
        "    print(\" \".join(x))\n",
        "  "
      ],
      "metadata": {
        "colab": {
          "base_uri": "https://localhost:8080/"
        },
        "id": "kWOc-Rgep30f",
        "outputId": "84ecc4bb-832f-411d-f908-7a0c26cfbad4"
      },
      "execution_count": 76,
      "outputs": [
        {
          "output_type": "stream",
          "name": "stdout",
          "text": [
            "2\n",
            "1 2 3 4\n",
            "1 2 3 4 5\n",
            "1 2 4 8\n",
            "1 2 4 8 16\n"
          ]
        }
      ]
    }
  ]
}
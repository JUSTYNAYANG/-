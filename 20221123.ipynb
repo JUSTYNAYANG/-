{
  "nbformat": 4,
  "nbformat_minor": 0,
  "metadata": {
    "colab": {
      "provenance": [],
      "authorship_tag": "ABX9TyPEEE2HMkVipi8o2kqrL4/M",
      "include_colab_link": true
    },
    "kernelspec": {
      "name": "python3",
      "display_name": "Python 3"
    },
    "language_info": {
      "name": "python"
    }
  },
  "cells": [
    {
      "cell_type": "markdown",
      "metadata": {
        "id": "view-in-github",
        "colab_type": "text"
      },
      "source": [
        "<a href=\"https://colab.research.google.com/github/JUSTYNAYANG/summerpy/blob/main/20221123.ipynb\" target=\"_parent\"><img src=\"https://colab.research.google.com/assets/colab-badge.svg\" alt=\"Open In Colab\"/></a>"
      ]
    },
    {
      "cell_type": "markdown",
      "source": [
        "#zerojudge\n",
        "\n",
        "- a004\n",
        "- a010\n",
        "- a005"
      ],
      "metadata": {
        "id": "6ILavenIamzE"
      }
    },
    {
      "cell_type": "code",
      "execution_count": null,
      "metadata": {
        "id": "p8JfFRzlX2ie"
      },
      "outputs": [],
      "source": [
        "#a004"
      ]
    },
    {
      "cell_type": "code",
      "source": [
        "20//6"
      ],
      "metadata": {
        "colab": {
          "base_uri": "https://localhost:8080/"
        },
        "id": "Y7To0vXZbUkU",
        "outputId": "8eefa231-db72-49f0-f61a-d6e0c866a8be"
      },
      "execution_count": null,
      "outputs": [
        {
          "output_type": "execute_result",
          "data": {
            "text/plain": [
              "3"
            ]
          },
          "metadata": {},
          "execution_count": 3
        }
      ]
    },
    {
      "cell_type": "code",
      "source": [
        "20%6"
      ],
      "metadata": {
        "colab": {
          "base_uri": "https://localhost:8080/"
        },
        "id": "NAI3YldYbYRi",
        "outputId": "36686949-8395-407b-8754-2580f4053f1e"
      },
      "execution_count": null,
      "outputs": [
        {
          "output_type": "execute_result",
          "data": {
            "text/plain": [
              "2"
            ]
          },
          "metadata": {},
          "execution_count": 4
        }
      ]
    },
    {
      "cell_type": "code",
      "source": [
        "x = int(input())\n",
        "if x%400 == 0:\n",
        "  print(\"閏年\")\n",
        "elif x%4 == 0:\n",
        "  if x%100 == 0:\n",
        "      print(\"平年\")\n",
        "  else:\n",
        "      print(\"閏年\")\n",
        "else:\n",
        "  print(\"平年\")"
      ],
      "metadata": {
        "colab": {
          "base_uri": "https://localhost:8080/"
        },
        "id": "LrZPRc5OcZ_4",
        "outputId": "66f8cdd9-dbb0-4804-84e2-b1fb0a635538"
      },
      "execution_count": null,
      "outputs": [
        {
          "output_type": "stream",
          "name": "stdout",
          "text": [
            "1977\n",
            "平年\n"
          ]
        }
      ]
    },
    {
      "cell_type": "code",
      "source": [
        "while True:\n",
        "  try:\n",
        "    x = int(input())\n",
        "    if x%400 == 0:\n",
        "      print(\"閏年\")\n",
        "    elif x%4 == 0:\n",
        "      if x%100 == 0:\n",
        "        print(\"平年\")\n",
        "      else:\n",
        "        print(\"閏年\")\n",
        "    else:\n",
        "      print(\"平年\")\n",
        "  except:\n",
        "    break\n"
      ],
      "metadata": {
        "colab": {
          "base_uri": "https://localhost:8080/"
        },
        "id": "iAwWdZMBasC2",
        "outputId": "df8e9579-5bca-4ccd-a532-b0c0df8037b0"
      },
      "execution_count": null,
      "outputs": [
        {
          "name": "stdout",
          "output_type": "stream",
          "text": [
            "1977\n",
            "平年\n",
            "1980\n",
            "閏年\n",
            "\n"
          ]
        }
      ]
    },
    {
      "cell_type": "code",
      "source": [
        "#a034"
      ],
      "metadata": {
        "id": "4AuMMtNK2_6X"
      },
      "execution_count": null,
      "outputs": []
    },
    {
      "cell_type": "code",
      "source": [
        "while True:\n",
        "  try:\n",
        "    n = int(input ())\n",
        "    y = bin(n)\n",
        "    print(y.replace(\"0b\", \"\"))\n",
        "  except:\n",
        "    break"
      ],
      "metadata": {
        "id": "wPLn6GCnbJ9c",
        "colab": {
          "base_uri": "https://localhost:8080/"
        },
        "outputId": "0c8abafb-8db3-4a58-e5dd-7ef8f9df668c"
      },
      "execution_count": null,
      "outputs": [
        {
          "name": "stdout",
          "output_type": "stream",
          "text": [
            "3\n",
            "11\n",
            "6\n",
            "110\n",
            "\n"
          ]
        }
      ]
    },
    {
      "cell_type": "code",
      "source": [
        "#a010"
      ],
      "metadata": {
        "id": "VtoefylMlIN3"
      },
      "execution_count": null,
      "outputs": []
    },
    {
      "cell_type": "code",
      "source": [
        "num = int(input())\n",
        "a = 1\n",
        "while num != 1:\n",
        "  a = a + 1\n",
        "  while num % a == 0:\n",
        "    num = num // a\n",
        "    print(a)"
      ],
      "metadata": {
        "colab": {
          "base_uri": "https://localhost:8080/"
        },
        "id": "jVZ2oGZklb_j",
        "outputId": "b656f80c-b503-4d5a-832a-db433b95fa7e"
      },
      "execution_count": null,
      "outputs": [
        {
          "output_type": "stream",
          "name": "stdout",
          "text": [
            "20\n",
            "2\n",
            "2\n",
            "5\n"
          ]
        }
      ]
    },
    {
      "cell_type": "code",
      "source": [
        "num = int(input())\n",
        "a = 1\n",
        "b = []\n",
        "d = []\n",
        "while num != 1:\n",
        "  a = a + 1\n",
        "  while num % a == 0:\n",
        "    num = num // a\n",
        "    b.append(a)\n",
        "print(b)"
      ],
      "metadata": {
        "colab": {
          "base_uri": "https://localhost:8080/"
        },
        "id": "XAW5NLr9nRoI",
        "outputId": "e6d601ee-3e27-4b12-df8b-eb0400edd2b6"
      },
      "execution_count": null,
      "outputs": [
        {
          "output_type": "stream",
          "name": "stdout",
          "text": [
            "24\n",
            "[2, 2, 2, 3]\n"
          ]
        }
      ]
    },
    {
      "cell_type": "code",
      "source": [
        "b = [2, 2, 2, 3, 3, 4]"
      ],
      "metadata": {
        "id": "Vkhqs5JUnb0S"
      },
      "execution_count": null,
      "outputs": []
    },
    {
      "cell_type": "code",
      "source": [
        "for i in range(5):\n",
        "  print(i)"
      ],
      "metadata": {
        "colab": {
          "base_uri": "https://localhost:8080/"
        },
        "id": "DPtKsHpQP_qf",
        "outputId": "e7e885eb-cf48-4527-da7d-367a21a6619c"
      },
      "execution_count": null,
      "outputs": [
        {
          "output_type": "stream",
          "name": "stdout",
          "text": [
            "0\n",
            "1\n",
            "2\n",
            "3\n",
            "4\n"
          ]
        }
      ]
    },
    {
      "cell_type": "code",
      "source": [
        "d = []\n",
        "for i in range(b[-1]+1):\n",
        "  c = b.count(i)\n",
        "  if c > 1:\n",
        "    d.append(f\"{i}^{c}\")\n",
        "  elif c == 1:\n",
        "    d.append(f\"{i}\")\n",
        "print(\"*\".join(d))\n"
      ],
      "metadata": {
        "colab": {
          "base_uri": "https://localhost:8080/"
        },
        "id": "vS3On7Xyni3c",
        "outputId": "87b9ec77-34df-4f86-d728-99a5d1d76356"
      },
      "execution_count": null,
      "outputs": [
        {
          "output_type": "stream",
          "name": "stdout",
          "text": [
            "2^3*3^2*4\n"
          ]
        }
      ]
    },
    {
      "cell_type": "code",
      "source": [
        "num = int(input())\n",
        "a = 1\n",
        "b = []\n",
        "d = []\n",
        "while num != 1:\n",
        "  a = a + 1\n",
        "  while num % a == 0:\n",
        "    num = num // a\n",
        "    b.append(a)\n",
        "for i in range(b[-1]+1):\n",
        "  c = b.count(i)\n",
        "  if c > 1:\n",
        "    d.append(f\"{i}^{c}\")\n",
        "  elif c == 1:\n",
        "    d.append(f\"{i}\")\n",
        "print(\"*\".join(d))"
      ],
      "metadata": {
        "colab": {
          "base_uri": "https://localhost:8080/"
        },
        "id": "hK_ZfrYFY0wq",
        "outputId": "04683e13-0998-4126-a3a2-524d3ed20da2"
      },
      "execution_count": null,
      "outputs": [
        {
          "output_type": "stream",
          "name": "stdout",
          "text": [
            "24\n",
            "2^3*3\n"
          ]
        }
      ]
    },
    {
      "cell_type": "code",
      "source": [
        "print(b)"
      ],
      "metadata": {
        "colab": {
          "base_uri": "https://localhost:8080/"
        },
        "id": "aq2NAWNSlc5C",
        "outputId": "3373e1e6-1e3c-414e-d33b-5fdaeec77277"
      },
      "execution_count": null,
      "outputs": [
        {
          "output_type": "stream",
          "name": "stdout",
          "text": [
            "[2, 2, 2, 3, 3, 4]\n"
          ]
        }
      ]
    },
    {
      "cell_type": "code",
      "source": [
        "b[-1]"
      ],
      "metadata": {
        "colab": {
          "base_uri": "https://localhost:8080/"
        },
        "id": "15wtv_dTle-U",
        "outputId": "28c492a7-a817-45c9-dce4-55e7d7e560f3"
      },
      "execution_count": null,
      "outputs": [
        {
          "output_type": "execute_result",
          "data": {
            "text/plain": [
              "4"
            ]
          },
          "metadata": {},
          "execution_count": 6
        }
      ]
    },
    {
      "cell_type": "code",
      "source": [
        "while True:\n",
        "  try:\n",
        "    num = int(input())\n",
        "    a = 1\n",
        "    b = []\n",
        "    d = []\n",
        "    while num != 1:\n",
        "      a = a + 1\n",
        "      while num % a == 0:\n",
        "        num = num // a\n",
        "        b.append(a)\n",
        "    for i in range(b[-1]+1):\n",
        "      c = b.count(i)\n",
        "      if c > 1:\n",
        "        d.append(f\"{i}^{c}\")\n",
        "      elif c == 1:\n",
        "        d.append(f\"{i}\")\n",
        "    print(\" * \".join(d))\n",
        "  except:\n",
        "    break\n",
        "  "
      ],
      "metadata": {
        "colab": {
          "base_uri": "https://localhost:8080/"
        },
        "id": "eC-bLSUEZKoG",
        "outputId": "d6646b38-31a6-487f-971b-2680352d75a9"
      },
      "execution_count": null,
      "outputs": [
        {
          "name": "stdout",
          "output_type": "stream",
          "text": [
            "20\n",
            "2^2 * 5\n",
            "17\n",
            "17\n",
            "999997\n",
            "757 * 1321\n",
            "\n"
          ]
        }
      ]
    },
    {
      "cell_type": "code",
      "source": [
        "#a005"
      ],
      "metadata": {
        "id": "SnPCjJEFn6Oe"
      },
      "execution_count": null,
      "outputs": []
    },
    {
      "cell_type": "code",
      "source": [
        "y = []\n",
        "d = 0\n",
        "while True:\n",
        "  try:\n",
        "    x = input()\n",
        "    y.append(x)\n",
        "    a = x[0]\n",
        "    if d == 0:\n",
        "      pass\n",
        "    else:\n",
        "      c = y[a+1]\n",
        "      c.split(\" \")\n",
        "      print(c)\n",
        "  except:\n",
        "    break"
      ],
      "metadata": {
        "colab": {
          "base_uri": "https://localhost:8080/"
        },
        "id": "eSYdgwgRoNI7",
        "outputId": "d92ec77a-a5aa-410b-8ada-809f7b786b77"
      },
      "execution_count": null,
      "outputs": [
        {
          "name": "stdout",
          "output_type": "stream",
          "text": [
            "2\n",
            "1 2 3 4\n",
            "1 2 4 8\n",
            "\n"
          ]
        }
      ]
    },
    {
      "cell_type": "code",
      "source": [
        "n = int(input())\n",
        "a = []\n",
        "for i in range(n):\n",
        "  x = input().split()\n",
        "  if int(x[1])-int(x[0]) == int(x[2])-int(x[1]):\n",
        "    x.append(str(int(x[3])+int(x[1])-int(x[0])))\n",
        "    print(\" \".join(x))\n",
        "  else:\n",
        "    x.append(str(int(int(x[3])*(int(x[1])/int(x[0])))))\n",
        "    print(\" \".join(x))\n",
        "  "
      ],
      "metadata": {
        "colab": {
          "base_uri": "https://localhost:8080/"
        },
        "id": "kWOc-Rgep30f",
        "outputId": "5afb44aa-6441-4263-bd55-c7e0d0dee9f5"
      },
      "execution_count": null,
      "outputs": [
        {
          "output_type": "stream",
          "name": "stdout",
          "text": [
            "2\n",
            "1 2 3 4\n",
            "1 2 3 4 5\n",
            "1 2 4 8\n",
            "1 2 4 8 16\n"
          ]
        }
      ]
    }
  ]
}
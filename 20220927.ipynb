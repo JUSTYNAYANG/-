{
  "nbformat": 4,
  "nbformat_minor": 0,
  "metadata": {
    "colab": {
      "provenance": [],
      "authorship_tag": "ABX9TyODXKyJKe3wvRaxWCiInHBJ",
      "include_colab_link": true
    },
    "kernelspec": {
      "name": "python3",
      "display_name": "Python 3"
    },
    "language_info": {
      "name": "python"
    }
  },
  "cells": [
    {
      "cell_type": "markdown",
      "metadata": {
        "id": "view-in-github",
        "colab_type": "text"
      },
      "source": [
        "<a href=\"https://colab.research.google.com/github/JUSTYNAYANG/summerpy/blob/main/20220927.ipynb\" target=\"_parent\"><img src=\"https://colab.research.google.com/assets/colab-badge.svg\" alt=\"Open In Colab\"/></a>"
      ]
    },
    {
      "cell_type": "code",
      "source": [
        "import math"
      ],
      "metadata": {
        "id": "hlYil4IxBYwY"
      },
      "execution_count": 3,
      "outputs": []
    },
    {
      "cell_type": "code",
      "execution_count": null,
      "metadata": {
        "colab": {
          "base_uri": "https://localhost:8080/"
        },
        "id": "k3vKVbgJEWix",
        "outputId": "812bb9f4-7ff6-436b-d878-db32b96cf02d"
      },
      "outputs": [
        {
          "name": "stdout",
          "output_type": "stream",
          "text": [
            "Please insert 2 numbers with space between7 20\n",
            "inside\n",
            "Please insert 2 numbers with space between30 35\n",
            "outside\n",
            "Please insert 2 numbers with space between\n"
          ]
        }
      ],
      "source": [
        "\n",
        "# the distance (x, y) is from (5, 6) less or greater than 15\n",
        "\n",
        "import math\n",
        "\n",
        "while True:\n",
        "  try:\n",
        "    inp = input(\"Please insert 2 numbers with space between\")\n",
        "    inp = inp.split(\" \")\n",
        "    x = int(inp[0])\n",
        "    y = int(inp[1])\n",
        "    ans = math.sqrt((x-5)**2+(y-6)**2)\n",
        "    if ans <= 15:\n",
        "      print(\"inside\")\n",
        "    else:\n",
        "      print(\"outside\")\n",
        "  except Exception as e:\n",
        "    break"
      ]
    },
    {
      "cell_type": "code",
      "source": [
        "\n",
        "while True:\n",
        "  try:\n",
        "    x = int(input())\n",
        "    y = int(input())\n",
        "    ans = math.sqrt((x-5)**2+(y-6)**2)\n",
        "    if ans <= 15:\n",
        "      print(\"inside\")\n",
        "    else:\n",
        "      print(\"outside\")\n",
        "  except Exception as e:\n",
        "    break"
      ],
      "metadata": {
        "colab": {
          "base_uri": "https://localhost:8080/"
        },
        "id": "Fpv3OUGlq1AJ",
        "outputId": "4be54a30-89fa-4dec-9895-d27a297ef5c9"
      },
      "execution_count": null,
      "outputs": [
        {
          "name": "stdout",
          "output_type": "stream",
          "text": [
            "7\n",
            "20\n",
            "inside\n",
            "\n"
          ]
        }
      ]
    },
    {
      "cell_type": "code",
      "source": [
        "11//5"
      ],
      "metadata": {
        "colab": {
          "base_uri": "https://localhost:8080/"
        },
        "id": "wqSTk33_wWKG",
        "outputId": "10f6f00c-9e05-4299-83c5-a62b7e746fad"
      },
      "execution_count": null,
      "outputs": [
        {
          "output_type": "execute_result",
          "data": {
            "text/plain": [
              "2"
            ]
          },
          "metadata": {},
          "execution_count": 23
        }
      ]
    },
    {
      "cell_type": "code",
      "source": [
        "11%5\n"
      ],
      "metadata": {
        "colab": {
          "base_uri": "https://localhost:8080/"
        },
        "id": "ZqnPQFARwY_x",
        "outputId": "5b69a4fd-a9a3-4858-f111-5efdc236c3a3"
      },
      "execution_count": null,
      "outputs": [
        {
          "output_type": "execute_result",
          "data": {
            "text/plain": [
              "1"
            ]
          },
          "metadata": {},
          "execution_count": 24
        }
      ]
    },
    {
      "cell_type": "code",
      "source": [
        "# while a < b, return answer of even consectutive numbers adding up starting from a ending at b\n",
        "\n",
        "while True:\n",
        "  try:\n",
        "    a = int(input())\n",
        "    b = int(input())\n",
        "    if a % 2 == 1:\n",
        "      a += 1\n",
        "      c = a\n",
        "    else:\n",
        "      c = a\n",
        "    while a < b:\n",
        "      a += 2\n",
        "      c += a\n",
        "    print(c)\n",
        "  except Exception as e:\n",
        "    break"
      ],
      "metadata": {
        "colab": {
          "base_uri": "https://localhost:8080/"
        },
        "id": "RVDfBen4va3M",
        "outputId": "18b5f508-a546-4077-b776-391b6902a329"
      },
      "execution_count": null,
      "outputs": [
        {
          "name": "stdout",
          "output_type": "stream",
          "text": [
            "14\n",
            "1144\n",
            "327714\n",
            "\n"
          ]
        }
      ]
    },
    {
      "cell_type": "code",
      "source": [
        "numbers = []\n",
        "\n",
        "while True:\n",
        "  try:\n",
        "    N = int(input())\n",
        "    for i in range(N):\n",
        "      numbers.append(int(input()))\n",
        "    numbers.sort()\n",
        "    Q1 = math.ceil(N/4)-1\n",
        "    Q2 = math.ceil(N/2)-1\n",
        "    Q3 = math.ceil(N*3/4)-1\n",
        "    print(f\"{numbers[Q1]},{numbers[Q2]},{numbers[Q3]}\")\n",
        "  \n",
        "  except Exception as e:\n",
        "    break"
      ],
      "metadata": {
        "id": "tZpCYQEmyD26",
        "colab": {
          "base_uri": "https://localhost:8080/"
        },
        "outputId": "34fc212a-eb53-4b01-c482-f6608fe43a46"
      },
      "execution_count": 19,
      "outputs": [
        {
          "name": "stdout",
          "output_type": "stream",
          "text": [
            "6\n",
            "15\n",
            "7\n",
            "36\n",
            "41\n",
            "40\n",
            "39\n",
            "15,36,40\n",
            "\n"
          ]
        }
      ]
    },
    {
      "cell_type": "code",
      "source": [
        "#round UP value\n",
        "math.ceil(1.2)"
      ],
      "metadata": {
        "colab": {
          "base_uri": "https://localhost:8080/"
        },
        "id": "vxjyahr3BFYa",
        "outputId": "ae5ed37e-fc3f-464f-f511-fe5d42e3b124"
      },
      "execution_count": 6,
      "outputs": [
        {
          "output_type": "execute_result",
          "data": {
            "text/plain": [
              "2"
            ]
          },
          "metadata": {},
          "execution_count": 6
        }
      ]
    },
    {
      "cell_type": "code",
      "source": [
        "math.ceil(2.8)"
      ],
      "metadata": {
        "colab": {
          "base_uri": "https://localhost:8080/"
        },
        "id": "_ErUsqmKBc9W",
        "outputId": "4b7b26eb-8c85-4276-c8ac-d0e28d2e6457"
      },
      "execution_count": 7,
      "outputs": [
        {
          "output_type": "execute_result",
          "data": {
            "text/plain": [
              "3"
            ]
          },
          "metadata": {},
          "execution_count": 7
        }
      ]
    },
    {
      "cell_type": "code",
      "source": [
        "import random\n",
        "\n",
        "point = 0\n",
        "\n",
        "while True:\n",
        "  for i in range(10):\n",
        "    a = random. randint(2, 9)\n",
        "    b = random.randint(2, 9)\n",
        "    answer = input(f\"what is {a} x {b} \")\n",
        "    if int(answer) == a*b:\n",
        "      print(f\"Congratulations!  The answer is {a*b}\")\n",
        "      point += 1\n",
        "    else:\n",
        "      print(f\"Uh-oh!  The answer should be {a*b}\")\n",
        "  print(f\"You've answered {point} out of 10 questions right\")\n",
        "  break"
      ],
      "metadata": {
        "colab": {
          "base_uri": "https://localhost:8080/"
        },
        "id": "UTs2mdiJD4GT",
        "outputId": "9111b6ec-56ad-40eb-8dd2-4cb49fc6a121"
      },
      "execution_count": 23,
      "outputs": [
        {
          "output_type": "stream",
          "name": "stdout",
          "text": [
            "what is 9 x 8 72\n",
            "Congratulations!  The answer is 72\n",
            "what is 5 x 7 20\n",
            "Uh-oh!  The answer should be 35\n",
            "what is 9 x 3 27\n",
            "Congratulations!  The answer is 27\n",
            "what is 9 x 3 18\n",
            "Uh-oh!  The answer should be 27\n",
            "what is 2 x 3 6\n",
            "Congratulations!  The answer is 6\n",
            "what is 2 x 3 6\n",
            "Congratulations!  The answer is 6\n",
            "what is 4 x 3 12\n",
            "Congratulations!  The answer is 12\n",
            "what is 8 x 3 24\n",
            "Congratulations!  The answer is 24\n",
            "what is 8 x 7 56\n",
            "Congratulations!  The answer is 56\n",
            "what is 3 x 5 15\n",
            "Congratulations!  The answer is 15\n",
            "You've answered 8 out of 10 questions right\n"
          ]
        }
      ]
    }
  ]
}
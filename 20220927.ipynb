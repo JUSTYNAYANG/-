{
  "nbformat": 4,
  "nbformat_minor": 0,
  "metadata": {
    "colab": {
      "provenance": [],
      "authorship_tag": "ABX9TyOATbjY4FehLikkIwaNwG/Q",
      "include_colab_link": true
    },
    "kernelspec": {
      "name": "python3",
      "display_name": "Python 3"
    },
    "language_info": {
      "name": "python"
    }
  },
  "cells": [
    {
      "cell_type": "markdown",
      "metadata": {
        "id": "view-in-github",
        "colab_type": "text"
      },
      "source": [
        "<a href=\"https://colab.research.google.com/github/JUSTYNAYANG/summerpy/blob/main/20220927.ipynb\" target=\"_parent\"><img src=\"https://colab.research.google.com/assets/colab-badge.svg\" alt=\"Open In Colab\"/></a>"
      ]
    },
    {
      "cell_type": "code",
      "execution_count": null,
      "metadata": {
        "colab": {
          "base_uri": "https://localhost:8080/"
        },
        "id": "k3vKVbgJEWix",
        "outputId": "812bb9f4-7ff6-436b-d878-db32b96cf02d"
      },
      "outputs": [
        {
          "name": "stdout",
          "output_type": "stream",
          "text": [
            "Please insert 2 numbers with space between7 20\n",
            "inside\n",
            "Please insert 2 numbers with space between30 35\n",
            "outside\n",
            "Please insert 2 numbers with space between\n"
          ]
        }
      ],
      "source": [
        "\n",
        "# the distance (x, y) is from (5, 6) less or greater than 15\n",
        "\n",
        "import math\n",
        "\n",
        "while True:\n",
        "  try:\n",
        "    inp = input(\"Please insert 2 numbers with space between\")\n",
        "    inp = inp.split(\" \")\n",
        "    x = int(inp[0])\n",
        "    y = int(inp[1])\n",
        "    ans = math.sqrt((x-5)**2+(y-6)**2)\n",
        "    if ans <= 15:\n",
        "      print(\"inside\")\n",
        "    else:\n",
        "      print(\"outside\")\n",
        "  except Exception as e:\n",
        "    break"
      ]
    },
    {
      "cell_type": "code",
      "source": [
        "\n",
        "while True:\n",
        "  try:\n",
        "    x = int(input())\n",
        "    y = int(input())\n",
        "    ans = math.sqrt((x-5)**2+(y-6)**2)\n",
        "    if ans <= 15:\n",
        "      print(\"inside\")\n",
        "    else:\n",
        "      print(\"outside\")\n",
        "  except Exception as e:\n",
        "    break"
      ],
      "metadata": {
        "colab": {
          "base_uri": "https://localhost:8080/"
        },
        "id": "Fpv3OUGlq1AJ",
        "outputId": "4be54a30-89fa-4dec-9895-d27a297ef5c9"
      },
      "execution_count": null,
      "outputs": [
        {
          "name": "stdout",
          "output_type": "stream",
          "text": [
            "7\n",
            "20\n",
            "inside\n",
            "\n"
          ]
        }
      ]
    },
    {
      "cell_type": "code",
      "source": [
        "11//5"
      ],
      "metadata": {
        "colab": {
          "base_uri": "https://localhost:8080/"
        },
        "id": "wqSTk33_wWKG",
        "outputId": "10f6f00c-9e05-4299-83c5-a62b7e746fad"
      },
      "execution_count": null,
      "outputs": [
        {
          "output_type": "execute_result",
          "data": {
            "text/plain": [
              "2"
            ]
          },
          "metadata": {},
          "execution_count": 23
        }
      ]
    },
    {
      "cell_type": "code",
      "source": [
        "11%5\n"
      ],
      "metadata": {
        "colab": {
          "base_uri": "https://localhost:8080/"
        },
        "id": "ZqnPQFARwY_x",
        "outputId": "5b69a4fd-a9a3-4858-f111-5efdc236c3a3"
      },
      "execution_count": null,
      "outputs": [
        {
          "output_type": "execute_result",
          "data": {
            "text/plain": [
              "1"
            ]
          },
          "metadata": {},
          "execution_count": 24
        }
      ]
    },
    {
      "cell_type": "code",
      "source": [
        "# while a < b, return answer of even consectutive numbers adding up starting from a ending at b\n",
        "\n",
        "while True:\n",
        "  try:\n",
        "    a = int(input())\n",
        "    b = int(input())\n",
        "    if a % 2 == 1:\n",
        "      a += 1\n",
        "      c = a\n",
        "    else:\n",
        "      c = a\n",
        "    while a < b:\n",
        "      a += 2\n",
        "      c += a\n",
        "    print(c)\n",
        "  except Exception as e:\n",
        "    break"
      ],
      "metadata": {
        "colab": {
          "base_uri": "https://localhost:8080/"
        },
        "id": "RVDfBen4va3M",
        "outputId": "18b5f508-a546-4077-b776-391b6902a329"
      },
      "execution_count": null,
      "outputs": [
        {
          "name": "stdout",
          "output_type": "stream",
          "text": [
            "14\n",
            "1144\n",
            "327714\n",
            "\n"
          ]
        }
      ]
    },
    {
      "cell_type": "code",
      "source": [],
      "metadata": {
        "id": "tZpCYQEmyD26"
      },
      "execution_count": null,
      "outputs": []
    }
  ]
}
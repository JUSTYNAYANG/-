{
  "nbformat": 4,
  "nbformat_minor": 0,
  "metadata": {
    "colab": {
      "provenance": [],
      "authorship_tag": "ABX9TyMfmpCI5PKGgEo4yWpP3Ovz",
      "include_colab_link": true
    },
    "kernelspec": {
      "name": "python3",
      "display_name": "Python 3"
    },
    "language_info": {
      "name": "python"
    }
  },
  "cells": [
    {
      "cell_type": "markdown",
      "metadata": {
        "id": "view-in-github",
        "colab_type": "text"
      },
      "source": [
        "<a href=\"https://colab.research.google.com/github/JUSTYNAYANG/summerpy/blob/main/20220927.ipynb\" target=\"_parent\"><img src=\"https://colab.research.google.com/assets/colab-badge.svg\" alt=\"Open In Colab\"/></a>"
      ]
    },
    {
      "cell_type": "code",
      "execution_count": 12,
      "metadata": {
        "colab": {
          "base_uri": "https://localhost:8080/"
        },
        "id": "k3vKVbgJEWix",
        "outputId": "8e8f3f1d-b406-427c-f86f-e7513f5c6b71"
      },
      "outputs": [
        {
          "output_type": "stream",
          "name": "stdout",
          "text": [
            "Please insert 2 numbers with space between20 40\n",
            "outside\n"
          ]
        }
      ],
      "source": [
        "import math\n",
        "\n",
        "while True:\n",
        "  inp = input(\"Please insert 2 numbers with space between\")\n",
        "  inp = inp.split(\" \")\n",
        "  x = int(inp[0])\n",
        "  y = int(inp[0])\n",
        "  ans = math.sqrt((x-5)**2+(y-6)**2)\n",
        "  if ans <= 15:\n",
        "    print(\"inside\")\n",
        "    break\n",
        "  else:\n",
        "    print(\"outside\")\n",
        "    break"
      ]
    }
  ]
}
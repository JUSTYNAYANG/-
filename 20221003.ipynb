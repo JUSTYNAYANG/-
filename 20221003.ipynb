{
  "nbformat": 4,
  "nbformat_minor": 0,
  "metadata": {
    "colab": {
      "provenance": [],
      "authorship_tag": "ABX9TyNUUEImpyNJMx1K1buV2yY/"
    },
    "kernelspec": {
      "name": "python3",
      "display_name": "Python 3"
    },
    "language_info": {
      "name": "python"
    }
  },
  "cells": [
    {
      "cell_type": "markdown",
      "source": [
        "#sort & sorted\n",
        "\n",
        "sorting from small to large, large to small"
      ],
      "metadata": {
        "id": "lvxnpH_nG2R1"
      }
    },
    {
      "cell_type": "code",
      "execution_count": null,
      "metadata": {
        "id": "J_e5zzBzmxS9"
      },
      "outputs": [],
      "source": [
        "# sort organizes from small to large"
      ]
    },
    {
      "cell_type": "code",
      "source": [
        "x = [5, 4, 1, 2, 3]"
      ],
      "metadata": {
        "id": "wpqp_w_RGN3_"
      },
      "execution_count": null,
      "outputs": []
    },
    {
      "cell_type": "code",
      "source": [
        "x.sort()"
      ],
      "metadata": {
        "id": "9kwrqpqdGQzu"
      },
      "execution_count": null,
      "outputs": []
    },
    {
      "cell_type": "code",
      "source": [
        "x"
      ],
      "metadata": {
        "colab": {
          "base_uri": "https://localhost:8080/"
        },
        "id": "TIBnZi5oGYyi",
        "outputId": "cca53bbc-b6e4-4968-b241-b878ddab8bfd"
      },
      "execution_count": null,
      "outputs": [
        {
          "output_type": "execute_result",
          "data": {
            "text/plain": [
              "[1, 2, 3, 4, 5]"
            ]
          },
          "metadata": {},
          "execution_count": 12
        }
      ]
    },
    {
      "cell_type": "code",
      "source": [
        "# to reverse the sorting (large to small)\n",
        "x.sort(reverse = True)"
      ],
      "metadata": {
        "id": "CAx9KWEHGcBj"
      },
      "execution_count": null,
      "outputs": []
    },
    {
      "cell_type": "code",
      "source": [
        "x"
      ],
      "metadata": {
        "colab": {
          "base_uri": "https://localhost:8080/"
        },
        "id": "MfORkvruGjTU",
        "outputId": "1781990b-9482-4f0c-9706-40416f186b64"
      },
      "execution_count": null,
      "outputs": [
        {
          "output_type": "execute_result",
          "data": {
            "text/plain": [
              "[5, 4, 3, 2, 1]"
            ]
          },
          "metadata": {},
          "execution_count": 14
        }
      ]
    },
    {
      "cell_type": "code",
      "source": [
        "#reverses the item\n",
        "x.reverse()"
      ],
      "metadata": {
        "id": "NPNNJJ33Gr1r"
      },
      "execution_count": null,
      "outputs": []
    },
    {
      "cell_type": "code",
      "source": [
        "x"
      ],
      "metadata": {
        "colab": {
          "base_uri": "https://localhost:8080/"
        },
        "id": "Ep0yIpzaGyh_",
        "outputId": "d651ff55-2e2a-4ae4-c1eb-eda124bb1ab2"
      },
      "execution_count": null,
      "outputs": [
        {
          "output_type": "execute_result",
          "data": {
            "text/plain": [
              "[1, 2, 3, 4, 5]"
            ]
          },
          "metadata": {},
          "execution_count": 16
        }
      ]
    },
    {
      "cell_type": "code",
      "source": [
        "y = [5, 4, 1, 2, 3]"
      ],
      "metadata": {
        "id": "HMRQRRhhHAtC"
      },
      "execution_count": null,
      "outputs": []
    },
    {
      "cell_type": "code",
      "source": [
        "# sorts y but does not permanently change (different from sort)\n",
        "sorted(y)"
      ],
      "metadata": {
        "colab": {
          "base_uri": "https://localhost:8080/"
        },
        "id": "utQMcHEMHCYV",
        "outputId": "8f5594d1-a830-4528-a003-77e809f34fed"
      },
      "execution_count": null,
      "outputs": [
        {
          "output_type": "execute_result",
          "data": {
            "text/plain": [
              "[1, 2, 3, 4, 5]"
            ]
          },
          "metadata": {},
          "execution_count": 18
        }
      ]
    },
    {
      "cell_type": "code",
      "source": [
        "y"
      ],
      "metadata": {
        "colab": {
          "base_uri": "https://localhost:8080/"
        },
        "id": "8GoJERiJHJFc",
        "outputId": "edcf012d-b014-4fe8-ac96-ce0f35a73377"
      },
      "execution_count": null,
      "outputs": [
        {
          "output_type": "execute_result",
          "data": {
            "text/plain": [
              "[5, 4, 1, 2, 3]"
            ]
          },
          "metadata": {},
          "execution_count": 19
        }
      ]
    },
    {
      "cell_type": "code",
      "source": [
        "z = [(2, 'x'), (3, 'y'), (5, 'z'), (1, 'w'), (2, 'u')]"
      ],
      "metadata": {
        "id": "ZxOiDIpOHRIw"
      },
      "execution_count": null,
      "outputs": []
    },
    {
      "cell_type": "code",
      "source": [
        "z"
      ],
      "metadata": {
        "colab": {
          "base_uri": "https://localhost:8080/"
        },
        "id": "OGdtBwThHzup",
        "outputId": "55d73d5c-35af-4c3d-82e3-a4daba23e8e1"
      },
      "execution_count": null,
      "outputs": [
        {
          "output_type": "execute_result",
          "data": {
            "text/plain": [
              "[(2, 'x'), (3, 'y'), (5, 'z'), (1, 'w'), (2, 'u')]"
            ]
          },
          "metadata": {},
          "execution_count": 21
        }
      ]
    },
    {
      "cell_type": "code",
      "source": [
        "#sorts the first item in the touple then the second\n",
        "z.sort()"
      ],
      "metadata": {
        "id": "0u_OB9vZH14h"
      },
      "execution_count": null,
      "outputs": []
    },
    {
      "cell_type": "code",
      "source": [
        "z"
      ],
      "metadata": {
        "colab": {
          "base_uri": "https://localhost:8080/"
        },
        "id": "QD278Ow4H4H5",
        "outputId": "6e625f43-f0ca-4aaa-9629-f2d3a3af4441"
      },
      "execution_count": null,
      "outputs": [
        {
          "output_type": "execute_result",
          "data": {
            "text/plain": [
              "[(1, 'w'), (2, 'u'), (2, 'x'), (3, 'y'), (5, 'z')]"
            ]
          },
          "metadata": {},
          "execution_count": 23
        }
      ]
    },
    {
      "cell_type": "code",
      "source": [
        "w = [('x', 2), ('y', 3), ('z', 5), ('w', 1), ('u', 2)]"
      ],
      "metadata": {
        "id": "OBpcWd-nH5zd"
      },
      "execution_count": null,
      "outputs": []
    },
    {
      "cell_type": "code",
      "source": [
        "w"
      ],
      "metadata": {
        "id": "e2vTQg1_ISI9",
        "outputId": "a95cd4e0-0694-4de1-9516-d76f436eee50",
        "colab": {
          "base_uri": "https://localhost:8080/"
        }
      },
      "execution_count": null,
      "outputs": [
        {
          "output_type": "execute_result",
          "data": {
            "text/plain": [
              "[('x', 2), ('y', 3), ('z', 5), ('w', 1), ('u', 2)]"
            ]
          },
          "metadata": {},
          "execution_count": 25
        }
      ]
    },
    {
      "cell_type": "code",
      "source": [
        "w.sort()"
      ],
      "metadata": {
        "id": "-iIYwO5t1wgR"
      },
      "execution_count": null,
      "outputs": []
    },
    {
      "cell_type": "code",
      "source": [
        "w"
      ],
      "metadata": {
        "colab": {
          "base_uri": "https://localhost:8080/"
        },
        "id": "_8Fc2-XQ1xvZ",
        "outputId": "e934500c-80cc-4353-c1b4-057ebd0616be"
      },
      "execution_count": null,
      "outputs": [
        {
          "output_type": "execute_result",
          "data": {
            "text/plain": [
              "[('u', 2), ('w', 1), ('x', 2), ('y', 3), ('z', 5)]"
            ]
          },
          "metadata": {},
          "execution_count": 27
        }
      ]
    },
    {
      "cell_type": "markdown",
      "source": [
        "# Lambda Function"
      ],
      "metadata": {
        "id": "ECQWalNq2D1A"
      }
    },
    {
      "cell_type": "code",
      "source": [
        "def square01(x):\n",
        "  return x**2"
      ],
      "metadata": {
        "id": "WNqcsvyJ2CNn"
      },
      "execution_count": null,
      "outputs": []
    },
    {
      "cell_type": "code",
      "source": [
        "square01(2)"
      ],
      "metadata": {
        "colab": {
          "base_uri": "https://localhost:8080/"
        },
        "id": "2BaEogff2Ty0",
        "outputId": "c602c8f2-e62b-4323-a614-60af2fc23272"
      },
      "execution_count": null,
      "outputs": [
        {
          "output_type": "execute_result",
          "data": {
            "text/plain": [
              "4"
            ]
          },
          "metadata": {},
          "execution_count": 32
        }
      ]
    },
    {
      "cell_type": "code",
      "source": [
        "square01(8)"
      ],
      "metadata": {
        "colab": {
          "base_uri": "https://localhost:8080/"
        },
        "id": "FmPkfcCc2b4J",
        "outputId": "bb386c2c-9137-4e81-ff4b-e06da7a45fd0"
      },
      "execution_count": null,
      "outputs": [
        {
          "output_type": "execute_result",
          "data": {
            "text/plain": [
              "64"
            ]
          },
          "metadata": {},
          "execution_count": 33
        }
      ]
    },
    {
      "cell_type": "code",
      "source": [
        "# when there is one row under a function only, the isn't a need for a new line\n",
        "# when there is more than one, it is not possible to type\n",
        "# so we usually do a new line\n",
        "def square02(x): return x**2"
      ],
      "metadata": {
        "id": "YERONG1B2l4T"
      },
      "execution_count": null,
      "outputs": []
    },
    {
      "cell_type": "code",
      "source": [
        "square02(4)"
      ],
      "metadata": {
        "colab": {
          "base_uri": "https://localhost:8080/"
        },
        "id": "llqIvI_I2qO8",
        "outputId": "d5239569-2d6a-4b17-f4b7-14b4200bb6d9"
      },
      "execution_count": null,
      "outputs": [
        {
          "output_type": "execute_result",
          "data": {
            "text/plain": [
              "16"
            ]
          },
          "metadata": {},
          "execution_count": 35
        }
      ]
    },
    {
      "cell_type": "code",
      "source": [
        "# another way to write a function(like short)\n",
        "square03 = lambda x: x**2"
      ],
      "metadata": {
        "id": "zq2pP_sf3ELv"
      },
      "execution_count": null,
      "outputs": []
    },
    {
      "cell_type": "code",
      "source": [
        "square03(5)"
      ],
      "metadata": {
        "colab": {
          "base_uri": "https://localhost:8080/"
        },
        "id": "fZOn4mR66CZI",
        "outputId": "64698cf0-9183-4d6d-b432-e1e716e1c6e7"
      },
      "execution_count": null,
      "outputs": [
        {
          "output_type": "execute_result",
          "data": {
            "text/plain": [
              "25"
            ]
          },
          "metadata": {},
          "execution_count": 40
        }
      ]
    },
    {
      "cell_type": "code",
      "source": [
        "u = [('x', 2), ('y', 3), ('z', 5), ('w', 1), ('u', 2)]"
      ],
      "metadata": {
        "id": "xxWtSZVz6n5y"
      },
      "execution_count": null,
      "outputs": []
    },
    {
      "cell_type": "code",
      "source": [
        "# unless given a name, lambda just means a function with no name"
      ],
      "metadata": {
        "id": "3WPUCwND8Jab"
      },
      "execution_count": null,
      "outputs": []
    },
    {
      "cell_type": "code",
      "source": [
        "# key tells which part of the element to sort by\n",
        "# lambda is just a way to say the function used is element = element[1]\n",
        "# so the code natually sorts by element[1] (technically the second one in the tuple)\n",
        "u.sort(key=lambda element: element[1])"
      ],
      "metadata": {
        "id": "kQz22BAP7OvE"
      },
      "execution_count": null,
      "outputs": []
    },
    {
      "cell_type": "code",
      "source": [
        "u"
      ],
      "metadata": {
        "colab": {
          "base_uri": "https://localhost:8080/"
        },
        "id": "FILu-72w7nCD",
        "outputId": "04646eb9-effe-4897-bef9-3b34d1ec41b2"
      },
      "execution_count": null,
      "outputs": [
        {
          "output_type": "execute_result",
          "data": {
            "text/plain": [
              "[('w', 1), ('x', 2), ('u', 2), ('y', 3), ('z', 5)]"
            ]
          },
          "metadata": {},
          "execution_count": 48
        }
      ]
    },
    {
      "cell_type": "code",
      "source": [
        "from operator import itemgetter"
      ],
      "metadata": {
        "id": "OwzNqB9R8pJJ"
      },
      "execution_count": null,
      "outputs": []
    },
    {
      "cell_type": "code",
      "source": [
        "t = [('x', 2), ('y', 3), ('z', 5), ('w', 1), ('u', 2)]"
      ],
      "metadata": {
        "id": "b_e313U18nWM"
      },
      "execution_count": null,
      "outputs": []
    },
    {
      "cell_type": "code",
      "source": [
        "# works the same way as \"lambda element: element[1]\"\"\n",
        "t.sort(key=itemgetter(1))"
      ],
      "metadata": {
        "id": "D9hnKLy19ISi"
      },
      "execution_count": null,
      "outputs": []
    },
    {
      "cell_type": "code",
      "source": [
        "# notice how x is in front of u\n",
        "t"
      ],
      "metadata": {
        "colab": {
          "base_uri": "https://localhost:8080/"
        },
        "id": "FqEnPhbx9NvX",
        "outputId": "c0bcd91b-523c-462c-a60d-f349df78b636"
      },
      "execution_count": null,
      "outputs": [
        {
          "output_type": "execute_result",
          "data": {
            "text/plain": [
              "[('w', 1), ('x', 2), ('u', 2), ('y', 3), ('z', 5)]"
            ]
          },
          "metadata": {},
          "execution_count": 58
        }
      ]
    },
    {
      "cell_type": "code",
      "source": [
        "# if we add the zero afterwards, it sorts by the element[1] then element[0]\n",
        "t.sort(key=itemgetter(1, 0))"
      ],
      "metadata": {
        "id": "B020sPlT9sQb"
      },
      "execution_count": null,
      "outputs": []
    },
    {
      "cell_type": "markdown",
      "source": [
        "#Problem Solving\n",
        "\n",
        "- count the number of times the letters appear in a sentence\n",
        "- then print out the top five used letters (if there are two letters used the same amount, print them out in order of their place in the alphabet)"
      ],
      "metadata": {
        "id": "4TXnunlS-Tk1"
      }
    },
    {
      "cell_type": "code",
      "source": [
        "data = input()"
      ],
      "metadata": {
        "colab": {
          "base_uri": "https://localhost:8080/"
        },
        "id": "Yils-0i2-XCx",
        "outputId": "659ab5ee-01c0-4160-edfb-0e1b9454d074"
      },
      "execution_count": null,
      "outputs": [
        {
          "name": "stdout",
          "output_type": "stream",
          "text": [
            "Failure is the mother of success.\n"
          ]
        }
      ]
    },
    {
      "cell_type": "code",
      "source": [
        "data"
      ],
      "metadata": {
        "colab": {
          "base_uri": "https://localhost:8080/",
          "height": 35
        },
        "id": "WTlrKQvX_GAe",
        "outputId": "b312c0b8-de16-4202-f84e-4027e957577f"
      },
      "execution_count": null,
      "outputs": [
        {
          "output_type": "execute_result",
          "data": {
            "text/plain": [
              "'Failure is the mother of success.'"
            ],
            "application/vnd.google.colaboratory.intrinsic+json": {
              "type": "string"
            }
          },
          "metadata": {},
          "execution_count": 61
        }
      ]
    },
    {
      "cell_type": "code",
      "source": [
        "data.count('f')"
      ],
      "metadata": {
        "colab": {
          "base_uri": "https://localhost:8080/"
        },
        "id": "jFlkbHj1_blC",
        "outputId": "8e8d4208-615a-4a21-8570-0060e5b96004"
      },
      "execution_count": null,
      "outputs": [
        {
          "output_type": "execute_result",
          "data": {
            "text/plain": [
              "1"
            ]
          },
          "metadata": {},
          "execution_count": 68
        }
      ]
    },
    {
      "cell_type": "code",
      "source": [
        "data.lower().count('f')"
      ],
      "metadata": {
        "colab": {
          "base_uri": "https://localhost:8080/"
        },
        "id": "RcpSQ32d_HQW",
        "outputId": "31d1ddd5-c8f0-42b9-ef29-992fc720ce76"
      },
      "execution_count": null,
      "outputs": [
        {
          "output_type": "execute_result",
          "data": {
            "text/plain": [
              "2"
            ]
          },
          "metadata": {},
          "execution_count": 67
        }
      ]
    },
    {
      "cell_type": "code",
      "source": [
        "alphabet = list('abcdefghijklmnopqurstvwxyz')"
      ],
      "metadata": {
        "id": "hxGjhBYw_d2a"
      },
      "execution_count": null,
      "outputs": []
    },
    {
      "cell_type": "code",
      "source": [
        "alphabet"
      ],
      "metadata": {
        "colab": {
          "base_uri": "https://localhost:8080/"
        },
        "id": "uG4u9o0a_0X-",
        "outputId": "07914fe6-0ebb-47a7-b67d-ffb57adb6eb2"
      },
      "execution_count": null,
      "outputs": [
        {
          "output_type": "execute_result",
          "data": {
            "text/plain": [
              "['a',\n",
              " 'b',\n",
              " 'c',\n",
              " 'd',\n",
              " 'e',\n",
              " 'f',\n",
              " 'g',\n",
              " 'h',\n",
              " 'i',\n",
              " 'j',\n",
              " 'k',\n",
              " 'l',\n",
              " 'm',\n",
              " 'n',\n",
              " 'o',\n",
              " 'p',\n",
              " 'q',\n",
              " 'u',\n",
              " 'r',\n",
              " 's',\n",
              " 't',\n",
              " 'v',\n",
              " 'w',\n",
              " 'x',\n",
              " 'y',\n",
              " 'z']"
            ]
          },
          "metadata": {},
          "execution_count": 70
        }
      ]
    },
    {
      "cell_type": "code",
      "source": [
        "letter = \"Failure is the mother of success\""
      ],
      "metadata": {
        "id": "wyZsFqEsFc2Z"
      },
      "execution_count": null,
      "outputs": []
    },
    {
      "cell_type": "code",
      "source": [
        "letter2 = list(letter)"
      ],
      "metadata": {
        "id": "nGPY1nkpKEqK"
      },
      "execution_count": null,
      "outputs": []
    },
    {
      "cell_type": "code",
      "source": [
        "letter2"
      ],
      "metadata": {
        "colab": {
          "base_uri": "https://localhost:8080/"
        },
        "id": "UoPYcD0dKIx2",
        "outputId": "3c922a71-5abd-483e-82a1-f546fcaa262c"
      },
      "execution_count": null,
      "outputs": [
        {
          "output_type": "execute_result",
          "data": {
            "text/plain": [
              "['F',\n",
              " 'a',\n",
              " 'i',\n",
              " 'l',\n",
              " 'u',\n",
              " 'r',\n",
              " 'e',\n",
              " ' ',\n",
              " 'i',\n",
              " 's',\n",
              " ' ',\n",
              " 't',\n",
              " 'h',\n",
              " 'e',\n",
              " ' ',\n",
              " 'm',\n",
              " 'o',\n",
              " 't',\n",
              " 'h',\n",
              " 'e',\n",
              " 'r',\n",
              " ' ',\n",
              " 'o',\n",
              " 'f',\n",
              " ' ',\n",
              " 's',\n",
              " 'u',\n",
              " 'c',\n",
              " 'c',\n",
              " 'e',\n",
              " 's',\n",
              " 's']"
            ]
          },
          "metadata": {},
          "execution_count": 112
        }
      ]
    },
    {
      "cell_type": "code",
      "source": [
        "data = input().lower()"
      ],
      "metadata": {
        "colab": {
          "base_uri": "https://localhost:8080/"
        },
        "id": "Cc_ARTFQOOiI",
        "outputId": "e7662e48-3267-4f0b-abee-ed56d1e48e01"
      },
      "execution_count": null,
      "outputs": [
        {
          "name": "stdout",
          "output_type": "stream",
          "text": [
            "Failure is the mother of success\n"
          ]
        }
      ]
    },
    {
      "cell_type": "code",
      "source": [
        "data\n"
      ],
      "metadata": {
        "colab": {
          "base_uri": "https://localhost:8080/",
          "height": 35
        },
        "id": "cjDh7_MDQnzP",
        "outputId": "9f50916c-3045-4f30-d2f8-564e34d7092b"
      },
      "execution_count": null,
      "outputs": [
        {
          "output_type": "execute_result",
          "data": {
            "text/plain": [
              "'failure is the mother of success'"
            ],
            "application/vnd.google.colaboratory.intrinsic+json": {
              "type": "string"
            }
          },
          "metadata": {},
          "execution_count": 180
        }
      ]
    },
    {
      "cell_type": "code",
      "source": [
        "data.count('f')"
      ],
      "metadata": {
        "colab": {
          "base_uri": "https://localhost:8080/"
        },
        "id": "Vc6hG5hGQcU2",
        "outputId": "031ca1ec-ee9a-4423-858a-b9c26e0601f3"
      },
      "execution_count": null,
      "outputs": [
        {
          "output_type": "execute_result",
          "data": {
            "text/plain": [
              "2"
            ]
          },
          "metadata": {},
          "execution_count": 181
        }
      ]
    },
    {
      "cell_type": "code",
      "source": [
        "letters = set(data.replace(\" \",\"\"))"
      ],
      "metadata": {
        "id": "_KTwl_L-Qwr3"
      },
      "execution_count": null,
      "outputs": []
    },
    {
      "cell_type": "code",
      "source": [
        "letters.discard(\".\")"
      ],
      "metadata": {
        "id": "z8CXnaAiRnFG"
      },
      "execution_count": null,
      "outputs": []
    },
    {
      "cell_type": "code",
      "source": [
        "occurance = {}\n",
        "for letter in letters:\n",
        "  occurance[letter] = data.count(letter)"
      ],
      "metadata": {
        "id": "_6yqLiQIO9D3"
      },
      "execution_count": null,
      "outputs": []
    },
    {
      "cell_type": "code",
      "source": [
        "occurance"
      ],
      "metadata": {
        "colab": {
          "base_uri": "https://localhost:8080/"
        },
        "id": "wP2DaABRR8sK",
        "outputId": "8be4f71d-ca27-444e-8ba9-58cd075df2a0"
      },
      "execution_count": null,
      "outputs": [
        {
          "output_type": "execute_result",
          "data": {
            "text/plain": [
              "{'m': 1,\n",
              " 'u': 2,\n",
              " 'c': 2,\n",
              " 'h': 2,\n",
              " 'r': 2,\n",
              " 'o': 2,\n",
              " 's': 4,\n",
              " 't': 2,\n",
              " 'e': 4,\n",
              " 'a': 1,\n",
              " 'i': 2,\n",
              " 'l': 1,\n",
              " 'f': 2}"
            ]
          },
          "metadata": {},
          "execution_count": 185
        }
      ]
    },
    {
      "cell_type": "code",
      "source": [
        "occurance.items()"
      ],
      "metadata": {
        "colab": {
          "base_uri": "https://localhost:8080/"
        },
        "id": "gX1jgmnkSNaJ",
        "outputId": "e3081c6b-9101-42eb-d8c0-6f17e9ba02d8"
      },
      "execution_count": null,
      "outputs": [
        {
          "output_type": "execute_result",
          "data": {
            "text/plain": [
              "dict_items([('m', 1), ('u', 2), ('c', 2), ('h', 2), ('r', 2), ('o', 2), ('s', 4), ('t', 2), ('e', 4), ('a', 1), ('i', 2), ('l', 1), ('f', 2)])"
            ]
          },
          "metadata": {},
          "execution_count": 186
        }
      ]
    },
    {
      "cell_type": "code",
      "source": [
        "ans = list(occurance.items())"
      ],
      "metadata": {
        "id": "63xL2nYYSUvL"
      },
      "execution_count": null,
      "outputs": []
    },
    {
      "cell_type": "code",
      "source": [
        "ans.sort(key = lambda x: (-x[1], x[0]))"
      ],
      "metadata": {
        "id": "OKTBDIRGTOFi"
      },
      "execution_count": null,
      "outputs": []
    },
    {
      "cell_type": "code",
      "source": [
        "ans"
      ],
      "metadata": {
        "colab": {
          "base_uri": "https://localhost:8080/"
        },
        "id": "9_0m0HJnTX_h",
        "outputId": "8aebfeb9-daf5-4cab-b615-38c9d5b515fc"
      },
      "execution_count": null,
      "outputs": [
        {
          "output_type": "execute_result",
          "data": {
            "text/plain": [
              "[('e', 4),\n",
              " ('s', 4),\n",
              " ('c', 2),\n",
              " ('f', 2),\n",
              " ('h', 2),\n",
              " ('i', 2),\n",
              " ('o', 2),\n",
              " ('r', 2),\n",
              " ('t', 2),\n",
              " ('u', 2),\n",
              " ('a', 1),\n",
              " ('l', 1),\n",
              " ('m', 1)]"
            ]
          },
          "metadata": {},
          "execution_count": 210
        }
      ]
    },
    {
      "cell_type": "code",
      "source": [
        "sum = 0\n",
        "li = \"\"\n",
        "\n",
        "for i in ans[:5]:\n",
        "  sum += i[1]\n",
        "  li = li + i[0]"
      ],
      "metadata": {
        "id": "b9hzBn_GTfN7"
      },
      "execution_count": null,
      "outputs": []
    },
    {
      "cell_type": "code",
      "source": [
        "sum"
      ],
      "metadata": {
        "colab": {
          "base_uri": "https://localhost:8080/"
        },
        "id": "7CZf0wBrVggP",
        "outputId": "fb62b32a-c296-470a-be09-82b1d4fde17a"
      },
      "execution_count": null,
      "outputs": [
        {
          "output_type": "execute_result",
          "data": {
            "text/plain": [
              "14"
            ]
          },
          "metadata": {},
          "execution_count": 212
        }
      ]
    },
    {
      "cell_type": "code",
      "source": [
        "li"
      ],
      "metadata": {
        "colab": {
          "base_uri": "https://localhost:8080/",
          "height": 35
        },
        "id": "8yEtBzV1VhVO",
        "outputId": "66bc46a8-7065-4197-bb3c-f6c793327f86"
      },
      "execution_count": null,
      "outputs": [
        {
          "output_type": "execute_result",
          "data": {
            "text/plain": [
              "'escfh'"
            ],
            "application/vnd.google.colaboratory.intrinsic+json": {
              "type": "string"
            }
          },
          "metadata": {},
          "execution_count": 213
        }
      ]
    },
    {
      "cell_type": "code",
      "source": [
        "while True:\n",
        "  try:\n",
        "    data = input().lower()\n",
        "    letters = set(data.replace(\" \",\"\"))\n",
        "    letters.discard(\".\")\n",
        "    occurance = {}\n",
        "\n",
        "    for letter in letters:\n",
        "      occurance[letter] = data.count(letter)\n",
        "\n",
        "    ans = list(occurance.items())\n",
        "    ans.sort(key = lambda x: (-x[1], x[0]))\n",
        "\n",
        "    sum = 0\n",
        "    li = \"\"\n",
        "    for i in ans[:5]:\n",
        "      sum += i[1]\n",
        "      li = li + i[0]\n",
        "    print(sum)\n",
        "    print(li)\n",
        "    break\n",
        "  except Exception as e:\n",
        "    break\n",
        "      "
      ],
      "metadata": {
        "colab": {
          "base_uri": "https://localhost:8080/"
        },
        "id": "oUyB_FbqXuoB",
        "outputId": "4c5fd85d-c482-4c49-9c04-5f46ba7725df"
      },
      "execution_count": null,
      "outputs": [
        {
          "output_type": "stream",
          "name": "stdout",
          "text": [
            "Failure is the mother of success.\n",
            "14\n",
            "escfh\n"
          ]
        }
      ]
    },
    {
      "cell_type": "markdown",
      "source": [
        "# List Usuage"
      ],
      "metadata": {
        "id": "GM2uK5S1K-65"
      }
    },
    {
      "cell_type": "code",
      "source": [
        "x = list(\"abcde\")"
      ],
      "metadata": {
        "id": "4WAj29OjKiIq"
      },
      "execution_count": 1,
      "outputs": []
    },
    {
      "cell_type": "code",
      "source": [
        "x"
      ],
      "metadata": {
        "colab": {
          "base_uri": "https://localhost:8080/"
        },
        "id": "w3t9tUIcLdcQ",
        "outputId": "15a51004-7f30-48e1-a0c2-d5b3abc46b67"
      },
      "execution_count": 2,
      "outputs": [
        {
          "output_type": "execute_result",
          "data": {
            "text/plain": [
              "['a', 'b', 'c', 'd', 'e']"
            ]
          },
          "metadata": {},
          "execution_count": 2
        }
      ]
    },
    {
      "cell_type": "code",
      "source": [
        "# adds item to the end of the list\n",
        "x.append(\"f\")"
      ],
      "metadata": {
        "id": "e01QolqdLeYh"
      },
      "execution_count": 3,
      "outputs": []
    },
    {
      "cell_type": "code",
      "source": [
        "x"
      ],
      "metadata": {
        "colab": {
          "base_uri": "https://localhost:8080/"
        },
        "id": "oxDRqGAILjUC",
        "outputId": "ed54c949-133a-4465-e4bb-3b41e690a29a"
      },
      "execution_count": 4,
      "outputs": [
        {
          "output_type": "execute_result",
          "data": {
            "text/plain": [
              "['a', 'b', 'c', 'd', 'e', 'f']"
            ]
          },
          "metadata": {},
          "execution_count": 4
        }
      ]
    },
    {
      "cell_type": "code",
      "source": [
        "# copies whatever is in x to y (is not connected)\n",
        "# connected meaning y changing due to x\n",
        "y = x.copy()"
      ],
      "metadata": {
        "id": "g-hjoRRAL0Hy"
      },
      "execution_count": 5,
      "outputs": []
    },
    {
      "cell_type": "code",
      "source": [
        "z = x"
      ],
      "metadata": {
        "id": "kcMbUwVUMGnJ"
      },
      "execution_count": 6,
      "outputs": []
    },
    {
      "cell_type": "code",
      "source": [
        "y"
      ],
      "metadata": {
        "colab": {
          "base_uri": "https://localhost:8080/"
        },
        "id": "KPWaPkzVMIEg",
        "outputId": "8c57bd4f-3707-480c-b4a6-12c7ddb956ae"
      },
      "execution_count": 7,
      "outputs": [
        {
          "output_type": "execute_result",
          "data": {
            "text/plain": [
              "['a', 'b', 'c', 'd', 'e', 'f']"
            ]
          },
          "metadata": {},
          "execution_count": 7
        }
      ]
    },
    {
      "cell_type": "code",
      "source": [
        "z"
      ],
      "metadata": {
        "colab": {
          "base_uri": "https://localhost:8080/"
        },
        "id": "CLTeFE0ZMJFg",
        "outputId": "d437ba74-cfd7-4fc1-c85c-0735258591d8"
      },
      "execution_count": 8,
      "outputs": [
        {
          "output_type": "execute_result",
          "data": {
            "text/plain": [
              "['a', 'b', 'c', 'd', 'e', 'f']"
            ]
          },
          "metadata": {},
          "execution_count": 8
        }
      ]
    },
    {
      "cell_type": "code",
      "source": [
        "x[1] = \"abc\""
      ],
      "metadata": {
        "id": "6KYEzfGOMKQZ"
      },
      "execution_count": 12,
      "outputs": []
    },
    {
      "cell_type": "code",
      "source": [
        "y"
      ],
      "metadata": {
        "colab": {
          "base_uri": "https://localhost:8080/"
        },
        "id": "iK6DiqacMNZ6",
        "outputId": "2ace0441-7c5f-4ce8-ecf0-71d6a356dea4"
      },
      "execution_count": 13,
      "outputs": [
        {
          "output_type": "execute_result",
          "data": {
            "text/plain": [
              "['a', 'b', 'c', 'd', 'e', 'f']"
            ]
          },
          "metadata": {},
          "execution_count": 13
        }
      ]
    },
    {
      "cell_type": "code",
      "source": [
        "z"
      ],
      "metadata": {
        "colab": {
          "base_uri": "https://localhost:8080/"
        },
        "id": "5fay-aeAMOWF",
        "outputId": "8f98baba-71cf-485e-b65b-e3e7d7c8564c"
      },
      "execution_count": 14,
      "outputs": [
        {
          "output_type": "execute_result",
          "data": {
            "text/plain": [
              "['a', 'abc', 'c', 'd', 'e', 'f']"
            ]
          },
          "metadata": {},
          "execution_count": 14
        }
      ]
    }
  ]
}
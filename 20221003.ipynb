{
  "nbformat": 4,
  "nbformat_minor": 0,
  "metadata": {
    "colab": {
      "provenance": [],
      "authorship_tag": "ABX9TyMLsPJ1k3ymB7o9Idvk2qSG",
      "include_colab_link": true
    },
    "kernelspec": {
      "name": "python3",
      "display_name": "Python 3"
    },
    "language_info": {
      "name": "python"
    }
  },
  "cells": [
    {
      "cell_type": "markdown",
      "metadata": {
        "id": "view-in-github",
        "colab_type": "text"
      },
      "source": [
        "<a href=\"https://colab.research.google.com/github/JUSTYNAYANG/summerpy/blob/main/20221003.ipynb\" target=\"_parent\"><img src=\"https://colab.research.google.com/assets/colab-badge.svg\" alt=\"Open In Colab\"/></a>"
      ]
    },
    {
      "cell_type": "markdown",
      "source": [
        "#sort & sorted\n",
        "\n",
        "sorting from small to large, large to small"
      ],
      "metadata": {
        "id": "lvxnpH_nG2R1"
      }
    },
    {
      "cell_type": "code",
      "execution_count": 7,
      "metadata": {
        "id": "J_e5zzBzmxS9"
      },
      "outputs": [],
      "source": [
        "# sort organizes from small to large"
      ]
    },
    {
      "cell_type": "code",
      "source": [
        "x = [5, 4, 1, 2, 3]"
      ],
      "metadata": {
        "id": "wpqp_w_RGN3_"
      },
      "execution_count": 2,
      "outputs": []
    },
    {
      "cell_type": "code",
      "source": [
        "x.sort()"
      ],
      "metadata": {
        "id": "9kwrqpqdGQzu"
      },
      "execution_count": 3,
      "outputs": []
    },
    {
      "cell_type": "code",
      "source": [
        "x"
      ],
      "metadata": {
        "colab": {
          "base_uri": "https://localhost:8080/"
        },
        "id": "TIBnZi5oGYyi",
        "outputId": "7611ad6a-719b-4044-8f58-fc275ca3ec33"
      },
      "execution_count": 4,
      "outputs": [
        {
          "output_type": "execute_result",
          "data": {
            "text/plain": [
              "[1, 2, 3, 4, 5]"
            ]
          },
          "metadata": {},
          "execution_count": 4
        }
      ]
    },
    {
      "cell_type": "code",
      "source": [
        "# to reverse the sorting (large to small)\n",
        "x.sort(reverse = True)"
      ],
      "metadata": {
        "id": "CAx9KWEHGcBj"
      },
      "execution_count": 8,
      "outputs": []
    },
    {
      "cell_type": "code",
      "source": [
        "x"
      ],
      "metadata": {
        "colab": {
          "base_uri": "https://localhost:8080/"
        },
        "id": "MfORkvruGjTU",
        "outputId": "3d0a304e-4026-42f6-a105-7977d0620ceb"
      },
      "execution_count": 9,
      "outputs": [
        {
          "output_type": "execute_result",
          "data": {
            "text/plain": [
              "[5, 4, 3, 2, 1]"
            ]
          },
          "metadata": {},
          "execution_count": 9
        }
      ]
    },
    {
      "cell_type": "code",
      "source": [
        "#reverses the item\n",
        "x.reverse()"
      ],
      "metadata": {
        "id": "NPNNJJ33Gr1r"
      },
      "execution_count": 10,
      "outputs": []
    },
    {
      "cell_type": "code",
      "source": [
        "x"
      ],
      "metadata": {
        "colab": {
          "base_uri": "https://localhost:8080/"
        },
        "id": "Ep0yIpzaGyh_",
        "outputId": "cd168131-65c6-45a0-f02f-c43b06068bd3"
      },
      "execution_count": 11,
      "outputs": [
        {
          "output_type": "execute_result",
          "data": {
            "text/plain": [
              "[1, 2, 3, 4, 5]"
            ]
          },
          "metadata": {},
          "execution_count": 11
        }
      ]
    },
    {
      "cell_type": "code",
      "source": [
        "y = [5, 4, 1, 2, 3]"
      ],
      "metadata": {
        "id": "HMRQRRhhHAtC"
      },
      "execution_count": 12,
      "outputs": []
    },
    {
      "cell_type": "code",
      "source": [
        "# sorts y but does not permanently change (different from sort)\n",
        "sorted(y)"
      ],
      "metadata": {
        "colab": {
          "base_uri": "https://localhost:8080/"
        },
        "id": "utQMcHEMHCYV",
        "outputId": "e9455616-4237-4251-a72f-36780c9f871f"
      },
      "execution_count": 16,
      "outputs": [
        {
          "output_type": "execute_result",
          "data": {
            "text/plain": [
              "[1, 2, 3, 4, 5]"
            ]
          },
          "metadata": {},
          "execution_count": 16
        }
      ]
    },
    {
      "cell_type": "code",
      "source": [
        "y"
      ],
      "metadata": {
        "colab": {
          "base_uri": "https://localhost:8080/"
        },
        "id": "8GoJERiJHJFc",
        "outputId": "ab604d97-b130-4e71-e335-99cf7ef9208d"
      },
      "execution_count": 17,
      "outputs": [
        {
          "output_type": "execute_result",
          "data": {
            "text/plain": [
              "[5, 4, 1, 2, 3]"
            ]
          },
          "metadata": {},
          "execution_count": 17
        }
      ]
    },
    {
      "cell_type": "code",
      "source": [
        "z = [(2, 'x'), (3, 'y'), (5, 'z'), (1, 'w'), (2, 'u')]"
      ],
      "metadata": {
        "id": "ZxOiDIpOHRIw"
      },
      "execution_count": 18,
      "outputs": []
    },
    {
      "cell_type": "code",
      "source": [
        "z"
      ],
      "metadata": {
        "colab": {
          "base_uri": "https://localhost:8080/"
        },
        "id": "OGdtBwThHzup",
        "outputId": "6fe3e5cd-6d11-453f-c153-5a4011694212"
      },
      "execution_count": 19,
      "outputs": [
        {
          "output_type": "execute_result",
          "data": {
            "text/plain": [
              "[(2, 'x'), (3, 'y'), (5, 'z'), (1, 'w'), (2, 'u')]"
            ]
          },
          "metadata": {},
          "execution_count": 19
        }
      ]
    },
    {
      "cell_type": "code",
      "source": [
        "z.sort()"
      ],
      "metadata": {
        "id": "0u_OB9vZH14h"
      },
      "execution_count": 21,
      "outputs": []
    },
    {
      "cell_type": "code",
      "source": [
        "z"
      ],
      "metadata": {
        "colab": {
          "base_uri": "https://localhost:8080/"
        },
        "id": "QD278Ow4H4H5",
        "outputId": "6ac67cb4-c113-43ba-f505-8e2d24ebef3e"
      },
      "execution_count": 22,
      "outputs": [
        {
          "output_type": "execute_result",
          "data": {
            "text/plain": [
              "[(1, 'w'), (2, 'u'), (2, 'x'), (3, 'y'), (5, 'z')]"
            ]
          },
          "metadata": {},
          "execution_count": 22
        }
      ]
    },
    {
      "cell_type": "code",
      "source": [
        "w = [(2, 'x'), (3, 'y'), (5, 'z'), (1, 'w'), (2, 'u')]"
      ],
      "metadata": {
        "id": "OBpcWd-nH5zd"
      },
      "execution_count": 24,
      "outputs": []
    },
    {
      "cell_type": "code",
      "source": [
        "w"
      ],
      "metadata": {
        "colab": {
          "base_uri": "https://localhost:8080/"
        },
        "id": "e2vTQg1_ISI9",
        "outputId": "b3099236-d6b5-46c5-c64c-d9cd69bd1bb5"
      },
      "execution_count": 25,
      "outputs": [
        {
          "output_type": "execute_result",
          "data": {
            "text/plain": [
              "[(2, 'x'), (3, 'y'), (5, 'z'), (1, 'w'), (2, 'u')]"
            ]
          },
          "metadata": {},
          "execution_count": 25
        }
      ]
    }
  ]
}
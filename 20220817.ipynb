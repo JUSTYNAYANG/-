{
  "nbformat": 4,
  "nbformat_minor": 0,
  "metadata": {
    "colab": {
      "name": "20220817.ipynb",
      "provenance": [],
      "authorship_tag": "ABX9TyMOHUgSXTYAVI1JfoeO8425",
      "include_colab_link": true
    },
    "kernelspec": {
      "name": "python3",
      "display_name": "Python 3"
    },
    "language_info": {
      "name": "python"
    }
  },
  "cells": [
    {
      "cell_type": "markdown",
      "metadata": {
        "id": "view-in-github",
        "colab_type": "text"
      },
      "source": [
        "<a href=\"https://colab.research.google.com/github/JUSTYNAYANG/summerpy/blob/main/20220817.ipynb\" target=\"_parent\"><img src=\"https://colab.research.google.com/assets/colab-badge.svg\" alt=\"Open In Colab\"/></a>"
      ]
    },
    {
      "cell_type": "code",
      "execution_count": 2,
      "metadata": {
        "id": "KYxWIhX6Ged_"
      },
      "outputs": [],
      "source": [
        "# still using microbit this class"
      ]
    },
    {
      "cell_type": "code",
      "source": [
        "# from microbit import *"
      ],
      "metadata": {
        "id": "h8lM6MeMG5sp"
      },
      "execution_count": 3,
      "outputs": []
    },
    {
      "cell_type": "code",
      "source": [
        "# # making the lights appear one by one\n",
        "# for y in range(5):\n",
        "#     for x in range(5):\n",
        "#         display.set_pixel(x,y,9)\n",
        "#         sleep(200)"
      ],
      "metadata": {
        "id": "mwUt_aFCLow3"
      },
      "execution_count": 4,
      "outputs": []
    },
    {
      "cell_type": "code",
      "source": [
        "# # making a forever loop of lights appearing and disappearing\n",
        "# while True:\n",
        "#     for y in range(5):\n",
        "#         for x in range(5):\n",
        "#             display.set_pixel(x,y,9)\n",
        "#             sleep(200)\n",
        "#     for y in range(5):\n",
        "#         for x in range(5):\n",
        "#             display.set_pixel(x,y,0)\n",
        "#             sleep(200)"
      ],
      "metadata": {
        "id": "eqqi52CbL-SB"
      },
      "execution_count": 7,
      "outputs": []
    },
    {
      "cell_type": "code",
      "source": [
        "# # having a point move (no buttons - it's a loop)\n",
        "# while True:\n",
        "#     for y in range(5):\n",
        "#         for x in range(5):\n",
        "#             display.set_pixel(x,y,9)\n",
        "#             prev_x = x\n",
        "#             prev_y = y\n",
        "#             sleep(200)\n",
        "#             display.set_pixel(prev_x, prev_y, 0)"
      ],
      "metadata": {
        "id": "M1ajTchGW-C4"
      },
      "execution_count": 8,
      "outputs": []
    },
    {
      "cell_type": "code",
      "source": [
        "# # having a point move only left and right (no buttons - it's a loop)\n",
        "# x = 0\n",
        "# y = 0\n",
        "# step = 1\n",
        "\n",
        "# while True:\n",
        "#     display.clear()\n",
        "#     display.set_pixel(x, y, 9)\n",
        "#     x = x + step\n",
        "#     if x == 4:\n",
        "#         step = -1\n",
        "#     elif x == 0:\n",
        "#         step = 1\n",
        "#     sleep(1000)"
      ],
      "metadata": {
        "id": "Hg31f19ybAdf"
      },
      "execution_count": 9,
      "outputs": []
    },
    {
      "cell_type": "code",
      "source": [
        "# # having a row move only up and down (no buttons - it's a loop)\n",
        "# x = 0\n",
        "# y = 0\n",
        "# step = 1\n",
        "\n",
        "# while True:\n",
        "#     display.clear()\n",
        "#     for i in range(5):\n",
        "#         display.set_pixel(x + i, y, 9)\n",
        "#     y = y + step\n",
        "#     if y == 4:\n",
        "#         step = -1\n",
        "#     elif y == 0:\n",
        "#         step = 1\n",
        "#     sleep(1000)"
      ],
      "metadata": {
        "id": "Hsc_Zj3KcZ4f"
      },
      "execution_count": 10,
      "outputs": []
    },
    {
      "cell_type": "code",
      "source": [
        "# # using buttons to move left to right\n",
        "# x = 2\n",
        "# y = 0\n",
        "\n",
        "# while True:\n",
        "#     if button_a.was_pressed():\n",
        "#         display.clear()\n",
        "#         x = x - 1\n",
        "#     if button_b.was_pressed():\n",
        "#         display.clear()\n",
        "#         x = x + 1\n",
        "#     if x > 4:\n",
        "#         x = 4\n",
        "#     if x < 0:\n",
        "#         x = 0\n",
        "#     display.set_pixel(x, y, 9)"
      ],
      "metadata": {
        "id": "f3jj1q7zmuMY"
      },
      "execution_count": 11,
      "outputs": []
    },
    {
      "cell_type": "code",
      "source": [
        "# # using buttons to move left, right, up, down\n",
        "# led = 0\n",
        "\n",
        "# while True:\n",
        "#     if button_a.was_pressed():\n",
        "#         display.clear()\n",
        "#         led -= 1\n",
        "#     if button_b.was_pressed():\n",
        "#         led += 1\n",
        "#         display.clear()\n",
        "#     if led > 24:\n",
        "#         led = led % 25\n",
        "#     if led < 0:\n",
        "#         led = 24\n",
        "#     x = led % 5\n",
        "#     y = led // 5\n",
        "#     display.set_pixel(x, y, 9)"
      ],
      "metadata": {
        "id": "kuUjr1eTqxob"
      },
      "execution_count": 12,
      "outputs": []
    },
    {
      "cell_type": "code",
      "source": [
        "# # create cross (light as center) when both buttons are pressed\n",
        "# led = 0\n",
        "\n",
        "# while True:\n",
        "#     if button_a.was_pressed():\n",
        "#         display.clear()\n",
        "#         led -= 1\n",
        "#     if button_b.was_pressed():\n",
        "#         led += 1\n",
        "#         display.clear()\n",
        "#     if led > 24:\n",
        "#         led = led % 25\n",
        "#     if led < 0:\n",
        "#         led = 24\n",
        "#     x = led % 5\n",
        "#     y = led // 5\n",
        "#     display.set_pixel(x, y, 9)\n",
        "#     if button_a.is_pressed() and button_b.is_pressed():\n",
        "#         for i in range(5):\n",
        "#             display.set_pixel(x, i, 9)\n",
        "#             display.set_pixel(i, y, 9)"
      ],
      "metadata": {
        "id": "_lStM8omsClV"
      },
      "execution_count": 14,
      "outputs": []
    }
  ]
}
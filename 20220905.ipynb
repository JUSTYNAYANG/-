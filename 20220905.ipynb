{
  "nbformat": 4,
  "nbformat_minor": 0,
  "metadata": {
    "colab": {
      "provenance": [],
      "authorship_tag": "ABX9TyNx9Ly1JvOOPbD70C28QpJk",
      "include_colab_link": true
    },
    "kernelspec": {
      "name": "python3",
      "display_name": "Python 3"
    },
    "language_info": {
      "name": "python"
    }
  },
  "cells": [
    {
      "cell_type": "markdown",
      "metadata": {
        "id": "view-in-github",
        "colab_type": "text"
      },
      "source": [
        "<a href=\"https://colab.research.google.com/github/JUSTYNAYANG/summerpy/blob/main/20220905.ipynb\" target=\"_parent\"><img src=\"https://colab.research.google.com/assets/colab-badge.svg\" alt=\"Open In Colab\"/></a>"
      ]
    },
    {
      "cell_type": "code",
      "execution_count": null,
      "metadata": {
        "id": "0KA4HyFwz1ZM"
      },
      "outputs": [],
      "source": [
        "# more microbit today"
      ]
    },
    {
      "cell_type": "code",
      "source": [
        "# creating functions for tuning off and on lights\n",
        "\n",
        "from microbit import *\n",
        "\n",
        "\n",
        "led = 10\n",
        "\n",
        "def led_on(led):\n",
        "    x = led % 5\n",
        "    y = led // 5\n",
        "    display.set_pixel(x ,y ,9)\n",
        "\n",
        "\n",
        "def led_off(led):\n",
        "    x = led % 5\n",
        "    y = led // 5\n",
        "    display.set_pixel(x ,y ,0)\n",
        "\n",
        "while True:\n",
        "    led_on(12)\n",
        "    sleep(1000)\n",
        "    led_off(12)\n",
        "    sleep(1000)"
      ],
      "metadata": {
        "id": "I-xLeUVb0APW"
      },
      "execution_count": null,
      "outputs": []
    },
    {
      "cell_type": "code",
      "source": [
        "# moving light\n",
        "from microbit import *\n",
        "\n",
        "\n",
        "led = 10\n",
        "\n",
        "def led_on(led):\n",
        "    x = led % 5\n",
        "    y = led // 5\n",
        "    display.set_pixel(x ,y ,9)\n",
        "\n",
        "\n",
        "def led_off(led):\n",
        "    x = led % 5\n",
        "    y = led // 5\n",
        "    display.set_pixel(x ,y ,0)\n",
        "\n",
        "while True:\n",
        "    if button_a.was_pressed():\n",
        "        led_off(led)\n",
        "        led -= 1\n",
        "        if led < 0:\n",
        "            led += 25\n",
        "        led_on(led)   \n",
        "    if button_b.was_pressed():\n",
        "        led_off(led)\n",
        "        led += 1\n",
        "        if led > 24:\n",
        "            led -= 25\n",
        "        led_on(led)"
      ],
      "metadata": {
        "id": "j7fS-Xxa0RdL"
      },
      "execution_count": null,
      "outputs": []
    },
    {
      "cell_type": "code",
      "source": [
        "print(26//5%5)\n",
        "print(28%5)"
      ],
      "metadata": {
        "colab": {
          "base_uri": "https://localhost:8080/"
        },
        "id": "kN2jLCFI1edE",
        "outputId": "ca78fa4b-44d7-47bd-bc33-6996f43f90f3"
      },
      "execution_count": null,
      "outputs": [
        {
          "output_type": "stream",
          "name": "stdout",
          "text": [
            "0\n",
            "3\n"
          ]
        }
      ]
    },
    {
      "cell_type": "code",
      "source": [
        "# light memory game\n",
        "from microbit import *\n",
        "import random\n",
        "import music\n",
        "\n",
        "led = 12\n",
        "\n",
        "def led_on(led):\n",
        "    x = led % 5\n",
        "    y = led // 5\n",
        "    display.set_pixel(x ,y ,9)\n",
        "\n",
        "\n",
        "def led_off(led):\n",
        "    x = led % 5\n",
        "    y = led // 5\n",
        "    display.set_pixel(x ,y ,0)\n",
        "\n",
        "answer = None\n",
        "newgame = True\n",
        "\n",
        "\n",
        "while True:\n",
        "    if newgame:\n",
        "        music.play(music.JUMP_UP)\n",
        "        answer = random.randint(0,24)\n",
        "        led_on(answer)\n",
        "        sleep(2000)\n",
        "        led_off(answer)\n",
        "        led_on(led)\n",
        "        newgame = False\n",
        "    if pin_logo.is_touched():\n",
        "        if led == answer:\n",
        "            music.play(music.POWER_UP)\n",
        "            sleep(1000)\n",
        "            led_off(led)\n",
        "            newgame = True\n",
        "        else:\n",
        "            music.play(music.POWER_DOWN)\n",
        "            led_off(led)\n",
        "            sleep(500)\n",
        "            led_on(answer)\n",
        "            sleep(2000)\n",
        "            led_off(answer)\n",
        "            sleep(300)\n",
        "            led_on(led)\n",
        "    if button_a.was_pressed():\n",
        "        led_off(led)\n",
        "        led -= 1\n",
        "        if led < 0:\n",
        "            led += 25\n",
        "        led_on(led)   \n",
        "    if button_b.was_pressed():\n",
        "        led_off(led)\n",
        "        led += 1\n",
        "        if led > 24:\n",
        "            led -= 25\n",
        "        led_on(led)"
      ],
      "metadata": {
        "id": "fv2OfKdy4gUu"
      },
      "execution_count": null,
      "outputs": []
    },
    {
      "cell_type": "code",
      "source": [
        "#fixing the repeated answer and too many answer problem"
      ],
      "metadata": {
        "id": "PpWx9WVQ26UP"
      },
      "execution_count": 23,
      "outputs": []
    },
    {
      "cell_type": "code",
      "source": [
        "x = [10, 15, 20]"
      ],
      "metadata": {
        "id": "h90AMVpJ0Vpd"
      },
      "execution_count": 1,
      "outputs": []
    },
    {
      "cell_type": "code",
      "source": [
        "led = 10"
      ],
      "metadata": {
        "id": "ngvK3THF0YA6"
      },
      "execution_count": 2,
      "outputs": []
    },
    {
      "cell_type": "code",
      "source": [
        "led in x"
      ],
      "metadata": {
        "colab": {
          "base_uri": "https://localhost:8080/"
        },
        "id": "SZmK3jog0Z48",
        "outputId": "579dcec6-ae53-4781-a856-ca6665563670"
      },
      "execution_count": 3,
      "outputs": [
        {
          "output_type": "execute_result",
          "data": {
            "text/plain": [
              "True"
            ]
          },
          "metadata": {},
          "execution_count": 3
        }
      ]
    },
    {
      "cell_type": "code",
      "source": [
        "x.remove(led)"
      ],
      "metadata": {
        "id": "AnoN4lxf0dWq"
      },
      "execution_count": 4,
      "outputs": []
    },
    {
      "cell_type": "code",
      "source": [
        "x"
      ],
      "metadata": {
        "colab": {
          "base_uri": "https://localhost:8080/"
        },
        "id": "DcC0QQPW0ybU",
        "outputId": "0edcafb9-4a7e-4139-f970-7f0790eded04"
      },
      "execution_count": 5,
      "outputs": [
        {
          "output_type": "execute_result",
          "data": {
            "text/plain": [
              "[15, 20]"
            ]
          },
          "metadata": {},
          "execution_count": 5
        }
      ]
    },
    {
      "cell_type": "code",
      "source": [
        "x = []"
      ],
      "metadata": {
        "id": "lh8NA4NC0-34"
      },
      "execution_count": 6,
      "outputs": []
    },
    {
      "cell_type": "code",
      "source": [
        "import random"
      ],
      "metadata": {
        "id": "gw67j8Yf1AC6"
      },
      "execution_count": 7,
      "outputs": []
    },
    {
      "cell_type": "code",
      "source": [
        "for i in range(3):\n",
        "  x.append(random.randint(0, 24))"
      ],
      "metadata": {
        "id": "gGvyFna31CbD"
      },
      "execution_count": 8,
      "outputs": []
    },
    {
      "cell_type": "code",
      "source": [
        "x"
      ],
      "metadata": {
        "colab": {
          "base_uri": "https://localhost:8080/"
        },
        "id": "qnUoH9Po1aeu",
        "outputId": "601534d6-b99e-41a7-eb94-a84d7746896f"
      },
      "execution_count": 9,
      "outputs": [
        {
          "output_type": "execute_result",
          "data": {
            "text/plain": [
              "[1, 8, 24]"
            ]
          },
          "metadata": {},
          "execution_count": 9
        }
      ]
    },
    {
      "cell_type": "code",
      "source": [
        "x = []\n",
        "for i in range(3):\n",
        "  x.append(random.randint(0, 24))\n",
        "x"
      ],
      "metadata": {
        "colab": {
          "base_uri": "https://localhost:8080/"
        },
        "id": "kYdaCzMQ1dIa",
        "outputId": "26039e0c-5989-4786-cb5a-8dc19cc2c734"
      },
      "execution_count": 18,
      "outputs": [
        {
          "output_type": "execute_result",
          "data": {
            "text/plain": [
              "[18, 3, 11]"
            ]
          },
          "metadata": {},
          "execution_count": 18
        }
      ]
    },
    {
      "cell_type": "code",
      "source": [
        "x.remove(6)"
      ],
      "metadata": {
        "id": "YJ_s_DgS1l_4"
      },
      "execution_count": 16,
      "outputs": []
    },
    {
      "cell_type": "code",
      "source": [
        "x"
      ],
      "metadata": {
        "colab": {
          "base_uri": "https://localhost:8080/"
        },
        "id": "go9sr8en1nzT",
        "outputId": "6be7c0de-0041-42c1-a7d5-b665f8325f2d"
      },
      "execution_count": 17,
      "outputs": [
        {
          "output_type": "execute_result",
          "data": {
            "text/plain": [
              "[4, 6]"
            ]
          },
          "metadata": {},
          "execution_count": 17
        }
      ]
    },
    {
      "cell_type": "code",
      "source": [
        "x = []\n",
        "for i in range(3):\n",
        "  while True:\n",
        "    y = random.randint(0, 24)\n",
        "    if y in x:\n",
        "      continue\n",
        "    x.append(y)\n",
        "    break\n",
        "x"
      ],
      "metadata": {
        "colab": {
          "base_uri": "https://localhost:8080/"
        },
        "id": "kqa4ZYJg2ExW",
        "outputId": "60349c4d-a470-48a0-f3c4-2b001128e130"
      },
      "execution_count": 22,
      "outputs": [
        {
          "output_type": "execute_result",
          "data": {
            "text/plain": [
              "[22, 14, 21]"
            ]
          },
          "metadata": {},
          "execution_count": 22
        }
      ]
    },
    {
      "cell_type": "code",
      "source": [
        "a = [10, 11, 12]"
      ],
      "metadata": {
        "id": "dtaqTmgW7G6c"
      },
      "execution_count": 34,
      "outputs": []
    },
    {
      "cell_type": "code",
      "source": [
        "a"
      ],
      "metadata": {
        "colab": {
          "base_uri": "https://localhost:8080/"
        },
        "id": "Ge7Lq01S7g51",
        "outputId": "31bb7eb9-4c37-4c8e-f520-cc2e353aef05"
      },
      "execution_count": 35,
      "outputs": [
        {
          "output_type": "execute_result",
          "data": {
            "text/plain": [
              "[10, 11, 12]"
            ]
          },
          "metadata": {},
          "execution_count": 35
        }
      ]
    },
    {
      "cell_type": "code",
      "source": [
        "a.clear()"
      ],
      "metadata": {
        "id": "Eqo-Fr-57Jwd"
      },
      "execution_count": 36,
      "outputs": []
    },
    {
      "cell_type": "code",
      "source": [
        "a"
      ],
      "metadata": {
        "colab": {
          "base_uri": "https://localhost:8080/"
        },
        "id": "xTLgzEU97ffx",
        "outputId": "0baf0fa3-56f6-4389-a998-b038e484d839"
      },
      "execution_count": 37,
      "outputs": [
        {
          "output_type": "execute_result",
          "data": {
            "text/plain": [
              "[]"
            ]
          },
          "metadata": {},
          "execution_count": 37
        }
      ]
    },
    {
      "cell_type": "code",
      "source": [
        "# light memory game improved\n",
        "# there are mutiple answers and you have to answer all of them\n",
        "# also prevents answers from building up over time\n",
        "\n",
        "from microbit import *\n",
        "import random\n",
        "import music\n",
        "\n",
        "led = 12\n",
        "\n",
        "def led_on(vari):\n",
        "    x = vari % 5\n",
        "    y = vari // 5\n",
        "    display.set_pixel(x ,y ,9)\n",
        "\n",
        "\n",
        "def led_off(vari):\n",
        "    x = vari % 5\n",
        "    y = vari // 5\n",
        "    display.set_pixel(x ,y ,0)\n",
        "\n",
        "def show_answer(answer):\n",
        "    for i in answer:\n",
        "        led_on(i)\n",
        "\n",
        "answer = []\n",
        "newgame = True\n",
        "n = 3\n",
        "led = 12\n",
        "\n",
        "\n",
        "while True:\n",
        "    if newgame:\n",
        "        display.clear()\n",
        "        music.play(music.JUMP_UP)\n",
        "        for i in range(n):\n",
        "          while True:\n",
        "            a = random.randint(0, 24)\n",
        "            if a in answer:\n",
        "              continue\n",
        "            answer.append(a)\n",
        "            break\n",
        "        show_answer(answer)\n",
        "        sleep(2000)\n",
        "        display.clear()\n",
        "        led_on(led)\n",
        "        newgame = False\n",
        "    if pin_logo.is_touched():\n",
        "        if led in answer:\n",
        "            music.play(music.POWER_UP)\n",
        "            answer.remove(led)\n",
        "            if not answer:\n",
        "                newgame = True\n",
        "                led = 12\n",
        "                sleep(1000)\n",
        "        else:\n",
        "            music.play(music.POWER_DOWN)\n",
        "            display.clear()\n",
        "            sleep(500)\n",
        "            show_answer(answer)\n",
        "            sleep(2000)\n",
        "            display.clear()\n",
        "            sleep(300)\n",
        "            led_on(led)\n",
        "    if button_a.was_pressed():\n",
        "        led_off(led)\n",
        "        led -= 1\n",
        "        if led < 0:\n",
        "            led += 25\n",
        "        led_on(led)   \n",
        "    if button_b.was_pressed():\n",
        "        led_off(led)\n",
        "        led += 1\n",
        "        if led > 24:\n",
        "            led -= 25\n",
        "        led_on(led)"
      ],
      "metadata": {
        "id": "fo4xRx6uAFPl"
      },
      "execution_count": null,
      "outputs": []
    }
  ]
}
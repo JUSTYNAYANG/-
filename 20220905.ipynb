{
  "nbformat": 4,
  "nbformat_minor": 0,
  "metadata": {
    "colab": {
      "provenance": [],
      "authorship_tag": "ABX9TyPnVkuXGvefCOOGDf04BE3A",
      "include_colab_link": true
    },
    "kernelspec": {
      "name": "python3",
      "display_name": "Python 3"
    },
    "language_info": {
      "name": "python"
    }
  },
  "cells": [
    {
      "cell_type": "markdown",
      "metadata": {
        "id": "view-in-github",
        "colab_type": "text"
      },
      "source": [
        "<a href=\"https://colab.research.google.com/github/JUSTYNAYANG/summerpy/blob/main/20220905.ipynb\" target=\"_parent\"><img src=\"https://colab.research.google.com/assets/colab-badge.svg\" alt=\"Open In Colab\"/></a>"
      ]
    },
    {
      "cell_type": "code",
      "execution_count": 2,
      "metadata": {
        "id": "0KA4HyFwz1ZM"
      },
      "outputs": [],
      "source": [
        "# more microbit today"
      ]
    },
    {
      "cell_type": "code",
      "source": [
        "from microbit import *\n",
        "\n",
        "\n",
        "led = 10\n",
        "\n",
        "def led_on(led):\n",
        "    x = led % 5\n",
        "    y = led // 5\n",
        "    display.set_pixel(x ,y ,9)\n",
        "\n",
        "\n",
        "def led_off(led):\n",
        "    x = led % 5\n",
        "    y = led // 5\n",
        "    display.set_pixel(x ,y ,0)\n",
        "\n",
        "while True:\n",
        "    led_on(12)\n",
        "    sleep(1000)\n",
        "    led_off(12)\n",
        "    sleep(1000)"
      ],
      "metadata": {
        "id": "I-xLeUVb0APW"
      },
      "execution_count": null,
      "outputs": []
    }
  ]
}
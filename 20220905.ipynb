{
  "nbformat": 4,
  "nbformat_minor": 0,
  "metadata": {
    "colab": {
      "provenance": [],
      "authorship_tag": "ABX9TyOwi2q8Whuernaf16hj7Rxu",
      "include_colab_link": true
    },
    "kernelspec": {
      "name": "python3",
      "display_name": "Python 3"
    },
    "language_info": {
      "name": "python"
    }
  },
  "cells": [
    {
      "cell_type": "markdown",
      "metadata": {
        "id": "view-in-github",
        "colab_type": "text"
      },
      "source": [
        "<a href=\"https://colab.research.google.com/github/JUSTYNAYANG/summerpy/blob/main/20220905.ipynb\" target=\"_parent\"><img src=\"https://colab.research.google.com/assets/colab-badge.svg\" alt=\"Open In Colab\"/></a>"
      ]
    },
    {
      "cell_type": "code",
      "execution_count": 2,
      "metadata": {
        "id": "0KA4HyFwz1ZM"
      },
      "outputs": [],
      "source": [
        "# more microbit today"
      ]
    },
    {
      "cell_type": "code",
      "source": [
        "# creating functions for tuning off and on lights\n",
        "\n",
        "from microbit import *\n",
        "\n",
        "\n",
        "led = 10\n",
        "\n",
        "def led_on(led):\n",
        "    x = led % 5\n",
        "    y = led // 5\n",
        "    display.set_pixel(x ,y ,9)\n",
        "\n",
        "\n",
        "def led_off(led):\n",
        "    x = led % 5\n",
        "    y = led // 5\n",
        "    display.set_pixel(x ,y ,0)\n",
        "\n",
        "while True:\n",
        "    led_on(12)\n",
        "    sleep(1000)\n",
        "    led_off(12)\n",
        "    sleep(1000)"
      ],
      "metadata": {
        "id": "I-xLeUVb0APW"
      },
      "execution_count": null,
      "outputs": []
    },
    {
      "cell_type": "code",
      "source": [
        "# moving light\n",
        "from microbit import *\n",
        "\n",
        "\n",
        "led = 10\n",
        "\n",
        "def led_on(led):\n",
        "    x = led % 5\n",
        "    y = led // 5\n",
        "    display.set_pixel(x ,y ,9)\n",
        "\n",
        "\n",
        "def led_off(led):\n",
        "    x = led % 5\n",
        "    y = led // 5\n",
        "    display.set_pixel(x ,y ,0)\n",
        "\n",
        "while True:\n",
        "    if button_a.was_pressed():\n",
        "        led_off(led)\n",
        "        led -= 1\n",
        "        if led < 0:\n",
        "            led += 25\n",
        "        led_on(led)   \n",
        "    if button_b.was_pressed():\n",
        "        led_off(led)\n",
        "        led += 1\n",
        "        if led > 24:\n",
        "            led -= 25\n",
        "        led_on(led)"
      ],
      "metadata": {
        "id": "j7fS-Xxa0RdL"
      },
      "execution_count": null,
      "outputs": []
    },
    {
      "cell_type": "code",
      "source": [
        "print(26//5%5)\n",
        "print(28%5)"
      ],
      "metadata": {
        "colab": {
          "base_uri": "https://localhost:8080/"
        },
        "id": "kN2jLCFI1edE",
        "outputId": "ca78fa4b-44d7-47bd-bc33-6996f43f90f3"
      },
      "execution_count": 12,
      "outputs": [
        {
          "output_type": "stream",
          "name": "stdout",
          "text": [
            "0\n",
            "3\n"
          ]
        }
      ]
    },
    {
      "cell_type": "code",
      "source": [
        "# light memory game\n",
        "from microbit import *\n",
        "import random\n",
        "import music\n",
        "\n",
        "led = 12\n",
        "\n",
        "def led_on(led):\n",
        "    x = led % 5\n",
        "    y = led // 5\n",
        "    display.set_pixel(x ,y ,9)\n",
        "\n",
        "\n",
        "def led_off(led):\n",
        "    x = led % 5\n",
        "    y = led // 5\n",
        "    display.set_pixel(x ,y ,0)\n",
        "\n",
        "answer = None\n",
        "newgame = True\n",
        "\n",
        "\n",
        "while True:\n",
        "    if newgame:\n",
        "        music.play(music.JUMP_UP)\n",
        "        answer = random.randint(0,24)\n",
        "        led_on(answer)\n",
        "        sleep(2000)\n",
        "        led_off(answer)\n",
        "        led_on(led)\n",
        "        newgame = False\n",
        "    if pin_logo.is_touched():\n",
        "        if led == answer:\n",
        "            music.play(music.POWER_UP)\n",
        "            sleep(1000)\n",
        "            led_off(led)\n",
        "            newgame = True\n",
        "        else:\n",
        "            music.play(music.POWER_DOWN)\n",
        "            led_off(led)\n",
        "            sleep(500)\n",
        "            led_on(answer)\n",
        "            sleep(2000)\n",
        "            led_off(answer)\n",
        "            sleep(300)\n",
        "            led_on(led)\n",
        "    if button_a.was_pressed():\n",
        "        led_off(led)\n",
        "        led -= 1\n",
        "        if led < 0:\n",
        "            led += 25\n",
        "        led_on(led)   \n",
        "    if button_b.was_pressed():\n",
        "        led_off(led)\n",
        "        led += 1\n",
        "        if led > 24:\n",
        "            led -= 25\n",
        "        led_on(led)"
      ],
      "metadata": {
        "id": "fv2OfKdy4gUu"
      },
      "execution_count": null,
      "outputs": []
    }
  ]
}
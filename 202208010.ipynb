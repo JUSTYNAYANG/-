{
  "nbformat": 4,
  "nbformat_minor": 0,
  "metadata": {
    "colab": {
      "name": "202208010.ipynb",
      "provenance": [],
      "authorship_tag": "ABX9TyOomlyZgXVBvhNgh4z1DpKJ",
      "include_colab_link": true
    },
    "kernelspec": {
      "name": "python3",
      "display_name": "Python 3"
    },
    "language_info": {
      "name": "python"
    }
  },
  "cells": [
    {
      "cell_type": "markdown",
      "metadata": {
        "id": "view-in-github",
        "colab_type": "text"
      },
      "source": [
        "<a href=\"https://colab.research.google.com/github/JUSTYNAYANG/summerpy/blob/main/202208010.ipynb\" target=\"_parent\"><img src=\"https://colab.research.google.com/assets/colab-badge.svg\" alt=\"Open In Colab\"/></a>"
      ]
    },
    {
      "cell_type": "markdown",
      "source": [
        "# Microbit Usuage\n",
        "\n",
        "(we used it today in class, so this is just for testing)\n",
        "\n",
        "(actual file will also be in github)"
      ],
      "metadata": {
        "id": "BDFB7oKT9NuA"
      }
    },
    {
      "cell_type": "markdown",
      "source": [
        "microbut is 5*5 0-4 down and right"
      ],
      "metadata": {
        "id": "jorGUTt69cNY"
      }
    },
    {
      "cell_type": "code",
      "execution_count": null,
      "metadata": {
        "id": "_TJuBOzIpttU"
      },
      "outputs": [],
      "source": [
        "x = [\"1111\", \"2222\", \"33333\"]"
      ]
    },
    {
      "cell_type": "code",
      "source": [
        "\"\".join(x)"
      ],
      "metadata": {
        "colab": {
          "base_uri": "https://localhost:8080/",
          "height": 35
        },
        "id": "-HgClvzDqKV_",
        "outputId": "6ca123af-6ed4-4081-e48e-4b5ad4eaf484"
      },
      "execution_count": null,
      "outputs": [
        {
          "output_type": "execute_result",
          "data": {
            "text/plain": [
              "'1111222233333'"
            ],
            "application/vnd.google.colaboratory.intrinsic+json": {
              "type": "string"
            }
          },
          "metadata": {},
          "execution_count": 5
        }
      ]
    },
    {
      "cell_type": "code",
      "source": [
        "\"\\n\".join(x)"
      ],
      "metadata": {
        "colab": {
          "base_uri": "https://localhost:8080/",
          "height": 35
        },
        "id": "PHAkKEgAqYX2",
        "outputId": "7f399293-aff1-466a-a38e-f1c27f682fef"
      },
      "execution_count": null,
      "outputs": [
        {
          "output_type": "execute_result",
          "data": {
            "text/plain": [
              "'1111\\n2222\\n33333'"
            ],
            "application/vnd.google.colaboratory.intrinsic+json": {
              "type": "string"
            }
          },
          "metadata": {},
          "execution_count": 6
        }
      ]
    },
    {
      "cell_type": "code",
      "source": [
        "import random"
      ],
      "metadata": {
        "id": "u648u5dW72qb"
      },
      "execution_count": null,
      "outputs": []
    },
    {
      "cell_type": "code",
      "source": [
        "c = \"\"\n",
        "\n",
        "for i in range(5):\n",
        "  c = c + random.choice(['0', '9'])\n",
        "  \n",
        "c"
      ],
      "metadata": {
        "colab": {
          "base_uri": "https://localhost:8080/",
          "height": 35
        },
        "id": "IweUzlVT767U",
        "outputId": "96c7a452-f0ab-44f0-9468-31ce3d647109"
      },
      "execution_count": null,
      "outputs": [
        {
          "output_type": "execute_result",
          "data": {
            "text/plain": [
              "'00000'"
            ],
            "application/vnd.google.colaboratory.intrinsic+json": {
              "type": "string"
            }
          },
          "metadata": {},
          "execution_count": 25
        }
      ]
    },
    {
      "cell_type": "code",
      "source": [
        "import time\n",
        "\n",
        "x = [\"00000\", \"99999\", \"00000\", \"99999\", \"00000\"]\n",
        "\n",
        "for i in range(5):\n",
        "  row = x.pop()\n",
        "  if row == \"00000\":\n",
        "    x.insert(0, \"99999\")\n",
        "  else:\n",
        "    x.insert(0, \"00000\")\n",
        "  print(\"\\n\".join(x))\n",
        "  print(\"=========\")\n",
        "  time.sleep(1)"
      ],
      "metadata": {
        "colab": {
          "base_uri": "https://localhost:8080/"
        },
        "id": "xoEU3v-j8HBn",
        "outputId": "b2619771-97cc-45cd-9bcb-88dde23d77a3"
      },
      "execution_count": null,
      "outputs": [
        {
          "output_type": "stream",
          "name": "stdout",
          "text": [
            "99999\n",
            "00000\n",
            "99999\n",
            "00000\n",
            "99999\n",
            "=========\n",
            "00000\n",
            "99999\n",
            "00000\n",
            "99999\n",
            "00000\n",
            "=========\n",
            "99999\n",
            "00000\n",
            "99999\n",
            "00000\n",
            "99999\n",
            "=========\n",
            "00000\n",
            "99999\n",
            "00000\n",
            "99999\n",
            "00000\n",
            "=========\n",
            "99999\n",
            "00000\n",
            "99999\n",
            "00000\n",
            "99999\n",
            "=========\n"
          ]
        }
      ]
    },
    {
      "cell_type": "code",
      "source": [
        ""
      ],
      "metadata": {
        "id": "MF_4ows48pkE"
      },
      "execution_count": null,
      "outputs": []
    }
  ]
}
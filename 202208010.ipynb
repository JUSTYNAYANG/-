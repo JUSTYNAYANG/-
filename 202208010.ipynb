{
  "nbformat": 4,
  "nbformat_minor": 0,
  "metadata": {
    "colab": {
      "name": "202208010.ipynb",
      "provenance": [],
      "authorship_tag": "ABX9TyOsumyPFq2AzAU+QKohCUZH",
      "include_colab_link": true
    },
    "kernelspec": {
      "name": "python3",
      "display_name": "Python 3"
    },
    "language_info": {
      "name": "python"
    }
  },
  "cells": [
    {
      "cell_type": "markdown",
      "metadata": {
        "id": "view-in-github",
        "colab_type": "text"
      },
      "source": [
        "<a href=\"https://colab.research.google.com/github/JUSTYNAYANG/summerpy/blob/main/202208010.ipynb\" target=\"_parent\"><img src=\"https://colab.research.google.com/assets/colab-badge.svg\" alt=\"Open In Colab\"/></a>"
      ]
    },
    {
      "cell_type": "markdown",
      "source": [
        "# Microbit Usuage\n",
        "\n",
        "(we used it today in class, so this is just for testing)\n",
        "\n",
        "(actual file will also be in github but it is in hex)"
      ],
      "metadata": {
        "id": "BDFB7oKT9NuA"
      }
    },
    {
      "cell_type": "markdown",
      "source": [
        "microbut is 5*5 0-4 down and right"
      ],
      "metadata": {
        "id": "jorGUTt69cNY"
      }
    },
    {
      "cell_type": "code",
      "execution_count": null,
      "metadata": {
        "id": "_TJuBOzIpttU"
      },
      "outputs": [],
      "source": [
        "x = [\"1111\", \"2222\", \"33333\"]"
      ]
    },
    {
      "cell_type": "code",
      "source": [
        "\"\".join(x)"
      ],
      "metadata": {
        "colab": {
          "base_uri": "https://localhost:8080/",
          "height": 35
        },
        "id": "-HgClvzDqKV_",
        "outputId": "6ca123af-6ed4-4081-e48e-4b5ad4eaf484"
      },
      "execution_count": null,
      "outputs": [
        {
          "output_type": "execute_result",
          "data": {
            "text/plain": [
              "'1111222233333'"
            ],
            "application/vnd.google.colaboratory.intrinsic+json": {
              "type": "string"
            }
          },
          "metadata": {},
          "execution_count": 5
        }
      ]
    },
    {
      "cell_type": "code",
      "source": [
        "\"\\n\".join(x)"
      ],
      "metadata": {
        "colab": {
          "base_uri": "https://localhost:8080/",
          "height": 35
        },
        "id": "PHAkKEgAqYX2",
        "outputId": "7f399293-aff1-466a-a38e-f1c27f682fef"
      },
      "execution_count": null,
      "outputs": [
        {
          "output_type": "execute_result",
          "data": {
            "text/plain": [
              "'1111\\n2222\\n33333'"
            ],
            "application/vnd.google.colaboratory.intrinsic+json": {
              "type": "string"
            }
          },
          "metadata": {},
          "execution_count": 6
        }
      ]
    },
    {
      "cell_type": "code",
      "source": [
        "import random"
      ],
      "metadata": {
        "id": "u648u5dW72qb"
      },
      "execution_count": null,
      "outputs": []
    },
    {
      "cell_type": "code",
      "source": [
        "c = \"\"\n",
        "\n",
        "for i in range(5):\n",
        "  c = c + random.choice(['0', '9'])\n",
        "  \n",
        "c"
      ],
      "metadata": {
        "colab": {
          "base_uri": "https://localhost:8080/",
          "height": 35
        },
        "id": "IweUzlVT767U",
        "outputId": "96c7a452-f0ab-44f0-9468-31ce3d647109"
      },
      "execution_count": null,
      "outputs": [
        {
          "output_type": "execute_result",
          "data": {
            "text/plain": [
              "'00000'"
            ],
            "application/vnd.google.colaboratory.intrinsic+json": {
              "type": "string"
            }
          },
          "metadata": {},
          "execution_count": 25
        }
      ]
    },
    {
      "cell_type": "code",
      "source": [
        "import time\n",
        "\n",
        "x = [\"00000\", \"99999\", \"00000\", \"99999\", \"00000\"]\n",
        "\n",
        "for i in range(5):\n",
        "  row = x.pop()\n",
        "  if row == \"00000\":\n",
        "    x.insert(0, \"99999\")\n",
        "  else:\n",
        "    x.insert(0, \"00000\")\n",
        "  print(\"\\n\".join(x))\n",
        "  print(\"=========\")\n",
        "  time.sleep(1)"
      ],
      "metadata": {
        "colab": {
          "base_uri": "https://localhost:8080/"
        },
        "id": "xoEU3v-j8HBn",
        "outputId": "b2619771-97cc-45cd-9bcb-88dde23d77a3"
      },
      "execution_count": null,
      "outputs": [
        {
          "output_type": "stream",
          "name": "stdout",
          "text": [
            "99999\n",
            "00000\n",
            "99999\n",
            "00000\n",
            "99999\n",
            "=========\n",
            "00000\n",
            "99999\n",
            "00000\n",
            "99999\n",
            "00000\n",
            "=========\n",
            "99999\n",
            "00000\n",
            "99999\n",
            "00000\n",
            "99999\n",
            "=========\n",
            "00000\n",
            "99999\n",
            "00000\n",
            "99999\n",
            "00000\n",
            "=========\n",
            "99999\n",
            "00000\n",
            "99999\n",
            "00000\n",
            "99999\n",
            "=========\n"
          ]
        }
      ]
    },
    {
      "cell_type": "markdown",
      "source": [
        "# Microbit Code\n",
        "\n",
        " (we cannot see it in the file so this is a copy)"
      ],
      "metadata": {
        "id": "mkldyD0q-a33"
      }
    },
    {
      "cell_type": "code",
      "source": [
        "# from microbit import *\n",
        "# import random"
      ],
      "metadata": {
        "id": "MF_4ows48pkE"
      },
      "execution_count": 2,
      "outputs": []
    },
    {
      "cell_type": "code",
      "source": [
        "#display different colors"
      ],
      "metadata": {
        "id": "v_J5dtPc-uSa"
      },
      "execution_count": 3,
      "outputs": []
    },
    {
      "cell_type": "code",
      "source": [
        "# x = [\"11111\", \"22222\", \"33333\", \"44444\", \"55555\"]\n",
        "# display.show(Image(\"\\n\".join(x)))"
      ],
      "metadata": {
        "id": "z2DzJ4gl-q1D"
      },
      "execution_count": 5,
      "outputs": []
    },
    {
      "cell_type": "code",
      "source": [
        "## setting a pixel to move around"
      ],
      "metadata": {
        "id": "-cui2p5Z-zQ4"
      },
      "execution_count": 4,
      "outputs": []
    },
    {
      "cell_type": "code",
      "source": [
        "# x = 2\n",
        "# y = 4\n",
        "# display.set_pixel(x, y, 9)\n"
      ],
      "metadata": {
        "id": "noNYCYWs-01X"
      },
      "execution_count": 6,
      "outputs": []
    },
    {
      "cell_type": "code",
      "source": [
        "##using buttons to move around"
      ],
      "metadata": {
        "id": "K7c2lLd0-2ZL"
      },
      "execution_count": 7,
      "outputs": []
    },
    {
      "cell_type": "code",
      "source": [
        "# while True:\n",
        "#     if button_a.was_pressed():\n",
        "#         x -= 1\n",
        "#         if x < 0:\n",
        "#             x = 0\n",
        "#         display.clear()\n",
        "#         display.set_pixel(x, y, 9)\n",
        "#     if button_b.was_pressed():\n",
        "#         x += 1\n",
        "#         if x > 4:\n",
        "#             x = 4\n",
        "#         display.clear()\n",
        "#         display.set_pixel(x, y, 9)"
      ],
      "metadata": {
        "id": "dRZ-l3x2-4HV"
      },
      "execution_count": 8,
      "outputs": []
    },
    {
      "cell_type": "code",
      "source": [
        "##making rows of lights go down"
      ],
      "metadata": {
        "id": "F2DpL8_f-6WV"
      },
      "execution_count": 9,
      "outputs": []
    },
    {
      "cell_type": "code",
      "source": [
        "# x = [\"00000\", \"99999\", \"00000\", \"99999\", \"00000\"]\n",
        "\n",
        "# while True:\n",
        "#     row = x.pop()\n",
        "#     if row == \"00000\":\n",
        "#         x.insert(0, \"99999\")\n",
        "#     else:\n",
        "#         x.insert(0, \"00000\")\n",
        "#     display.show(Image(\"\\n\".join(x)))\n",
        "#     sleep(1000)"
      ],
      "metadata": {
        "id": "pQdbfMKb-7qB"
      },
      "execution_count": 10,
      "outputs": []
    },
    {
      "cell_type": "code",
      "source": [
        "## turning it into a function"
      ],
      "metadata": {
        "id": "gXp55a70-9HQ"
      },
      "execution_count": 11,
      "outputs": []
    },
    {
      "cell_type": "code",
      "source": [
        "# def new_row():\n",
        "#     c = \"\"\n",
        "#     for i in range(5):\n",
        "#       c = c + random.choice(['0', '9'])\n",
        "#     return c\n",
        "\n",
        "# a = [\"00000\", \"00000\", \"00000\", \"00000\", \"00000\"]\n",
        "\n",
        "# while True:\n",
        "#     a.pop()\n",
        "#     a.insert (0, new_row())\n",
        "#     display.show(Image(\"\\n\".join(a)))\n",
        "#     sleep(1000)"
      ],
      "metadata": {
        "id": "LATz6Q4z_B6F"
      },
      "execution_count": 12,
      "outputs": []
    }
  ]
}
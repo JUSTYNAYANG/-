{
  "nbformat": 4,
  "nbformat_minor": 0,
  "metadata": {
    "colab": {
      "provenance": [],
      "authorship_tag": "ABX9TyNuWtyg3DqUx3v7EulqKMR5",
      "include_colab_link": true
    },
    "kernelspec": {
      "name": "python3",
      "display_name": "Python 3"
    },
    "language_info": {
      "name": "python"
    }
  },
  "cells": [
    {
      "cell_type": "markdown",
      "metadata": {
        "id": "view-in-github",
        "colab_type": "text"
      },
      "source": [
        "<a href=\"https://colab.research.google.com/github/JUSTYNAYANG/summerpy/blob/main/20230327.ipynb\" target=\"_parent\"><img src=\"https://colab.research.google.com/assets/colab-badge.svg\" alt=\"Open In Colab\"/></a>"
      ]
    },
    {
      "cell_type": "markdown",
      "source": [
        "##Turtle"
      ],
      "metadata": {
        "id": "230MEXVnXFiu"
      }
    },
    {
      "cell_type": "markdown",
      "source": [
        "##creating a swirling shell from rectangles"
      ],
      "metadata": {
        "id": "mdGBss5eb7Pk"
      }
    },
    {
      "cell_type": "markdown",
      "source": [
        "```python\n",
        "turtle.speed('fastest')\n",
        "\n",
        "for i in range(50):\n",
        "  for j in range(4):\n",
        "    turtle.forward((i+1)*5 )\n",
        "    turtle.left(90)\n",
        "  turtle.left(10)\n",
        "\n",
        "```"
      ],
      "metadata": {
        "id": "JOa8BNbDagWV"
      }
    },
    {
      "cell_type": "code",
      "source": [],
      "metadata": {
        "id": "LuP9mIvscHmd"
      },
      "execution_count": null,
      "outputs": []
    }
  ]
}
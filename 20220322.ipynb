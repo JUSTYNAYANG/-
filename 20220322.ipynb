{
  "nbformat": 4,
  "nbformat_minor": 0,
  "metadata": {
    "colab": {
      "provenance": [],
      "authorship_tag": "ABX9TyOlIP0d1THHXfusWRprGHNg",
      "include_colab_link": true
    },
    "kernelspec": {
      "name": "python3",
      "display_name": "Python 3"
    },
    "language_info": {
      "name": "python"
    }
  },
  "cells": [
    {
      "cell_type": "markdown",
      "metadata": {
        "id": "view-in-github",
        "colab_type": "text"
      },
      "source": [
        "<a href=\"https://colab.research.google.com/github/JUSTYNAYANG/summerpy/blob/main/20220322.ipynb\" target=\"_parent\"><img src=\"https://colab.research.google.com/assets/colab-badge.svg\" alt=\"Open In Colab\"/></a>"
      ]
    },
    {
      "cell_type": "code",
      "source": [
        "# Imports go at the top\n",
        "from microbit import *\n",
        "import machine"
      ],
      "metadata": {
        "id": "elSlNNV3Vo82"
      },
      "execution_count": null,
      "outputs": []
    },
    {
      "cell_type": "code",
      "execution_count": null,
      "metadata": {
        "id": "Gg9tEw1rVkt1"
      },
      "outputs": [],
      "source": [
        "# code for mooncar to avoid colliding into objects (faster version)\n",
        "\n",
        "#if the display is not off, pin3 is used in LED, if we turn display off, pin3 can be used for other things\n",
        "\n",
        "display.off()\n",
        "\n",
        "echo = pin9\n",
        "trigger = pin3\n",
        "\n",
        "#detects the distance of the objects in front of the moon car\n",
        "def distance():\n",
        "    #send out the signal\n",
        "    pin3.write_digital(1)\n",
        "    pin3.write_digital(0)\n",
        "\n",
        "    #calculate how long the signal takes to echo back\n",
        "    micros = machine.time_pulse_us(pin9, 1)\n",
        "\n",
        "    #changing microsecond to second and divide the seconds by two because it is an echo\n",
        "    secs = micros / 2000000\n",
        "    \n",
        "    #distance = time taken * velocity (v=m/s)\n",
        "    # the number is multiplied by 100 to get the distance in centimeters\n",
        "    dist = secs * 34660\n",
        "    \n",
        "    return dist\n",
        "\n",
        "#left wheel forward = pin8\n",
        "#left wheel back = pin14\n",
        "#right wheel forward = pin2\n",
        "#right wheel back = pin 13\n",
        "\n",
        "while True:\n",
        "    distan = distance()\n",
        "    sleep(1000)\n",
        "    if distan < 20:\n",
        "        #move back for one second\n",
        "        pin8.write_analog (0)\n",
        "        pin14.write_analog(100)\n",
        "        pin2.write_analog(0)\n",
        "        pin13.write_analog(100)\n",
        "        sleep(1000)\n",
        "        #turn left\n",
        "        pin8.write_analog (0)\n",
        "        pin14.write_analog(100)\n",
        "        pin2.write_analog(0)\n",
        "        pin13.write_analog(0)\n",
        "        sleep(1000)\n",
        "    else:\n",
        "        #move forward\n",
        "        pin8.write_analog (100)\n",
        "        pin14.write_analog(0)\n",
        "        pin2.write_analog(100)"
      ]
    },
    {
      "cell_type": "code",
      "source": [
        "#using sound to move the moon car (louder = faster)\n",
        "while True:\n",
        "    x = microphone.sound_level()\n",
        "    pin8.write_analog(x)\n",
        "    pin2.write_analog(x)\n",
        "    sleep(100)"
      ],
      "metadata": {
        "id": "HXjJ0FNiVrgY"
      },
      "execution_count": null,
      "outputs": []
    },
    {
      "cell_type": "code",
      "source": [
        "#moon car is able to follow track and pause to wait if there are other cars in front of it(to prevent blocking)\n",
        "\n",
        "\n",
        "display.off()\n",
        "\n",
        "#left wheel forward = pin8\n",
        "#left wheel back = pin14\n",
        "#right wheel forward = pin2\n",
        "#right wheel back = pin 13\n",
        "\n",
        "# 1 = on track (black)\n",
        "# 0 = off track (on ground)\n",
        "\n",
        "echo = pin9\n",
        "trigger = pin3\n",
        "\n",
        "pin15.set_pull (pin15.NO_PULL)\n",
        "pin16.set_pull (pin16.NO_PULL)\n",
        "\n",
        "def distance():\n",
        "    pin3.write_digital(1)\n",
        "    pin3.write_digital(0)\n",
        "\n",
        "    micros = machine.time_pulse_us(pin9, 1)\n",
        "\n",
        "    secs = micros / 2000000\n",
        "    \n",
        "    dist = secs * 34660\n",
        "    \n",
        "    return dist\n",
        "    \n",
        "\n",
        "while True:\n",
        "    distan = distance()\n",
        "    p15 = pin15.read_digital()\n",
        "    p16 = pin16.read_digital()\n",
        "\n",
        "    if p15 == 0:\n",
        "        pin2.write_analog(0)\n",
        "        pin8.write_analog(100)\n",
        "        pin13.write_analog(0)\n",
        "        pin14.write_analog(0)\n",
        "\n",
        "    elif p16 == 0:\n",
        "        pin2.write_analog(100)\n",
        "        pin8.write_analog(0)\n",
        "        pin13.write_analog(0)\n",
        "        pin14.write_analog(0)\n",
        "\n",
        "    elif p16 and p15 == 1:\n",
        "        pin2.write_analog(100)\n",
        "        pin8.write_analog(100)\n",
        "        pin13.write_analog(0)\n",
        "        pin14.write_analog(0)\n",
        "\n",
        "        \n",
        "    if distan < 10:\n",
        "        pin2.write_analog(0)\n",
        "        pin8.write_analog(0)\n",
        "        pin13.write_analog(0)\n",
        "        pin14.write_analog(0)\n",
        "        sleep(500)"
      ],
      "metadata": {
        "id": "gfHq3hzfkSGe"
      },
      "execution_count": null,
      "outputs": []
    }
  ]
}
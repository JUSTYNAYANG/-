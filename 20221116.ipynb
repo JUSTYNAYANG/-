{
  "nbformat": 4,
  "nbformat_minor": 0,
  "metadata": {
    "colab": {
      "provenance": [],
      "authorship_tag": "ABX9TyMMaLX+onNjcKfv4T0WsBPh",
      "include_colab_link": true
    },
    "kernelspec": {
      "name": "python3",
      "display_name": "Python 3"
    },
    "language_info": {
      "name": "python"
    }
  },
  "cells": [
    {
      "cell_type": "markdown",
      "metadata": {
        "id": "view-in-github",
        "colab_type": "text"
      },
      "source": [
        "<a href=\"https://colab.research.google.com/github/JUSTYNAYANG/summerpy/blob/main/20221116.ipynb\" target=\"_parent\"><img src=\"https://colab.research.google.com/assets/colab-badge.svg\" alt=\"Open In Colab\"/></a>"
      ]
    },
    {
      "cell_type": "code",
      "execution_count": null,
      "metadata": {
        "id": "k_JMHbutVnVb"
      },
      "outputs": [],
      "source": [
        "d = {}"
      ]
    },
    {
      "cell_type": "code",
      "source": [
        "d['red'] = 'あか'\n",
        "d['blue'] = 'あお'"
      ],
      "metadata": {
        "id": "dsSjN9NsVqhf"
      },
      "execution_count": null,
      "outputs": []
    },
    {
      "cell_type": "code",
      "source": [
        "d\n"
      ],
      "metadata": {
        "colab": {
          "base_uri": "https://localhost:8080/"
        },
        "id": "HKOjjlxOV0pJ",
        "outputId": "cbb916ea-2605-43e7-c3d1-5f8cc3226299"
      },
      "execution_count": null,
      "outputs": [
        {
          "output_type": "execute_result",
          "data": {
            "text/plain": [
              "{'red': 'あか', 'blue': 'あお'}"
            ]
          },
          "metadata": {},
          "execution_count": 3
        }
      ]
    },
    {
      "cell_type": "code",
      "source": [
        "#returns keys of the dictionary\n",
        "d.keys()"
      ],
      "metadata": {
        "colab": {
          "base_uri": "https://localhost:8080/"
        },
        "id": "5iDkovviV2y3",
        "outputId": "92c87ced-5a8b-44f6-9216-695eb51bd367"
      },
      "execution_count": null,
      "outputs": [
        {
          "output_type": "execute_result",
          "data": {
            "text/plain": [
              "dict_keys(['red', 'blue'])"
            ]
          },
          "metadata": {},
          "execution_count": 5
        }
      ]
    },
    {
      "cell_type": "code",
      "source": [
        "for i in d:\n",
        "  print(i)"
      ],
      "metadata": {
        "colab": {
          "base_uri": "https://localhost:8080/"
        },
        "id": "pBQMRWk0WD3u",
        "outputId": "11f71b67-9c1a-40bf-b51b-d933eb483772"
      },
      "execution_count": null,
      "outputs": [
        {
          "output_type": "stream",
          "name": "stdout",
          "text": [
            "red\n",
            "blue\n"
          ]
        }
      ]
    },
    {
      "cell_type": "code",
      "source": [
        "# compares in key\n",
        "'red' in d "
      ],
      "metadata": {
        "colab": {
          "base_uri": "https://localhost:8080/"
        },
        "id": "T3Ze0ZtsWGIc",
        "outputId": "295ce89a-8cd4-4a82-a499-cfb371b4175c"
      },
      "execution_count": null,
      "outputs": [
        {
          "output_type": "execute_result",
          "data": {
            "text/plain": [
              "True"
            ]
          },
          "metadata": {},
          "execution_count": 7
        }
      ]
    },
    {
      "cell_type": "code",
      "source": [
        "# not in key thus false\n",
        "'あか' in d"
      ],
      "metadata": {
        "colab": {
          "base_uri": "https://localhost:8080/"
        },
        "id": "joFNy56OWLEq",
        "outputId": "91e9f941-fe8a-4d4c-fa87-ed812d12929a"
      },
      "execution_count": null,
      "outputs": [
        {
          "output_type": "execute_result",
          "data": {
            "text/plain": [
              "False"
            ]
          },
          "metadata": {},
          "execution_count": 8
        }
      ]
    },
    {
      "cell_type": "markdown",
      "source": [
        "#ways to add key value pair into dictionary"
      ],
      "metadata": {
        "id": "fEnUv1AqV3d2"
      }
    },
    {
      "cell_type": "code",
      "source": [
        "#1\n",
        "d['white'] = 'しろ'"
      ],
      "metadata": {
        "id": "MbykC_PJWWvm"
      },
      "execution_count": null,
      "outputs": []
    },
    {
      "cell_type": "code",
      "source": [
        "#2\n",
        "d.update({'yellow':'きいろい', 'black':'くろい'})"
      ],
      "metadata": {
        "id": "evHfj_GmWbcL"
      },
      "execution_count": null,
      "outputs": []
    },
    {
      "cell_type": "code",
      "source": [
        "d"
      ],
      "metadata": {
        "colab": {
          "base_uri": "https://localhost:8080/"
        },
        "id": "1cWyWZppW_Ox",
        "outputId": "a94ab6b7-d9d0-457a-9875-89f3ab2bba1b"
      },
      "execution_count": null,
      "outputs": [
        {
          "output_type": "execute_result",
          "data": {
            "text/plain": [
              "{'red': 'あか', 'blue': 'あお', 'white': 'しろ', 'yellow': 'きいろい', 'black': 'くろい'}"
            ]
          },
          "metadata": {},
          "execution_count": 11
        }
      ]
    },
    {
      "cell_type": "markdown",
      "source": [
        "#ways to delete key value pair from dictionary"
      ],
      "metadata": {
        "id": "R55WoUq_XCDp"
      }
    },
    {
      "cell_type": "code",
      "source": [
        "len(d)"
      ],
      "metadata": {
        "colab": {
          "base_uri": "https://localhost:8080/"
        },
        "id": "E23WPGTYXAb9",
        "outputId": "2eecbfa9-9e7e-42fc-8314-4ef8bb59656a"
      },
      "execution_count": null,
      "outputs": [
        {
          "output_type": "execute_result",
          "data": {
            "text/plain": [
              "5"
            ]
          },
          "metadata": {},
          "execution_count": 12
        }
      ]
    },
    {
      "cell_type": "code",
      "source": [
        "# 1 expression/statement that deletes key pair from dictionary\n",
        "del d['yellow']"
      ],
      "metadata": {
        "id": "Z3VA5rtXXLyN"
      },
      "execution_count": null,
      "outputs": []
    },
    {
      "cell_type": "code",
      "source": [
        "d"
      ],
      "metadata": {
        "colab": {
          "base_uri": "https://localhost:8080/"
        },
        "id": "k0s1iJ4ZXSxY",
        "outputId": "699e72b4-fc76-4ff5-acfe-257d1a2cfaf6"
      },
      "execution_count": null,
      "outputs": [
        {
          "output_type": "execute_result",
          "data": {
            "text/plain": [
              "{'red': 'あか', 'blue': 'あお', 'white': 'しろ', 'black': 'くろい'}"
            ]
          },
          "metadata": {},
          "execution_count": 14
        }
      ]
    },
    {
      "cell_type": "code",
      "source": [
        "# 2\n",
        "d.pop('red')"
      ],
      "metadata": {
        "colab": {
          "base_uri": "https://localhost:8080/",
          "height": 35
        },
        "id": "vuTxVr91XTvn",
        "outputId": "1f3a0552-6199-4838-f8e1-697f3107efee"
      },
      "execution_count": null,
      "outputs": [
        {
          "output_type": "execute_result",
          "data": {
            "text/plain": [
              "'あか'"
            ],
            "application/vnd.google.colaboratory.intrinsic+json": {
              "type": "string"
            }
          },
          "metadata": {},
          "execution_count": 15
        }
      ]
    },
    {
      "cell_type": "code",
      "source": [
        "d"
      ],
      "metadata": {
        "colab": {
          "base_uri": "https://localhost:8080/"
        },
        "id": "_8kS-VMGXdbf",
        "outputId": "485cc5cd-847d-43d6-aa87-89fc5c1a740f"
      },
      "execution_count": null,
      "outputs": [
        {
          "output_type": "execute_result",
          "data": {
            "text/plain": [
              "{'blue': 'あお', 'white': 'しろ', 'black': 'くろい'}"
            ]
          },
          "metadata": {},
          "execution_count": 16
        }
      ]
    },
    {
      "cell_type": "code",
      "source": [
        "len(d)"
      ],
      "metadata": {
        "colab": {
          "base_uri": "https://localhost:8080/"
        },
        "id": "rxJ_mdSrXeEr",
        "outputId": "f25a355a-1368-40e0-9fef-d8720e4a4722"
      },
      "execution_count": null,
      "outputs": [
        {
          "output_type": "execute_result",
          "data": {
            "text/plain": [
              "3"
            ]
          },
          "metadata": {},
          "execution_count": 18
        }
      ]
    },
    {
      "cell_type": "markdown",
      "source": [
        "# function practice"
      ],
      "metadata": {
        "id": "qeEo6Sk-XtQX"
      }
    },
    {
      "cell_type": "markdown",
      "source": [
        "## local & global scopes"
      ],
      "metadata": {
        "id": "NCEDghvHXyGN"
      }
    },
    {
      "cell_type": "code",
      "source": [
        "# LOCAL SCOPE = only inside function, not outside of function(not connected)"
      ],
      "metadata": {
        "id": "AWkAs0UYYpGa"
      },
      "execution_count": null,
      "outputs": []
    },
    {
      "cell_type": "code",
      "source": [
        "x = 2\n",
        "\n",
        "def foo():\n",
        "  #this x remains in the function, does not equal the x that is outside the function\n",
        "  x = 1\n",
        "\n",
        "foo()\n",
        "\n",
        "print(x)"
      ],
      "metadata": {
        "colab": {
          "base_uri": "https://localhost:8080/"
        },
        "id": "wLyrGNiaXvKq",
        "outputId": "3cd5ccac-5edd-4748-eb94-ae59ca3ecb6a"
      },
      "execution_count": null,
      "outputs": [
        {
          "output_type": "stream",
          "name": "stdout",
          "text": [
            "2\n"
          ]
        }
      ]
    },
    {
      "cell_type": "code",
      "source": [
        "# GLOBAL SCOPE = both inside and outside of function (connected)"
      ],
      "metadata": {
        "id": "iE1e7zrRYuj0"
      },
      "execution_count": null,
      "outputs": []
    },
    {
      "cell_type": "code",
      "source": [
        "x = 2\n",
        "\n",
        "def foo():\n",
        "  #\"global\" means that the x in the function is related the the x outside the function\n",
        "  global x\n",
        "  x = 1\n",
        "\n",
        "foo()\n",
        "\n",
        "print(x)"
      ],
      "metadata": {
        "colab": {
          "base_uri": "https://localhost:8080/"
        },
        "id": "tK_BeAYGXxL9",
        "outputId": "57038c98-7d24-4794-c695-9ab78713a000"
      },
      "execution_count": null,
      "outputs": [
        {
          "output_type": "stream",
          "name": "stdout",
          "text": [
            "1\n"
          ]
        }
      ]
    },
    {
      "cell_type": "markdown",
      "source": [
        "##unpacking"
      ],
      "metadata": {
        "id": "CNCbxYNLY996"
      }
    },
    {
      "cell_type": "code",
      "source": [
        "def foo(x, y, z):\n",
        "  print(x, y, z)"
      ],
      "metadata": {
        "id": "t7vqnAbvZGiP"
      },
      "execution_count": null,
      "outputs": []
    },
    {
      "cell_type": "code",
      "source": [
        "foo(1, 2, 3)"
      ],
      "metadata": {
        "colab": {
          "base_uri": "https://localhost:8080/"
        },
        "id": "J62BpkU5ZMxK",
        "outputId": "460315f7-6111-4cdc-957e-3ffa70c9c847"
      },
      "execution_count": null,
      "outputs": [
        {
          "output_type": "stream",
          "name": "stdout",
          "text": [
            "1 2 3\n"
          ]
        }
      ]
    },
    {
      "cell_type": "code",
      "source": [
        "a = [3, 2, 1]"
      ],
      "metadata": {
        "id": "pn1BOxUKZOGJ"
      },
      "execution_count": null,
      "outputs": []
    },
    {
      "cell_type": "code",
      "source": [
        "#although there are 3 items in this variable \"a\"\n",
        "#it does not give the function \"foo\" 3 inputs, it only gives on\n",
        "foo(a)"
      ],
      "metadata": {
        "colab": {
          "base_uri": "https://localhost:8080/",
          "height": 240
        },
        "id": "fDpvlFGYZUfV",
        "outputId": "17b7b6a3-7fba-4c8a-dd55-84b1e797c7b7"
      },
      "execution_count": null,
      "outputs": [
        {
          "output_type": "error",
          "ename": "TypeError",
          "evalue": "ignored",
          "traceback": [
            "\u001b[0;31m---------------------------------------------------------------------------\u001b[0m",
            "\u001b[0;31mTypeError\u001b[0m                                 Traceback (most recent call last)",
            "\u001b[0;32m<ipython-input-30-471a840cc4d5>\u001b[0m in \u001b[0;36m<module>\u001b[0;34m\u001b[0m\n\u001b[1;32m      1\u001b[0m \u001b[0;31m#although there are 3 items in this variable \"a\"\u001b[0m\u001b[0;34m\u001b[0m\u001b[0;34m\u001b[0m\u001b[0;34m\u001b[0m\u001b[0m\n\u001b[1;32m      2\u001b[0m \u001b[0;31m#it does not give the function \"foo\" 3 inputs, it only gives on\u001b[0m\u001b[0;34m\u001b[0m\u001b[0;34m\u001b[0m\u001b[0;34m\u001b[0m\u001b[0m\n\u001b[0;32m----> 3\u001b[0;31m \u001b[0mfoo\u001b[0m\u001b[0;34m(\u001b[0m\u001b[0ma\u001b[0m\u001b[0;34m)\u001b[0m\u001b[0;34m\u001b[0m\u001b[0;34m\u001b[0m\u001b[0m\n\u001b[0m",
            "\u001b[0;31mTypeError\u001b[0m: foo() missing 2 required positional arguments: 'y' and 'z'"
          ]
        }
      ]
    },
    {
      "cell_type": "code",
      "source": [
        "# LIST UNPACKING = \"*\""
      ],
      "metadata": {
        "id": "T9TKqf1AaPpD"
      },
      "execution_count": null,
      "outputs": []
    },
    {
      "cell_type": "code",
      "source": [
        "# \"*\" will take the items out of a and input it\n",
        "foo(*a)"
      ],
      "metadata": {
        "colab": {
          "base_uri": "https://localhost:8080/"
        },
        "id": "yCaBfzx_Zjja",
        "outputId": "91e70115-3e2d-41d0-c928-6793258bebc2"
      },
      "execution_count": null,
      "outputs": [
        {
          "output_type": "stream",
          "name": "stdout",
          "text": [
            "3 2 1\n"
          ]
        }
      ]
    },
    {
      "cell_type": "code",
      "source": [
        "foo(*[3, 2, 1])"
      ],
      "metadata": {
        "colab": {
          "base_uri": "https://localhost:8080/"
        },
        "id": "LVLpROdzZ38P",
        "outputId": "7bf80da3-3b0e-4ba1-e305-681674fbbf90"
      },
      "execution_count": null,
      "outputs": [
        {
          "output_type": "stream",
          "name": "stdout",
          "text": [
            "3 2 1\n"
          ]
        }
      ]
    },
    {
      "cell_type": "code",
      "source": [
        "# DICTIONARY UNPACKING = \"**\""
      ],
      "metadata": {
        "id": "oPKlfMshaT_o"
      },
      "execution_count": null,
      "outputs": []
    },
    {
      "cell_type": "code",
      "source": [
        "b = {'x': 5, 'y':4, 'z':3}"
      ],
      "metadata": {
        "id": "ZhIiIgehaFXH"
      },
      "execution_count": null,
      "outputs": []
    },
    {
      "cell_type": "code",
      "source": [
        "foo(**b)"
      ],
      "metadata": {
        "colab": {
          "base_uri": "https://localhost:8080/"
        },
        "id": "q2FhxM6waONY",
        "outputId": "cc30a3a5-c0ee-4d5c-b60d-f1dc5626eb2e"
      },
      "execution_count": null,
      "outputs": [
        {
          "output_type": "stream",
          "name": "stdout",
          "text": [
            "5 4 3\n"
          ]
        }
      ]
    },
    {
      "cell_type": "code",
      "source": [
        "#explains above\n",
        "foo(x=5, y=4, z=3)"
      ],
      "metadata": {
        "colab": {
          "base_uri": "https://localhost:8080/"
        },
        "id": "rxbXguyIaWW6",
        "outputId": "cd510aa7-4578-411f-d50c-a9d4fbee9ffd"
      },
      "execution_count": null,
      "outputs": [
        {
          "output_type": "stream",
          "name": "stdout",
          "text": [
            "5 4 3\n"
          ]
        }
      ]
    },
    {
      "cell_type": "markdown",
      "source": [
        "# using arguments with vartiable length"
      ],
      "metadata": {
        "id": "k6Xpy4bYbBD0"
      }
    },
    {
      "cell_type": "code",
      "source": [
        "def bar(*args, **kwargs):\n",
        "  print(args)\n",
        "  print(kwargs)"
      ],
      "metadata": {
        "id": "mF8c2XSKbEVs"
      },
      "execution_count": null,
      "outputs": []
    },
    {
      "cell_type": "code",
      "source": [
        "bar(1, 2, 3)"
      ],
      "metadata": {
        "colab": {
          "base_uri": "https://localhost:8080/"
        },
        "id": "yBce6kPLbOQg",
        "outputId": "6c3be118-556f-48f3-993d-7fd229c5c909"
      },
      "execution_count": null,
      "outputs": [
        {
          "output_type": "stream",
          "name": "stdout",
          "text": [
            "(1, 2, 3)\n",
            "{}\n"
          ]
        }
      ]
    },
    {
      "cell_type": "code",
      "source": [
        "bar(1, 2, x=3, y=4)"
      ],
      "metadata": {
        "colab": {
          "base_uri": "https://localhost:8080/"
        },
        "id": "qrKUMP8tbTts",
        "outputId": "16bc539e-1222-4875-9d79-d801b89f7b3b"
      },
      "execution_count": null,
      "outputs": [
        {
          "output_type": "stream",
          "name": "stdout",
          "text": [
            "(1, 2)\n",
            "{'x': 3, 'y': 4}\n"
          ]
        }
      ]
    },
    {
      "cell_type": "code",
      "source": [
        "a "
      ],
      "metadata": {
        "colab": {
          "base_uri": "https://localhost:8080/"
        },
        "id": "4UViK4dkcg9P",
        "outputId": "061fd6b9-f29c-4618-f350-a0615d27047d"
      },
      "execution_count": null,
      "outputs": [
        {
          "output_type": "execute_result",
          "data": {
            "text/plain": [
              "[3, 2, 1]"
            ]
          },
          "metadata": {},
          "execution_count": 42
        }
      ]
    },
    {
      "cell_type": "code",
      "source": [
        "b"
      ],
      "metadata": {
        "colab": {
          "base_uri": "https://localhost:8080/"
        },
        "id": "IHpM2UKCdTX4",
        "outputId": "0326175c-b823-4a6a-ca56-549394c2266d"
      },
      "execution_count": null,
      "outputs": [
        {
          "output_type": "execute_result",
          "data": {
            "text/plain": [
              "{'x': 5, 'y': 4, 'z': 3}"
            ]
          },
          "metadata": {},
          "execution_count": 43
        }
      ]
    },
    {
      "cell_type": "code",
      "source": [
        "bar(*a, **b)"
      ],
      "metadata": {
        "colab": {
          "base_uri": "https://localhost:8080/"
        },
        "id": "ujloBIeVdULh",
        "outputId": "cca5cc61-f553-4296-e207-0d3e45bd975b"
      },
      "execution_count": null,
      "outputs": [
        {
          "output_type": "stream",
          "name": "stdout",
          "text": [
            "(3, 2, 1)\n",
            "{'x': 5, 'y': 4, 'z': 3}\n"
          ]
        }
      ]
    },
    {
      "cell_type": "markdown",
      "source": [
        "# zerojudge\n",
        " - a038\n",
        " - a002\n",
        " - a003\n",
        " - a034"
      ],
      "metadata": {
        "id": "cR2bKqgMiKR8"
      }
    },
    {
      "cell_type": "code",
      "source": [
        "#a038"
      ],
      "metadata": {
        "id": "Lix91JBqkcRi"
      },
      "execution_count": null,
      "outputs": []
    },
    {
      "cell_type": "code",
      "source": [
        "list('123')"
      ],
      "metadata": {
        "colab": {
          "base_uri": "https://localhost:8080/"
        },
        "id": "F0NnCavoiTkA",
        "outputId": "a2346b0d-57eb-433a-dab8-b651382468a2"
      },
      "execution_count": null,
      "outputs": [
        {
          "output_type": "execute_result",
          "data": {
            "text/plain": [
              "['1', '2', '3']"
            ]
          },
          "metadata": {},
          "execution_count": 46
        }
      ]
    },
    {
      "cell_type": "code",
      "source": [
        "x = list(str(input()))\n",
        "x.reverse()\n",
        "print(int(\"\".join(x)))"
      ],
      "metadata": {
        "colab": {
          "base_uri": "https://localhost:8080/"
        },
        "id": "qeWA7exLjDfK",
        "outputId": "833ee6bc-ffdd-46b4-dc2c-2d18db645a43"
      },
      "execution_count": null,
      "outputs": [
        {
          "output_type": "stream",
          "name": "stdout",
          "text": [
            "123\n",
            "321\n"
          ]
        }
      ]
    },
    {
      "cell_type": "code",
      "source": [
        "while True:\n",
        "  try:\n",
        "    x = input()\n",
        "    output = []\n",
        "    for i in x: \n",
        "      #insert i in index position 0\n",
        "      output.insert(0, i)\n",
        "    output = ''.join(output)\n",
        "    print(int(output))\n",
        "  except:\n",
        "    break"
      ],
      "metadata": {
        "colab": {
          "base_uri": "https://localhost:8080/"
        },
        "id": "fSye5cKLlmQ9",
        "outputId": "9a2270a6-9dce-4dba-84ec-b6b5d9bad660"
      },
      "execution_count": null,
      "outputs": [
        {
          "name": "stdout",
          "output_type": "stream",
          "text": [
            "12345\n",
            "54321\n",
            "5050\n",
            "505\n",
            "\n"
          ]
        }
      ]
    },
    {
      "cell_type": "code",
      "source": [
        "x = '123'"
      ],
      "metadata": {
        "id": "kXP03C1knrpi"
      },
      "execution_count": null,
      "outputs": []
    },
    {
      "cell_type": "code",
      "source": [
        "# <object_name>[<start_index>, <stop_index>, <step>]\n",
        "y = x[::-1]\n"
      ],
      "metadata": {
        "id": "TCbNoXLsnuma"
      },
      "execution_count": null,
      "outputs": []
    },
    {
      "cell_type": "code",
      "source": [
        "y"
      ],
      "metadata": {
        "colab": {
          "base_uri": "https://localhost:8080/",
          "height": 35
        },
        "id": "VNpGVVr5nxS6",
        "outputId": "48739684-42f5-4808-8198-d76408b5a023"
      },
      "execution_count": null,
      "outputs": [
        {
          "output_type": "execute_result",
          "data": {
            "text/plain": [
              "'321'"
            ],
            "application/vnd.google.colaboratory.intrinsic+json": {
              "type": "string"
            }
          },
          "metadata": {},
          "execution_count": 69
        }
      ]
    },
    {
      "cell_type": "code",
      "source": [
        "while True:\n",
        "  try:\n",
        "    x = input()\n",
        "    x = x[::-1]\n",
        "    print(int(x))\n",
        "  except:\n",
        "    break"
      ],
      "metadata": {
        "id": "AKVbf0u0pA9A"
      },
      "execution_count": null,
      "outputs": []
    },
    {
      "cell_type": "code",
      "source": [
        "#a002"
      ],
      "metadata": {
        "id": "npf-qQDckh8W"
      },
      "execution_count": null,
      "outputs": []
    },
    {
      "cell_type": "code",
      "source": [
        "x = str(input())\n",
        "x = x.split(\" \")\n",
        "a = int(x[0])\n",
        "b = int(x[1])\n",
        "print(a+b)\n"
      ],
      "metadata": {
        "colab": {
          "base_uri": "https://localhost:8080/"
        },
        "id": "q1DuAgW3jMSq",
        "outputId": "71d760ca-4279-47e1-bfe6-9470f3ed73be"
      },
      "execution_count": null,
      "outputs": [
        {
          "output_type": "stream",
          "name": "stdout",
          "text": [
            "5 10\n",
            "15\n"
          ]
        }
      ]
    },
    {
      "cell_type": "code",
      "source": [
        "#a003"
      ],
      "metadata": {
        "id": "UyFGkorJpviq"
      },
      "execution_count": null,
      "outputs": []
    },
    {
      "cell_type": "code",
      "source": [
        "while True:\n",
        "  try:\n",
        "    x = str(input())\n",
        "    x = x.split(\" \")\n",
        "    m = int(x[0])\n",
        "    d = int(x[1])\n",
        "    final = (m*2+d)%3\n",
        "    if final == 0:\n",
        "      print(\"普通\")\n",
        "    elif final == 1:\n",
        "      print(\"吉\")\n",
        "    else:\n",
        "      print(\"大吉\")\n",
        "  except:\n",
        "    break"
      ],
      "metadata": {
        "colab": {
          "base_uri": "https://localhost:8080/"
        },
        "id": "xiRkFf46p1JT",
        "outputId": "1cde5740-40ab-4d1d-bd9a-6b6c4c3f1674"
      },
      "execution_count": null,
      "outputs": [
        {
          "name": "stdout",
          "output_type": "stream",
          "text": [
            "1 1\n",
            "普通\n",
            "1 2\n",
            "吉\n",
            "\n"
          ]
        }
      ]
    },
    {
      "cell_type": "code",
      "source": [
        "#a034"
      ],
      "metadata": {
        "id": "1Dsowk4yLl5p"
      },
      "execution_count": null,
      "outputs": []
    },
    {
      "cell_type": "code",
      "source": [
        "n = int (input ())\n",
        "print (f\" {n:b}\")"
      ],
      "metadata": {
        "colab": {
          "base_uri": "https://localhost:8080/"
        },
        "id": "Bu0_zOqlLoP8",
        "outputId": "bfb90419-45be-4a1e-d3e1-41c28b5f2494"
      },
      "execution_count": null,
      "outputs": [
        {
          "output_type": "stream",
          "name": "stdout",
          "text": [
            "6\n",
            " 110\n"
          ]
        }
      ]
    },
    {
      "cell_type": "code",
      "source": [
        "n = int(input ())\n",
        "y = bin(n)\n",
        "print(y.replace(\"0b\", \"\"))"
      ],
      "metadata": {
        "colab": {
          "base_uri": "https://localhost:8080/",
          "height": 53
        },
        "id": "qS5PMUf2L0cv",
        "outputId": "a12f2395-1c0f-4951-9032-9fa8e01f0a8a"
      },
      "execution_count": null,
      "outputs": [
        {
          "name": "stdout",
          "output_type": "stream",
          "text": [
            "6\n"
          ]
        },
        {
          "output_type": "execute_result",
          "data": {
            "text/plain": [
              "'110'"
            ],
            "application/vnd.google.colaboratory.intrinsic+json": {
              "type": "string"
            }
          },
          "metadata": {},
          "execution_count": 89
        }
      ]
    },
    {
      "cell_type": "code",
      "source": [
        "while True:\n",
        "  try:\n",
        "    n = int(input ())\n",
        "    y = bin(n)\n",
        "    print(y.replace(\"0b\", \"\"))\n",
        "  except:\n",
        "    break\n"
      ],
      "metadata": {
        "colab": {
          "base_uri": "https://localhost:8080/"
        },
        "id": "EK3bFwSFM1ew",
        "outputId": "579950ca-6053-48dd-f7d2-24b8f26134d3"
      },
      "execution_count": null,
      "outputs": [
        {
          "name": "stdout",
          "output_type": "stream",
          "text": [
            "3\n",
            "11\n",
            "6\n",
            "110\n",
            "\n"
          ]
        }
      ]
    }
  ]
}
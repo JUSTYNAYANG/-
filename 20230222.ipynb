{
  "nbformat": 4,
  "nbformat_minor": 0,
  "metadata": {
    "colab": {
      "provenance": [],
      "authorship_tag": "ABX9TyPgwTFaAOC8XJFfhw+dOZuZ",
      "include_colab_link": true
    },
    "kernelspec": {
      "name": "python3",
      "display_name": "Python 3"
    },
    "language_info": {
      "name": "python"
    }
  },
  "cells": [
    {
      "cell_type": "markdown",
      "metadata": {
        "id": "view-in-github",
        "colab_type": "text"
      },
      "source": [
        "<a href=\"https://colab.research.google.com/github/JUSTYNAYANG/summerpy/blob/main/20230222.ipynb\" target=\"_parent\"><img src=\"https://colab.research.google.com/assets/colab-badge.svg\" alt=\"Open In Colab\"/></a>"
      ]
    },
    {
      "cell_type": "code",
      "source": [
        "from microbit import *\n",
        "import neopixel"
      ],
      "metadata": {
        "id": "5XFxSXe8FU_1"
      },
      "execution_count": null,
      "outputs": []
    },
    {
      "cell_type": "code",
      "execution_count": null,
      "metadata": {
        "id": "_IHmOB7FFT8-"
      },
      "outputs": [],
      "source": [
        "#making different colored lights\n",
        "np=neopixel.NeoPixel(pin12, 8)\n",
        "\n",
        "np.clear()\n",
        "np[0] = (50, 20, 0) #orange\n",
        "np[1] = (50, 50, 50) #white\n",
        "np[2] = (50, 50, 50)\n",
        "np[3] = (50, 20, 0)\n",
        "np[4] = (50, 20, 0)\n",
        "np[5] = (50, 0, 0) #red\n",
        "np[6] = (50, 0, 0)\n",
        "np[7] = (50, 20, 0)\n",
        "np.show()"
      ]
    },
    {
      "cell_type": "code",
      "source": [
        "# turn for 5 seconds (left)\n",
        "pin8.write_analog(512) #basically how much electricty is given (range: 0, 1023)\n",
        "pin14.write_analog(0)\n",
        "sleep(5000)\n",
        "pin8.write_analog(0)\n"
      ],
      "metadata": {
        "id": "OamgzEbHGJoF"
      },
      "execution_count": null,
      "outputs": []
    },
    {
      "cell_type": "code",
      "source": [
        "# move forward 5 sec\n",
        "pin8.write_analog(512)\n",
        "pin14.write_analog(0)\n",
        "pin2.write_analog(512)\n",
        "pin13.write_analog(0)\n",
        "sleep(5000)\n",
        "pin8.write_analog(0)\n",
        "pin2.write_analog(0)\n"
      ],
      "metadata": {
        "id": "L7-3ghh1HsRO"
      },
      "execution_count": null,
      "outputs": []
    },
    {
      "cell_type": "code",
      "source": [
        "#sending code from one microbit to another"
      ],
      "metadata": {
        "id": "yCvwBRfkNxpW"
      },
      "execution_count": null,
      "outputs": []
    },
    {
      "cell_type": "code",
      "source": [
        "radio.config(group = 20)\n",
        "radio.on()\n"
      ],
      "metadata": {
        "id": "DMlpUG9kN2Km"
      },
      "execution_count": null,
      "outputs": []
    },
    {
      "cell_type": "code",
      "source": [
        "#server\n",
        "\n",
        "while True:\n",
        "    message = radio.receive()\n",
        "    if message:\n",
        "        display.scroll(message)"
      ],
      "metadata": {
        "id": "l2dK68FdN0gI"
      },
      "execution_count": null,
      "outputs": []
    },
    {
      "cell_type": "code",
      "source": [
        "#client\n",
        "\n",
        "radio.send('hello')"
      ],
      "metadata": {
        "id": "mYh5QrYlN4D6"
      },
      "execution_count": null,
      "outputs": []
    },
    {
      "cell_type": "code",
      "source": [
        "#server\n",
        "while True:\n",
        "    message = radio.receive()\n",
        "    if message == 'left':\n",
        "        pin8.write_analog(512)\n",
        "        pin14.write_analog(0)\n",
        "    if message == 'right':\n",
        "      pin2.write_analog(512)\n",
        "      pin13.write_analog(0)\n",
        "    if message == 'forward':\n",
        "      pin2.write_analog(512)\n",
        "      pin8.write_analog(512)\n",
        "    if message == 'right':\n",
        "      pin2.write_analog(0)\n",
        "      pin8.write_analog(0)\n",
        "\n",
        "\n",
        "#client\n",
        "while True:\n",
        "    if accelerometer.was_gesture('left'):\n",
        "        display.show(Image.ARROW_W)\n",
        "        radio.send('left')\n",
        "    if accelerometer.was_gesture('right'):\n",
        "        display.show(Image.ARROW_E)\n",
        "        radio.send('right')\n",
        "    if button_a.was_pressed():\n",
        "        display.show(Image.ARROW_S)\n",
        "        radio.send('forward')\n",
        "    if button_b.was_pressed():\n",
        "        display.show(Image.ARROW_N)\n",
        "        radio.send('stop')"
      ],
      "metadata": {
        "id": "O40Aovr-RSxn"
      },
      "execution_count": null,
      "outputs": []
    },
    {
      "cell_type": "code",
      "source": [
        "#server\n",
        "while True:\n",
        "    message = radio.receive()\n",
        "    if message == 'left':\n",
        "        pin8.write_analog(512)\n",
        "        pin14.write_analog(0)\n",
        "    if message == 'right':\n",
        "      pin2.write_analog(512)\n",
        "      pin13.write_analog(0)\n",
        "    if message == 'stop':\n",
        "      pin8.write_analog(0)\n",
        "      pin14.write_analog(0)\n",
        "      pin2.write_analog(0)\n",
        "      pin13.write_analog(0)\n",
        "\n",
        "#client\n",
        "while True:\n",
        "    if button_a.was_pressed():\n",
        "        radio.send('left')\n",
        "    if button_b.was_pressed():\n",
        "        radio.send('right')\n",
        "    if pin_logo.is_touched():\n",
        "        radio.send('stop')"
      ],
      "metadata": {
        "id": "DAjHY9G0U8ZJ"
      },
      "execution_count": null,
      "outputs": []
    }
  ]
}
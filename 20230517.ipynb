{
  "nbformat": 4,
  "nbformat_minor": 0,
  "metadata": {
    "colab": {
      "provenance": [],
      "authorship_tag": "ABX9TyMLHaNszFy8jCN1v17i9qr5",
      "include_colab_link": true
    },
    "kernelspec": {
      "name": "python3",
      "display_name": "Python 3"
    },
    "language_info": {
      "name": "python"
    }
  },
  "cells": [
    {
      "cell_type": "markdown",
      "metadata": {
        "id": "view-in-github",
        "colab_type": "text"
      },
      "source": [
        "<a href=\"https://colab.research.google.com/github/JUSTYNAYANG/summerpy/blob/main/20230517.ipynb\" target=\"_parent\"><img src=\"https://colab.research.google.com/assets/colab-badge.svg\" alt=\"Open In Colab\"/></a>"
      ]
    },
    {
      "cell_type": "markdown",
      "source": [
        "# trying to change the movements of the microbit into functions\n",
        "\n",
        "- did not finish because we used \"pull_down\" instead of \"no_pull\" so the code was wrong"
      ],
      "metadata": {
        "id": "fwjRheGH9JFi"
      }
    },
    {
      "cell_type": "markdown",
      "source": [
        "```python\n",
        "# Imports go at the top\n",
        "from microbit import *\n",
        "\n",
        "pin15.set_pull(pin15.NO_PULL)\n",
        "pin16.set_pull(pin16.NO_PULL)\n",
        "\n",
        "#left: 8 14\n",
        "#right: 2 13\n",
        "\n",
        "def left(s):\n",
        "    pin2.write_analog(s)\n",
        "    pin8.write_analog(0)\n",
        "    pin13.write_analog(0)\n",
        "    pin14.write_analog(0)\n",
        "\n",
        "def right(s):\n",
        "    pin2.write_analog(0)\n",
        "    pin8.write_analog(s)\n",
        "    pin13.write_analog(0)\n",
        "    pin14.write_analog(0)\n",
        "\n",
        "def forward(s):\n",
        "    pin2.write_analog(s)\n",
        "    pin8.write_analog(s)\n",
        "    pin13.write_analog(0)\n",
        "    pin14.write_analog(0)\n",
        "\n",
        "def backward(s):\n",
        "    pin2.write_analog(0)\n",
        "    pin8.write_analog(0)\n",
        "    pin13.write_analog(s)\n",
        "    pin14.write_analog(s)\n",
        "\n",
        "\n",
        "while True:\n",
        "    p15 = pin15.read_digital()\n",
        "    p16 = pin16.read_digital()\n",
        "\n",
        "    if p15:\n",
        "        pin2.write_analog(0)\n",
        "        pin8.write_analog(200)\n",
        "        pin13.write_analog(0)\n",
        "        pin14.write_analog(0)\n",
        "    elif p16:\n",
        "        pin2.write_analog(200)\n",
        "        pin8.write_analog(0)\n",
        "        pin13.write_analog(0)\n",
        "        pin14.write_analog(0)\n",
        "    else:\n",
        "        pin2.write_analog(200)\n",
        "        pin8.write_analog(200)\n",
        "        pin13.write_analog(0)\n",
        "        pin14.write_analog(0)\n",
        "\n",
        "```"
      ],
      "metadata": {
        "id": "dqi_PeEf9cKE"
      }
    }
  ]
}
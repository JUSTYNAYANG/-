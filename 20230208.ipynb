{
  "nbformat": 4,
  "nbformat_minor": 0,
  "metadata": {
    "colab": {
      "provenance": [],
      "authorship_tag": "ABX9TyNFF0Y856xVf1BSoOkXsTEs",
      "include_colab_link": true
    },
    "kernelspec": {
      "name": "python3",
      "display_name": "Python 3"
    },
    "language_info": {
      "name": "python"
    }
  },
  "cells": [
    {
      "cell_type": "markdown",
      "metadata": {
        "id": "view-in-github",
        "colab_type": "text"
      },
      "source": [
        "<a href=\"https://colab.research.google.com/github/JUSTYNAYANG/summerpy/blob/main/20230208.ipynb\" target=\"_parent\"><img src=\"https://colab.research.google.com/assets/colab-badge.svg\" alt=\"Open In Colab\"/></a>"
      ]
    },
    {
      "cell_type": "code",
      "source": [
        "#microbit"
      ],
      "metadata": {
        "id": "uZpS_G_j49yV"
      },
      "execution_count": 2,
      "outputs": []
    },
    {
      "cell_type": "code",
      "source": [
        "from microbit import *\n",
        "import neopixel\n"
      ],
      "metadata": {
        "id": "GKUrfXea7rmt"
      },
      "execution_count": null,
      "outputs": []
    },
    {
      "cell_type": "code",
      "source": [
        "# pin12 = connect to pin 12 which is the pin that connects to the LED light\n",
        "np = neopixel.NeoPixel(pin12, 8)\n",
        "\n",
        "#set all the lights to red\n",
        "np.fill((225, 0, 0))\n",
        "\n",
        "#turn on the lights\n",
        "np.show()"
      ],
      "metadata": {
        "id": "Gb9WoVmu7tQ6"
      },
      "execution_count": null,
      "outputs": []
    },
    {
      "cell_type": "code",
      "source": [
        "#set 1 of the lights to red\n",
        "np[0]= (225, 0, 0) "
      ],
      "metadata": {
        "id": "eO3lU5fU8dnp"
      },
      "execution_count": null,
      "outputs": []
    },
    {
      "cell_type": "code",
      "source": [
        "#the light skips from one light to another in a circle\n",
        "n = 0\n",
        "np = neopixel.NeoPixel(pin12, 8)\n",
        "\n",
        "while True:\n",
        "    np[n%8]=(20, 0, 0)\n",
        "    np.show()\n",
        "    sleep(1000)\n",
        "    np.clear()\n",
        "    n+=1"
      ],
      "metadata": {
        "id": "Bxn6JXNj9SPl"
      },
      "execution_count": null,
      "outputs": []
    },
    {
      "cell_type": "code",
      "source": [
        "#another of the one above\n",
        "n = 0\n",
        "np = neopixel.NeoPixel(pin12, 8)\n",
        "\n",
        "while True:\n",
        "    for n in range(8):\n",
        "        np.clear()\n",
        "        np[n]= (100, 0, 0)\n",
        "        np.show()\n",
        "        sleep(1000)"
      ],
      "metadata": {
        "id": "lk4jraEDGXA3"
      },
      "execution_count": null,
      "outputs": []
    },
    {
      "cell_type": "code",
      "source": [
        "#run a circle of colors around and around\n",
        "n = 0\n",
        "np = neopixel.NeoPixel(pin12, 8)\n",
        "\n",
        "while True:\n",
        "    np[n%8]=(20, 0, 0)\n",
        "    np[(n+1)%8]= (20, 10, 0)\n",
        "    np[(n+2)%8]= (20, 20, 0)\n",
        "    np[(n+3)%8]= (10, 20, 0)\n",
        "    np[(n+4)%8]= (0, 20, 0)\n",
        "    np[(n+5)%8]= (0, 20, 10)\n",
        "    np[(n+6)%8]= (0, 10, 20)\n",
        "    np[(n+7)%8]= (0, 0, 20)\n",
        "    np.show()\n",
        "    sleep(1000)\n",
        "    np.clear()\n",
        "    n+=1\n"
      ],
      "metadata": {
        "id": "OL46h8NK-2gp"
      },
      "execution_count": null,
      "outputs": []
    },
    {
      "cell_type": "code",
      "source": [
        "#have random colors shining for each lights \n",
        "n = 0\n",
        "np = neopixel.NeoPixel(pin12, 8)\n",
        "\n",
        "\n",
        "while True:\n",
        "    for i in range(8):\n",
        "        np[(n+i)%8]=(random.randint(1, 20), random.randint(1, 20), random.randint(1, 20))\n",
        "    np.show()\n",
        "    sleep(1000)\n",
        "    np.clear()\n"
      ],
      "metadata": {
        "id": "jDPcek8YCigV"
      },
      "execution_count": null,
      "outputs": []
    },
    {
      "cell_type": "code",
      "source": [
        "#have the lights show up from one led to another while changing color\n",
        "n = 0\n",
        "np = neopixel.NeoPixel(pin12, 8)\n",
        "\n",
        "while True:\n",
        "    np[n%8]=(random.randint(1,20), random.randint(1,20), random.randint(1,20))\n",
        "    np.show()\n",
        "    sleep(1000)\n",
        "    np.clear()\n",
        "    n += 1"
      ],
      "metadata": {
        "id": "kZDT-McwDE91"
      },
      "execution_count": null,
      "outputs": []
    },
    {
      "cell_type": "code",
      "source": [
        "#dim and brighten all lights all together\n",
        "n = 0\n",
        "a = 100\n",
        "np = neopixel.NeoPixel(pin12, 8)\n",
        "\n",
        "while True:\n",
        "    for n in range(8):\n",
        "        np.clear()\n",
        "        np.fill((a, 0, a))\n",
        "        np.show()\n",
        "        a -= 10\n",
        "        sleep(1000)\n",
        "    for n in range(8):\n",
        "        np.clear()\n",
        "        np.fill((a, 0, a))\n",
        "        np.show()\n",
        "        a += 10\n",
        "        sleep(1000)"
      ],
      "metadata": {
        "id": "tyCLCMu0JSbd"
      },
      "execution_count": null,
      "outputs": []
    },
    {
      "cell_type": "code",
      "source": [
        "#using buttons to brighten or dim lights (without restrainer)\n",
        "np = neopixel.NeoPixel(pin12, 8)\n",
        "a = 100\n",
        "\n",
        "while True:\n",
        "    if button_a.was_pressed():\n",
        "        a += 10\n",
        "        np.fill((a, 0, 0))\n",
        "        np.show()\n",
        "    elif button_b.was_pressed():\n",
        "        a -= 10\n",
        "        np.fill((a, 0, 0))\n",
        "        np.show()"
      ],
      "metadata": {
        "id": "UWatW9RXQ882"
      },
      "execution_count": null,
      "outputs": []
    },
    {
      "cell_type": "code",
      "source": [
        "#using buttons to brighten or dim lights (with restrainer)\n",
        "np = neopixel.NeoPixel(pin12, 8)\n",
        "\n",
        "brightness = 0\n",
        "step = 20\n",
        "\n",
        "\n",
        "while True:\n",
        "    if button_a.was_pressed():\n",
        "        brightness = brightness + step\n",
        "        #restrainer\n",
        "        if brightness > 255:\n",
        "            brightness = 255\n",
        "        np.fill((brightness, brightness, brightness))\n",
        "        np.show ()\n",
        "    if button_b. was_pressed () :\n",
        "        brightness = brightness - step\n",
        "        #restrainer\n",
        "        if brightness < 0:\n",
        "            brightness = 0\n",
        "        np.fill((brightness, brightness, brightness))\n",
        "        np.show ()"
      ],
      "metadata": {
        "id": "yWPr_2YYPHUX"
      },
      "execution_count": null,
      "outputs": []
    }
  ]
}
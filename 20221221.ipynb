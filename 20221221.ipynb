{
  "nbformat": 4,
  "nbformat_minor": 0,
  "metadata": {
    "colab": {
      "provenance": [],
      "authorship_tag": "ABX9TyMm6kiLGXcL7vLNlb43hiE2",
      "include_colab_link": true
    },
    "kernelspec": {
      "name": "python3",
      "display_name": "Python 3"
    },
    "language_info": {
      "name": "python"
    }
  },
  "cells": [
    {
      "cell_type": "markdown",
      "metadata": {
        "id": "view-in-github",
        "colab_type": "text"
      },
      "source": [
        "<a href=\"https://colab.research.google.com/github/JUSTYNAYANG/summerpy/blob/main/20221221.ipynb\" target=\"_parent\"><img src=\"https://colab.research.google.com/assets/colab-badge.svg\" alt=\"Open In Colab\"/></a>"
      ]
    },
    {
      "cell_type": "markdown",
      "source": [
        "#APCS\n",
        "https://apcs.csie.ntnu.edu.tw/wp-content/uploads/2022/10/%E5%AF%A6%E4%BD%9C%E9%A1%8C_%E9%A1%8C%E5%9E%8B%E7%AF%84%E4%BE%8B.pdf\n",
        "- 1"
      ],
      "metadata": {
        "id": "7DC7U1qwls-g"
      }
    },
    {
      "cell_type": "code",
      "execution_count": 9,
      "metadata": {
        "id": "y4AyA_O_ljxH"
      },
      "outputs": [],
      "source": [
        "#1"
      ]
    },
    {
      "cell_type": "code",
      "source": [
        "x = [3, 4, 5, 1, 6, 7]"
      ],
      "metadata": {
        "id": "KanY0DTJmYIc"
      },
      "execution_count": 13,
      "outputs": []
    },
    {
      "cell_type": "code",
      "source": [
        "x.sort()"
      ],
      "metadata": {
        "id": "v7aLjUs6m3PI"
      },
      "execution_count": 14,
      "outputs": []
    },
    {
      "cell_type": "code",
      "source": [
        "x"
      ],
      "metadata": {
        "colab": {
          "base_uri": "https://localhost:8080/"
        },
        "id": "EujdsLuPm8l_",
        "outputId": "36fddd25-c888-4dda-8251-966fb77b2cbe"
      },
      "execution_count": 15,
      "outputs": [
        {
          "output_type": "execute_result",
          "data": {
            "text/plain": [
              "[1, 3, 4, 5, 6, 7]"
            ]
          },
          "metadata": {},
          "execution_count": 15
        }
      ]
    },
    {
      "cell_type": "code",
      "source": [
        "x = list(map(int, input().split()))"
      ],
      "metadata": {
        "colab": {
          "base_uri": "https://localhost:8080/"
        },
        "id": "H-gnrEKzmoHa",
        "outputId": "61a19306-11fe-4c9d-ad77-5c1ee0422c06"
      },
      "execution_count": 16,
      "outputs": [
        {
          "name": "stdout",
          "output_type": "stream",
          "text": [
            "3 4 5 6 7 1\n"
          ]
        }
      ]
    },
    {
      "cell_type": "code",
      "source": [
        "x"
      ],
      "metadata": {
        "colab": {
          "base_uri": "https://localhost:8080/"
        },
        "id": "b7oocexim7b-",
        "outputId": "497eaaae-dc27-487c-d708-c0cdac5617d6"
      },
      "execution_count": 17,
      "outputs": [
        {
          "output_type": "execute_result",
          "data": {
            "text/plain": [
              "[3, 4, 5, 6, 7, 1]"
            ]
          },
          "metadata": {},
          "execution_count": 17
        }
      ]
    },
    {
      "cell_type": "code",
      "source": [
        "n = int(input())\n",
        "d = list(map(int, input().split()))"
      ],
      "metadata": {
        "colab": {
          "base_uri": "https://localhost:8080/"
        },
        "id": "a77pUApNly90",
        "outputId": "ba6d42d0-8a78-4e27-f9af-91297f03d5d4"
      },
      "execution_count": 32,
      "outputs": [
        {
          "name": "stdout",
          "output_type": "stream",
          "text": [
            "10\n",
            "0 11 22 33 55 66 77 99 88 44\n"
          ]
        }
      ]
    },
    {
      "cell_type": "code",
      "source": [
        "n"
      ],
      "metadata": {
        "colab": {
          "base_uri": "https://localhost:8080/"
        },
        "id": "FJ8EJF2on73z",
        "outputId": "8dff727b-7254-46aa-e6a4-34aad0215cf5"
      },
      "execution_count": 33,
      "outputs": [
        {
          "output_type": "execute_result",
          "data": {
            "text/plain": [
              "10"
            ]
          },
          "metadata": {},
          "execution_count": 33
        }
      ]
    },
    {
      "cell_type": "code",
      "source": [
        "d"
      ],
      "metadata": {
        "colab": {
          "base_uri": "https://localhost:8080/"
        },
        "id": "2rzoKpgdn68W",
        "outputId": "a98bf15b-da4a-4add-b912-88526a46e29e"
      },
      "execution_count": 34,
      "outputs": [
        {
          "output_type": "execute_result",
          "data": {
            "text/plain": [
              "[0, 11, 22, 33, 55, 66, 77, 99, 88, 44]"
            ]
          },
          "metadata": {},
          "execution_count": 34
        }
      ]
    },
    {
      "cell_type": "code",
      "source": [
        "d.sort()\n",
        "print(d)"
      ],
      "metadata": {
        "colab": {
          "base_uri": "https://localhost:8080/"
        },
        "id": "93Pq2qMVnntf",
        "outputId": "08a75401-e25d-44b1-f70a-478616434f1b"
      },
      "execution_count": 52,
      "outputs": [
        {
          "output_type": "stream",
          "name": "stdout",
          "text": [
            "[0, 11, 22, 33, 44, 55, 66, 77, 88, 99]\n"
          ]
        }
      ]
    },
    {
      "cell_type": "code",
      "source": [
        "d = list(map(str, d))"
      ],
      "metadata": {
        "id": "dkITGhTsqZ0s"
      },
      "execution_count": 56,
      "outputs": []
    },
    {
      "cell_type": "code",
      "source": [
        "d"
      ],
      "metadata": {
        "colab": {
          "base_uri": "https://localhost:8080/"
        },
        "id": "Ykj2q34xqgdB",
        "outputId": "5e69ba6a-59be-4711-93c2-b09529606837"
      },
      "execution_count": 57,
      "outputs": [
        {
          "output_type": "execute_result",
          "data": {
            "text/plain": [
              "['0', '11', '22', '33', '44', '55', '66', '77', '88', '99']"
            ]
          },
          "metadata": {},
          "execution_count": 57
        }
      ]
    },
    {
      "cell_type": "code",
      "source": [
        "\" \".join(d)"
      ],
      "metadata": {
        "colab": {
          "base_uri": "https://localhost:8080/",
          "height": 35
        },
        "id": "WEiOdffYqk5w",
        "outputId": "f5e639b1-5ed5-4320-b9d4-127a3d7f7417"
      },
      "execution_count": 58,
      "outputs": [
        {
          "output_type": "execute_result",
          "data": {
            "text/plain": [
              "'0 11 22 33 44 55 66 77 88 99'"
            ],
            "application/vnd.google.colaboratory.intrinsic+json": {
              "type": "string"
            }
          },
          "metadata": {},
          "execution_count": 58
        }
      ]
    },
    {
      "cell_type": "code",
      "source": [
        "x"
      ],
      "metadata": {
        "colab": {
          "base_uri": "https://localhost:8080/"
        },
        "id": "PxFypyj5ow1z",
        "outputId": "9bf21512-9bd0-4761-89e6-61c55202a70d"
      },
      "execution_count": 37,
      "outputs": [
        {
          "output_type": "execute_result",
          "data": {
            "text/plain": [
              "[3, 4, 5, 6, 7, 1]"
            ]
          },
          "metadata": {},
          "execution_count": 37
        }
      ]
    },
    {
      "cell_type": "code",
      "source": [
        "3 in x"
      ],
      "metadata": {
        "colab": {
          "base_uri": "https://localhost:8080/"
        },
        "id": "J1NHcAIdoyE5",
        "outputId": "bcd1c301-7de4-4e6e-97bc-8dcf8d7bde40"
      },
      "execution_count": 38,
      "outputs": [
        {
          "output_type": "execute_result",
          "data": {
            "text/plain": [
              "True"
            ]
          },
          "metadata": {},
          "execution_count": 38
        }
      ]
    },
    {
      "cell_type": "code",
      "source": [
        "for i in range(1, 5):\n",
        "  print(i)"
      ],
      "metadata": {
        "colab": {
          "base_uri": "https://localhost:8080/"
        },
        "id": "waFDOWJ5pN3Q",
        "outputId": "027e4c67-fc88-4372-99bf-254936b5e79c"
      },
      "execution_count": 49,
      "outputs": [
        {
          "output_type": "stream",
          "name": "stdout",
          "text": [
            "1\n",
            "2\n",
            "3\n",
            "4\n"
          ]
        }
      ]
    },
    {
      "cell_type": "code",
      "source": [
        "#highest score for fail\n",
        "a = 0\n",
        "for i in range(60):\n",
        "  if 60-i in x:\n",
        "    print(60-i)\n",
        "    a += 1\n",
        "    break\n",
        "if a == 0:\n",
        "  print(\"best case\")\n"
      ],
      "metadata": {
        "colab": {
          "base_uri": "https://localhost:8080/"
        },
        "id": "w3fgK9Ldnvsb",
        "outputId": "61aba48e-b3fa-4841-9eaf-bc14ccb00889"
      },
      "execution_count": 48,
      "outputs": [
        {
          "output_type": "stream",
          "name": "stdout",
          "text": [
            "7\n"
          ]
        }
      ]
    },
    {
      "cell_type": "code",
      "source": [
        "#lowest score for suceed\n",
        "b = 0\n",
        "for i in range(1,41):\n",
        "  if 60+i in x:\n",
        "    print(60+i)\n",
        "    b += 1\n",
        "    break\n",
        "if b == 0:\n",
        "  print(\"worst case\")\n"
      ],
      "metadata": {
        "colab": {
          "base_uri": "https://localhost:8080/"
        },
        "id": "UfQxQuLmpx8n",
        "outputId": "d7904165-e415-414b-94eb-69f01897d08a"
      },
      "execution_count": 50,
      "outputs": [
        {
          "output_type": "stream",
          "name": "stdout",
          "text": [
            "worst case\n"
          ]
        }
      ]
    },
    {
      "cell_type": "code",
      "source": [
        "d"
      ],
      "metadata": {
        "colab": {
          "base_uri": "https://localhost:8080/"
        },
        "id": "rYrirbAqq-6u",
        "outputId": "ecd14947-629c-455d-bb74-3a08bb5c6288"
      },
      "execution_count": 61,
      "outputs": [
        {
          "output_type": "execute_result",
          "data": {
            "text/plain": [
              "['0', '11', '22', '33', '44', '55', '66', '77', '88', '99']"
            ]
          },
          "metadata": {},
          "execution_count": 61
        }
      ]
    },
    {
      "cell_type": "code",
      "source": [
        "n = int(input())\n",
        "d = list(map(int, input().split()))\n",
        "\n",
        "d.sort()\n",
        "c = list(map(str, d))\n",
        "\" \".join(c)\n",
        "\n",
        "#highest score for fail\n",
        "a = 0\n",
        "for i in range(60):\n",
        "  if 60-i in d:\n",
        "    print(60-i)\n",
        "    a += 1\n",
        "    break\n",
        "if a == 0:\n",
        "  print(\"best case\")\n",
        "\n",
        "#lowest score for suceed\n",
        "b = 0\n",
        "for i in range(1,41):\n",
        "  if 60+i in d:\n",
        "    print(60+i)\n",
        "    b += 1\n",
        "    break\n",
        "if b == 0:\n",
        "  print(\"worst case\")"
      ],
      "metadata": {
        "colab": {
          "base_uri": "https://localhost:8080/"
        },
        "id": "9zWW_S0xqGyI",
        "outputId": "1608868d-6a24-4b8d-b45b-09c60ac43ab4"
      },
      "execution_count": 70,
      "outputs": [
        {
          "output_type": "stream",
          "name": "stdout",
          "text": [
            "10\n",
            "0 11 22 33 55 66 77 99 88 44\n",
            "55\n",
            "66\n"
          ]
        }
      ]
    },
    {
      "cell_type": "markdown",
      "source": [
        "#Comprehensions"
      ],
      "metadata": {
        "id": "AH-LNiPF2eXQ"
      }
    },
    {
      "cell_type": "code",
      "source": [
        "x = [1, 2, 3, 3, 1]"
      ],
      "metadata": {
        "id": "fYRSZVrh2o60"
      },
      "execution_count": 71,
      "outputs": []
    },
    {
      "cell_type": "code",
      "source": [
        "# set is represented with {}\n",
        "# set only only saves one copy of the same value\n",
        "set(x)"
      ],
      "metadata": {
        "colab": {
          "base_uri": "https://localhost:8080/"
        },
        "id": "dqHZNB_O2tpN",
        "outputId": "57b3a99e-a5c0-4267-ec23-07690772a60a"
      },
      "execution_count": 72,
      "outputs": [
        {
          "output_type": "execute_result",
          "data": {
            "text/plain": [
              "{1, 2, 3}"
            ]
          },
          "metadata": {},
          "execution_count": 72
        }
      ]
    },
    {
      "cell_type": "code",
      "source": [
        "{n+1 for n in x}"
      ],
      "metadata": {
        "colab": {
          "base_uri": "https://localhost:8080/"
        },
        "id": "ZyQo9KGJ21ON",
        "outputId": "230f1c62-639b-44db-81f7-9b0263bf9151"
      },
      "execution_count": 73,
      "outputs": [
        {
          "output_type": "execute_result",
          "data": {
            "text/plain": [
              "{2, 3, 4}"
            ]
          },
          "metadata": {},
          "execution_count": 73
        }
      ]
    },
    {
      "cell_type": "code",
      "source": [
        "x = \"doggie\""
      ],
      "metadata": {
        "id": "_d_7YDo528n-"
      },
      "execution_count": 74,
      "outputs": []
    },
    {
      "cell_type": "code",
      "source": [
        "#counts the number of each letter\n",
        "#{letter: number of times the letter appears in \"doggie\"}\n",
        "{n:x.count(n) for n in x}"
      ],
      "metadata": {
        "colab": {
          "base_uri": "https://localhost:8080/"
        },
        "id": "Am1MBjvU2_lZ",
        "outputId": "9787831a-d587-4647-eaad-6fdc657f95ab"
      },
      "execution_count": 76,
      "outputs": [
        {
          "output_type": "execute_result",
          "data": {
            "text/plain": [
              "{'d': 1, 'o': 1, 'g': 2, 'i': 1, 'e': 1}"
            ]
          },
          "metadata": {},
          "execution_count": 76
        }
      ]
    },
    {
      "cell_type": "code",
      "source": [
        "x = [1, 2, 3]\n",
        "y = [4, 5, 6]\n",
        "#places x and y together\n",
        "z = zip(x, y)"
      ],
      "metadata": {
        "id": "tEX9PUJo3oon"
      },
      "execution_count": 77,
      "outputs": []
    },
    {
      "cell_type": "code",
      "source": [
        "list(z)"
      ],
      "metadata": {
        "colab": {
          "base_uri": "https://localhost:8080/"
        },
        "id": "qEqy_E993yX7",
        "outputId": "12a05f0a-1b2c-4260-ccd8-4324ba326b55"
      },
      "execution_count": 78,
      "outputs": [
        {
          "output_type": "execute_result",
          "data": {
            "text/plain": [
              "[(1, 4), (2, 5), (3, 6)]"
            ]
          },
          "metadata": {},
          "execution_count": 78
        }
      ]
    },
    {
      "cell_type": "code",
      "source": [
        "w = \"abc\""
      ],
      "metadata": {
        "id": "JmJhgjPu4CZq"
      },
      "execution_count": 79,
      "outputs": []
    },
    {
      "cell_type": "code",
      "source": [
        "list(zip(w,x,y))"
      ],
      "metadata": {
        "colab": {
          "base_uri": "https://localhost:8080/"
        },
        "id": "bm5uPn794EZ4",
        "outputId": "27e3bd32-515e-485d-e5bd-236bfe37f682"
      },
      "execution_count": 80,
      "outputs": [
        {
          "output_type": "execute_result",
          "data": {
            "text/plain": [
              "[('a', 1, 4), ('b', 2, 5), ('c', 3, 6)]"
            ]
          },
          "metadata": {},
          "execution_count": 80
        }
      ]
    }
  ]
}
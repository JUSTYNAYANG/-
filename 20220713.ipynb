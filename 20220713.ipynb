{
  "nbformat": 4,
  "nbformat_minor": 0,
  "metadata": {
    "colab": {
      "name": "20220713.ipynb",
      "provenance": [],
      "authorship_tag": "ABX9TyNsjdxhzeW9cuHWh498UWFP",
      "include_colab_link": true
    },
    "kernelspec": {
      "name": "python3",
      "display_name": "Python 3"
    },
    "language_info": {
      "name": "python"
    }
  },
  "cells": [
    {
      "cell_type": "markdown",
      "metadata": {
        "id": "view-in-github",
        "colab_type": "text"
      },
      "source": [
        "<a href=\"https://colab.research.google.com/github/JUSTYNAYANG/summerpy/blob/main/20220713.ipynb\" target=\"_parent\"><img src=\"https://colab.research.google.com/assets/colab-badge.svg\" alt=\"Open In Colab\"/></a>"
      ]
    },
    {
      "cell_type": "markdown",
      "source": [
        "# Python Basics (more practice)\n",
        "\n",
        "- data types: int, str, bool, float\n",
        "- container types: set, tuple, list, dict\n",
        "- syntax: loops, functions, if statement, exception handling"
      ],
      "metadata": {
        "id": "LUINXCMbNqYv"
      }
    },
    {
      "cell_type": "markdown",
      "source": [
        "## str"
      ],
      "metadata": {
        "id": "OoWqcLzcN-lO"
      }
    },
    {
      "cell_type": "markdown",
      "source": [
        "### string format"
      ],
      "metadata": {
        "id": "ufxcgr2tOAxq"
      }
    },
    {
      "cell_type": "code",
      "source": [
        "x = 1\n",
        "y = 3.14159\n",
        "z = True\n",
        "w = \"dog\""
      ],
      "metadata": {
        "id": "aXkExvJ7N-RP"
      },
      "execution_count": 2,
      "outputs": []
    },
    {
      "cell_type": "markdown",
      "source": [
        "### Python 2+"
      ],
      "metadata": {
        "id": "cEq653G3Rdi7"
      }
    },
    {
      "cell_type": "code",
      "source": [
        "print(\"int: %d, float: %f, bool: %s, str: %s\" % (x, y, z, w))"
      ],
      "metadata": {
        "colab": {
          "base_uri": "https://localhost:8080/"
        },
        "id": "a0TrlNJhSEaq",
        "outputId": "45cdf63f-d71c-4d38-cd36-9b5be3faf559"
      },
      "execution_count": 5,
      "outputs": [
        {
          "output_type": "stream",
          "name": "stdout",
          "text": [
            "int: 1, float: 3.141590, bool: True, str: dog\n"
          ]
        }
      ]
    },
    {
      "cell_type": "markdown",
      "source": [
        "### Python 3+"
      ],
      "metadata": {
        "id": "fYqN4JSzR_BL"
      }
    },
    {
      "cell_type": "code",
      "source": [
        "print(\"int: {}, float: {}, bool: {}, str: {}\".format(x, y, z, w))"
      ],
      "metadata": {
        "colab": {
          "base_uri": "https://localhost:8080/"
        },
        "id": "P0RUCtusR-Zx",
        "outputId": "f350c655-e502-409f-91b4-dbfa51f97053"
      },
      "execution_count": 6,
      "outputs": [
        {
          "output_type": "stream",
          "name": "stdout",
          "text": [
            "int: 1, float: 3.14159, bool: True, str: dog\n"
          ]
        }
      ]
    },
    {
      "cell_type": "code",
      "source": [
        "print(\"a: {}, b: {}, c: {}, d: {}\".format(x, y, z, w))"
      ],
      "metadata": {
        "colab": {
          "base_uri": "https://localhost:8080/"
        },
        "id": "cesG-XluSXyZ",
        "outputId": "8395599d-3ca9-4565-db8c-8e1de86e1eaf"
      },
      "execution_count": 8,
      "outputs": [
        {
          "output_type": "stream",
          "name": "stdout",
          "text": [
            "a: 1, b: 3.14159, c: True, d: dog\n"
          ]
        }
      ]
    },
    {
      "cell_type": "code",
      "source": [
        "print(\"a: {0}, b: {2}, c: {1}, d: {3}\".format(x, y, z, w))"
      ],
      "metadata": {
        "colab": {
          "base_uri": "https://localhost:8080/"
        },
        "id": "DmVJvtBNSfSG",
        "outputId": "1d84f33d-f41a-41e4-f8f6-37bfb3ca4b0d"
      },
      "execution_count": 11,
      "outputs": [
        {
          "output_type": "stream",
          "name": "stdout",
          "text": [
            "a: 1, b: True, c: 3.14159, d: dog\n"
          ]
        }
      ]
    },
    {
      "cell_type": "markdown",
      "source": [
        "###f-string (python 3.5+)"
      ],
      "metadata": {
        "id": "3OgTBmf8OO7A"
      }
    },
    {
      "cell_type": "code",
      "execution_count": 3,
      "metadata": {
        "colab": {
          "base_uri": "https://localhost:8080/"
        },
        "id": "HET8tBrWEE4P",
        "outputId": "00361a94-1934-4c8b-a90b-115c8455a392"
      },
      "outputs": [
        {
          "output_type": "stream",
          "name": "stdout",
          "text": [
            "int: True float: 3.14159 bool: True str:dog\n"
          ]
        }
      ],
      "source": [
        "print(f\"int: {z} float: {y} bool: {z} str:{w}\")"
      ]
    },
    {
      "cell_type": "code",
      "source": [
        "print(f\"x: {x}\")"
      ],
      "metadata": {
        "colab": {
          "base_uri": "https://localhost:8080/"
        },
        "id": "jDbZMfRYS_t7",
        "outputId": "98683ee7-7f61-41a4-8166-728c4c215e86"
      },
      "execution_count": 12,
      "outputs": [
        {
          "output_type": "stream",
          "name": "stdout",
          "text": [
            "x: 1\n"
          ]
        }
      ]
    },
    {
      "cell_type": "code",
      "source": [
        "print(f\"x: {x+1}\")"
      ],
      "metadata": {
        "colab": {
          "base_uri": "https://localhost:8080/"
        },
        "id": "dEpfeM9oTD5x",
        "outputId": "797fbf84-1388-4ebb-9f51-796dd869ec5e"
      },
      "execution_count": 13,
      "outputs": [
        {
          "output_type": "stream",
          "name": "stdout",
          "text": [
            "x: 2\n"
          ]
        }
      ]
    },
    {
      "cell_type": "code",
      "source": [
        "print(f\"x: {x:5}\")\n",
        "# this prints the 5 number place (since x is 5, there is empty spaces before it)"
      ],
      "metadata": {
        "colab": {
          "base_uri": "https://localhost:8080/"
        },
        "id": "bnJF2Ki2TOKr",
        "outputId": "53857204-29b8-4f07-d7f6-72b772621b41"
      },
      "execution_count": 16,
      "outputs": [
        {
          "output_type": "stream",
          "name": "stdout",
          "text": [
            "x:     1\n"
          ]
        }
      ]
    },
    {
      "cell_type": "code",
      "source": [
        "print(f\"x: {x + 5:05}\")\n",
        "# dds zero in the spaces"
      ],
      "metadata": {
        "colab": {
          "base_uri": "https://localhost:8080/"
        },
        "id": "PQo6Iv_fTsSU",
        "outputId": "b3186fbc-a937-44a7-aa6f-2e3381d95a0c"
      },
      "execution_count": 43,
      "outputs": [
        {
          "output_type": "stream",
          "name": "stdout",
          "text": [
            "x: 00006\n"
          ]
        }
      ]
    },
    {
      "cell_type": "code",
      "source": [
        "print(f\"y: {y:.2f}\")\n",
        "# only prints to the hundredth"
      ],
      "metadata": {
        "colab": {
          "base_uri": "https://localhost:8080/"
        },
        "id": "zNMn5EJVTf-6",
        "outputId": "626e55fb-5c4c-4b53-9f7b-bf62477ab785"
      },
      "execution_count": 42,
      "outputs": [
        {
          "output_type": "stream",
          "name": "stdout",
          "text": [
            "y: 3.14\n"
          ]
        }
      ]
    },
    {
      "cell_type": "code",
      "source": [
        "print(f\"y: {y:.3f}\")\n",
        "# only prints to the thousandths"
      ],
      "metadata": {
        "colab": {
          "base_uri": "https://localhost:8080/"
        },
        "id": "YTN2MpT1XDmw",
        "outputId": "4e57e9ed-f53d-4067-f911-875d87397f33"
      },
      "execution_count": 40,
      "outputs": [
        {
          "output_type": "stream",
          "name": "stdout",
          "text": [
            "y: 3.142\n"
          ]
        }
      ]
    },
    {
      "cell_type": "code",
      "source": [
        "print(f\"{y:8.2}\")\n",
        "# 5 doesn't mean that there should be 8 spaces in the front, it means that there should be 8 number places in total"
      ],
      "metadata": {
        "colab": {
          "base_uri": "https://localhost:8080/"
        },
        "id": "KuBnijhJXsnH",
        "outputId": "6ec371b8-8e2e-4b98-8f23-4ed4a70d3563"
      },
      "execution_count": 47,
      "outputs": [
        {
          "output_type": "stream",
          "name": "stdout",
          "text": [
            "     3.1\n"
          ]
        }
      ]
    },
    {
      "cell_type": "code",
      "source": [
        "print(f\"{y:08.2f}\")\n",
        "# add 0 for better view"
      ],
      "metadata": {
        "colab": {
          "base_uri": "https://localhost:8080/"
        },
        "id": "Rim-tFa_X_YR",
        "outputId": "3737f9cd-437d-48b5-886b-1e0e456aa287"
      },
      "execution_count": 49,
      "outputs": [
        {
          "output_type": "stream",
          "name": "stdout",
          "text": [
            "00003.14\n"
          ]
        }
      ]
    },
    {
      "cell_type": "code",
      "source": [
        "print(f\"x: {x + 5:b}\")\n",
        "# b = binary \n",
        "# so this makes the output binary"
      ],
      "metadata": {
        "colab": {
          "base_uri": "https://localhost:8080/"
        },
        "id": "Knkg93_CT83W",
        "outputId": "f86ba1e1-18cd-4578-f2b5-96debef55039"
      },
      "execution_count": 44,
      "outputs": [
        {
          "output_type": "stream",
          "name": "stdout",
          "text": [
            "x: 110\n"
          ]
        }
      ]
    },
    {
      "cell_type": "code",
      "source": [
        "print(f\"x: {x + 5:x}\")\n",
        "# x =  hexadecimal\n",
        "# so this results a output of a hexadecimal"
      ],
      "metadata": {
        "colab": {
          "base_uri": "https://localhost:8080/"
        },
        "id": "fMqC7fcWUCFL",
        "outputId": "98feb2b8-b28b-4f2b-b67a-d6c257f72d7c"
      },
      "execution_count": 39,
      "outputs": [
        {
          "output_type": "stream",
          "name": "stdout",
          "text": [
            "x: 6\n"
          ]
        }
      ]
    },
    {
      "cell_type": "markdown",
      "source": [
        "#### Practice:\n",
        "Changing numbers into binary and hexadecimal"
      ],
      "metadata": {
        "id": "TvYKNUdiWhX0"
      }
    },
    {
      "cell_type": "code",
      "source": [
        "for i in range(16):\n",
        "  print(f\"the binary code of {i} is {i:b} and its hexadecimal code is: {i:x}\")\n"
      ],
      "metadata": {
        "colab": {
          "base_uri": "https://localhost:8080/"
        },
        "id": "eSEt9pNzVUP5",
        "outputId": "39278b76-b785-452e-d397-5ab49575c51a"
      },
      "execution_count": 31,
      "outputs": [
        {
          "output_type": "stream",
          "name": "stdout",
          "text": [
            "the binary code of 0 is 0 and its hexadecimal code is: 0\n",
            "the binary code of 1 is 1 and its hexadecimal code is: 1\n",
            "the binary code of 2 is 10 and its hexadecimal code is: 2\n",
            "the binary code of 3 is 11 and its hexadecimal code is: 3\n",
            "the binary code of 4 is 100 and its hexadecimal code is: 4\n",
            "the binary code of 5 is 101 and its hexadecimal code is: 5\n",
            "the binary code of 6 is 110 and its hexadecimal code is: 6\n",
            "the binary code of 7 is 111 and its hexadecimal code is: 7\n",
            "the binary code of 8 is 1000 and its hexadecimal code is: 8\n",
            "the binary code of 9 is 1001 and its hexadecimal code is: 9\n",
            "the binary code of 10 is 1010 and its hexadecimal code is: a\n",
            "the binary code of 11 is 1011 and its hexadecimal code is: b\n",
            "the binary code of 12 is 1100 and its hexadecimal code is: c\n",
            "the binary code of 13 is 1101 and its hexadecimal code is: d\n",
            "the binary code of 14 is 1110 and its hexadecimal code is: e\n",
            "the binary code of 15 is 1111 and its hexadecimal code is: f\n"
          ]
        }
      ]
    },
    {
      "cell_type": "code",
      "source": [
        "for i in range(16):\n",
        "  print(f\"{i} --> {i:04b} --> {i:x}\")\n",
        "  # this adds 0 to the beginning"
      ],
      "metadata": {
        "colab": {
          "base_uri": "https://localhost:8080/"
        },
        "id": "m8ur95h9Wqxw",
        "outputId": "8b86ab04-903d-4e7b-f88d-a5014b4bf3b2"
      },
      "execution_count": 37,
      "outputs": [
        {
          "output_type": "stream",
          "name": "stdout",
          "text": [
            "0 --> 0000 --> 0\n",
            "1 --> 0001 --> 1\n",
            "2 --> 0010 --> 2\n",
            "3 --> 0011 --> 3\n",
            "4 --> 0100 --> 4\n",
            "5 --> 0101 --> 5\n",
            "6 --> 0110 --> 6\n",
            "7 --> 0111 --> 7\n",
            "8 --> 1000 --> 8\n",
            "9 --> 1001 --> 9\n",
            "10 --> 1010 --> a\n",
            "11 --> 1011 --> b\n",
            "12 --> 1100 --> c\n",
            "13 --> 1101 --> d\n",
            "14 --> 1110 --> e\n",
            "15 --> 1111 --> f\n"
          ]
        }
      ]
    },
    {
      "cell_type": "markdown",
      "source": [
        "## str <--> list\n",
        "\n",
        "interchanging string and lists"
      ],
      "metadata": {
        "id": "nNA5BkmKYKvc"
      }
    },
    {
      "cell_type": "markdown",
      "source": [
        "### str --> list"
      ],
      "metadata": {
        "id": "FMQZVloDZD4q"
      }
    },
    {
      "cell_type": "markdown",
      "source": [
        "#### just using list"
      ],
      "metadata": {
        "id": "2K_Pcy44Zy_q"
      }
    },
    {
      "cell_type": "code",
      "source": [
        " s = \"abcde\""
      ],
      "metadata": {
        "id": "ENmfpLYJYRxa"
      },
      "execution_count": 50,
      "outputs": []
    },
    {
      "cell_type": "code",
      "source": [
        "sl = list(s)"
      ],
      "metadata": {
        "id": "JDAIDjE9YUNg"
      },
      "execution_count": 51,
      "outputs": []
    },
    {
      "cell_type": "code",
      "source": [
        "sl"
      ],
      "metadata": {
        "colab": {
          "base_uri": "https://localhost:8080/"
        },
        "id": "AkPDsgtSYX0M",
        "outputId": "6b56239a-ceb2-4d65-db7d-5b7f0a4ca805"
      },
      "execution_count": 52,
      "outputs": [
        {
          "output_type": "execute_result",
          "data": {
            "text/plain": [
              "['a', 'b', 'c', 'd', 'e']"
            ]
          },
          "metadata": {},
          "execution_count": 52
        }
      ]
    },
    {
      "cell_type": "code",
      "source": [
        "v = \"\"\n",
        "for i in sl:\n",
        "  v += i\n",
        "  \n",
        "v"
      ],
      "metadata": {
        "colab": {
          "base_uri": "https://localhost:8080/",
          "height": 35
        },
        "id": "GbUt0U3sYZHK",
        "outputId": "1dc92908-7086-45cd-b722-c3a68108ae55"
      },
      "execution_count": 56,
      "outputs": [
        {
          "output_type": "execute_result",
          "data": {
            "text/plain": [
              "'abcde'"
            ],
            "application/vnd.google.colaboratory.intrinsic+json": {
              "type": "string"
            }
          },
          "metadata": {},
          "execution_count": 56
        }
      ]
    },
    {
      "cell_type": "markdown",
      "source": [
        "#### split"
      ],
      "metadata": {
        "id": "mbQQJsvAZ1aR"
      }
    },
    {
      "cell_type": "code",
      "source": [
        "s1 = \"He is my friend.\""
      ],
      "metadata": {
        "id": "fjHc3sZmZ-ja"
      },
      "execution_count": 63,
      "outputs": []
    },
    {
      "cell_type": "code",
      "source": [
        "s2 = s1.split()"
      ],
      "metadata": {
        "id": "PQRHrMyDZ1Dk"
      },
      "execution_count": 64,
      "outputs": []
    },
    {
      "cell_type": "code",
      "source": [
        "s2"
      ],
      "metadata": {
        "colab": {
          "base_uri": "https://localhost:8080/"
        },
        "id": "8PPNNsj9aHKs",
        "outputId": "a1c7b755-37f0-4c7c-9391-4785a0b15813"
      },
      "execution_count": 65,
      "outputs": [
        {
          "output_type": "execute_result",
          "data": {
            "text/plain": [
              "['He', 'is', 'my', 'friend.']"
            ]
          },
          "metadata": {},
          "execution_count": 65
        }
      ]
    },
    {
      "cell_type": "markdown",
      "source": [
        "###list --> str"
      ],
      "metadata": {
        "id": "4bXU-AFcZILj"
      }
    },
    {
      "cell_type": "code",
      "source": [
        "sl"
      ],
      "metadata": {
        "colab": {
          "base_uri": "https://localhost:8080/"
        },
        "id": "EXDg_docZHvw",
        "outputId": "dd426be4-6f4b-45ca-ad21-662cdec007a1"
      },
      "execution_count": 57,
      "outputs": [
        {
          "output_type": "execute_result",
          "data": {
            "text/plain": [
              "['a', 'b', 'c', 'd', 'e']"
            ]
          },
          "metadata": {},
          "execution_count": 57
        }
      ]
    },
    {
      "cell_type": "code",
      "source": [
        "\"\".join(sl)\n",
        "# joins list into a string"
      ],
      "metadata": {
        "colab": {
          "base_uri": "https://localhost:8080/",
          "height": 35
        },
        "id": "VM5U60vgZLre",
        "outputId": "33e13e56-42d3-4f71-9013-30f99eb07452"
      },
      "execution_count": 59,
      "outputs": [
        {
          "output_type": "execute_result",
          "data": {
            "text/plain": [
              "'abcde'"
            ],
            "application/vnd.google.colaboratory.intrinsic+json": {
              "type": "string"
            }
          },
          "metadata": {},
          "execution_count": 59
        }
      ]
    },
    {
      "cell_type": "code",
      "source": [
        "\"0\".join(sl)\n",
        "# if you place things in the \"\" it is add between the objects joined"
      ],
      "metadata": {
        "colab": {
          "base_uri": "https://localhost:8080/",
          "height": 35
        },
        "id": "CDpEGKG1ZZrX",
        "outputId": "50681635-4ab3-4095-a4bd-abbdf9ffb12e"
      },
      "execution_count": 61,
      "outputs": [
        {
          "output_type": "execute_result",
          "data": {
            "text/plain": [
              "'a0b0c0d0e'"
            ],
            "application/vnd.google.colaboratory.intrinsic+json": {
              "type": "string"
            }
          },
          "metadata": {},
          "execution_count": 61
        }
      ]
    },
    {
      "cell_type": "code",
      "source": [
        "\" \".join(sl)"
      ],
      "metadata": {
        "colab": {
          "base_uri": "https://localhost:8080/",
          "height": 35
        },
        "id": "gQXTbZP2Zi6O",
        "outputId": "361bed55-7295-409f-83c8-a63bbeb74e85"
      },
      "execution_count": 62,
      "outputs": [
        {
          "output_type": "execute_result",
          "data": {
            "text/plain": [
              "'a b c d e'"
            ],
            "application/vnd.google.colaboratory.intrinsic+json": {
              "type": "string"
            }
          },
          "metadata": {},
          "execution_count": 62
        }
      ]
    },
    {
      "cell_type": "code",
      "source": [
        "\" \".join(s2)"
      ],
      "metadata": {
        "colab": {
          "base_uri": "https://localhost:8080/",
          "height": 35
        },
        "id": "yAGnmEj3aVOT",
        "outputId": "f0b0ac6a-3ae7-4019-bcf2-a6efe7542c62"
      },
      "execution_count": 68,
      "outputs": [
        {
          "output_type": "execute_result",
          "data": {
            "text/plain": [
              "'He is my friend.'"
            ],
            "application/vnd.google.colaboratory.intrinsic+json": {
              "type": "string"
            }
          },
          "metadata": {},
          "execution_count": 68
        }
      ]
    },
    {
      "cell_type": "code",
      "source": [
        "\" \".join(s1)"
      ],
      "metadata": {
        "colab": {
          "base_uri": "https://localhost:8080/",
          "height": 35
        },
        "id": "gdx0fn1FaaWn",
        "outputId": "ff13a7f1-a375-40cb-b8fe-53be092d3997"
      },
      "execution_count": 69,
      "outputs": [
        {
          "output_type": "execute_result",
          "data": {
            "text/plain": [
              "'H e   i s   m y   f r i e n d .'"
            ],
            "application/vnd.google.colaboratory.intrinsic+json": {
              "type": "string"
            }
          },
          "metadata": {},
          "execution_count": 69
        }
      ]
    },
    {
      "cell_type": "markdown",
      "source": [
        "# Beautiful Soup"
      ],
      "metadata": {
        "id": "ROpk9pFrbKKQ"
      }
    },
    {
      "cell_type": "markdown",
      "source": [
        "## Crawling with Request"
      ],
      "metadata": {
        "id": "s2630zglgTUb"
      }
    },
    {
      "cell_type": "code",
      "source": [
        "import requests\n",
        "from bs4 import BeautifulSoup"
      ],
      "metadata": {
        "id": "BKg89E-JbOMX"
      },
      "execution_count": 71,
      "outputs": []
    },
    {
      "cell_type": "code",
      "source": [
        "url = \"https://victorgau.github.io/khpy_web_intro/example01.html\""
      ],
      "metadata": {
        "id": "XHk1DJEjfFNQ"
      },
      "execution_count": 72,
      "outputs": []
    },
    {
      "cell_type": "code",
      "source": [
        "r = requests.get(url)"
      ],
      "metadata": {
        "id": "S9ukcpDGfHZl"
      },
      "execution_count": 73,
      "outputs": []
    },
    {
      "cell_type": "code",
      "source": [
        "print(r.text)"
      ],
      "metadata": {
        "colab": {
          "base_uri": "https://localhost:8080/"
        },
        "id": "WOqKBtzZfSjP",
        "outputId": "923b2d8f-4d69-46e4-8968-c91596b4765d"
      },
      "execution_count": 74,
      "outputs": [
        {
          "output_type": "stream",
          "name": "stdout",
          "text": [
            "<!DOCTYPE html>\n",
            "<html>\n",
            "<head>\n",
            "    <title>這是範例一</title>\n",
            "</head>\n",
            "<body>\n",
            "\n",
            "<h1>哈囉！HTML！</h1>\n",
            "\n",
            "<div class=\"class1\">\n",
            "    <p>這是第一個p標籤內容！</p>\n",
            "    <p>這是第二個p標籤內容！</p>\n",
            "</div>\n",
            "\n",
            "<div class=\"class2\">\n",
            "    <p>這是第三個p標籤內容！</p>\n",
            "    <p>這是第四個p標籤內容！</p>\n",
            "</div>\n",
            "</body>\n",
            "</html>\n"
          ]
        }
      ]
    },
    {
      "cell_type": "code",
      "source": [
        "type(r.text)"
      ],
      "metadata": {
        "colab": {
          "base_uri": "https://localhost:8080/"
        },
        "id": "KgqH8DgbfUti",
        "outputId": "deef3cca-223e-42db-b4f8-b9d52a02251d"
      },
      "execution_count": 76,
      "outputs": [
        {
          "output_type": "execute_result",
          "data": {
            "text/plain": [
              "str"
            ]
          },
          "metadata": {},
          "execution_count": 76
        }
      ]
    },
    {
      "cell_type": "markdown",
      "source": [
        "### Parsing with Beautiful Soup"
      ],
      "metadata": {
        "id": "9xKq99D8gg1U"
      }
    },
    {
      "cell_type": "code",
      "source": [
        "soup = BeautifulSoup(r.text)"
      ],
      "metadata": {
        "id": "1EPn-PwGfq80"
      },
      "execution_count": 77,
      "outputs": []
    },
    {
      "cell_type": "code",
      "source": [
        "soup"
      ],
      "metadata": {
        "colab": {
          "base_uri": "https://localhost:8080/"
        },
        "id": "eCrbc-zcjSuK",
        "outputId": "ea635e2c-61c8-4d19-933f-55a22446f61d"
      },
      "execution_count": 83,
      "outputs": [
        {
          "output_type": "execute_result",
          "data": {
            "text/plain": [
              "<!DOCTYPE html>\n",
              "<html>\n",
              "<head>\n",
              "<title>這是範例一</title>\n",
              "</head>\n",
              "<body>\n",
              "<h1>哈囉！HTML！</h1>\n",
              "<div class=\"class1\">\n",
              "<p>這是第一個p標籤內容！</p>\n",
              "<p>這是第二個p標籤內容！</p>\n",
              "</div>\n",
              "<div class=\"class2\">\n",
              "<p>這是第三個p標籤內容！</p>\n",
              "<p>這是第四個p標籤內容！</p>\n",
              "</div>\n",
              "</body>\n",
              "</html>"
            ]
          },
          "metadata": {},
          "execution_count": 83
        }
      ]
    },
    {
      "cell_type": "code",
      "source": [
        "soup.title"
      ],
      "metadata": {
        "colab": {
          "base_uri": "https://localhost:8080/"
        },
        "id": "uL3iEK63fq0L",
        "outputId": "9c64f411-a07e-433f-fe9c-701b25d65da6"
      },
      "execution_count": 78,
      "outputs": [
        {
          "output_type": "execute_result",
          "data": {
            "text/plain": [
              "<title>這是範例一</title>"
            ]
          },
          "metadata": {},
          "execution_count": 78
        }
      ]
    },
    {
      "cell_type": "code",
      "source": [
        "soup.h1"
      ],
      "metadata": {
        "colab": {
          "base_uri": "https://localhost:8080/"
        },
        "id": "bT4Xh1Y1fzK3",
        "outputId": "4325032e-efb7-46ff-9957-bf6740079768"
      },
      "execution_count": 80,
      "outputs": [
        {
          "output_type": "execute_result",
          "data": {
            "text/plain": [
              "<h1>哈囉！HTML！</h1>"
            ]
          },
          "metadata": {},
          "execution_count": 80
        }
      ]
    },
    {
      "cell_type": "code",
      "source": [
        "soup.p"
      ],
      "metadata": {
        "colab": {
          "base_uri": "https://localhost:8080/"
        },
        "id": "hWaHaBKrf2sn",
        "outputId": "21377413-c318-40e2-be87-bde4c45919b9"
      },
      "execution_count": 81,
      "outputs": [
        {
          "output_type": "execute_result",
          "data": {
            "text/plain": [
              "<p>這是第一個p標籤內容！</p>"
            ]
          },
          "metadata": {},
          "execution_count": 81
        }
      ]
    },
    {
      "cell_type": "code",
      "source": [
        "soup.select(\"p\")\n",
        "# taking everything that has p and places it in a list"
      ],
      "metadata": {
        "colab": {
          "base_uri": "https://localhost:8080/"
        },
        "id": "KMTPhEsfgBoZ",
        "outputId": "46653fbc-2b31-413b-cc57-baee2322f535"
      },
      "execution_count": 82,
      "outputs": [
        {
          "output_type": "execute_result",
          "data": {
            "text/plain": [
              "[<p>這是第一個p標籤內容！</p>,\n",
              " <p>這是第二個p標籤內容！</p>,\n",
              " <p>這是第三個p標籤內容！</p>,\n",
              " <p>這是第四個p標籤內容！</p>]"
            ]
          },
          "metadata": {},
          "execution_count": 82
        }
      ]
    },
    {
      "cell_type": "code",
      "source": [
        "soup.select(\".class1\")\n",
        "# only returns objects tagged with class1 into a list\n",
        "# the . before class1 is important as it means a class instead of tag"
      ],
      "metadata": {
        "colab": {
          "base_uri": "https://localhost:8080/"
        },
        "id": "fhju75FogEOI",
        "outputId": "a61006a0-e820-4517-a2a4-7d237df8f50e"
      },
      "execution_count": 90,
      "outputs": [
        {
          "output_type": "execute_result",
          "data": {
            "text/plain": [
              "[<div class=\"class1\">\n",
              " <p>這是第一個p標籤內容！</p>\n",
              " <p>這是第二個p標籤內容！</p>\n",
              " </div>]"
            ]
          },
          "metadata": {},
          "execution_count": 90
        }
      ]
    },
    {
      "cell_type": "code",
      "source": [
        "soup.select(\".class1 p\")\n",
        "# sorta works like dict, this would then return everything in class1 that is tagged with p into a list"
      ],
      "metadata": {
        "colab": {
          "base_uri": "https://localhost:8080/"
        },
        "id": "HnmiVcmVjvX0",
        "outputId": "6afcf2a6-052c-492b-ebb9-36bfb7dfc98d"
      },
      "execution_count": 91,
      "outputs": [
        {
          "output_type": "execute_result",
          "data": {
            "text/plain": [
              "[<p>這是第一個p標籤內容！</p>, <p>這是第二個p標籤內容！</p>]"
            ]
          },
          "metadata": {},
          "execution_count": 91
        }
      ]
    },
    {
      "cell_type": "code",
      "source": [
        "soup.select(\".class1 p\")[0]\n",
        "# indexing"
      ],
      "metadata": {
        "colab": {
          "base_uri": "https://localhost:8080/"
        },
        "id": "UKaYt2vRkSyE",
        "outputId": "174f35fc-a51b-4191-d7e1-36776149058c"
      },
      "execution_count": 92,
      "outputs": [
        {
          "output_type": "execute_result",
          "data": {
            "text/plain": [
              "<p>這是第一個p標籤內容！</p>"
            ]
          },
          "metadata": {},
          "execution_count": 92
        }
      ]
    },
    {
      "cell_type": "markdown",
      "source": [
        "# Homework\n",
        "\n",
        "- part 1 (grabbing photos)\n",
        "  - http://jimmyts.pixnet.net/album/set/2374457-pokemon-go\n",
        "- part 2 (zerojudge)\n",
        "  - https://zerojudge.tw/ShowProblem?problemid=a005\n",
        "  -https://zerojudge.tw/ShowProblem?problemid=a006"
      ],
      "metadata": {
        "id": "OpfW2QRnk3fD"
      }
    },
    {
      "cell_type": "markdown",
      "source": [
        "## part 1(grabbing photos)"
      ],
      "metadata": {
        "id": "Pb4SPa0KqUrK"
      }
    },
    {
      "cell_type": "code",
      "source": [
        "url = \"http://jimmyts.pixnet.net/album/set/2374457-pokemon-go\""
      ],
      "metadata": {
        "id": "RzdzhZztlIKU"
      },
      "execution_count": 103,
      "outputs": []
    },
    {
      "cell_type": "code",
      "source": [
        "r1 = requests.get(url)"
      ],
      "metadata": {
        "id": "jDOOD7xmlKDH"
      },
      "execution_count": 112,
      "outputs": []
    },
    {
      "cell_type": "code",
      "source": [
        "soup = BeautifulSoup(r1.text)"
      ],
      "metadata": {
        "id": "lYv1RJRTlNji"
      },
      "execution_count": 113,
      "outputs": []
    },
    {
      "cell_type": "code",
      "source": [
        "images = soup.select(\".photo-grid-list img\")"
      ],
      "metadata": {
        "id": "nKfeE-LvlW_d"
      },
      "execution_count": 114,
      "outputs": []
    },
    {
      "cell_type": "code",
      "source": [
        "type(images)"
      ],
      "metadata": {
        "colab": {
          "base_uri": "https://localhost:8080/"
        },
        "id": "zaUxqFT7luE3",
        "outputId": "3f1bb004-8d84-4b05-a7b7-b0fde9c7139d"
      },
      "execution_count": 115,
      "outputs": [
        {
          "output_type": "execute_result",
          "data": {
            "text/plain": [
              "list"
            ]
          },
          "metadata": {},
          "execution_count": 115
        }
      ]
    },
    {
      "cell_type": "code",
      "source": [
        "images"
      ],
      "metadata": {
        "colab": {
          "base_uri": "https://localhost:8080/"
        },
        "id": "kGsUiH2tm0Ui",
        "outputId": "ba560f55-b632-48bf-d652-a2110f54e0a7"
      },
      "execution_count": 117,
      "outputs": [
        {
          "output_type": "execute_result",
          "data": {
            "text/plain": [
              "[<img alt=\"IMG_8213.PNG\" class=\"thumb\" height=\"120\" src=\"https://pic.pimg.tw/jimmyts/1468302230-632604139_s.png\" width=\"120\"/>,\n",
              " <img alt=\"IMG_8873.PNG\" class=\"thumb\" height=\"120\" src=\"https://pic.pimg.tw/jimmyts/1473216280-353769481_s.jpg\" width=\"120\"/>,\n",
              " <img alt=\"IMG_8874.PNG\" class=\"thumb\" height=\"120\" src=\"https://pic.pimg.tw/jimmyts/1473216280-3763391123_s.jpg\" width=\"120\"/>,\n",
              " <img alt=\"\" class=\"thumb\" height=\"120\" src=\"https://pic.pimg.tw/jimmyts/1473332659-96598337_s.jpg\" width=\"120\"/>,\n",
              " <img alt=\"\" class=\"thumb\" height=\"120\" src=\"https://pic.pimg.tw/jimmyts/1473332709-274480695_s.jpg\" width=\"120\"/>,\n",
              " <img alt=\"\" class=\"thumb\" height=\"120\" src=\"https://pic.pimg.tw/jimmyts/1473332752-2824594462_s.jpg\" width=\"120\"/>,\n",
              " <img alt=\"\" class=\"thumb\" height=\"120\" src=\"https://pic.pimg.tw/jimmyts/1473332812-2589764259_s.jpg\" width=\"120\"/>,\n",
              " <img alt=\"\" class=\"thumb\" height=\"120\" src=\"https://pic.pimg.tw/jimmyts/1473333041-4128680970_s.jpg\" width=\"120\"/>,\n",
              " <img alt=\"\" class=\"thumb\" height=\"120\" src=\"https://pic.pimg.tw/jimmyts/1473592981-1596477319_s.jpg\" width=\"120\"/>,\n",
              " <img alt=\"\" class=\"thumb\" height=\"120\" src=\"https://pic.pimg.tw/jimmyts/1473593314-2078276936_s.jpg\" width=\"120\"/>,\n",
              " <img alt=\"\" class=\"thumb\" height=\"120\" src=\"https://pic.pimg.tw/jimmyts/1473593356-1566458337_s.jpg\" width=\"120\"/>,\n",
              " <img alt=\"\" class=\"thumb\" height=\"120\" src=\"https://pic.pimg.tw/jimmyts/1473593380-3632338577_s.jpg\" width=\"120\"/>,\n",
              " <img alt=\"\" class=\"thumb\" height=\"120\" src=\"https://pic.pimg.tw/jimmyts/1473593407-2656978984_s.jpg\" width=\"120\"/>,\n",
              " <img alt=\"\" class=\"thumb\" height=\"120\" src=\"https://pic.pimg.tw/jimmyts/1473593793-2716208951_s.jpg\" width=\"120\"/>,\n",
              " <img alt=\"IMG_8995.PNG\" class=\"thumb\" height=\"120\" src=\"https://pic.pimg.tw/jimmyts/1473648507-2433764218_s.png\" width=\"120\"/>,\n",
              " <img alt=\"IMG_8993.PNG\" class=\"thumb\" height=\"120\" src=\"https://pic.pimg.tw/jimmyts/1473648728-110570407_s.png\" width=\"120\"/>,\n",
              " <img alt=\"IMG_8998.PNG\" class=\"thumb\" height=\"120\" src=\"https://pic.pimg.tw/jimmyts/1473648728-2398114218_s.png\" width=\"120\"/>,\n",
              " <img alt=\"IMG_8984.PNG\" class=\"thumb\" height=\"120\" src=\"https://pic.pimg.tw/jimmyts/1473649832-2851034535_s.png\" width=\"120\"/>,\n",
              " <img alt=\"IMG_8985.PNG\" class=\"thumb\" height=\"120\" src=\"https://pic.pimg.tw/jimmyts/1473649832-2516106490_s.png\" width=\"120\"/>,\n",
              " <img alt=\"IMG_8986.PNG\" class=\"thumb\" height=\"120\" src=\"https://pic.pimg.tw/jimmyts/1473649832-3733406416_s.png\" width=\"120\"/>,\n",
              " <img alt=\"IMG_8994.PNG\" class=\"thumb\" height=\"120\" src=\"https://pic.pimg.tw/jimmyts/1473649832-3462383147_s.png\" width=\"120\"/>,\n",
              " <img alt=\"\" class=\"thumb\" height=\"120\" src=\"https://pic.pimg.tw/jimmyts/1473863746-4232209147_s.jpg\" width=\"120\"/>,\n",
              " <img alt=\"\" class=\"thumb\" height=\"120\" src=\"https://pic.pimg.tw/jimmyts/1473863866-3088626343_s.jpg\" width=\"120\"/>,\n",
              " <img alt=\"\" class=\"thumb\" height=\"120\" src=\"https://pic.pimg.tw/jimmyts/1473863921-1287626477_s.jpg\" width=\"120\"/>,\n",
              " <img alt=\"\" class=\"thumb\" height=\"120\" src=\"https://pic.pimg.tw/jimmyts/1473863975-3957521357_s.jpg\" width=\"120\"/>,\n",
              " <img alt=\"\" class=\"thumb\" height=\"120\" src=\"https://pic.pimg.tw/jimmyts/1473864377-3839365121_s.jpg\" width=\"120\"/>,\n",
              " <img alt=\"\" class=\"thumb\" height=\"120\" src=\"https://pic.pimg.tw/jimmyts/1473864531-4008917655_s.jpg\" width=\"120\"/>,\n",
              " <img alt=\"\" class=\"thumb\" height=\"120\" src=\"https://pic.pimg.tw/jimmyts/1473864556-2305859169_s.jpg\" width=\"120\"/>,\n",
              " <img alt=\"\" class=\"thumb\" height=\"120\" src=\"https://pic.pimg.tw/jimmyts/1473864706-3230250039_s.jpg\" width=\"120\"/>,\n",
              " <img alt=\"\" class=\"thumb\" height=\"120\" src=\"https://pic.pimg.tw/jimmyts/1473864793-2185057578_s.jpg\" width=\"120\"/>]"
            ]
          },
          "metadata": {},
          "execution_count": 117
        }
      ]
    },
    {
      "cell_type": "code",
      "source": [
        "images[1]"
      ],
      "metadata": {
        "colab": {
          "base_uri": "https://localhost:8080/"
        },
        "id": "2qVoGoT3mKNY",
        "outputId": "7b0545e7-cb2f-4734-e189-0a76f35d67f8"
      },
      "execution_count": 116,
      "outputs": [
        {
          "output_type": "execute_result",
          "data": {
            "text/plain": [
              "<img alt=\"IMG_8873.PNG\" class=\"thumb\" height=\"120\" src=\"https://pic.pimg.tw/jimmyts/1473216280-353769481_s.jpg\" width=\"120\"/>"
            ]
          },
          "metadata": {},
          "execution_count": 116
        }
      ]
    },
    {
      "cell_type": "code",
      "source": [
        "for image in images:\n",
        "  print(image.get(\"src\"))"
      ],
      "metadata": {
        "colab": {
          "base_uri": "https://localhost:8080/"
        },
        "id": "45F1EZ5xnTwr",
        "outputId": "07261d94-5fef-4489-bd8c-077d5fbb963f"
      },
      "execution_count": 120,
      "outputs": [
        {
          "output_type": "stream",
          "name": "stdout",
          "text": [
            "https://pic.pimg.tw/jimmyts/1468302230-632604139_s.png\n",
            "https://pic.pimg.tw/jimmyts/1473216280-353769481_s.jpg\n",
            "https://pic.pimg.tw/jimmyts/1473216280-3763391123_s.jpg\n",
            "https://pic.pimg.tw/jimmyts/1473332659-96598337_s.jpg\n",
            "https://pic.pimg.tw/jimmyts/1473332709-274480695_s.jpg\n",
            "https://pic.pimg.tw/jimmyts/1473332752-2824594462_s.jpg\n",
            "https://pic.pimg.tw/jimmyts/1473332812-2589764259_s.jpg\n",
            "https://pic.pimg.tw/jimmyts/1473333041-4128680970_s.jpg\n",
            "https://pic.pimg.tw/jimmyts/1473592981-1596477319_s.jpg\n",
            "https://pic.pimg.tw/jimmyts/1473593314-2078276936_s.jpg\n",
            "https://pic.pimg.tw/jimmyts/1473593356-1566458337_s.jpg\n",
            "https://pic.pimg.tw/jimmyts/1473593380-3632338577_s.jpg\n",
            "https://pic.pimg.tw/jimmyts/1473593407-2656978984_s.jpg\n",
            "https://pic.pimg.tw/jimmyts/1473593793-2716208951_s.jpg\n",
            "https://pic.pimg.tw/jimmyts/1473648507-2433764218_s.png\n",
            "https://pic.pimg.tw/jimmyts/1473648728-110570407_s.png\n",
            "https://pic.pimg.tw/jimmyts/1473648728-2398114218_s.png\n",
            "https://pic.pimg.tw/jimmyts/1473649832-2851034535_s.png\n",
            "https://pic.pimg.tw/jimmyts/1473649832-2516106490_s.png\n",
            "https://pic.pimg.tw/jimmyts/1473649832-3733406416_s.png\n",
            "https://pic.pimg.tw/jimmyts/1473649832-3462383147_s.png\n",
            "https://pic.pimg.tw/jimmyts/1473863746-4232209147_s.jpg\n",
            "https://pic.pimg.tw/jimmyts/1473863866-3088626343_s.jpg\n",
            "https://pic.pimg.tw/jimmyts/1473863921-1287626477_s.jpg\n",
            "https://pic.pimg.tw/jimmyts/1473863975-3957521357_s.jpg\n",
            "https://pic.pimg.tw/jimmyts/1473864377-3839365121_s.jpg\n",
            "https://pic.pimg.tw/jimmyts/1473864531-4008917655_s.jpg\n",
            "https://pic.pimg.tw/jimmyts/1473864556-2305859169_s.jpg\n",
            "https://pic.pimg.tw/jimmyts/1473864706-3230250039_s.jpg\n",
            "https://pic.pimg.tw/jimmyts/1473864793-2185057578_s.jpg\n"
          ]
        }
      ]
    },
    {
      "cell_type": "code",
      "source": [
        "img_url = \"https://pic.pimg.tw/jimmyts/1468302230-632604139_s.png\""
      ],
      "metadata": {
        "id": "xBMGqfRPnwlO"
      },
      "execution_count": 121,
      "outputs": []
    },
    {
      "cell_type": "code",
      "source": [
        "img_url.split()"
      ],
      "metadata": {
        "colab": {
          "base_uri": "https://localhost:8080/"
        },
        "id": "hq_fe9g2n5rO",
        "outputId": "7472d2d0-52d6-4135-ecff-030d02900203"
      },
      "execution_count": 122,
      "outputs": [
        {
          "output_type": "execute_result",
          "data": {
            "text/plain": [
              "['https://pic.pimg.tw/jimmyts/1468302230-632604139_s.png']"
            ]
          },
          "metadata": {},
          "execution_count": 122
        }
      ]
    },
    {
      "cell_type": "code",
      "source": [
        "\n",
        "for image in images:\n",
        "  u = image.get(\"src\")\n",
        "  uu = requests.get(u)\n",
        "  # print(u.split(\"/\")[-1])\n",
        "  # saving the photos as files\n",
        "  with open(u.split(\"/\")[-1], \"wb\") as f:\n",
        "    f.write(uu.content)\n"
      ],
      "metadata": {
        "id": "-fPY9TafoOHB"
      },
      "execution_count": 133,
      "outputs": []
    },
    {
      "cell_type": "markdown",
      "source": [
        "## part 2 (zerojudge)"
      ],
      "metadata": {
        "id": "bzNA9QNnqYnC"
      }
    },
    {
      "cell_type": "code",
      "source": [
        "# a005\n",
        "x = []\n",
        "data = input()\n",
        "while data:\n",
        "  x.append(data)\n",
        "  data = input()\n",
        "for i in x:\n",
        "  ii = i.split()\n",
        "  if (int(ii[1]) - int(ii[0])) == (int(ii[2]) - int(ii[1])):\n",
        "    num = int(ii[1]) - int(ii[0])\n",
        "    print(f\"{int(ii[3]) + num}\")\n",
        "  else:\n",
        "   mun = int(ii[1]) / int(ii[0])\n",
        "   print(f\"{int(int(ii[3]) * mun)}\")"
      ],
      "metadata": {
        "colab": {
          "base_uri": "https://localhost:8080/"
        },
        "id": "ZHeCmsuSwt8_",
        "outputId": "d35e5b0e-a73a-4410-fe66-d8606921d45c"
      },
      "execution_count": 5,
      "outputs": [
        {
          "output_type": "stream",
          "name": "stdout",
          "text": [
            "2 4 8 16\n",
            "1 2 3 4\n",
            "\n",
            "32\n",
            "5\n"
          ]
        }
      ]
    },
    {
      "cell_type": "code",
      "source": [
        "# a006\n",
        "\n",
        "equ1 = (-b + ((b ** 2 - 4 * a * c) ** 0.5) )/ 2 * a\n",
        "equ2 = (-b - (b ** 2 - 4 * a * c) ** 0.5) / 2 * a"
      ],
      "metadata": {
        "colab": {
          "base_uri": "https://localhost:8080/",
          "height": 222
        },
        "id": "b5acmospAUsq",
        "outputId": "5cb4fb40-6720-4a05-948e-f42cc0748f92"
      },
      "execution_count": 10,
      "outputs": [
        {
          "output_type": "error",
          "ename": "NameError",
          "evalue": "ignored",
          "traceback": [
            "\u001b[0;31m---------------------------------------------------------------------------\u001b[0m",
            "\u001b[0;31mNameError\u001b[0m                                 Traceback (most recent call last)",
            "\u001b[0;32m<ipython-input-10-bc340b6b27d8>\u001b[0m in \u001b[0;36m<module>\u001b[0;34m()\u001b[0m\n\u001b[1;32m      1\u001b[0m \u001b[0;31m# a006\u001b[0m\u001b[0;34m\u001b[0m\u001b[0;34m\u001b[0m\u001b[0;34m\u001b[0m\u001b[0m\n\u001b[1;32m      2\u001b[0m \u001b[0;34m\u001b[0m\u001b[0m\n\u001b[0;32m----> 3\u001b[0;31m \u001b[0mequ1\u001b[0m \u001b[0;34m=\u001b[0m \u001b[0;34m(\u001b[0m\u001b[0;34m-\u001b[0m\u001b[0mb\u001b[0m \u001b[0;34m+\u001b[0m \u001b[0;34m(\u001b[0m\u001b[0;34m(\u001b[0m\u001b[0mb\u001b[0m \u001b[0;34m**\u001b[0m \u001b[0;36m2\u001b[0m \u001b[0;34m-\u001b[0m \u001b[0;36m4\u001b[0m \u001b[0;34m*\u001b[0m \u001b[0ma\u001b[0m \u001b[0;34m*\u001b[0m \u001b[0mc\u001b[0m\u001b[0;34m)\u001b[0m \u001b[0;34m**\u001b[0m \u001b[0;36m0.5\u001b[0m\u001b[0;34m)\u001b[0m \u001b[0;34m)\u001b[0m\u001b[0;34m/\u001b[0m \u001b[0;36m2\u001b[0m \u001b[0;34m*\u001b[0m \u001b[0ma\u001b[0m\u001b[0;34m\u001b[0m\u001b[0;34m\u001b[0m\u001b[0m\n\u001b[0m\u001b[1;32m      4\u001b[0m \u001b[0mequ2\u001b[0m \u001b[0;34m=\u001b[0m \u001b[0;34m(\u001b[0m\u001b[0;34m-\u001b[0m\u001b[0mb\u001b[0m \u001b[0;34m-\u001b[0m \u001b[0;34m(\u001b[0m\u001b[0mb\u001b[0m \u001b[0;34m**\u001b[0m \u001b[0;36m2\u001b[0m \u001b[0;34m-\u001b[0m \u001b[0;36m4\u001b[0m \u001b[0;34m*\u001b[0m \u001b[0ma\u001b[0m \u001b[0;34m*\u001b[0m \u001b[0mc\u001b[0m\u001b[0;34m)\u001b[0m \u001b[0;34m**\u001b[0m \u001b[0;36m0.5\u001b[0m\u001b[0;34m)\u001b[0m \u001b[0;34m/\u001b[0m \u001b[0;36m2\u001b[0m \u001b[0;34m*\u001b[0m \u001b[0ma\u001b[0m\u001b[0;34m\u001b[0m\u001b[0;34m\u001b[0m\u001b[0m\n",
            "\u001b[0;31mNameError\u001b[0m: name 'b' is not defined"
          ]
        }
      ]
    }
  ]
}
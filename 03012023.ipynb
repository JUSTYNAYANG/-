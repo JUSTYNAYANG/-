{
  "nbformat": 4,
  "nbformat_minor": 0,
  "metadata": {
    "colab": {
      "provenance": [],
      "authorship_tag": "ABX9TyM8+WcWu4DkF46ZTtVuCED4",
      "include_colab_link": true
    },
    "kernelspec": {
      "name": "python3",
      "display_name": "Python 3"
    },
    "language_info": {
      "name": "python"
    }
  },
  "cells": [
    {
      "cell_type": "markdown",
      "metadata": {
        "id": "view-in-github",
        "colab_type": "text"
      },
      "source": [
        "<a href=\"https://colab.research.google.com/github/JUSTYNAYANG/summerpy/blob/main/03012023.ipynb\" target=\"_parent\"><img src=\"https://colab.research.google.com/assets/colab-badge.svg\" alt=\"Open In Colab\"/></a>"
      ]
    },
    {
      "cell_type": "code",
      "source": [
        "from microbit import *\n",
        "import radio\n",
        "import neopixel"
      ],
      "metadata": {
        "id": "LUQjYMNFPpqq"
      },
      "execution_count": null,
      "outputs": []
    },
    {
      "cell_type": "code",
      "source": [
        "#movement and lights "
      ],
      "metadata": {
        "id": "HtbhhH9Qjyxj"
      },
      "execution_count": null,
      "outputs": []
    },
    {
      "cell_type": "code",
      "execution_count": null,
      "metadata": {
        "id": "RJ7hfoRYPlzb"
      },
      "outputs": [],
      "source": [
        "#client\n",
        "while True:\n",
        "    if button_a.is_pressed():\n",
        "        radio.send('left')\n",
        "    if button_b.is_pressed():\n",
        "        radio.send('right')\n",
        "    if pin_logo.is_touched():\n",
        "        radio.send('back')\n",
        "    if accelerometer.is_gesture('shake'):\n",
        "        radio.send('forward')\n",
        "\n",
        "\n",
        "#server\n",
        "np=neopixel.NeoPixel(pin12, 8)\n",
        "while True:\n",
        "    message = radio.receive()\n",
        "    if message == 'right':\n",
        "        pin8.write_analog(512)\n",
        "        pin14.write_analog(0)\n",
        "        np[1]= (20, 20, 20)\n",
        "        np[0]= (50, 20, 0)\n",
        "        np.show() \n",
        "    if message == 'left':\n",
        "        pin2.write_analog(512)\n",
        "        pin13.write_analog(0)\n",
        "        np[2]= (20, 20, 20)\n",
        "        np[3]= (50, 20, 0)\n",
        "        np.show()\n",
        "    if message == 'back':\n",
        "        pin14.write_analog(512)\n",
        "        pin13.write_analog(512)\n",
        "        np[6]=(50, 0, 0)\n",
        "        np[5]=(50, 0, 0) #red\n",
        "        np.show()\n",
        "    if message == 'forward':\n",
        "        pin2.write_analog(512)\n",
        "        pin8.write_analog(512)\n",
        "        np[1]=(20, 20, 20)\n",
        "        np[2]=(20, 20, 20) #white\n",
        "        np.show()\n",
        "    else:\n",
        "        pin8.write_analog(0)\n",
        "        pin2.write_analog(0)\n",
        "        pin14.write_analog(0)\n",
        "        pin13.write_analog(0)\n",
        "        np.clear()\n"
      ]
    },
    {
      "cell_type": "code",
      "source": [
        "#adding light detector to increase/decrease light"
      ],
      "metadata": {
        "id": "SGPNLTobjyT_"
      },
      "execution_count": null,
      "outputs": []
    },
    {
      "cell_type": "code",
      "source": [
        "#client\n",
        "while True:\n",
        "    if display.read_light_level() > 100:\n",
        "        radio.send('a')\n",
        "    if button_a.is_pressed():\n",
        "        radio.send('left')\n",
        "    if button_b.is_pressed():\n",
        "        radio.send('right')\n",
        "    if pin_logo.is_touched():\n",
        "        radio.send('back')\n",
        "    if accelerometer.is_gesture('shake'):\n",
        "        radio.send('forward')\n",
        "\n",
        "#server\n",
        "a=0\n",
        "np=neopixel.NeoPixel(pin12, 8)\n",
        "while True:\n",
        "    message = radio.receive()\n",
        "    if message == 'a':\n",
        "        a = 50\n",
        "    else:\n",
        "        a = 0\n",
        "    if message == 'right':\n",
        "        pin8.write_analog(512)\n",
        "        pin14.write_analog(0)\n",
        "        np[1]= (20, 20, 20)\n",
        "        np[0]= (50, 20, 0)\n",
        "        np.show() \n",
        "    if message == 'left':\n",
        "        pin2.write_analog(512)\n",
        "        pin13.write_analog(0)\n",
        "        np[2]= (20+a, 20+a, 20+a)\n",
        "        np[3]= (50+a, 20+a, 0+a)\n",
        "        np.show()\n",
        "    if message == 'back':\n",
        "        pin14.write_analog(512)\n",
        "        pin13.write_analog(512)\n",
        "        np[6]=(50+a, 0, 0)\n",
        "        np[5]=(50+a, 0, 0) #red\n",
        "        np.show()\n",
        "    if message == 'forward':\n",
        "        pin2.write_analog(512)\n",
        "        pin8.write_analog(512)\n",
        "        np[1]=(20+a, 20+a, 20+a)\n",
        "        np[2]=(20+a, 20+a, 20+a) #white\n",
        "        np.show()\n",
        "    else:\n",
        "        pin8.write_analog(0)\n",
        "        pin2.write_analog(0)\n",
        "        pin14.write_analog(0)\n",
        "        pin13.write_analog(0)\n",
        "        np.clear()\n",
        "        "
      ],
      "metadata": {
        "id": "u2EAft99j3Sd"
      },
      "execution_count": null,
      "outputs": []
    }
  ]
}
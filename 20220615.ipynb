{
  "nbformat": 4,
  "nbformat_minor": 0,
  "metadata": {
    "colab": {
      "name": "20220615.ipynb",
      "provenance": [],
      "authorship_tag": "ABX9TyPPL1R6F5sG+9ktQ3FnCXL3",
      "include_colab_link": true
    },
    "kernelspec": {
      "name": "python3",
      "display_name": "Python 3"
    },
    "language_info": {
      "name": "python"
    }
  },
  "cells": [
    {
      "cell_type": "markdown",
      "metadata": {
        "id": "view-in-github",
        "colab_type": "text"
      },
      "source": [
        "<a href=\"https://colab.research.google.com/github/JUSTYNAYANG/summerpy/blob/main/20220615.ipynb\" target=\"_parent\"><img src=\"https://colab.research.google.com/assets/colab-badge.svg\" alt=\"Open In Colab\"/></a>"
      ]
    },
    {
      "cell_type": "code",
      "execution_count": null,
      "metadata": {
        "colab": {
          "base_uri": "https://localhost:8080/"
        },
        "id": "NMw06l204Zt1",
        "outputId": "b662540a-5ea0-4a39-e685-a0162425640d"
      },
      "outputs": [
        {
          "output_type": "stream",
          "name": "stdout",
          "text": [
            "hello world\n"
          ]
        }
      ],
      "source": [
        "print(\"hello world\")"
      ]
    },
    {
      "cell_type": "markdown",
      "source": [
        "# Draw a Pyramid Excercise"
      ],
      "metadata": {
        "id": "6bqVC0MQ_2X1"
      }
    },
    {
      "cell_type": "code",
      "source": [
        "\"*\" * 10"
      ],
      "metadata": {
        "id": "qGCeSWHY9RSQ",
        "outputId": "6fc14ca4-32ca-4c27-95f0-4a6b49583ab5",
        "colab": {
          "base_uri": "https://localhost:8080/",
          "height": 35
        }
      },
      "execution_count": 1,
      "outputs": [
        {
          "output_type": "execute_result",
          "data": {
            "text/plain": [
              "'**********'"
            ],
            "application/vnd.google.colaboratory.intrinsic+json": {
              "type": "string"
            }
          },
          "metadata": {},
          "execution_count": 1
        }
      ]
    },
    {
      "cell_type": "code",
      "source": [
        "\"*\" + \" \" + \"*\""
      ],
      "metadata": {
        "id": "BJ5wcODX9cQE",
        "outputId": "2af39e68-db09-4843-cd8b-1c74a86ff367",
        "colab": {
          "base_uri": "https://localhost:8080/",
          "height": 35
        }
      },
      "execution_count": 2,
      "outputs": [
        {
          "output_type": "execute_result",
          "data": {
            "text/plain": [
              "'* *'"
            ],
            "application/vnd.google.colaboratory.intrinsic+json": {
              "type": "string"
            }
          },
          "metadata": {},
          "execution_count": 2
        }
      ]
    },
    {
      "cell_type": "code",
      "source": [
        "for i in range (5):\n",
        "  print(((2*i + 1) * \"*\"))\n"
      ],
      "metadata": {
        "id": "qy95EiGpGHzM",
        "outputId": "1df6d892-28f8-475b-bad1-cf20d92beeb5",
        "colab": {
          "base_uri": "https://localhost:8080/"
        }
      },
      "execution_count": 46,
      "outputs": [
        {
          "output_type": "stream",
          "name": "stdout",
          "text": [
            "*\n",
            "***\n",
            "*****\n",
            "*******\n",
            "*********\n"
          ]
        }
      ]
    },
    {
      "cell_type": "code",
      "source": [
        "for i in range (5):\n",
        "  print(((5-i) * \" \")+((2*i + 1) * \"*\"))\n",
        "\n"
      ],
      "metadata": {
        "id": "tiE75M-i9o7N",
        "outputId": "8b1116b6-26f4-4dca-b64a-3d62a3ab9dc0",
        "colab": {
          "base_uri": "https://localhost:8080/"
        }
      },
      "execution_count": 5,
      "outputs": [
        {
          "output_type": "stream",
          "name": "stdout",
          "text": [
            "     *\n",
            "    ***\n",
            "   *****\n",
            "  *******\n",
            " *********\n"
          ]
        }
      ]
    },
    {
      "cell_type": "code",
      "source": [
        "for i in range(5):\n",
        "  print(((5-i) * \" \")+((2*i + 1) * \"*\"))\n",
        "for i in range(4):\n",
        "  print(((i+2) * \" \") + ((3-i)*2 + 1) * \"*\")"
      ],
      "metadata": {
        "id": "3fQfUog39tOk",
        "outputId": "c9253873-5781-4a04-c8fd-4c7a486ce034",
        "colab": {
          "base_uri": "https://localhost:8080/"
        }
      },
      "execution_count": 14,
      "outputs": [
        {
          "output_type": "stream",
          "name": "stdout",
          "text": [
            "     *\n",
            "    ***\n",
            "   *****\n",
            "  *******\n",
            " *********\n",
            "  *******\n",
            "   *****\n",
            "    ***\n",
            "     *\n"
          ]
        }
      ]
    },
    {
      "cell_type": "markdown",
      "source": [
        ""
      ],
      "metadata": {
        "id": "wQ8ASTon5Fku"
      }
    },
    {
      "cell_type": "markdown",
      "source": [
        "# DataTypes\n",
        "\n",
        "* int\n",
        "* float\n",
        "* bool\n",
        "* str"
      ],
      "metadata": {
        "id": "08YAZRWoBs1M"
      }
    },
    {
      "cell_type": "code",
      "source": [
        "x = 1\n",
        "# placing 1 in the variable \"x\" (x is now 1)\n",
        "# a variable can only start with a letter or an underscore"
      ],
      "metadata": {
        "id": "BXbtjPoyBvQ0"
      },
      "execution_count": 22,
      "outputs": []
    },
    {
      "cell_type": "code",
      "source": [
        "type(x)\n",
        "# 1 is a integer (x = 1)"
      ],
      "metadata": {
        "id": "DmvWPOzbC_CY",
        "outputId": "769faec2-267c-4b62-de84-8aea8858801c",
        "colab": {
          "base_uri": "https://localhost:8080/"
        }
      },
      "execution_count": 25,
      "outputs": [
        {
          "output_type": "execute_result",
          "data": {
            "text/plain": [
              "int"
            ]
          },
          "metadata": {},
          "execution_count": 25
        }
      ]
    },
    {
      "cell_type": "code",
      "source": [
        "y = 1.0"
      ],
      "metadata": {
        "id": "CfPpgHGiDAhS"
      },
      "execution_count": 26,
      "outputs": []
    },
    {
      "cell_type": "code",
      "source": [
        "type(y)\n",
        "# if a number has a decimal it is a float\n",
        "# 1.0 is a float"
      ],
      "metadata": {
        "id": "f520f-VZDRT4",
        "outputId": "3856bdf3-f80b-469c-be94-efe57b12a9c1",
        "colab": {
          "base_uri": "https://localhost:8080/"
        }
      },
      "execution_count": 28,
      "outputs": [
        {
          "output_type": "execute_result",
          "data": {
            "text/plain": [
              "float"
            ]
          },
          "metadata": {},
          "execution_count": 28
        }
      ]
    },
    {
      "cell_type": "code",
      "source": [
        "z = 3 > 2"
      ],
      "metadata": {
        "id": "2vhMIohYDS2Q"
      },
      "execution_count": 30,
      "outputs": []
    },
    {
      "cell_type": "code",
      "source": [
        "type(z)\n",
        "# a boolean is a true or false statement\n",
        "# if a boolean is true --> it will return True\n",
        "# if a boolean is false --> it will return False"
      ],
      "metadata": {
        "id": "DD920idaDmdI",
        "outputId": "ac1a777a-75bc-464f-d13a-61670dfbecb3",
        "colab": {
          "base_uri": "https://localhost:8080/"
        }
      },
      "execution_count": 32,
      "outputs": [
        {
          "output_type": "execute_result",
          "data": {
            "text/plain": [
              "bool"
            ]
          },
          "metadata": {},
          "execution_count": 32
        }
      ]
    },
    {
      "cell_type": "code",
      "source": [
        "w = \"This is my dog\"\n",
        "# quotations are needed for a string if not the system thinks each word is an individual variable"
      ],
      "metadata": {
        "id": "fgYMb1a7DqJ9"
      },
      "execution_count": 36,
      "outputs": []
    },
    {
      "cell_type": "code",
      "source": [
        "type(w)\n",
        "# strings are text\n",
        "# quotations are important for strings\n"
      ],
      "metadata": {
        "id": "fAeGO69mEVoD",
        "outputId": "01bd0a8f-7c31-4f49-e8a6-fb5cb207afc0",
        "colab": {
          "base_uri": "https://localhost:8080/"
        }
      },
      "execution_count": 38,
      "outputs": [
        {
          "output_type": "execute_result",
          "data": {
            "text/plain": [
              "str"
            ]
          },
          "metadata": {},
          "execution_count": 38
        }
      ]
    },
    {
      "cell_type": "code",
      "source": [
        "a = 10\n",
        "b = 5\n"
      ],
      "metadata": {
        "id": "cRonl9P0FLD4"
      },
      "execution_count": 43,
      "outputs": []
    },
    {
      "cell_type": "code",
      "source": [
        "\n",
        "type(a/b)\n",
        "# a divide will result in an answer of a float"
      ],
      "metadata": {
        "id": "A_7ZUHIhEbHL",
        "outputId": "02b73cf6-5711-4aa8-838c-f2c4010a07e3",
        "colab": {
          "base_uri": "https://localhost:8080/"
        }
      },
      "execution_count": 44,
      "outputs": [
        {
          "output_type": "execute_result",
          "data": {
            "text/plain": [
              "float"
            ]
          },
          "metadata": {},
          "execution_count": 44
        }
      ]
    },
    {
      "cell_type": "code",
      "source": [
        "type(a//b)\n",
        "# two divides allow the answer to be a integer"
      ],
      "metadata": {
        "id": "qOyts37PE2JZ",
        "outputId": "5209f792-d47b-4c38-9ad8-ca3eccceb98e",
        "colab": {
          "base_uri": "https://localhost:8080/"
        }
      },
      "execution_count": 45,
      "outputs": [
        {
          "output_type": "execute_result",
          "data": {
            "text/plain": [
              "int"
            ]
          },
          "metadata": {},
          "execution_count": 45
        }
      ]
    }
  ]
}
{
  "nbformat": 4,
  "nbformat_minor": 0,
  "metadata": {
    "colab": {
      "provenance": [],
      "include_colab_link": true
    },
    "kernelspec": {
      "name": "python3",
      "display_name": "Python 3"
    },
    "language_info": {
      "name": "python"
    }
  },
  "cells": [
    {
      "cell_type": "markdown",
      "metadata": {
        "id": "view-in-github",
        "colab_type": "text"
      },
      "source": [
        "<a href=\"https://colab.research.google.com/github/JUSTYNAYANG/summerpy/blob/main/20221207.ipynb\" target=\"_parent\"><img src=\"https://colab.research.google.com/assets/colab-badge.svg\" alt=\"Open In Colab\"/></a>"
      ]
    },
    {
      "cell_type": "markdown",
      "source": [
        "# Python基礎\n",
        "\n",
        "基本資料型態：\n",
        "* int\n",
        "* float\n",
        "* str\n",
        "* bool\n",
        "\n",
        "基本容器型別：\n",
        "* list\n",
        "* tuple\n",
        "* dict\n",
        "* set\n",
        "\n",
        "基礎語法：\n",
        "* if statements\n",
        "* loops (for, while)\n",
        "* functions\n",
        "* exception handling"
      ],
      "metadata": {
        "id": "6SJAMEmWbY31"
      }
    },
    {
      "cell_type": "markdown",
      "source": [
        "## input()"
      ],
      "metadata": {
        "id": "as72cin7d6Q6"
      }
    },
    {
      "cell_type": "markdown",
      "source": [
        "```python\n",
        "x = input(\"提示字串\")\n",
        "```\n",
        "\n",
        "x: 是使用者輸入的資料，型態是字串。"
      ],
      "metadata": {
        "id": "TUjtOtaoeK0j"
      }
    },
    {
      "cell_type": "code",
      "source": [
        "name = input(\"請輸入您的名字：\")\n",
        "print(f\"Hello, {name}!\")"
      ],
      "metadata": {
        "colab": {
          "base_uri": "https://localhost:8080/"
        },
        "id": "9YuSGZIneIqi",
        "outputId": "8f850157-26ea-43b7-8fab-5d37a7aa45fc"
      },
      "execution_count": null,
      "outputs": [
        {
          "output_type": "stream",
          "name": "stdout",
          "text": [
            "請輸入您的名字：Victor\n",
            "Hello, Victor!\n"
          ]
        }
      ]
    },
    {
      "cell_type": "code",
      "source": [
        "x = input(\"請輸入兩個數字：\")"
      ],
      "metadata": {
        "colab": {
          "base_uri": "https://localhost:8080/"
        },
        "id": "1SEfbo-sjroF",
        "outputId": "20bd6e74-87a3-41ae-e19c-c7317a6d5663"
      },
      "execution_count": null,
      "outputs": [
        {
          "name": "stdout",
          "output_type": "stream",
          "text": [
            "請輸入兩個數字：10 20\n"
          ]
        }
      ]
    },
    {
      "cell_type": "code",
      "source": [
        "x"
      ],
      "metadata": {
        "colab": {
          "base_uri": "https://localhost:8080/",
          "height": 36
        },
        "id": "yYvMlCqzjwGv",
        "outputId": "51297aa7-d69e-486c-dde0-d73c2935eba5"
      },
      "execution_count": null,
      "outputs": [
        {
          "output_type": "execute_result",
          "data": {
            "text/plain": [
              "'10 20'"
            ],
            "application/vnd.google.colaboratory.intrinsic+json": {
              "type": "string"
            }
          },
          "metadata": {},
          "execution_count": 8
        }
      ]
    },
    {
      "cell_type": "code",
      "source": [
        "type(x)"
      ],
      "metadata": {
        "colab": {
          "base_uri": "https://localhost:8080/"
        },
        "id": "PPMaLH6lj9r9",
        "outputId": "d734da25-0d87-4f25-a06c-33745f8c9774"
      },
      "execution_count": null,
      "outputs": [
        {
          "output_type": "execute_result",
          "data": {
            "text/plain": [
              "str"
            ]
          },
          "metadata": {},
          "execution_count": 9
        }
      ]
    },
    {
      "cell_type": "code",
      "source": [
        "x.split()"
      ],
      "metadata": {
        "colab": {
          "base_uri": "https://localhost:8080/"
        },
        "id": "2FQ6QHfjkFC1",
        "outputId": "be578b46-e908-494b-af88-0ffde36b0eef"
      },
      "execution_count": null,
      "outputs": [
        {
          "output_type": "execute_result",
          "data": {
            "text/plain": [
              "['10', '20']"
            ]
          },
          "metadata": {},
          "execution_count": 10
        }
      ]
    },
    {
      "cell_type": "markdown",
      "source": [
        "## f-string"
      ],
      "metadata": {
        "id": "uHbTcx9jfDny"
      }
    },
    {
      "cell_type": "code",
      "source": [
        "x = 1\n",
        "y = 3.14159\n",
        "z = True"
      ],
      "metadata": {
        "id": "VjR9Fl7AfFKA"
      },
      "execution_count": null,
      "outputs": []
    },
    {
      "cell_type": "code",
      "source": [
        "print(f\"x, y, z 各是：{x}, {y}, {z}\")"
      ],
      "metadata": {
        "colab": {
          "base_uri": "https://localhost:8080/"
        },
        "id": "lPXZmPnRfjn3",
        "outputId": "16caa28a-5eca-4499-9939-0d63d266bcf7"
      },
      "execution_count": null,
      "outputs": [
        {
          "output_type": "stream",
          "name": "stdout",
          "text": [
            "x, y, z 各是：1, 3.14159, True\n"
          ]
        }
      ]
    },
    {
      "cell_type": "code",
      "source": [
        "print(\"x, y, z 各是：{x}, {y}, {z}\")"
      ],
      "metadata": {
        "colab": {
          "base_uri": "https://localhost:8080/"
        },
        "id": "HxBK0hvZfuXk",
        "outputId": "4563cba1-3ef1-4db2-a293-c01c7186cdfb"
      },
      "execution_count": null,
      "outputs": [
        {
          "output_type": "stream",
          "name": "stdout",
          "text": [
            "x, y, z 各是：{x}, {y}, {z}\n"
          ]
        }
      ]
    },
    {
      "cell_type": "markdown",
      "source": [
        "## python 2.x string format"
      ],
      "metadata": {
        "id": "vYcSVUZ2gCvn"
      }
    },
    {
      "cell_type": "code",
      "source": [
        "print(\"x, y, z 各是：%d, %f, %s\" % (x, y, z))"
      ],
      "metadata": {
        "colab": {
          "base_uri": "https://localhost:8080/"
        },
        "id": "9BZBdE8hfx1h",
        "outputId": "34e57890-8764-4c11-99ab-f21b804917d3"
      },
      "execution_count": null,
      "outputs": [
        {
          "output_type": "stream",
          "name": "stdout",
          "text": [
            "x, y, z 各是：1, 3.141590, True\n"
          ]
        }
      ]
    },
    {
      "cell_type": "markdown",
      "source": [
        "# Python map, filter, reduce"
      ],
      "metadata": {
        "id": "9IfX2tUXbSgQ"
      }
    },
    {
      "cell_type": "markdown",
      "source": [
        "## map\n",
        "\n",
        "```python\n",
        "map(function, sequence)\n",
        "```\n",
        "用 sequence 裡面的每一個 element 去做函式呼叫。"
      ],
      "metadata": {
        "id": "ViR6xO6qlEtJ"
      }
    },
    {
      "cell_type": "code",
      "execution_count": null,
      "metadata": {
        "id": "8TiObwS2bPWQ"
      },
      "outputs": [],
      "source": [
        "x = ['1', '2', '3']"
      ]
    },
    {
      "cell_type": "code",
      "source": [
        "list(map(int, x))"
      ],
      "metadata": {
        "colab": {
          "base_uri": "https://localhost:8080/"
        },
        "id": "9cEdgI_Dlkvl",
        "outputId": "cfd3be89-616f-40d4-8452-c687d623215f"
      },
      "execution_count": null,
      "outputs": [
        {
          "output_type": "execute_result",
          "data": {
            "text/plain": [
              "[1, 2, 3]"
            ]
          },
          "metadata": {},
          "execution_count": 13
        }
      ]
    },
    {
      "cell_type": "code",
      "source": [
        "x = ('1', '2', '3')"
      ],
      "metadata": {
        "id": "is14FTaGlmqv"
      },
      "execution_count": null,
      "outputs": []
    },
    {
      "cell_type": "code",
      "source": [
        "list(map(int, x))"
      ],
      "metadata": {
        "colab": {
          "base_uri": "https://localhost:8080/"
        },
        "id": "-5kZ7E0ml1iC",
        "outputId": "7be31eaa-8f57-4e30-abd7-d6caa347bc57"
      },
      "execution_count": null,
      "outputs": [
        {
          "output_type": "execute_result",
          "data": {
            "text/plain": [
              "[1, 2, 3]"
            ]
          },
          "metadata": {},
          "execution_count": 15
        }
      ]
    },
    {
      "cell_type": "code",
      "source": [
        "def sqr(a):\n",
        "  return int(a)**2"
      ],
      "metadata": {
        "id": "6jglJYNPl4Bg"
      },
      "execution_count": null,
      "outputs": []
    },
    {
      "cell_type": "code",
      "source": [
        "list(map(sqr, x))"
      ],
      "metadata": {
        "colab": {
          "base_uri": "https://localhost:8080/"
        },
        "id": "YK3Nn-JHmiPq",
        "outputId": "e2d272d3-b703-4175-948a-7f46cc5baa02"
      },
      "execution_count": null,
      "outputs": [
        {
          "output_type": "execute_result",
          "data": {
            "text/plain": [
              "[1, 4, 9]"
            ]
          },
          "metadata": {},
          "execution_count": 17
        }
      ]
    },
    {
      "cell_type": "code",
      "source": [
        "list(map(lambda a: int(a)**2, x))"
      ],
      "metadata": {
        "colab": {
          "base_uri": "https://localhost:8080/"
        },
        "id": "8dJG8_c1mpP2",
        "outputId": "ecb08d01-bbd7-43e2-c82e-9a6f85cb23be"
      },
      "execution_count": null,
      "outputs": [
        {
          "output_type": "execute_result",
          "data": {
            "text/plain": [
              "[1, 4, 9]"
            ]
          },
          "metadata": {},
          "execution_count": 18
        }
      ]
    },
    {
      "cell_type": "markdown",
      "source": [
        "## filter\n",
        "\n",
        "```python\n",
        "filter(function, sequence)\n",
        "```\n",
        "用 sequence 裡面的每一個 element 去做函式呼叫，保留函式呼叫結果為True的element。"
      ],
      "metadata": {
        "id": "OYaS5ofXqRpN"
      }
    },
    {
      "cell_type": "code",
      "source": [
        "x = [1, 2, 3, 4, 5]"
      ],
      "metadata": {
        "id": "M9DF7Koim_Tn"
      },
      "execution_count": null,
      "outputs": []
    },
    {
      "cell_type": "code",
      "source": [
        "list(filter(lambda a: a > 3, x))"
      ],
      "metadata": {
        "colab": {
          "base_uri": "https://localhost:8080/"
        },
        "id": "5PQNHZF0qgqw",
        "outputId": "37f81255-0700-4592-9dcd-5ccd568925f7"
      },
      "execution_count": null,
      "outputs": [
        {
          "output_type": "execute_result",
          "data": {
            "text/plain": [
              "[4, 5]"
            ]
          },
          "metadata": {},
          "execution_count": 20
        }
      ]
    },
    {
      "cell_type": "markdown",
      "source": [
        "#zerojudge\n",
        "\n",
        "- a022\n",
        "- a054"
      ],
      "metadata": {
        "id": "kqzjMGROzATz"
      }
    },
    {
      "cell_type": "code",
      "source": [
        "#a022"
      ],
      "metadata": {
        "id": "Nj-PJ3eozEGK"
      },
      "execution_count": 1,
      "outputs": []
    },
    {
      "cell_type": "code",
      "source": [
        "\"abc\" == \"bcd\""
      ],
      "metadata": {
        "colab": {
          "base_uri": "https://localhost:8080/"
        },
        "id": "PH4611gOqocY",
        "outputId": "40e564d5-cd43-4217-de63-0832b4733db9"
      },
      "execution_count": null,
      "outputs": [
        {
          "output_type": "execute_result",
          "data": {
            "text/plain": [
              "False"
            ]
          },
          "metadata": {},
          "execution_count": 21
        }
      ]
    },
    {
      "cell_type": "code",
      "source": [
        "x = \"abc\""
      ],
      "metadata": {
        "id": "CJhics2RsszI"
      },
      "execution_count": null,
      "outputs": []
    },
    {
      "cell_type": "code",
      "source": [
        "x[::-1]"
      ],
      "metadata": {
        "colab": {
          "base_uri": "https://localhost:8080/",
          "height": 36
        },
        "id": "oAv4Di6-tHI8",
        "outputId": "3bc5fbd9-6bbc-4a89-c323-1db024bc8483"
      },
      "execution_count": null,
      "outputs": [
        {
          "output_type": "execute_result",
          "data": {
            "text/plain": [
              "'cba'"
            ],
            "application/vnd.google.colaboratory.intrinsic+json": {
              "type": "string"
            }
          },
          "metadata": {},
          "execution_count": 23
        }
      ]
    },
    {
      "cell_type": "code",
      "source": [
        "x = input()\n",
        "if x == x[::-1]:\n",
        "  print(\"yes\")\n",
        "else:\n",
        "  print('no')"
      ],
      "metadata": {
        "colab": {
          "base_uri": "https://localhost:8080/"
        },
        "id": "Oq6yuOS8tIGo",
        "outputId": "3422319b-84f3-40dd-d593-c29736fdca2c"
      },
      "execution_count": null,
      "outputs": [
        {
          "output_type": "stream",
          "name": "stdout",
          "text": [
            "abba\n",
            "yes\n"
          ]
        }
      ]
    },
    {
      "cell_type": "code",
      "source": [
        "for i in range(16):\n",
        "  print(f\"{i}:{i:b}\")"
      ],
      "metadata": {
        "colab": {
          "base_uri": "https://localhost:8080/"
        },
        "id": "AnO-Poo5unk3",
        "outputId": "943b0002-cd74-491d-a246-6591dfc6bc80"
      },
      "execution_count": null,
      "outputs": [
        {
          "output_type": "stream",
          "name": "stdout",
          "text": [
            "0:0\n",
            "1:1\n",
            "2:10\n",
            "3:11\n",
            "4:100\n",
            "5:101\n",
            "6:110\n",
            "7:111\n",
            "8:1000\n",
            "9:1001\n",
            "10:1010\n",
            "11:1011\n",
            "12:1100\n",
            "13:1101\n",
            "14:1110\n",
            "15:1111\n"
          ]
        }
      ]
    },
    {
      "cell_type": "code",
      "source": [
        "while True:\n",
        "  try:\n",
        "    x = int(input())\n",
        "    print(f\"{x:b}\")\n",
        "  except:\n",
        "    break"
      ],
      "metadata": {
        "colab": {
          "base_uri": "https://localhost:8080/"
        },
        "id": "_xhpg1Lawc-x",
        "outputId": "05eb5301-8983-44b8-ed5e-f9a708e363fa"
      },
      "execution_count": null,
      "outputs": [
        {
          "name": "stdout",
          "output_type": "stream",
          "text": [
            "3\n",
            "11\n",
            "6\n",
            "110\n",
            "\n"
          ]
        }
      ]
    },
    {
      "cell_type": "code",
      "source": [
        "#a054"
      ],
      "metadata": {
        "id": "TeI8rFRhzLLz"
      },
      "execution_count": 2,
      "outputs": []
    },
    {
      "cell_type": "code",
      "source": [
        "a = [1, 2, 3, 4]"
      ],
      "metadata": {
        "id": "VibDqkogzaSN"
      },
      "execution_count": 3,
      "outputs": []
    },
    {
      "cell_type": "code",
      "source": [
        "a.insert(0, 0)"
      ],
      "metadata": {
        "id": "uEPDgxJkzfkE"
      },
      "execution_count": 5,
      "outputs": []
    },
    {
      "cell_type": "code",
      "source": [
        "a"
      ],
      "metadata": {
        "id": "xHDAkAy2ztWh",
        "outputId": "c4132763-3d49-4d15-b598-c6b559eff41b",
        "colab": {
          "base_uri": "https://localhost:8080/"
        }
      },
      "execution_count": 6,
      "outputs": [
        {
          "output_type": "execute_result",
          "data": {
            "text/plain": [
              "[0, 1, 2, 3, 4]"
            ]
          },
          "metadata": {},
          "execution_count": 6
        }
      ]
    },
    {
      "cell_type": "code",
      "source": [
        "34//10"
      ],
      "metadata": {
        "id": "VI56X6ub0eDJ",
        "outputId": "0cab7b75-3ae9-4b28-8381-3fd1444513c5",
        "colab": {
          "base_uri": "https://localhost:8080/"
        }
      },
      "execution_count": 9,
      "outputs": [
        {
          "output_type": "execute_result",
          "data": {
            "text/plain": [
              "3"
            ]
          },
          "metadata": {},
          "execution_count": 9
        }
      ]
    },
    {
      "cell_type": "code",
      "source": [
        "34%10"
      ],
      "metadata": {
        "id": "2yGSj1Sy0f3A",
        "outputId": "46e1d679-fde3-4df3-ef0b-bdd652cad4ac",
        "colab": {
          "base_uri": "https://localhost:8080/"
        }
      },
      "execution_count": 10,
      "outputs": [
        {
          "output_type": "execute_result",
          "data": {
            "text/plain": [
              "4"
            ]
          },
          "metadata": {},
          "execution_count": 10
        }
      ]
    },
    {
      "cell_type": "code",
      "source": [
        "for i in range(10, 34):\n",
        "  print(i)"
      ],
      "metadata": {
        "id": "7cA5r2kiz-7J",
        "outputId": "53da95cc-4086-4ec1-83ca-6da351c17454",
        "colab": {
          "base_uri": "https://localhost:8080/"
        }
      },
      "execution_count": 8,
      "outputs": [
        {
          "output_type": "stream",
          "name": "stdout",
          "text": [
            "10\n",
            "11\n",
            "12\n",
            "13\n",
            "14\n",
            "15\n",
            "16\n",
            "17\n",
            "18\n",
            "19\n",
            "20\n",
            "21\n",
            "22\n",
            "23\n",
            "24\n",
            "25\n",
            "26\n",
            "27\n",
            "28\n",
            "29\n",
            "30\n",
            "31\n",
            "32\n",
            "33\n"
          ]
        }
      ]
    },
    {
      "cell_type": "code",
      "source": [
        "d = {\"a\":\"apple\", \"b\":\"banana\"}"
      ],
      "metadata": {
        "id": "Svkve_cY3qWx"
      },
      "execution_count": 12,
      "outputs": []
    },
    {
      "cell_type": "code",
      "source": [
        "d.keys()"
      ],
      "metadata": {
        "id": "YR90MMGT4A_6",
        "outputId": "d1bdc556-b7af-441f-9b4d-6c5eaf5d78f2",
        "colab": {
          "base_uri": "https://localhost:8080/"
        }
      },
      "execution_count": 15,
      "outputs": [
        {
          "output_type": "execute_result",
          "data": {
            "text/plain": [
              "dict_keys(['a', 'b'])"
            ]
          },
          "metadata": {},
          "execution_count": 15
        }
      ]
    },
    {
      "cell_type": "code",
      "source": [
        "d.get?\n"
      ],
      "metadata": {
        "id": "jeh9Qj7G30rG"
      },
      "execution_count": 13,
      "outputs": []
    },
    {
      "cell_type": "code",
      "source": [
        "#NOT DONE"
      ],
      "metadata": {
        "id": "tv7VbKBt7-mL"
      },
      "execution_count": null,
      "outputs": []
    },
    {
      "cell_type": "code",
      "source": [
        "d = {'A' : 10, 'B' : 11, 'C' : 12, 'D' : 13 , 'E' : 14,  \n",
        "       'F' : 15, 'G' : 16, 'H' : 17, 'I' : 34, 'J': 18,\n",
        "       'K' : 19, 'L' : 20, 'M' : 21, 'N' : 22, 'O' : 35,\n",
        "       'P' : 23, 'Q' : 24, 'R' : 25, 'S' : 26, 'T' : 27,\n",
        "       'U' : 28, 'V' : 29, 'W' : 32, 'X' : 30, 'Y' : 31,\n",
        "       'Z' : 33}\n",
        "a = input()\n",
        "a = list(a)\n",
        "j = a[-1]\n",
        "k = []\n",
        "o = 0\n",
        "n = list(d.keys())\n",
        "for i in range(10, 34):\n",
        "  a.insert(0, i%10)\n",
        "  a.insert(0, i//10)\n",
        "  b = list(str(d[(a[0])]))\n",
        "  c = (int(b[1])*9)+int(b[0])\n",
        "  e = 0\n",
        "  for i in range(1, 9):\n",
        "    e += (int(a[i]))*(9-i)\n",
        "  sum = int(c) + int(e) + int(a[-1])\n",
        "  deter = 10 - sum%10\n",
        "  if deter == a[-1]:\n",
        "    k.append(n[o])\n",
        "  o += 1"
      ],
      "metadata": {
        "id": "aQOu4qB1zOzX",
        "outputId": "480da009-0275-42e4-a1c8-b4d1182e3958",
        "colab": {
          "base_uri": "https://localhost:8080/",
          "height": 258
        }
      },
      "execution_count": 17,
      "outputs": [
        {
          "name": "stdout",
          "output_type": "stream",
          "text": [
            "130245675\n"
          ]
        },
        {
          "output_type": "error",
          "ename": "KeyError",
          "evalue": "ignored",
          "traceback": [
            "\u001b[0;31m---------------------------------------------------------------------------\u001b[0m",
            "\u001b[0;31mKeyError\u001b[0m                                  Traceback (most recent call last)",
            "\u001b[0;32m<ipython-input-17-30c0df818a62>\u001b[0m in \u001b[0;36m<module>\u001b[0;34m\u001b[0m\n\u001b[1;32m     14\u001b[0m   \u001b[0ma\u001b[0m\u001b[0;34m.\u001b[0m\u001b[0minsert\u001b[0m\u001b[0;34m(\u001b[0m\u001b[0;36m0\u001b[0m\u001b[0;34m,\u001b[0m \u001b[0mi\u001b[0m\u001b[0;34m%\u001b[0m\u001b[0;36m10\u001b[0m\u001b[0;34m)\u001b[0m\u001b[0;34m\u001b[0m\u001b[0;34m\u001b[0m\u001b[0m\n\u001b[1;32m     15\u001b[0m   \u001b[0ma\u001b[0m\u001b[0;34m.\u001b[0m\u001b[0minsert\u001b[0m\u001b[0;34m(\u001b[0m\u001b[0;36m0\u001b[0m\u001b[0;34m,\u001b[0m \u001b[0mi\u001b[0m\u001b[0;34m//\u001b[0m\u001b[0;36m10\u001b[0m\u001b[0;34m)\u001b[0m\u001b[0;34m\u001b[0m\u001b[0;34m\u001b[0m\u001b[0m\n\u001b[0;32m---> 16\u001b[0;31m   \u001b[0mb\u001b[0m \u001b[0;34m=\u001b[0m \u001b[0mlist\u001b[0m\u001b[0;34m(\u001b[0m\u001b[0mstr\u001b[0m\u001b[0;34m(\u001b[0m\u001b[0md\u001b[0m\u001b[0;34m[\u001b[0m\u001b[0;34m(\u001b[0m\u001b[0ma\u001b[0m\u001b[0;34m[\u001b[0m\u001b[0;36m0\u001b[0m\u001b[0;34m]\u001b[0m\u001b[0;34m)\u001b[0m\u001b[0;34m]\u001b[0m\u001b[0;34m)\u001b[0m\u001b[0;34m)\u001b[0m\u001b[0;34m\u001b[0m\u001b[0;34m\u001b[0m\u001b[0m\n\u001b[0m\u001b[1;32m     17\u001b[0m   \u001b[0mc\u001b[0m \u001b[0;34m=\u001b[0m \u001b[0;34m(\u001b[0m\u001b[0mint\u001b[0m\u001b[0;34m(\u001b[0m\u001b[0mb\u001b[0m\u001b[0;34m[\u001b[0m\u001b[0;36m1\u001b[0m\u001b[0;34m]\u001b[0m\u001b[0;34m)\u001b[0m\u001b[0;34m*\u001b[0m\u001b[0;36m9\u001b[0m\u001b[0;34m)\u001b[0m\u001b[0;34m+\u001b[0m\u001b[0mint\u001b[0m\u001b[0;34m(\u001b[0m\u001b[0mb\u001b[0m\u001b[0;34m[\u001b[0m\u001b[0;36m0\u001b[0m\u001b[0;34m]\u001b[0m\u001b[0;34m)\u001b[0m\u001b[0;34m\u001b[0m\u001b[0;34m\u001b[0m\u001b[0m\n\u001b[1;32m     18\u001b[0m   \u001b[0me\u001b[0m \u001b[0;34m=\u001b[0m \u001b[0;36m0\u001b[0m\u001b[0;34m\u001b[0m\u001b[0;34m\u001b[0m\u001b[0m\n",
            "\u001b[0;31mKeyError\u001b[0m: 1"
          ]
        }
      ]
    },
    {
      "cell_type": "code",
      "source": [
        "for i in range(1, 9):\n",
        "  print(i)"
      ],
      "metadata": {
        "id": "MjoOszWl6Lby",
        "outputId": "64dcbd19-4b19-45f4-a848-f74ac17aa765",
        "colab": {
          "base_uri": "https://localhost:8080/"
        }
      },
      "execution_count": 20,
      "outputs": [
        {
          "output_type": "stream",
          "name": "stdout",
          "text": [
            "1\n",
            "2\n",
            "3\n",
            "4\n",
            "5\n",
            "6\n",
            "7\n",
            "8\n"
          ]
        }
      ]
    },
    {
      "cell_type": "code",
      "source": [
        "d = {'A' : 10, 'B' : 11, 'C' : 12, 'D' : 13 , 'E' : 14,  \n",
        "       'F' : 15, 'G' : 16, 'H' : 17, 'I' : 34, 'J': 18,\n",
        "       'K' : 19, 'L' : 20, 'M' : 21, 'N' : 22, 'O' : 35,\n",
        "       'P' : 23, 'Q' : 24, 'R' : 25, 'S' : 26, 'T' : 27,\n",
        "       'U' : 28, 'V' : 29, 'W' : 32, 'X' : 30, 'Y' : 31,\n",
        "       'Z' : 33}\n",
        "a = input()\n",
        "a = list(a)\n",
        "print(a)\n",
        "sum = 0\n",
        "for i in range(10, 34):\n",
        "  sum += (i//10)*1\n",
        "  sum += (i%10)*9\n",
        "  for j in range(1, 9):\n",
        "    sum += int(a[j-1])*(9-i)\n",
        "  print(sum)\n"
      ],
      "metadata": {
        "id": "Jzcysigp5jHH",
        "outputId": "321a8ed4-0cce-4607-f1f0-a82c6c6c6897",
        "colab": {
          "base_uri": "https://localhost:8080/"
        }
      },
      "execution_count": 24,
      "outputs": [
        {
          "output_type": "stream",
          "name": "stdout",
          "text": [
            "13024567\n",
            "['1', '3', '0', '2', '4', '5', '6', '7']\n",
            "-27\n",
            "-73\n",
            "-138\n",
            "-222\n",
            "-325\n",
            "-447\n",
            "-588\n",
            "-748\n",
            "-927\n",
            "-1125\n",
            "-1431\n",
            "-1756\n",
            "-2100\n",
            "-2463\n",
            "-2845\n",
            "-3246\n",
            "-3666\n",
            "-4105\n",
            "-4563\n",
            "-5040\n",
            "-5625\n",
            "-6229\n",
            "-6852\n",
            "-7494\n"
          ]
        }
      ]
    }
  ]
}
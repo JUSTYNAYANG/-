{
  "nbformat": 4,
  "nbformat_minor": 0,
  "metadata": {
    "colab": {
      "provenance": [],
      "authorship_tag": "ABX9TyO22iQbDDZS0xS2TXmlKe29",
      "include_colab_link": true
    },
    "kernelspec": {
      "name": "python3",
      "display_name": "Python 3"
    },
    "language_info": {
      "name": "python"
    }
  },
  "cells": [
    {
      "cell_type": "markdown",
      "metadata": {
        "id": "view-in-github",
        "colab_type": "text"
      },
      "source": [
        "<a href=\"https://colab.research.google.com/github/JUSTYNAYANG/summerpy/blob/main/20221005.ipynb\" target=\"_parent\"><img src=\"https://colab.research.google.com/assets/colab-badge.svg\" alt=\"Open In Colab\"/></a>"
      ]
    },
    {
      "cell_type": "markdown",
      "source": [
        "Kahoot Review\n",
        "\n",
        "- sum(), len(), max(), min()\n",
        "- in, not in, +, -\n",
        "- .copy, .sort(), reverse()\n",
        "- lambda function"
      ],
      "metadata": {
        "id": "Dy5sD2GyWPfX"
      }
    },
    {
      "cell_type": "markdown",
      "source": [
        "# .copy()"
      ],
      "metadata": {
        "id": "DmOXLcnMI4Rb"
      }
    },
    {
      "cell_type": "code",
      "execution_count": 182,
      "metadata": {
        "id": "9Qb-65thIyIH"
      },
      "outputs": [],
      "source": [
        "x = [1, 2, 3]"
      ]
    },
    {
      "cell_type": "code",
      "source": [
        "# when y = x, a change in y is a change in x, a change in x is a change in y\n",
        "y = x"
      ],
      "metadata": {
        "id": "XohSlXP5I9lO"
      },
      "execution_count": 183,
      "outputs": []
    },
    {
      "cell_type": "code",
      "source": [
        "y"
      ],
      "metadata": {
        "colab": {
          "base_uri": "https://localhost:8080/"
        },
        "id": "DHQYWug0JOOE",
        "outputId": "d899ab82-c112-481e-dada-ee187ee30aca"
      },
      "execution_count": 184,
      "outputs": [
        {
          "output_type": "execute_result",
          "data": {
            "text/plain": [
              "[1, 2, 3]"
            ]
          },
          "metadata": {},
          "execution_count": 184
        }
      ]
    },
    {
      "cell_type": "code",
      "source": [
        "# by copying, changing z will not affect x (same for opposite)\n",
        "z = x.copy()"
      ],
      "metadata": {
        "id": "cnn74j63JY16"
      },
      "execution_count": 185,
      "outputs": []
    },
    {
      "cell_type": "code",
      "source": [
        "z"
      ],
      "metadata": {
        "colab": {
          "base_uri": "https://localhost:8080/"
        },
        "id": "W03UOVkkJj6P",
        "outputId": "103ce390-d506-49b1-e022-e88978a76d1a"
      },
      "execution_count": 186,
      "outputs": [
        {
          "output_type": "execute_result",
          "data": {
            "text/plain": [
              "[1, 2, 3]"
            ]
          },
          "metadata": {},
          "execution_count": 186
        }
      ]
    },
    {
      "cell_type": "code",
      "source": [
        "x[0] = 10"
      ],
      "metadata": {
        "id": "aKwBOaZFJk0D"
      },
      "execution_count": 187,
      "outputs": []
    },
    {
      "cell_type": "code",
      "source": [
        "# y change bc x change\n",
        "y"
      ],
      "metadata": {
        "colab": {
          "base_uri": "https://localhost:8080/"
        },
        "id": "9luGzgMRJosy",
        "outputId": "f10c596f-4687-42d7-df72-26712299c468"
      },
      "execution_count": 188,
      "outputs": [
        {
          "output_type": "execute_result",
          "data": {
            "text/plain": [
              "[10, 2, 3]"
            ]
          },
          "metadata": {},
          "execution_count": 188
        }
      ]
    },
    {
      "cell_type": "code",
      "source": [
        "# z does not change\n",
        "z"
      ],
      "metadata": {
        "colab": {
          "base_uri": "https://localhost:8080/"
        },
        "id": "sxWaj3djJrqy",
        "outputId": "df494012-577d-45d5-deff-c80103497e40"
      },
      "execution_count": 189,
      "outputs": [
        {
          "output_type": "execute_result",
          "data": {
            "text/plain": [
              "[1, 2, 3]"
            ]
          },
          "metadata": {},
          "execution_count": 189
        }
      ]
    },
    {
      "cell_type": "markdown",
      "source": [
        "# Lambda Function"
      ],
      "metadata": {
        "id": "JIzA6S8iM-La"
      }
    },
    {
      "cell_type": "markdown",
      "source": [
        "function definition\n",
        "\n",
        "```python\n",
        "def functionName(argument):\n",
        "  return retValue\n",
        "```"
      ],
      "metadata": {
        "id": "Je1CEcL6NH4A"
      }
    },
    {
      "cell_type": "code",
      "source": [
        "def square01(x):\n",
        "  return x **2"
      ],
      "metadata": {
        "id": "lIy45TQpM9I3"
      },
      "execution_count": 190,
      "outputs": []
    },
    {
      "cell_type": "code",
      "source": [
        "square01(4)"
      ],
      "metadata": {
        "colab": {
          "base_uri": "https://localhost:8080/"
        },
        "id": "RT3c_Vr_Nbt0",
        "outputId": "60bb7291-49c2-45c3-a3f0-94138397da44"
      },
      "execution_count": 191,
      "outputs": [
        {
          "output_type": "execute_result",
          "data": {
            "text/plain": [
              "16"
            ]
          },
          "metadata": {},
          "execution_count": 191
        }
      ]
    },
    {
      "cell_type": "code",
      "source": [
        "# same"
      ],
      "metadata": {
        "id": "lZPlwo0lN0Lq"
      },
      "execution_count": 192,
      "outputs": []
    },
    {
      "cell_type": "code",
      "source": [
        "square02= lambda x: x**2"
      ],
      "metadata": {
        "id": "dou7yIkLNlq6"
      },
      "execution_count": 193,
      "outputs": []
    },
    {
      "cell_type": "code",
      "source": [
        "square02(4)"
      ],
      "metadata": {
        "colab": {
          "base_uri": "https://localhost:8080/"
        },
        "id": "dG7OWwcZNlWO",
        "outputId": "ae4f123d-4a0b-4c51-f936-a1d574163489"
      },
      "execution_count": 194,
      "outputs": [
        {
          "output_type": "execute_result",
          "data": {
            "text/plain": [
              "16"
            ]
          },
          "metadata": {},
          "execution_count": 194
        }
      ]
    },
    {
      "cell_type": "code",
      "source": [
        "x = [(\"a\", 1), (\"c\", 2), (\"b\", 3)]"
      ],
      "metadata": {
        "id": "HncWajeCNeHA"
      },
      "execution_count": 195,
      "outputs": []
    },
    {
      "cell_type": "code",
      "source": [
        "x.sort()"
      ],
      "metadata": {
        "id": "M44nmnEkOtiZ"
      },
      "execution_count": 196,
      "outputs": []
    },
    {
      "cell_type": "code",
      "source": [
        "x"
      ],
      "metadata": {
        "colab": {
          "base_uri": "https://localhost:8080/"
        },
        "id": "3e_6dmVxOxdY",
        "outputId": "5efe45b4-8fea-4b3b-93b5-eecb5c5e282a"
      },
      "execution_count": 197,
      "outputs": [
        {
          "output_type": "execute_result",
          "data": {
            "text/plain": [
              "[('a', 1), ('b', 3), ('c', 2)]"
            ]
          },
          "metadata": {},
          "execution_count": 197
        }
      ]
    },
    {
      "cell_type": "code",
      "source": [
        "def getkey(elme):\n",
        "  return elme[1]"
      ],
      "metadata": {
        "id": "3Sh8NO5FO-Hg"
      },
      "execution_count": 198,
      "outputs": []
    },
    {
      "cell_type": "code",
      "source": [
        "x.sort(key=getkey)"
      ],
      "metadata": {
        "id": "-mq4UGKzO2eX"
      },
      "execution_count": 199,
      "outputs": []
    },
    {
      "cell_type": "code",
      "source": [
        "x"
      ],
      "metadata": {
        "colab": {
          "base_uri": "https://localhost:8080/"
        },
        "id": "BYMZpveePGxp",
        "outputId": "2dd26ba0-9054-4747-c2b8-a245517095b7"
      },
      "execution_count": 200,
      "outputs": [
        {
          "output_type": "execute_result",
          "data": {
            "text/plain": [
              "[('a', 1), ('c', 2), ('b', 3)]"
            ]
          },
          "metadata": {},
          "execution_count": 200
        }
      ]
    },
    {
      "cell_type": "code",
      "source": [
        "y = ['cat', 'ox', 'human']"
      ],
      "metadata": {
        "id": "WmUgMHUUPYz7"
      },
      "execution_count": 201,
      "outputs": []
    },
    {
      "cell_type": "code",
      "source": [
        "y.sort(key=len)"
      ],
      "metadata": {
        "id": "obK2Flz-PpBY"
      },
      "execution_count": 202,
      "outputs": []
    },
    {
      "cell_type": "code",
      "source": [
        "y"
      ],
      "metadata": {
        "colab": {
          "base_uri": "https://localhost:8080/"
        },
        "id": "wMnNkpZzPv9c",
        "outputId": "edc4b2fd-b7c2-4baa-e5eb-8216e74da04f"
      },
      "execution_count": 203,
      "outputs": [
        {
          "output_type": "execute_result",
          "data": {
            "text/plain": [
              "['ox', 'cat', 'human']"
            ]
          },
          "metadata": {},
          "execution_count": 203
        }
      ]
    },
    {
      "cell_type": "code",
      "source": [
        "people = [('vic', 183, 80), ('mira', 140, 27), ('danny', 170, 70)]"
      ],
      "metadata": {
        "id": "6D5Tu3mmQUy-"
      },
      "execution_count": 204,
      "outputs": []
    },
    {
      "cell_type": "code",
      "source": [
        "# bmi = (weight/height)**2"
      ],
      "metadata": {
        "id": "xuSnJSjiQmjI"
      },
      "execution_count": 205,
      "outputs": []
    },
    {
      "cell_type": "code",
      "source": [
        "def bmi(elme):\n",
        "  return (elme[2]/elme[1]/100)**2"
      ],
      "metadata": {
        "id": "_MPUk-YwQp-i"
      },
      "execution_count": 206,
      "outputs": []
    },
    {
      "cell_type": "code",
      "source": [
        "people.sort(key=bmi)"
      ],
      "metadata": {
        "id": "wZpgp3SJQ5iL"
      },
      "execution_count": 207,
      "outputs": []
    },
    {
      "cell_type": "code",
      "source": [
        "people"
      ],
      "metadata": {
        "colab": {
          "base_uri": "https://localhost:8080/"
        },
        "id": "gQJ-AAylRE9V",
        "outputId": "1ea3dfe1-a628-44a5-8036-4e3588638614"
      },
      "execution_count": 208,
      "outputs": [
        {
          "output_type": "execute_result",
          "data": {
            "text/plain": [
              "[('mira', 140, 27), ('danny', 170, 70), ('vic', 183, 80)]"
            ]
          },
          "metadata": {},
          "execution_count": 208
        }
      ]
    },
    {
      "cell_type": "code",
      "source": [
        "people2 = [('vic', 183, 80), ('mira', 140, 27), ('danny', 170, 70)]"
      ],
      "metadata": {
        "id": "U0YsKPpIRe7H"
      },
      "execution_count": 209,
      "outputs": []
    },
    {
      "cell_type": "code",
      "source": [
        "#lambda allows less python\n",
        "people.sort(key= lambda elme: (elme[2]/elme[1]/100)**2)"
      ],
      "metadata": {
        "id": "_1jJu8kZRZHs"
      },
      "execution_count": 210,
      "outputs": []
    },
    {
      "cell_type": "code",
      "source": [
        "grades = [('vic', 90, 60), ('mira', 70, 70), ('danny', 85, 90)]"
      ],
      "metadata": {
        "id": "qpDIn28cSfAA"
      },
      "execution_count": 211,
      "outputs": []
    },
    {
      "cell_type": "code",
      "source": [
        "grades.sort(key= lambda x: x[1]+x[2])"
      ],
      "metadata": {
        "id": "dVCK0uZqSqVG"
      },
      "execution_count": 212,
      "outputs": []
    },
    {
      "cell_type": "code",
      "source": [
        "grades"
      ],
      "metadata": {
        "colab": {
          "base_uri": "https://localhost:8080/"
        },
        "id": "PSWF8I5QS4Lh",
        "outputId": "ab7253c3-499a-4fb0-c9b4-008f7c1eeba9"
      },
      "execution_count": 213,
      "outputs": [
        {
          "output_type": "execute_result",
          "data": {
            "text/plain": [
              "[('mira', 70, 70), ('vic', 90, 60), ('danny', 85, 90)]"
            ]
          },
          "metadata": {},
          "execution_count": 213
        }
      ]
    },
    {
      "cell_type": "markdown",
      "source": [
        "# .append() vs .extend()"
      ],
      "metadata": {
        "id": "5yCuFH9TTunt"
      }
    },
    {
      "cell_type": "code",
      "source": [
        "x = [1, 2, 3]"
      ],
      "metadata": {
        "id": "e53Wxio4Tx34"
      },
      "execution_count": 214,
      "outputs": []
    },
    {
      "cell_type": "code",
      "source": [
        "# adds the whole list\n",
        "x.append([4, 5, 6])"
      ],
      "metadata": {
        "id": "MKabQ2b3Tsf5"
      },
      "execution_count": 215,
      "outputs": []
    },
    {
      "cell_type": "code",
      "source": [
        "y = [1, 2, 3]"
      ],
      "metadata": {
        "id": "c9Lty9FWT6dI"
      },
      "execution_count": 216,
      "outputs": []
    },
    {
      "cell_type": "code",
      "source": [
        "# adds one by one\n",
        "y.extend([4, 5, 6])"
      ],
      "metadata": {
        "id": "UHBRKEbYT8zJ"
      },
      "execution_count": 217,
      "outputs": []
    },
    {
      "cell_type": "code",
      "source": [
        "x"
      ],
      "metadata": {
        "colab": {
          "base_uri": "https://localhost:8080/"
        },
        "id": "iSC-UG7TUAvM",
        "outputId": "659adce0-941c-405f-bf89-9655167c092a"
      },
      "execution_count": 218,
      "outputs": [
        {
          "output_type": "execute_result",
          "data": {
            "text/plain": [
              "[1, 2, 3, [4, 5, 6]]"
            ]
          },
          "metadata": {},
          "execution_count": 218
        }
      ]
    },
    {
      "cell_type": "code",
      "source": [
        "y"
      ],
      "metadata": {
        "colab": {
          "base_uri": "https://localhost:8080/"
        },
        "id": "7Qv3eVvLUBWH",
        "outputId": "5996cb84-980c-4f69-f056-bb8513dbcf8b"
      },
      "execution_count": 219,
      "outputs": [
        {
          "output_type": "execute_result",
          "data": {
            "text/plain": [
              "[1, 2, 3, 4, 5, 6]"
            ]
          },
          "metadata": {},
          "execution_count": 219
        }
      ]
    },
    {
      "cell_type": "markdown",
      "source": [
        "#.clear"
      ],
      "metadata": {
        "id": "hIqAYM7TVUe2"
      }
    },
    {
      "cell_type": "code",
      "source": [
        "x "
      ],
      "metadata": {
        "colab": {
          "base_uri": "https://localhost:8080/"
        },
        "id": "_RIZAjf3VDoe",
        "outputId": "ad598204-0130-423b-95ef-a9a6da7b41cc"
      },
      "execution_count": 220,
      "outputs": [
        {
          "output_type": "execute_result",
          "data": {
            "text/plain": [
              "[1, 2, 3, [4, 5, 6]]"
            ]
          },
          "metadata": {},
          "execution_count": 220
        }
      ]
    },
    {
      "cell_type": "code",
      "source": [
        "# erases everything in x\n",
        "x.clear()"
      ],
      "metadata": {
        "id": "i77LrC1eVX-n"
      },
      "execution_count": 221,
      "outputs": []
    },
    {
      "cell_type": "code",
      "source": [
        "x"
      ],
      "metadata": {
        "colab": {
          "base_uri": "https://localhost:8080/"
        },
        "id": "CYYPjv2FVcrq",
        "outputId": "f5a4f124-3a6c-4d10-f5ee-fce6bbd3ae88"
      },
      "execution_count": 222,
      "outputs": [
        {
          "output_type": "execute_result",
          "data": {
            "text/plain": [
              "[]"
            ]
          },
          "metadata": {},
          "execution_count": 222
        }
      ]
    },
    {
      "cell_type": "markdown",
      "source": [
        "# .count(0"
      ],
      "metadata": {
        "id": "_i7YcY4MVgW1"
      }
    },
    {
      "cell_type": "code",
      "source": [
        "x"
      ],
      "metadata": {
        "colab": {
          "base_uri": "https://localhost:8080/"
        },
        "id": "UlqbRpgdVf79",
        "outputId": "65410aad-5551-4830-ac0e-5b39b0b81a12"
      },
      "execution_count": 223,
      "outputs": [
        {
          "output_type": "execute_result",
          "data": {
            "text/plain": [
              "[]"
            ]
          },
          "metadata": {},
          "execution_count": 223
        }
      ]
    },
    {
      "cell_type": "code",
      "source": [
        "x += [2]*5 + [3]*4 + [4]*3"
      ],
      "metadata": {
        "id": "iOI8QHufVimh"
      },
      "execution_count": 224,
      "outputs": []
    },
    {
      "cell_type": "code",
      "source": [
        "x"
      ],
      "metadata": {
        "colab": {
          "base_uri": "https://localhost:8080/"
        },
        "id": "2YuGbrV8Vs7P",
        "outputId": "7e3adcb7-fc27-4b84-8f16-71f5f988bd4f"
      },
      "execution_count": 225,
      "outputs": [
        {
          "output_type": "execute_result",
          "data": {
            "text/plain": [
              "[2, 2, 2, 2, 2, 3, 3, 3, 3, 4, 4, 4]"
            ]
          },
          "metadata": {},
          "execution_count": 225
        }
      ]
    },
    {
      "cell_type": "code",
      "source": [
        "# counts the number of items\n",
        "x.count(3)"
      ],
      "metadata": {
        "colab": {
          "base_uri": "https://localhost:8080/"
        },
        "id": "WNRYtPUcVt4c",
        "outputId": "3e80d4a2-798b-40cd-826d-83863b3db34d"
      },
      "execution_count": 226,
      "outputs": [
        {
          "output_type": "execute_result",
          "data": {
            "text/plain": [
              "4"
            ]
          },
          "metadata": {},
          "execution_count": 226
        }
      ]
    },
    {
      "cell_type": "markdown",
      "source": [
        "# .index()"
      ],
      "metadata": {
        "id": "GXKMxK4ZWXNi"
      }
    },
    {
      "cell_type": "code",
      "source": [
        "x"
      ],
      "metadata": {
        "colab": {
          "base_uri": "https://localhost:8080/"
        },
        "id": "x1ALhl74WN6W",
        "outputId": "b61cc0fe-c60f-4e52-dfc3-c78c7cb10b11"
      },
      "execution_count": 227,
      "outputs": [
        {
          "output_type": "execute_result",
          "data": {
            "text/plain": [
              "[2, 2, 2, 2, 2, 3, 3, 3, 3, 4, 4, 4]"
            ]
          },
          "metadata": {},
          "execution_count": 227
        }
      ]
    },
    {
      "cell_type": "code",
      "source": [
        "# returns the first place the item is found\n",
        "x.index(2)"
      ],
      "metadata": {
        "colab": {
          "base_uri": "https://localhost:8080/"
        },
        "id": "0kTe4PEPWrRZ",
        "outputId": "6fb5f215-d9c3-4946-a17c-542b86d490b1"
      },
      "execution_count": 228,
      "outputs": [
        {
          "output_type": "execute_result",
          "data": {
            "text/plain": [
              "0"
            ]
          },
          "metadata": {},
          "execution_count": 228
        }
      ]
    },
    {
      "cell_type": "code",
      "source": [
        "x.index(3)"
      ],
      "metadata": {
        "colab": {
          "base_uri": "https://localhost:8080/"
        },
        "id": "yDclfkWlWvJB",
        "outputId": "0cd3bafa-005d-48ca-aaa0-d152fdb7dd48"
      },
      "execution_count": 229,
      "outputs": [
        {
          "output_type": "execute_result",
          "data": {
            "text/plain": [
              "5"
            ]
          },
          "metadata": {},
          "execution_count": 229
        }
      ]
    },
    {
      "cell_type": "code",
      "source": [
        "x.index(4)"
      ],
      "metadata": {
        "colab": {
          "base_uri": "https://localhost:8080/"
        },
        "id": "g1BsRlhnWwfR",
        "outputId": "ec06a165-541a-4bb1-ea19-d828946f17c5"
      },
      "execution_count": 230,
      "outputs": [
        {
          "output_type": "execute_result",
          "data": {
            "text/plain": [
              "9"
            ]
          },
          "metadata": {},
          "execution_count": 230
        }
      ]
    },
    {
      "cell_type": "markdown",
      "source": [
        "# .insert()"
      ],
      "metadata": {
        "id": "7Ws-jojZXWPX"
      }
    },
    {
      "cell_type": "code",
      "source": [
        "x"
      ],
      "metadata": {
        "colab": {
          "base_uri": "https://localhost:8080/"
        },
        "id": "5dJMJbIoXZHn",
        "outputId": "93ff71e1-3e35-40fe-f8b8-bfb5971e299f"
      },
      "execution_count": 231,
      "outputs": [
        {
          "output_type": "execute_result",
          "data": {
            "text/plain": [
              "[2, 2, 2, 2, 2, 3, 3, 3, 3, 4, 4, 4]"
            ]
          },
          "metadata": {},
          "execution_count": 231
        }
      ]
    },
    {
      "cell_type": "code",
      "source": [
        "# insert 1 in place 0\n",
        "x.insert(0,1)"
      ],
      "metadata": {
        "id": "TnEBDN9FXaqZ"
      },
      "execution_count": 232,
      "outputs": []
    },
    {
      "cell_type": "code",
      "source": [
        "x"
      ],
      "metadata": {
        "colab": {
          "base_uri": "https://localhost:8080/"
        },
        "id": "xYrIeGAYXfAh",
        "outputId": "dc24ce6a-1b35-412d-f1a2-47baa6cabd4c"
      },
      "execution_count": 233,
      "outputs": [
        {
          "output_type": "execute_result",
          "data": {
            "text/plain": [
              "[1, 2, 2, 2, 2, 2, 3, 3, 3, 3, 4, 4, 4]"
            ]
          },
          "metadata": {},
          "execution_count": 233
        }
      ]
    },
    {
      "cell_type": "code",
      "source": [
        "x.insert(13,5)"
      ],
      "metadata": {
        "id": "wOrRVxtWXhzj"
      },
      "execution_count": 234,
      "outputs": []
    },
    {
      "cell_type": "code",
      "source": [
        "x"
      ],
      "metadata": {
        "colab": {
          "base_uri": "https://localhost:8080/"
        },
        "id": "_ekQ67EnXlKI",
        "outputId": "d3641356-f291-4835-df96-6ad0095c1373"
      },
      "execution_count": 235,
      "outputs": [
        {
          "output_type": "execute_result",
          "data": {
            "text/plain": [
              "[1, 2, 2, 2, 2, 2, 3, 3, 3, 3, 4, 4, 4, 5]"
            ]
          },
          "metadata": {},
          "execution_count": 235
        }
      ]
    },
    {
      "cell_type": "markdown",
      "source": [
        "#.pop() vs .remove()"
      ],
      "metadata": {
        "id": "ei54jQWkXztf"
      }
    },
    {
      "cell_type": "code",
      "source": [
        "x"
      ],
      "metadata": {
        "colab": {
          "base_uri": "https://localhost:8080/"
        },
        "id": "liIBviXBXzCT",
        "outputId": "790d072c-b77e-4f4a-fa06-9daf5385782e"
      },
      "execution_count": 236,
      "outputs": [
        {
          "output_type": "execute_result",
          "data": {
            "text/plain": [
              "[1, 2, 2, 2, 2, 2, 3, 3, 3, 3, 4, 4, 4, 5]"
            ]
          },
          "metadata": {},
          "execution_count": 236
        }
      ]
    },
    {
      "cell_type": "code",
      "source": [
        "#remove the first 2\n",
        "x.remove(2)"
      ],
      "metadata": {
        "id": "hkgXqeP3X6lB"
      },
      "execution_count": 237,
      "outputs": []
    },
    {
      "cell_type": "code",
      "source": [
        "x"
      ],
      "metadata": {
        "colab": {
          "base_uri": "https://localhost:8080/"
        },
        "id": "vIpIJBOcYDzY",
        "outputId": "a206cab1-2b3b-4a7a-900a-ad10832a38b0"
      },
      "execution_count": 238,
      "outputs": [
        {
          "output_type": "execute_result",
          "data": {
            "text/plain": [
              "[1, 2, 2, 2, 2, 3, 3, 3, 3, 4, 4, 4, 5]"
            ]
          },
          "metadata": {},
          "execution_count": 238
        }
      ]
    },
    {
      "cell_type": "code",
      "source": [
        "#removes and returns the item in the place given (4)\n",
        "x.pop(4)"
      ],
      "metadata": {
        "colab": {
          "base_uri": "https://localhost:8080/"
        },
        "id": "8te61PEuYF45",
        "outputId": "18a52489-2a7f-442c-9cab-6fea55e1c61d"
      },
      "execution_count": 239,
      "outputs": [
        {
          "output_type": "execute_result",
          "data": {
            "text/plain": [
              "2"
            ]
          },
          "metadata": {},
          "execution_count": 239
        }
      ]
    },
    {
      "cell_type": "code",
      "source": [
        "x"
      ],
      "metadata": {
        "colab": {
          "base_uri": "https://localhost:8080/"
        },
        "id": "dy9PdWlqYI-i",
        "outputId": "7c836bdd-c07d-4129-fc39-52521d0a2600"
      },
      "execution_count": 240,
      "outputs": [
        {
          "output_type": "execute_result",
          "data": {
            "text/plain": [
              "[1, 2, 2, 2, 3, 3, 3, 3, 4, 4, 4, 5]"
            ]
          },
          "metadata": {},
          "execution_count": 240
        }
      ]
    }
  ]
}
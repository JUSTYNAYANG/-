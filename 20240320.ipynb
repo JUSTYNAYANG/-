{
  "nbformat": 4,
  "nbformat_minor": 0,
  "metadata": {
    "colab": {
      "provenance": [],
      "authorship_tag": "ABX9TyM2UzSCDyrKSSrDtfBYhPZr",
      "include_colab_link": true
    },
    "kernelspec": {
      "name": "python3",
      "display_name": "Python 3"
    },
    "language_info": {
      "name": "python"
    }
  },
  "cells": [
    {
      "cell_type": "markdown",
      "metadata": {
        "id": "view-in-github",
        "colab_type": "text"
      },
      "source": [
        "<a href=\"https://colab.research.google.com/github/JUSTYNAYANG/summerpy/blob/main/20240320.ipynb\" target=\"_parent\"><img src=\"https://colab.research.google.com/assets/colab-badge.svg\" alt=\"Open In Colab\"/></a>"
      ]
    },
    {
      "cell_type": "markdown",
      "source": [
        "# https://httpbin.org/get : test site"
      ],
      "metadata": {
        "id": "5BktNfhJ2jss"
      }
    },
    {
      "cell_type": "code",
      "execution_count": 21,
      "metadata": {
        "id": "2zaGQQEG1RNB"
      },
      "outputs": [],
      "source": [
        "import requests"
      ]
    },
    {
      "cell_type": "code",
      "source": [
        "r = requests.get(\"https://httpbin.org/get\")"
      ],
      "metadata": {
        "id": "iWtT04fz1f0O"
      },
      "execution_count": 22,
      "outputs": []
    },
    {
      "cell_type": "code",
      "source": [],
      "metadata": {
        "id": "dedJuH9b2l5t"
      },
      "execution_count": 22,
      "outputs": []
    },
    {
      "cell_type": "code",
      "source": [
        "print(r.text)"
      ],
      "metadata": {
        "colab": {
          "base_uri": "https://localhost:8080/"
        },
        "id": "J1YB0S5t12Wj",
        "outputId": "b869a55f-c5c2-4bb1-82e2-f729da3a8d68"
      },
      "execution_count": 23,
      "outputs": [
        {
          "output_type": "stream",
          "name": "stdout",
          "text": [
            "{\n",
            "  \"args\": {}, \n",
            "  \"headers\": {\n",
            "    \"Accept\": \"*/*\", \n",
            "    \"Accept-Encoding\": \"gzip, deflate\", \n",
            "    \"Host\": \"httpbin.org\", \n",
            "    \"User-Agent\": \"python-requests/2.31.0\", \n",
            "    \"X-Amzn-Trace-Id\": \"Root=1-65faa020-02e4db090f8a928c1824b86f\"\n",
            "  }, \n",
            "  \"origin\": \"34.125.180.111\", \n",
            "  \"url\": \"https://httpbin.org/get\"\n",
            "}\n",
            "\n"
          ]
        }
      ]
    },
    {
      "cell_type": "code",
      "source": [
        "r.request.headers"
      ],
      "metadata": {
        "colab": {
          "base_uri": "https://localhost:8080/"
        },
        "id": "8mVVtNxy-rt7",
        "outputId": "00bf28f4-7ccc-41fa-9a2b-9a1ea37faa32"
      },
      "execution_count": 24,
      "outputs": [
        {
          "output_type": "execute_result",
          "data": {
            "text/plain": [
              "{'User-Agent': 'python-requests/2.31.0', 'Accept-Encoding': 'gzip, deflate', 'Accept': '*/*', 'Connection': 'keep-alive'}"
            ]
          },
          "metadata": {},
          "execution_count": 24
        }
      ]
    },
    {
      "cell_type": "markdown",
      "source": [
        "##changing useragent from test site\n",
        "\n",
        "how to fake a browser"
      ],
      "metadata": {
        "id": "CNvIBDO_2gMd"
      }
    },
    {
      "cell_type": "code",
      "source": [
        "headers = {\"user-agent\":\"Mozilla/5.0 (Macintosh; Intel Mac OS X 10_15_7) AppleWebKit/537.36 (KHTML, like Gecko) Chrome/122.0.0.0 Safari/537.36\",\n",
        "    \"X-Amzn-Trace-Id\": \"Root=1-65fa959b-736384a94d12a05f1bb1a81b\"}"
      ],
      "metadata": {
        "id": "AiF-smJA2IFW"
      },
      "execution_count": 25,
      "outputs": []
    },
    {
      "cell_type": "code",
      "source": [
        "r1 = requests.get(\"https://httpbin.org/get\", headers=headers)"
      ],
      "metadata": {
        "id": "BG6dEk0d2Ru4"
      },
      "execution_count": 26,
      "outputs": []
    },
    {
      "cell_type": "code",
      "source": [
        "print(r1.text)"
      ],
      "metadata": {
        "colab": {
          "base_uri": "https://localhost:8080/"
        },
        "id": "nO0l_vFD2aes",
        "outputId": "05124a1d-d182-47cd-b930-e3d746406493"
      },
      "execution_count": 27,
      "outputs": [
        {
          "output_type": "stream",
          "name": "stdout",
          "text": [
            "{\n",
            "  \"args\": {}, \n",
            "  \"headers\": {\n",
            "    \"Accept\": \"*/*\", \n",
            "    \"Accept-Encoding\": \"gzip, deflate\", \n",
            "    \"Host\": \"httpbin.org\", \n",
            "    \"User-Agent\": \"Mozilla/5.0 (Macintosh; Intel Mac OS X 10_15_7) AppleWebKit/537.36 (KHTML, like Gecko) Chrome/122.0.0.0 Safari/537.36\", \n",
            "    \"X-Amzn-Trace-Id\": \"Self=1-65faa020-2332b81f206622fb733800b9;Root=1-65fa959b-736384a94d12a05f1bb1a81b\"\n",
            "  }, \n",
            "  \"origin\": \"34.125.180.111\", \n",
            "  \"url\": \"https://httpbin.org/get\"\n",
            "}\n",
            "\n"
          ]
        }
      ]
    },
    {
      "cell_type": "code",
      "source": [
        "r1.request.headers"
      ],
      "metadata": {
        "colab": {
          "base_uri": "https://localhost:8080/"
        },
        "id": "KRNI87YZ-j53",
        "outputId": "42f47027-7758-4589-ecc0-0656a01a79ca"
      },
      "execution_count": 28,
      "outputs": [
        {
          "output_type": "execute_result",
          "data": {
            "text/plain": [
              "{'user-agent': 'Mozilla/5.0 (Macintosh; Intel Mac OS X 10_15_7) AppleWebKit/537.36 (KHTML, like Gecko) Chrome/122.0.0.0 Safari/537.36', 'Accept-Encoding': 'gzip, deflate', 'Accept': '*/*', 'Connection': 'keep-alive', 'X-Amzn-Trace-Id': 'Root=1-65fa959b-736384a94d12a05f1bb1a81b'}"
            ]
          },
          "metadata": {},
          "execution_count": 28
        }
      ]
    },
    {
      "cell_type": "markdown",
      "source": [
        "#https post\n",
        "\n",
        "how to use post to get information\n"
      ],
      "metadata": {
        "id": "sAwgJM837i48"
      }
    },
    {
      "cell_type": "code",
      "source": [
        "url = \"http://www.richyli.com/name/index.asp\""
      ],
      "metadata": {
        "id": "yOGzeWxY7QFn"
      },
      "execution_count": 29,
      "outputs": []
    },
    {
      "cell_type": "code",
      "source": [
        "data = {\n",
        "    \"name_count\":10,\n",
        "    \"break\":2\n",
        "}"
      ],
      "metadata": {
        "id": "Ts6Dgwu99mWk"
      },
      "execution_count": 30,
      "outputs": []
    },
    {
      "cell_type": "code",
      "source": [
        "r2 = requests.post(url, data=data)"
      ],
      "metadata": {
        "id": "bZUwrqj-9zMT"
      },
      "execution_count": 31,
      "outputs": []
    },
    {
      "cell_type": "code",
      "source": [
        "print(r2.text)"
      ],
      "metadata": {
        "colab": {
          "base_uri": "https://localhost:8080/"
        },
        "id": "5-7TUeUo94AJ",
        "outputId": "d53b6c04-0559-4439-ebef-36405ffb91ac"
      },
      "execution_count": 32,
      "outputs": [
        {
          "output_type": "stream",
          "name": "stdout",
          "text": [
            "\r\n",
            "<!DOCTYPE HTML PUBLIC \"-//W3C//DTD HTML 4.01 Transitional//EN\"\r\n",
            "\"http://www.w3.org/TR/html4/loose.dtd\">\r\n",
            "<HTML lang=\"zh-TW\">\r\n",
            "<head>\r\n",
            "<!-- Google Tag Manager -->\r\n",
            "<script>(function(w,d,s,l,i){w[l]=w[l]||[];w[l].push({'gtm.start':\r\n",
            "new Date().getTime(),event:'gtm.js'});var f=d.getElementsByTagName(s)[0],\r\n",
            "j=d.createElement(s),dl=l!='dataLayer'?'&l='+l:'';j.async=true;j.src=\r\n",
            "'https://www.googletagmanager.com/gtm.js?id='+i+dl;f.parentNode.insertBefore(j,f);\r\n",
            "})(window,document,'script','dataLayer','GTM-NG6DX9R');</script>\r\n",
            "<!-- End Google Tag Manager -->\r\n",
            "<script src=\"https://www.googleoptimize.com/optimize.js?id=OPT-KCKTSSW\"></script>\r\n",
            "<!-- Google tag (gtag.js) -->\r\n",
            "<script async src=\"https://www.googletagmanager.com/gtag/js?id=G-KRGDNN2669\"></script>\r\n",
            "<script>\r\n",
            "  window.dataLayer = window.dataLayer || [];\r\n",
            "  function gtag(){dataLayer.push(arguments);}\r\n",
            "  gtag('js', new Date());\r\n",
            "\r\n",
            "  gtag('config', 'G-KRGDNN2669');\r\n",
            "</script>\r\n",
            "<!-- Global site tag (gtag.js) - Google Analytics -->\r\n",
            "<script async src=\"https://www.googletagmanager.com/gtag/js?id=UA-97269-4\"></script>\r\n",
            "<script>\r\n",
            "  window.dataLayer = window.dataLayer || [];\r\n",
            "  function gtag(){dataLayer.push(arguments);}\r\n",
            "  gtag('js', new Date());\r\n",
            "\r\n",
            "  gtag('config', 'UA-97269-4');\r\n",
            "</script>\r\n",
            "<title>¤¤¤å©m¦W²£¥Í¾¹ : ©R¦W¡B°_¦W¡B¨ú¦W°Ñ¦Ò¤u¨ã- Chinese Name Generator </title>\r\n",
            "<meta name=\"keywords\" content=\"©R¦W, °_¦W, ©m¦W¾Ç, ©m¦W, ÃÀ¦W, ªá¦W, ¦W¦r, À¦¨à©R¦W, ©R¦W³nÅé, ¤å¾Ç, ³Ð§@, ¨ú¦W, ¤p»¡\">\r\n",
            "<meta name=\"description\" content=\"´£¨Ñ¹q¸£¤Æ²£¥Í¤¤¤å©m¦Wªº§Ö³t¾÷¨î¡A¤å¦r³Ð§@ªÌªº³Ì·R¡A¥»¤g¤p»¡®a³Ì±`¨Ï¥Îªººô¸ô¤u¨ã¤§¤@¡C\">\r\n",
            "<meta http-equiv=\"Content-Type\" content=\"text/html; charset=big5\">\r\n",
            "<link rel=\"shortcut icon\" href=\"/favicon.ico\" />\r\n",
            "<script data-ad-client=\"ca-pub-8557565258139827\" async src=\"https://pagead2.googlesyndication.com/pagead/js/adsbygoogle.js\"></script>\r\n",
            "</head>\r\n",
            "<body bgcolor=\"white\">\r\n",
            "<!-- Google Tag Manager (noscript) -->\r\n",
            "<noscript><iframe src=\"https://www.googletagmanager.com/ns.html?id=GTM-NG6DX9R\"\r\n",
            "height=\"0\" width=\"0\" style=\"display:none;visibility:hidden\"></iframe></noscript>\r\n",
            "<!-- End Google Tag Manager (noscript) -->\r\n",
            "<table width=\"700\" border=\"0\" align=\"center\">\r\n",
            "<tr>\r\n",
            "<td colspan=\"2\">\r\n",
            "<h1>¤¤¤å©m¦W²£¥Í¾¹ <a href=\"history.htm\">v3.4</a></h1>\r\n",
            "\r\n",
            " <form name=\"form\" action=\"index.asp\" method=\"post\" >\r\n",
            "    <hr>\r\n",
            "    <table width=\"730\" border=\"0\" cellpadding=\"2\" cellspacing=\"0\">\r\n",
            "      <tr>\r\n",
            "        <td><div align=\"left\"><b>·Q²£¥Í¦h¤Ö¦W¦r</b></div></td>\r\n",
            "        <td>\r\n",
            "          <div align=\"left\">\r\n",
            "            <select name=\"name_count\" class=\"11p\">\r\n",
            "                  <option value=\"10\">10</option>\r\n",
            "                  <option value=\"50\">50</option>\r\n",
            "                  <option value=\"100\" selected>100</option>\r\n",
            "                  <option value=\"200\">200</option>\r\n",
            "                  <option value=\"500\">500</option>\r\n",
            "                  <option value=\"1000\">1000</option>\r\n",
            "                  <option value=\"2000\">2000</option>\r\n",
            "                  <option value=\"5000\">5000</option>\r\n",
            "                  <option value=\"10000\">10000</option>\r\n",
            "                  <option value=\"20000\">20000</option>\r\n",
            "            </select>\r\n",
            "          </div></td>\r\n",
            "        <td><div align=\"center\"><b>­n¦p¦ó¤À¹j</b> </div></td>\r\n",
            "        <td>\r\n",
            "          <div align=\"left\">\r\n",
            "            <select name=\"break\">\r\n",
            "                  <option value=\"1\" selected>¥þ§Î¹y¸¹¡]¡B¡^</option>\r\n",
            "                  <option value=\"2 \">¥b§Î³rÂI¡],¡^</option>\r\n",
            "                  <option value=\"3\">Â_¦æ</option>\r\n",
            "                  <option value=\"4\">ªþ¤W¨­¥÷ÃÒ¦r¸¹</option>\r\n",
            "            </select>\r\n",
            "          </div></td>\r\n",
            "        <td>\r\n",
            "          <div align=\"left\">\r\n",
            "            <input type=\"submit\" name=\"Submit\" value=\"§Ö³t²£¥Í¦W¦r§a¡I\">\r\n",
            "          </div></td>\r\n",
            "        </tr>\r\n",
            "      <tr>\r\n",
            "        <td><div align=\"left\"><b>§Ú­n¦Û¤v¨M©w©m</b></div></td>\r\n",
            "        <td><div align=\"left\">\r\n",
            "          <input name=\"yourname\" type=\"text\" class=\"11p\" id=\"yourname\" value=\"\" size=\"4\" maxlength=\"4\">\r\n",
            "        </div></td>\r\n",
            "        <td colspan=\"3\"><div align=\"left\"><span class=\"style8\">¡]«D¥²­n¡A­Y­n¨Ì¦¹¬°À¦¨à©R¦W¡A½Ð¤T«ä¡I¡^</span></div></td>\r\n",
            "        </tr>\r\n",
            "    </table>\r\n",
            "    <hr>\r\n",
            "   </form>\r\n",
            "</td>\r\n",
            "</tr>\r\n",
            "<tr><td colspan=\"2\">\r\n",
            "\r\n",
            "<p align=\"center\">\r\n",
            "\r\n",
            "<script type=\"text/javascript\"><!--\r\n",
            "google_ad_client = \"ca-pub-8557565258139827\";\r\n",
            "/* Name - N 728 */\r\n",
            "google_ad_slot = \"2963413935\";\r\n",
            "google_ad_width = 728;\r\n",
            "google_ad_height = 90;\r\n",
            "//-->\r\n",
            "</script>\r\n",
            "<script type=\"text/javascript\"\r\n",
            "src=\"http://pagead2.googlesyndication.com/pagead/show_ads.js\">\r\n",
            "</script>\r\n",
            "\r\n",
            "</td></tr>\r\n",
            "<tr><td valign=\"top\">\r\n",
            "\r\n",
            "§d©vºú, ®L¤Wæ¢, ¬h§®Åw, §d¶®¬Â, ³¯°ÒªL, ªL¿³¯\\, ±i©É¦p, ¶À®a»¨, ·¨¨Ø§g, ®]®xÞ³, ¡­¦W³æµ²§ô¡­¥H¤W¦@²£¥Í10­Ó¤¤¤å©m¦W¡A³¯©mªº¦@¦³1­Ó¡A¤ñ¨Ò¬°¡G10%¡]<a href=\"big_10.htm\">¥¿±`¤ñ¨Ò¬ù¦b11%¥ª¥k</a>¡^¡C \r\n",
            "\t\t</td>\r\n",
            "\t\t<td valign=\"top\" width=\"300\">\r\n",
            "<script type=\"text/javascript\"><!--\r\n",
            "google_ad_client = \"pub-8557565258139827\";\r\n",
            "/* Name-LREC-1 */\r\n",
            "google_ad_slot = \"3476576480\";\r\n",
            "google_ad_width = 300;\r\n",
            "google_ad_height = 250;\r\n",
            "//-->\r\n",
            "</script>\r\n",
            "<script type=\"text/javascript\"\r\n",
            "src=\"http://pagead2.googlesyndication.com/pagead/show_ads.js\">\r\n",
            "</script>\r\n",
            "\r\n",
            "<script type=\"text/javascript\"><!--\r\n",
            "google_ad_client = \"pub-8557565258139827\";\r\n",
            "/* Name-LREC-2 */\r\n",
            "google_ad_slot = \"9759194601\";\r\n",
            "google_ad_width = 300;\r\n",
            "google_ad_height = 250;\r\n",
            "//-->\r\n",
            "</script>\r\n",
            "<script type=\"text/javascript\"\r\n",
            "src=\"http://pagead2.googlesyndication.com/pagead/show_ads.js\">\r\n",
            "</script>\r\n",
            "\t\t</td>\r\n",
            "\t</tr>\r\n",
            "\t<tr>\r\n",
            "\t\t<td colspan=\"2\">\r\n",
            "\r\n",
            "\r\n",
            "\t\t\t<hr>\r\n",
            "<p><strong>©R¦W¤£¨D¤H®T¼Ö±M°Ï</strong>¡]«áªG¦Û­t¡^<br><br>\r\n",
            "\t\t\t<a href=\"index.asp\">À¦¨à©R¦W</a> | <a href=\"novel.asp\">¤p»¡¤Hª«©R¦W</a> | <a href=\"novel.asp\">µ§¦W©R¦W</a> |<a href=\"company.asp\"> ¥ø·~©R¦W</a> | <a href=\"http://www.richyli.com/randomname/\">­^¤å¦W</a> <a href=\"http://www.richyli.com/randomname/\">Random Name Generator</a> | </p>\r\n",
            "<hr>\r\n",
            "\t\t\t<p>Á{®É»Ý­n®º³y«Ü¦h¤¤¤å©m¦W¶Ü¡]<a href=\"usage.htm\">©Î¨ä¥L»Ý¨D</a>¡^¡H¡u¤¤¤å©m¦W²£¥Í¾¹¡v¸g¹L¦h¦~§ïª©¡A¥i³z¹L¶Ã¼Æ²£¥Í·¥¬°¹G¯uªº¤¤¤å©m¦W¦W³æ¡A¥Ø«e¥i¥H²Õ¦X<b>¹O5000¸U</b>­Ó¤£¦Pªº¤¤¤å¦W¦r¡]½d¨Ò <a href=\"sample1.htm\">1</a>, <a href=\"sample2.htm\">2</a>, <a href=\"sample3.htm\">3</a>, <a href=\"sample4.htm\">4</a>, <a href=\"sample5.htm\">5</a>, <a href=\"sample6.htm\">6</a>, <a href=\"sample7.htm\">7</a>¡^¡A¦p¦³¥ô¦ó«ØÄ³¡A<a href=\"../about/contact.htm\">½Ð¼g«H§i¶D§Ú</a>¡AÁÂÁÂ¡I<br>\r\n",
            "\t\t\t<br>³o¤£¬O©R¦W¦Ñ®v©Î§K¶O©R¦W³nÅé¡A­Y¦U¦ì®aªø­n¥H¦¹´À±zªº·s¥Í¨à°_¦W©Î´À¦Û¤v§ï¦W®É¡A<strong>½Ð°È¥²¤T«ä</strong>¡AÁ×§K¤é«á¿ò¾Ñ¡C</p>\r\n",
            "\t\t\t<hr>\r\n",
            "\t\t\t<a href=\"usage.htm\">¥\\¯à</a> | <a href=\"big_10.htm\">¥xÆW¤Q¤j©m¤ó</a> | <a href=\"new_double_name.htm\">·s¿³½Æ©m¥X²{</a> | <a href=\"Hot_Yi.htm\">¼öªùªº¡u©É¡v</a> | <a href=\"links.htm\">¬ÛÃöºô¯¸</a><p>\r\n",
            "\t\t\t\r\n",
            "\t\t\t<p id=\"pagenote\"><a href=\"../about/copyright.htm\" title=\"Copyright\">«O¯d³¡¤ÀÅv§Q (Some rights reserved)</a>, 1996-2020, Richy Li. </p>\r\n",
            "\t\t</td>\r\n",
            "\t</tr>\r\n",
            "</table>\r\n",
            "\r\n",
            "\r\n",
            "<script src=\"http://www.google-analytics.com/urchin.js\" type=\"text/javascript\">\r\n",
            "</script>\r\n",
            "<script type=\"text/javascript\">\r\n",
            "_uacct = \"UA-103495-7\";\r\n",
            "urchinTracker();\r\n",
            "</script>\r\n",
            "</body></html>\n"
          ]
        }
      ]
    },
    {
      "cell_type": "code",
      "source": [
        "r2.encoding = \"big5\""
      ],
      "metadata": {
        "id": "iIattZk4AIs2"
      },
      "execution_count": 33,
      "outputs": []
    },
    {
      "cell_type": "code",
      "source": [
        "print(r2.text)"
      ],
      "metadata": {
        "colab": {
          "base_uri": "https://localhost:8080/"
        },
        "id": "Yd99cEYrANN5",
        "outputId": "86013143-40a5-4871-f502-f5a209449131"
      },
      "execution_count": 34,
      "outputs": [
        {
          "output_type": "stream",
          "name": "stdout",
          "text": [
            "\r\n",
            "<!DOCTYPE HTML PUBLIC \"-//W3C//DTD HTML 4.01 Transitional//EN\"\r\n",
            "\"http://www.w3.org/TR/html4/loose.dtd\">\r\n",
            "<HTML lang=\"zh-TW\">\r\n",
            "<head>\r\n",
            "<!-- Google Tag Manager -->\r\n",
            "<script>(function(w,d,s,l,i){w[l]=w[l]||[];w[l].push({'gtm.start':\r\n",
            "new Date().getTime(),event:'gtm.js'});var f=d.getElementsByTagName(s)[0],\r\n",
            "j=d.createElement(s),dl=l!='dataLayer'?'&l='+l:'';j.async=true;j.src=\r\n",
            "'https://www.googletagmanager.com/gtm.js?id='+i+dl;f.parentNode.insertBefore(j,f);\r\n",
            "})(window,document,'script','dataLayer','GTM-NG6DX9R');</script>\r\n",
            "<!-- End Google Tag Manager -->\r\n",
            "<script src=\"https://www.googleoptimize.com/optimize.js?id=OPT-KCKTSSW\"></script>\r\n",
            "<!-- Google tag (gtag.js) -->\r\n",
            "<script async src=\"https://www.googletagmanager.com/gtag/js?id=G-KRGDNN2669\"></script>\r\n",
            "<script>\r\n",
            "  window.dataLayer = window.dataLayer || [];\r\n",
            "  function gtag(){dataLayer.push(arguments);}\r\n",
            "  gtag('js', new Date());\r\n",
            "\r\n",
            "  gtag('config', 'G-KRGDNN2669');\r\n",
            "</script>\r\n",
            "<!-- Global site tag (gtag.js) - Google Analytics -->\r\n",
            "<script async src=\"https://www.googletagmanager.com/gtag/js?id=UA-97269-4\"></script>\r\n",
            "<script>\r\n",
            "  window.dataLayer = window.dataLayer || [];\r\n",
            "  function gtag(){dataLayer.push(arguments);}\r\n",
            "  gtag('js', new Date());\r\n",
            "\r\n",
            "  gtag('config', 'UA-97269-4');\r\n",
            "</script>\r\n",
            "<title>中文姓名產生器 : 命名、起名、取名參考工具- Chinese Name Generator </title>\r\n",
            "<meta name=\"keywords\" content=\"命名, 起名, 姓名學, 姓名, 藝名, 花名, 名字, 嬰兒命名, 命名軟體, 文學, 創作, 取名, 小說\">\r\n",
            "<meta name=\"description\" content=\"提供電腦化產生中文姓名的快速機制，文字創作者的最愛，本土小說家最常使用的網路工具之一。\">\r\n",
            "<meta http-equiv=\"Content-Type\" content=\"text/html; charset=big5\">\r\n",
            "<link rel=\"shortcut icon\" href=\"/favicon.ico\" />\r\n",
            "<script data-ad-client=\"ca-pub-8557565258139827\" async src=\"https://pagead2.googlesyndication.com/pagead/js/adsbygoogle.js\"></script>\r\n",
            "</head>\r\n",
            "<body bgcolor=\"white\">\r\n",
            "<!-- Google Tag Manager (noscript) -->\r\n",
            "<noscript><iframe src=\"https://www.googletagmanager.com/ns.html?id=GTM-NG6DX9R\"\r\n",
            "height=\"0\" width=\"0\" style=\"display:none;visibility:hidden\"></iframe></noscript>\r\n",
            "<!-- End Google Tag Manager (noscript) -->\r\n",
            "<table width=\"700\" border=\"0\" align=\"center\">\r\n",
            "<tr>\r\n",
            "<td colspan=\"2\">\r\n",
            "<h1>中文姓名產生器 <a href=\"history.htm\">v3.4</a></h1>\r\n",
            "\r\n",
            " <form name=\"form\" action=\"index.asp\" method=\"post\" >\r\n",
            "    <hr>\r\n",
            "    <table width=\"730\" border=\"0\" cellpadding=\"2\" cellspacing=\"0\">\r\n",
            "      <tr>\r\n",
            "        <td><div align=\"left\"><b>想產生多少名字</b></div></td>\r\n",
            "        <td>\r\n",
            "          <div align=\"left\">\r\n",
            "            <select name=\"name_count\" class=\"11p\">\r\n",
            "                  <option value=\"10\">10</option>\r\n",
            "                  <option value=\"50\">50</option>\r\n",
            "                  <option value=\"100\" selected>100</option>\r\n",
            "                  <option value=\"200\">200</option>\r\n",
            "                  <option value=\"500\">500</option>\r\n",
            "                  <option value=\"1000\">1000</option>\r\n",
            "                  <option value=\"2000\">2000</option>\r\n",
            "                  <option value=\"5000\">5000</option>\r\n",
            "                  <option value=\"10000\">10000</option>\r\n",
            "                  <option value=\"20000\">20000</option>\r\n",
            "            </select>\r\n",
            "          </div></td>\r\n",
            "        <td><div align=\"center\"><b>要如何分隔</b> </div></td>\r\n",
            "        <td>\r\n",
            "          <div align=\"left\">\r\n",
            "            <select name=\"break\">\r\n",
            "                  <option value=\"1\" selected>全形頓號（、）</option>\r\n",
            "                  <option value=\"2 \">半形逗點（,）</option>\r\n",
            "                  <option value=\"3\">斷行</option>\r\n",
            "                  <option value=\"4\">附上身份證字號</option>\r\n",
            "            </select>\r\n",
            "          </div></td>\r\n",
            "        <td>\r\n",
            "          <div align=\"left\">\r\n",
            "            <input type=\"submit\" name=\"Submit\" value=\"快速產生名字吧！\">\r\n",
            "          </div></td>\r\n",
            "        </tr>\r\n",
            "      <tr>\r\n",
            "        <td><div align=\"left\"><b>我要自己決定姓</b></div></td>\r\n",
            "        <td><div align=\"left\">\r\n",
            "          <input name=\"yourname\" type=\"text\" class=\"11p\" id=\"yourname\" value=\"\" size=\"4\" maxlength=\"4\">\r\n",
            "        </div></td>\r\n",
            "        <td colspan=\"3\"><div align=\"left\"><span class=\"style8\">（非必要，若要依此為嬰兒命名，請三思！）</span></div></td>\r\n",
            "        </tr>\r\n",
            "    </table>\r\n",
            "    <hr>\r\n",
            "   </form>\r\n",
            "</td>\r\n",
            "</tr>\r\n",
            "<tr><td colspan=\"2\">\r\n",
            "\r\n",
            "<p align=\"center\">\r\n",
            "\r\n",
            "<script type=\"text/javascript\"><!--\r\n",
            "google_ad_client = \"ca-pub-8557565258139827\";\r\n",
            "/* Name - N 728 */\r\n",
            "google_ad_slot = \"2963413935\";\r\n",
            "google_ad_width = 728;\r\n",
            "google_ad_height = 90;\r\n",
            "//-->\r\n",
            "</script>\r\n",
            "<script type=\"text/javascript\"\r\n",
            "src=\"http://pagead2.googlesyndication.com/pagead/show_ads.js\">\r\n",
            "</script>\r\n",
            "\r\n",
            "</td></tr>\r\n",
            "<tr><td valign=\"top\">\r\n",
            "\r\n",
            "吳宗綸, 夏上璇, 柳妙歡, 吳雅玲, 陳曼林, 林興珮, 張怡如, 黃家豪, 楊佩君, 孫庭瑋, ＃名單結束＃以上共產生10個中文姓名，陳姓的共有1個，比例為：10%（<a href=\"big_10.htm\">正常比例約在11%左右</a>）。 \r\n",
            "\t\t</td>\r\n",
            "\t\t<td valign=\"top\" width=\"300\">\r\n",
            "<script type=\"text/javascript\"><!--\r\n",
            "google_ad_client = \"pub-8557565258139827\";\r\n",
            "/* Name-LREC-1 */\r\n",
            "google_ad_slot = \"3476576480\";\r\n",
            "google_ad_width = 300;\r\n",
            "google_ad_height = 250;\r\n",
            "//-->\r\n",
            "</script>\r\n",
            "<script type=\"text/javascript\"\r\n",
            "src=\"http://pagead2.googlesyndication.com/pagead/show_ads.js\">\r\n",
            "</script>\r\n",
            "\r\n",
            "<script type=\"text/javascript\"><!--\r\n",
            "google_ad_client = \"pub-8557565258139827\";\r\n",
            "/* Name-LREC-2 */\r\n",
            "google_ad_slot = \"9759194601\";\r\n",
            "google_ad_width = 300;\r\n",
            "google_ad_height = 250;\r\n",
            "//-->\r\n",
            "</script>\r\n",
            "<script type=\"text/javascript\"\r\n",
            "src=\"http://pagead2.googlesyndication.com/pagead/show_ads.js\">\r\n",
            "</script>\r\n",
            "\t\t</td>\r\n",
            "\t</tr>\r\n",
            "\t<tr>\r\n",
            "\t\t<td colspan=\"2\">\r\n",
            "\r\n",
            "\r\n",
            "\t\t\t<hr>\r\n",
            "<p><strong>命名不求人娛樂專區</strong>（後果自負）<br><br>\r\n",
            "\t\t\t<a href=\"index.asp\">嬰兒命名</a> | <a href=\"novel.asp\">小說人物命名</a> | <a href=\"novel.asp\">筆名命名</a> |<a href=\"company.asp\"> 企業命名</a> | <a href=\"http://www.richyli.com/randomname/\">英文名</a> <a href=\"http://www.richyli.com/randomname/\">Random Name Generator</a> | </p>\r\n",
            "<hr>\r\n",
            "\t\t\t<p>臨時需要捏造很多中文姓名嗎（<a href=\"usage.htm\">或其他需求</a>）？「中文姓名產生器」經過多年改版，可透過亂數產生極為逼真的中文姓名名單，目前可以組合<b>逾5000萬</b>個不同的中文名字（範例 <a href=\"sample1.htm\">1</a>, <a href=\"sample2.htm\">2</a>, <a href=\"sample3.htm\">3</a>, <a href=\"sample4.htm\">4</a>, <a href=\"sample5.htm\">5</a>, <a href=\"sample6.htm\">6</a>, <a href=\"sample7.htm\">7</a>），如有任何建議，<a href=\"../about/contact.htm\">請寫信告訴我</a>，謝謝！<br>\r\n",
            "\t\t\t<br>這不是命名老師或免費命名軟體，若各位家長要以此替您的新生兒起名或替自己改名時，<strong>請務必三思</strong>，避免日後遺憾。</p>\r\n",
            "\t\t\t<hr>\r\n",
            "\t\t\t<a href=\"usage.htm\">功能</a> | <a href=\"big_10.htm\">台灣十大姓氏</a> | <a href=\"new_double_name.htm\">新興複姓出現</a> | <a href=\"Hot_Yi.htm\">熱門的「怡」</a> | <a href=\"links.htm\">相關網站</a><p>\r\n",
            "\t\t\t\r\n",
            "\t\t\t<p id=\"pagenote\"><a href=\"../about/copyright.htm\" title=\"Copyright\">保留部分權利 (Some rights reserved)</a>, 1996-2020, Richy Li. </p>\r\n",
            "\t\t</td>\r\n",
            "\t</tr>\r\n",
            "</table>\r\n",
            "\r\n",
            "\r\n",
            "<script src=\"http://www.google-analytics.com/urchin.js\" type=\"text/javascript\">\r\n",
            "</script>\r\n",
            "<script type=\"text/javascript\">\r\n",
            "_uacct = \"UA-103495-7\";\r\n",
            "urchinTracker();\r\n",
            "</script>\r\n",
            "</body></html>\n"
          ]
        }
      ]
    },
    {
      "cell_type": "markdown",
      "source": [
        "#encoding vs decoding"
      ],
      "metadata": {
        "id": "LOJjHcFjAjsI"
      }
    },
    {
      "cell_type": "code",
      "source": [
        "s = \"高雄美國學校\""
      ],
      "metadata": {
        "id": "ON9cg2oCAlV7"
      },
      "execution_count": 36,
      "outputs": []
    },
    {
      "cell_type": "markdown",
      "source": [
        "big5 is used in taiwan to change characters into computer code"
      ],
      "metadata": {
        "id": "kz3UyY-YBrj7"
      }
    },
    {
      "cell_type": "code",
      "source": [
        "s.encode('big5')"
      ],
      "metadata": {
        "colab": {
          "base_uri": "https://localhost:8080/"
        },
        "id": "TfijCNOVAjKj",
        "outputId": "87f2aa05-076b-4b02-a0d0-56d7be8d0ee3"
      },
      "execution_count": 37,
      "outputs": [
        {
          "output_type": "execute_result",
          "data": {
            "text/plain": [
              "b'\\xb0\\xaa\\xb6\\xaf\\xac\\xfc\\xb0\\xea\\xbe\\xc7\\xae\\xd5'"
            ]
          },
          "metadata": {},
          "execution_count": 37
        }
      ]
    },
    {
      "cell_type": "markdown",
      "source": [
        "turn into unicode"
      ],
      "metadata": {
        "id": "gj4s6gf2CM2R"
      }
    },
    {
      "cell_type": "code",
      "source": [
        "bin(int(\"b0\", 16))"
      ],
      "metadata": {
        "colab": {
          "base_uri": "https://localhost:8080/",
          "height": 35
        },
        "id": "eneo4ggSCE3M",
        "outputId": "925385af-13ef-4227-ed72-c0cafc4c2aa6"
      },
      "execution_count": 40,
      "outputs": [
        {
          "output_type": "execute_result",
          "data": {
            "text/plain": [
              "'0b10110000'"
            ],
            "application/vnd.google.colaboratory.intrinsic+json": {
              "type": "string"
            }
          },
          "metadata": {},
          "execution_count": 40
        }
      ]
    },
    {
      "cell_type": "markdown",
      "source": [
        "when decoded by other forms of encoding, it will turn out to be random *characters*"
      ],
      "metadata": {
        "id": "QEJcfHw7Bvun"
      }
    },
    {
      "cell_type": "code",
      "source": [
        "s.encode('big5').decode('ISO-8859-1')"
      ],
      "metadata": {
        "colab": {
          "base_uri": "https://localhost:8080/",
          "height": 35
        },
        "id": "L1E8DTrDBqwP",
        "outputId": "e620db58-cc52-42c5-ba64-0e087736566a"
      },
      "execution_count": 38,
      "outputs": [
        {
          "output_type": "execute_result",
          "data": {
            "text/plain": [
              "'°ª¶¯¬ü°ê¾Ç®Õ'"
            ],
            "application/vnd.google.colaboratory.intrinsic+json": {
              "type": "string"
            }
          },
          "metadata": {},
          "execution_count": 38
        }
      ]
    },
    {
      "cell_type": "code",
      "source": [
        "s.encode('utf8')"
      ],
      "metadata": {
        "colab": {
          "base_uri": "https://localhost:8080/"
        },
        "id": "Q2YeTkH3B64f",
        "outputId": "81af8e7f-888d-4ff8-8111-177e802cc599"
      },
      "execution_count": 39,
      "outputs": [
        {
          "output_type": "execute_result",
          "data": {
            "text/plain": [
              "b'\\xe9\\xab\\x98\\xe9\\x9b\\x84\\xe7\\xbe\\x8e\\xe5\\x9c\\x8b\\xe5\\xad\\xb8\\xe6\\xa0\\xa1'"
            ]
          },
          "metadata": {},
          "execution_count": 39
        }
      ]
    },
    {
      "cell_type": "markdown",
      "source": [
        "#decimal, binary, hexadecimal conversion"
      ],
      "metadata": {
        "id": "L9BuljFRDRn7"
      }
    },
    {
      "cell_type": "code",
      "source": [
        "#decimal => binary => hexadecimal\n",
        "for i in range(16):\n",
        "  # {i:2} = i takes up 2 spaces\n",
        "  # {i:04b} = i takes up 4 spaces, the spaces with no binary number will be filled in with 0\n",
        "  print(f\"{i:2} => {i:04b} => {i:x}\") #b = binary"
      ],
      "metadata": {
        "colab": {
          "base_uri": "https://localhost:8080/"
        },
        "id": "xdKp-HH6DZ5u",
        "outputId": "4bf7438f-1819-4b27-bf23-2be8277d852f"
      },
      "execution_count": 42,
      "outputs": [
        {
          "output_type": "stream",
          "name": "stdout",
          "text": [
            " 0 => 0000 => 0\n",
            " 1 => 0001 => 1\n",
            " 2 => 0010 => 2\n",
            " 3 => 0011 => 3\n",
            " 4 => 0100 => 4\n",
            " 5 => 0101 => 5\n",
            " 6 => 0110 => 6\n",
            " 7 => 0111 => 7\n",
            " 8 => 1000 => 8\n",
            " 9 => 1001 => 9\n",
            "10 => 1010 => a\n",
            "11 => 1011 => b\n",
            "12 => 1100 => c\n",
            "13 => 1101 => d\n",
            "14 => 1110 => e\n",
            "15 => 1111 => f\n"
          ]
        }
      ]
    }
  ]
}
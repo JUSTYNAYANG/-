{
  "nbformat": 4,
  "nbformat_minor": 0,
  "metadata": {
    "colab": {
      "provenance": [],
      "authorship_tag": "ABX9TyOicDsA5JBOrldU5l5f/Y0R",
      "include_colab_link": true
    },
    "kernelspec": {
      "name": "python3",
      "display_name": "Python 3"
    },
    "language_info": {
      "name": "python"
    }
  },
  "cells": [
    {
      "cell_type": "markdown",
      "metadata": {
        "id": "view-in-github",
        "colab_type": "text"
      },
      "source": [
        "<a href=\"https://colab.research.google.com/github/JUSTYNAYANG/summerpy/blob/main/02012023.ipynb\" target=\"_parent\"><img src=\"https://colab.research.google.com/assets/colab-badge.svg\" alt=\"Open In Colab\"/></a>"
      ]
    },
    {
      "cell_type": "code",
      "execution_count": null,
      "metadata": {
        "id": "NvEXvVV1U8US"
      },
      "outputs": [],
      "source": [
        "# Imports go at the top\n",
        "from microbit import *\n",
        "import radio\n",
        "import music\n",
        "\n",
        "#client\n",
        "\n",
        "radio.config(group=23)\n",
        "while True:\n",
        "    if button_a.was_pressed():\n",
        "        radio.on()\n",
        "        radio.send('A')\n",
        "    if button_b.was_pressed():\n",
        "        radio.on()\n",
        "         radio.send('B')\n",
        "\n",
        "\n",
        "# server\n",
        "\n",
        "radio.config(group=23)\n",
        "radio.on()\n",
        "while True:\n",
        "    message = radio.receive()\n",
        "    if message == 'A':\n",
        "        display.scroll('A')\n",
        "        music.play(music.DADADADUM)\n",
        "    elif message == 'B':\n",
        "        display.scroll('B')\n",
        "        music.play(music.RINGTONE)\n"
      ]
    },
    {
      "cell_type": "code",
      "source": [
        "from skimage import io\n",
        "limport plotly. express as px"
      ],
      "metadata": {
        "id": "BcGVFCOPcQm9"
      },
      "execution_count": null,
      "outputs": []
    },
    {
      "cell_type": "code",
      "source": [
        "image = jo.imread('curry.ipg')"
      ],
      "metadata": {
        "id": "NwktaRJQNp6D"
      },
      "execution_count": null,
      "outputs": []
    },
    {
      "cell_type": "code",
      "source": [
        "px.imshow (image)"
      ],
      "metadata": {
        "id": "dB8k4A9VNsVU"
      },
      "execution_count": null,
      "outputs": []
    }
  ]
}
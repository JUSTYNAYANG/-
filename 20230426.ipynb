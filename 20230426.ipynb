{
  "nbformat": 4,
  "nbformat_minor": 0,
  "metadata": {
    "colab": {
      "provenance": [],
      "authorship_tag": "ABX9TyOI0DhApRk0ihABnxC4nA01",
      "include_colab_link": true
    },
    "kernelspec": {
      "name": "python3",
      "display_name": "Python 3"
    },
    "language_info": {
      "name": "python"
    }
  },
  "cells": [
    {
      "cell_type": "markdown",
      "metadata": {
        "id": "view-in-github",
        "colab_type": "text"
      },
      "source": [
        "<a href=\"https://colab.research.google.com/github/JUSTYNAYANG/summerpy/blob/main/20230426.ipynb\" target=\"_parent\"><img src=\"https://colab.research.google.com/assets/colab-badge.svg\" alt=\"Open In Colab\"/></a>"
      ]
    },
    {
      "cell_type": "markdown",
      "source": [
        "# creating a mini game with microbit"
      ],
      "metadata": {
        "id": "5YVO-dONovA_"
      }
    },
    {
      "cell_type": "markdown",
      "source": [
        "``` python\n",
        "from microbit import *\n",
        "import music\n",
        "```"
      ],
      "metadata": {
        "id": "u0kUjOPBo9wu"
      }
    },
    {
      "cell_type": "markdown",
      "source": [
        "``` python\n",
        "while True:\n",
        "    p1 = pin1.read_digital()\n",
        "    p2 = pin2.read_digital()\n",
        "\n",
        "    if p2 == 1:\n",
        "        display.scroll(\"clear\")\n",
        "        music.play(['c', 'f', 'a'])\n",
        "        audio.play(Sound.SPRING)\n",
        "        pin15.write_analog(75) #90 degrees\n",
        "        sleep(500)\n",
        "        \n",
        "\n",
        "    elif p1 == 1:\n",
        "        display.scroll(\"fail\")\n",
        "        music.play(['a', 'f', 'c'])\n",
        "        audio.play(Sound.SLIDE)\n",
        "\n",
        "    else:\n",
        "      pin15.write_analog(0) \n",
        "  ```"
      ],
      "metadata": {
        "id": "CMhagFNqo0iu"
      }
    },
    {
      "cell_type": "markdown",
      "source": [
        "```python\n",
        "# pin2.read_digital() pin 2 pass\n",
        "# pin1.read_digital() pin 1 touch\n",
        "\n",
        "\n",
        "pin1.set_pull(pin1.PULL_DOWN)\n",
        "pin2.set_pull(pin1.PULL_DOWN)\n",
        "\n",
        "game = 0\n",
        "\n",
        "while True:\n",
        "    if game == 0: #when game not started\n",
        "        if button_a.was_pressed():\n",
        "            pin15.write_analog(35)  #0 degrees\n",
        "            display.show(Image.HEART)\n",
        "            music.play(music.POWER_UP)\n",
        "            game = 1 #game start\n",
        "\n",
        "    else: #when game=1, when game start\n",
        "        p1 = pin1.read_digital() #the wire in the middle\n",
        "        p2 = pin2.read_digital() #wire in the end\n",
        "    \n",
        "        \n",
        "        if p1: #while true, while p1 = 1 (when touch middle)\n",
        "            display.scroll(\"fail\")\n",
        "            music.play(['a', 'f', 'c'])\n",
        "            audio.play(Sound.SLIDE)\n",
        "            game = 0\n",
        "        \n",
        "\n",
        "        elif p2: #while true, while p2 = 2 (when touch finish)\n",
        "            display.scroll(\"clear\")\n",
        "            music.play(['c', 'f', 'a'])\n",
        "            audio.play(Sound.SPRING)\n",
        "            pin15.write_analog(75) #90 degrees\n",
        "            sleep(500)\n",
        "```"
      ],
      "metadata": {
        "id": "tkjYmBPxo6US"
      }
    }
  ]
}
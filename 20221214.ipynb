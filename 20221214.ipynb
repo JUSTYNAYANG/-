{
  "nbformat": 4,
  "nbformat_minor": 0,
  "metadata": {
    "colab": {
      "provenance": [],
      "authorship_tag": "ABX9TyMCR3faQ4m3c54aeGWLWPMH",
      "include_colab_link": true
    },
    "kernelspec": {
      "name": "python3",
      "display_name": "Python 3"
    },
    "language_info": {
      "name": "python"
    }
  },
  "cells": [
    {
      "cell_type": "markdown",
      "metadata": {
        "id": "view-in-github",
        "colab_type": "text"
      },
      "source": [
        "<a href=\"https://colab.research.google.com/github/JUSTYNAYANG/summerpy/blob/main/20221214.ipynb\" target=\"_parent\"><img src=\"https://colab.research.google.com/assets/colab-badge.svg\" alt=\"Open In Colab\"/></a>"
      ]
    },
    {
      "cell_type": "markdown",
      "source": [
        "#zerojudge\n",
        "\n",
        "- a040"
      ],
      "metadata": {
        "id": "aqCIkQ8PmGux"
      }
    },
    {
      "cell_type": "code",
      "source": [
        "#a040"
      ],
      "metadata": {
        "id": "dd9JKyKWmNBq"
      },
      "execution_count": 2,
      "outputs": []
    },
    {
      "cell_type": "code",
      "source": [
        "x = input().split()"
      ],
      "metadata": {
        "colab": {
          "base_uri": "https://localhost:8080/"
        },
        "id": "k2Nfn59umGQW",
        "outputId": "cc755c40-a03b-4639-8f5c-2bc2b0360ca1"
      },
      "execution_count": 33,
      "outputs": [
        {
          "name": "stdout",
          "output_type": "stream",
          "text": [
            "100 999\n"
          ]
        }
      ]
    },
    {
      "cell_type": "code",
      "execution_count": 34,
      "metadata": {
        "colab": {
          "base_uri": "https://localhost:8080/"
        },
        "id": "gAru2Lh3mC_6",
        "outputId": "dd7bbe7e-5e5f-4d68-bc35-7935c12942e8"
      },
      "outputs": [
        {
          "output_type": "execute_result",
          "data": {
            "text/plain": [
              "['100', '999']"
            ]
          },
          "metadata": {},
          "execution_count": 34
        }
      ],
      "source": [
        "x"
      ]
    },
    {
      "cell_type": "code",
      "source": [
        "x = list(map(int, x))\n",
        "#reminder: map(function, sequence) --> turns everything in list into int"
      ],
      "metadata": {
        "id": "qORRbHdemU7h"
      },
      "execution_count": 46,
      "outputs": []
    },
    {
      "cell_type": "code",
      "source": [
        "x"
      ],
      "metadata": {
        "colab": {
          "base_uri": "https://localhost:8080/"
        },
        "id": "5Y5aE3S8mWXI",
        "outputId": "de90428f-ed76-4fc3-c250-87a4810168a1"
      },
      "execution_count": 36,
      "outputs": [
        {
          "output_type": "execute_result",
          "data": {
            "text/plain": [
              "[100, 999]"
            ]
          },
          "metadata": {},
          "execution_count": 36
        }
      ]
    },
    {
      "cell_type": "code",
      "source": [
        "def is_armstrong(i):\n",
        "  s = str(i)\n",
        "  u = len(s)\n",
        "  total = 0\n",
        "  for c in s:\n",
        "    total += int(c)**u\n",
        "  return i == total"
      ],
      "metadata": {
        "id": "ZsRezoUhmY5w"
      },
      "execution_count": 37,
      "outputs": []
    },
    {
      "cell_type": "code",
      "source": [
        "is_armstrong(153)"
      ],
      "metadata": {
        "colab": {
          "base_uri": "https://localhost:8080/"
        },
        "id": "whp472p5muIA",
        "outputId": "5dbb2dd7-8efc-4f05-ce0d-8db64d871b9b"
      },
      "execution_count": 38,
      "outputs": [
        {
          "output_type": "execute_result",
          "data": {
            "text/plain": [
              "True"
            ]
          },
          "metadata": {},
          "execution_count": 38
        }
      ]
    },
    {
      "cell_type": "code",
      "source": [
        "x"
      ],
      "metadata": {
        "colab": {
          "base_uri": "https://localhost:8080/"
        },
        "id": "S77aRaTjm6Y5",
        "outputId": "dab911ef-01ac-408f-8560-6709a03a69e8"
      },
      "execution_count": 39,
      "outputs": [
        {
          "output_type": "execute_result",
          "data": {
            "text/plain": [
              "[100, 999]"
            ]
          },
          "metadata": {},
          "execution_count": 39
        }
      ]
    },
    {
      "cell_type": "code",
      "source": [
        "for i in range(x[0], x[1]+1):\n",
        "  if is_armstrong(i):\n",
        "    print(i)"
      ],
      "metadata": {
        "colab": {
          "base_uri": "https://localhost:8080/"
        },
        "id": "Xq04kNVHmwaA",
        "outputId": "ea57576f-ac8a-4752-efb2-23f8cb85fd12"
      },
      "execution_count": 40,
      "outputs": [
        {
          "output_type": "stream",
          "name": "stdout",
          "text": [
            "153\n",
            "370\n",
            "371\n",
            "407\n"
          ]
        }
      ]
    },
    {
      "cell_type": "code",
      "source": [
        "# way 1"
      ],
      "metadata": {
        "id": "cS6v3Pelo9cQ"
      },
      "execution_count": 45,
      "outputs": []
    },
    {
      "cell_type": "code",
      "source": [
        "a = []\n",
        "for i in range(x[0], x[1]+1):\n",
        "  if is_armstrong(i):\n",
        "    a.append(str(i))\n",
        "if a:\n",
        "  #if there is things in a\n",
        "  print(\" \".join(a))\n",
        "else: \n",
        "  print(\"none\")"
      ],
      "metadata": {
        "colab": {
          "base_uri": "https://localhost:8080/"
        },
        "id": "OKGczVUrncxx",
        "outputId": "a5832c06-8dad-4353-d718-161504d259ea"
      },
      "execution_count": 42,
      "outputs": [
        {
          "output_type": "stream",
          "name": "stdout",
          "text": [
            "153 370 371 407\n"
          ]
        }
      ]
    },
    {
      "cell_type": "code",
      "source": [
        "x = input().split()\n",
        "x = list(map(int, x))\n",
        "\n",
        "def is_armstrong(i):\n",
        "  s = str(i)\n",
        "  u = len(s)\n",
        "  total = 0\n",
        "  for c in s:\n",
        "    total += int(c)**u\n",
        "  return i == total\n",
        "\n",
        "a = []\n",
        "for i in range(x[0], x[1]+1):\n",
        "  if is_armstrong(i):\n",
        "    a.append(str(i))\n",
        "if a:\n",
        "  #if there is things in a\n",
        "  print(\" \".join(a))\n",
        "else: \n",
        "  print(\"none\")"
      ],
      "metadata": {
        "colab": {
          "base_uri": "https://localhost:8080/"
        },
        "id": "7dbrCYn4oxeK",
        "outputId": "1ed2e283-e7bc-4986-e966-119970dedc14"
      },
      "execution_count": 47,
      "outputs": [
        {
          "output_type": "stream",
          "name": "stdout",
          "text": [
            "100 999\n",
            "153 370 371 407\n"
          ]
        }
      ]
    },
    {
      "cell_type": "code",
      "source": [
        "# way 2"
      ],
      "metadata": {
        "id": "zIwmd6RStBsd"
      },
      "execution_count": 48,
      "outputs": []
    },
    {
      "cell_type": "code",
      "source": [
        "c = \" 802 \""
      ],
      "metadata": {
        "id": "38rOkJfXtR27"
      },
      "execution_count": 49,
      "outputs": []
    },
    {
      "cell_type": "code",
      "source": [
        "c.strip()"
      ],
      "metadata": {
        "colab": {
          "base_uri": "https://localhost:8080/",
          "height": 35
        },
        "id": "BB5EYwkytVYQ",
        "outputId": "914a54ce-6cbe-43d9-9bc9-aaac2780c5d6"
      },
      "execution_count": 50,
      "outputs": [
        {
          "output_type": "execute_result",
          "data": {
            "text/plain": [
              "'802'"
            ],
            "application/vnd.google.colaboratory.intrinsic+json": {
              "type": "string"
            }
          },
          "metadata": {},
          "execution_count": 50
        }
      ]
    },
    {
      "cell_type": "code",
      "source": [
        "s = \"\"\n",
        "for i in range(x[0], x[1]+1):\n",
        "  if is_armstrong(i):\n",
        "    s += f\"{i} \"\n",
        "s = s.strip()\n",
        "\n",
        "if s:\n",
        "  print(s)\n",
        "else:\n",
        "  print('none')"
      ],
      "metadata": {
        "colab": {
          "base_uri": "https://localhost:8080/"
        },
        "id": "J8JgYcJ3tG3p",
        "outputId": "d725b7e8-b14d-4fc3-bca3-312bf9b37ce8"
      },
      "execution_count": 51,
      "outputs": [
        {
          "output_type": "stream",
          "name": "stdout",
          "text": [
            "153 370 371 407\n"
          ]
        }
      ]
    },
    {
      "cell_type": "code",
      "source": [
        "x = input().split()\n",
        "x = list(map(int, x))\n",
        "\n",
        "def is_armstrong(i):\n",
        "  s = str(i)\n",
        "  u = len(s)\n",
        "  total = 0\n",
        "  for c in s:\n",
        "    total += int(c)**u\n",
        "  return i == total\n",
        "\n",
        "s = \"\"\n",
        "for i in range(x[0], x[1]+1):\n",
        "  if is_armstrong(i):\n",
        "    s += f\"{i} \"\n",
        "s = s.strip()\n",
        "\n",
        "if s:\n",
        "  print(s)\n",
        "else:\n",
        "  print('none')"
      ],
      "metadata": {
        "colab": {
          "base_uri": "https://localhost:8080/"
        },
        "id": "7_evJKNitZ38",
        "outputId": "d2f65994-ff41-4eed-c4e8-17ff348e4c7f"
      },
      "execution_count": 52,
      "outputs": [
        {
          "output_type": "stream",
          "name": "stdout",
          "text": [
            "100 999\n",
            "153 370 371 407\n"
          ]
        }
      ]
    },
    {
      "cell_type": "markdown",
      "source": [
        "# bool review\n",
        "\n",
        "if empty then false"
      ],
      "metadata": {
        "id": "O9JOW1TZ1fSV"
      }
    },
    {
      "cell_type": "code",
      "source": [
        "bool(\"\")"
      ],
      "metadata": {
        "colab": {
          "base_uri": "https://localhost:8080/"
        },
        "id": "Sqy_n6-g1g4R",
        "outputId": "4f44b584-5688-4256-cb63-22551af1bc4c"
      },
      "execution_count": 53,
      "outputs": [
        {
          "output_type": "execute_result",
          "data": {
            "text/plain": [
              "False"
            ]
          },
          "metadata": {},
          "execution_count": 53
        }
      ]
    },
    {
      "cell_type": "code",
      "source": [
        "bool(\" \")"
      ],
      "metadata": {
        "colab": {
          "base_uri": "https://localhost:8080/"
        },
        "id": "dz4_X5d11lzJ",
        "outputId": "f0dc22cb-ac4f-4f85-dd08-70155f536e02"
      },
      "execution_count": 54,
      "outputs": [
        {
          "output_type": "execute_result",
          "data": {
            "text/plain": [
              "True"
            ]
          },
          "metadata": {},
          "execution_count": 54
        }
      ]
    },
    {
      "cell_type": "code",
      "source": [
        "bool([])"
      ],
      "metadata": {
        "colab": {
          "base_uri": "https://localhost:8080/"
        },
        "id": "g5WczJUk1m-A",
        "outputId": "62d20e0a-6fa2-4b3e-b2ec-6644cee74c7e"
      },
      "execution_count": 56,
      "outputs": [
        {
          "output_type": "execute_result",
          "data": {
            "text/plain": [
              "False"
            ]
          },
          "metadata": {},
          "execution_count": 56
        }
      ]
    },
    {
      "cell_type": "code",
      "source": [
        "bool([\"\"])"
      ],
      "metadata": {
        "colab": {
          "base_uri": "https://localhost:8080/"
        },
        "id": "7nekvTMj1oA6",
        "outputId": "b45cfa25-e09b-4fbe-90cd-8d475671cd3c"
      },
      "execution_count": 57,
      "outputs": [
        {
          "output_type": "execute_result",
          "data": {
            "text/plain": [
              "True"
            ]
          },
          "metadata": {},
          "execution_count": 57
        }
      ]
    },
    {
      "cell_type": "code",
      "source": [
        "len([\"\"])"
      ],
      "metadata": {
        "colab": {
          "base_uri": "https://localhost:8080/"
        },
        "id": "UUCjcHNo1o8Q",
        "outputId": "984ed717-7155-4055-b6f5-d0a438e687b1"
      },
      "execution_count": 58,
      "outputs": [
        {
          "output_type": "execute_result",
          "data": {
            "text/plain": [
              "1"
            ]
          },
          "metadata": {},
          "execution_count": 58
        }
      ]
    },
    {
      "cell_type": "code",
      "source": [
        "bool({})"
      ],
      "metadata": {
        "colab": {
          "base_uri": "https://localhost:8080/"
        },
        "id": "l04n_f5t1pzF",
        "outputId": "48d2654c-341b-4b19-8b27-b10957c25a99"
      },
      "execution_count": 59,
      "outputs": [
        {
          "output_type": "execute_result",
          "data": {
            "text/plain": [
              "False"
            ]
          },
          "metadata": {},
          "execution_count": 59
        }
      ]
    },
    {
      "cell_type": "code",
      "source": [
        "bool({\"\"})"
      ],
      "metadata": {
        "colab": {
          "base_uri": "https://localhost:8080/"
        },
        "id": "16chwOvi1rBI",
        "outputId": "f14b977e-bde0-4a68-ea85-89e13a463ca0"
      },
      "execution_count": 60,
      "outputs": [
        {
          "output_type": "execute_result",
          "data": {
            "text/plain": [
              "True"
            ]
          },
          "metadata": {},
          "execution_count": 60
        }
      ]
    },
    {
      "cell_type": "code",
      "source": [
        "s = \"\"\n",
        "\n",
        "#if True: basically if there is something in s\n",
        "if s:\n",
        "  print(s)\n",
        "else:\n",
        "  print(\"none\")"
      ],
      "metadata": {
        "colab": {
          "base_uri": "https://localhost:8080/"
        },
        "id": "lFoj1TZt1vGP",
        "outputId": "00730d45-5c30-45d6-d008-cd381cd9b810"
      },
      "execution_count": 61,
      "outputs": [
        {
          "output_type": "stream",
          "name": "stdout",
          "text": [
            "none\n"
          ]
        }
      ]
    },
    {
      "cell_type": "code",
      "source": [
        "s = \"abc\"\n",
        "\n",
        "if s:\n",
        "  print(s)\n",
        "else:\n",
        "  print(\"none\")"
      ],
      "metadata": {
        "colab": {
          "base_uri": "https://localhost:8080/"
        },
        "id": "rgAn4Bdh1wwE",
        "outputId": "7699b99e-d7f2-4036-fd2d-c8ec688ad237"
      },
      "execution_count": 62,
      "outputs": [
        {
          "output_type": "stream",
          "name": "stdout",
          "text": [
            "abc\n"
          ]
        }
      ]
    },
    {
      "cell_type": "markdown",
      "source": [
        "#comprehensions"
      ],
      "metadata": {
        "id": "xVrq-ddM15wz"
      }
    },
    {
      "cell_type": "code",
      "source": [
        "x = [1, 2, 3]"
      ],
      "metadata": {
        "id": "Uu8sbeak15h1"
      },
      "execution_count": 63,
      "outputs": []
    },
    {
      "cell_type": "code",
      "source": [
        "list(map(lambda a:a**2, x))"
      ],
      "metadata": {
        "colab": {
          "base_uri": "https://localhost:8080/"
        },
        "id": "1cQaHx7E1-hW",
        "outputId": "6f7c9450-dae7-4027-c7a7-8bb0506fb847"
      },
      "execution_count": 64,
      "outputs": [
        {
          "output_type": "execute_result",
          "data": {
            "text/plain": [
              "[1, 4, 9]"
            ]
          },
          "metadata": {},
          "execution_count": 64
        }
      ]
    },
    {
      "cell_type": "code",
      "source": [
        "# list comprehension"
      ],
      "metadata": {
        "id": "biUY4fFo2Jaf"
      },
      "execution_count": 68,
      "outputs": []
    },
    {
      "cell_type": "code",
      "source": [
        "[a**2 for a in x]\n",
        "#translate to\n",
        "#for a in x:\n",
        "# a**2"
      ],
      "metadata": {
        "colab": {
          "base_uri": "https://localhost:8080/"
        },
        "id": "WJXLknh22F-U",
        "outputId": "bd16f06f-80e8-4f0e-f788-5f85956b1a68"
      },
      "execution_count": 67,
      "outputs": [
        {
          "output_type": "execute_result",
          "data": {
            "text/plain": [
              "[1, 4, 9]"
            ]
          },
          "metadata": {},
          "execution_count": 67
        }
      ]
    },
    {
      "cell_type": "code",
      "source": [
        "[a+2 for a in x]"
      ],
      "metadata": {
        "colab": {
          "base_uri": "https://localhost:8080/"
        },
        "id": "zxmt24Zk2dIR",
        "outputId": "3b0dbc44-592b-4e2a-e042-c81357486046"
      },
      "execution_count": 101,
      "outputs": [
        {
          "output_type": "execute_result",
          "data": {
            "text/plain": [
              "[3, 4, 5]"
            ]
          },
          "metadata": {},
          "execution_count": 101
        }
      ]
    },
    {
      "cell_type": "code",
      "source": [
        "#for tuple it will be in generator"
      ],
      "metadata": {
        "id": "ramD9lis3GWi"
      },
      "execution_count": 90,
      "outputs": []
    },
    {
      "cell_type": "code",
      "source": [
        "y = (a**2 for a in x)\n",
        "#become generator: does not return the value\n",
        "# when list it, everything will be returned leaving nothing in y\n",
        "#when next, it will return value one by one"
      ],
      "metadata": {
        "id": "o82ZlNNf2jbH"
      },
      "execution_count": 106,
      "outputs": []
    },
    {
      "cell_type": "code",
      "source": [
        "y"
      ],
      "metadata": {
        "colab": {
          "base_uri": "https://localhost:8080/"
        },
        "id": "RCsj658x21Uo",
        "outputId": "c71a810d-e90c-48bc-965f-2d304853de20"
      },
      "execution_count": 107,
      "outputs": [
        {
          "output_type": "execute_result",
          "data": {
            "text/plain": [
              "<generator object <genexpr> at 0x7fd7ce50e190>"
            ]
          },
          "metadata": {},
          "execution_count": 107
        }
      ]
    },
    {
      "cell_type": "code",
      "source": [
        "next(y)"
      ],
      "metadata": {
        "colab": {
          "base_uri": "https://localhost:8080/"
        },
        "id": "R0OtWFhc2-5E",
        "outputId": "162704bb-df6a-4db5-97de-df5ec3b51fcf"
      },
      "execution_count": 108,
      "outputs": [
        {
          "output_type": "execute_result",
          "data": {
            "text/plain": [
              "1"
            ]
          },
          "metadata": {},
          "execution_count": 108
        }
      ]
    },
    {
      "cell_type": "code",
      "source": [
        "list(y)"
      ],
      "metadata": {
        "colab": {
          "base_uri": "https://localhost:8080/"
        },
        "id": "cA0Eqvnx2qUD",
        "outputId": "6810e829-c033-4fb5-cfaf-169fff704778"
      },
      "execution_count": 109,
      "outputs": [
        {
          "output_type": "execute_result",
          "data": {
            "text/plain": [
              "[4, 9]"
            ]
          },
          "metadata": {},
          "execution_count": 109
        }
      ]
    }
  ]
}
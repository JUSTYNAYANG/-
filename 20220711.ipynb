{
  "nbformat": 4,
  "nbformat_minor": 0,
  "metadata": {
    "colab": {
      "name": "20220711.ipynb",
      "provenance": [],
      "authorship_tag": "ABX9TyMXWmrUmt81xuB7vQAlPT3c",
      "include_colab_link": true
    },
    "kernelspec": {
      "name": "python3",
      "display_name": "Python 3"
    },
    "language_info": {
      "name": "python"
    }
  },
  "cells": [
    {
      "cell_type": "markdown",
      "metadata": {
        "id": "view-in-github",
        "colab_type": "text"
      },
      "source": [
        "<a href=\"https://colab.research.google.com/github/JUSTYNAYANG/summerpy/blob/main/20220711.ipynb\" target=\"_parent\"><img src=\"https://colab.research.google.com/assets/colab-badge.svg\" alt=\"Open In Colab\"/></a>"
      ]
    },
    {
      "cell_type": "markdown",
      "source": [
        "# Exercise\n",
        "\n",
        "practicing dict and list"
      ],
      "metadata": {
        "id": "xYlm3O_uc86k"
      }
    },
    {
      "cell_type": "markdown",
      "source": [
        "## Moedict\n",
        "api link: https://github.com/g0v/moedict-webkit"
      ],
      "metadata": {
        "id": "lbw1IY2-eR9b"
      }
    },
    {
      "cell_type": "code",
      "source": [
        "import requests"
      ],
      "metadata": {
        "id": "P3ZsmWFhfMwq"
      },
      "execution_count": null,
      "outputs": []
    },
    {
      "cell_type": "code",
      "execution_count": null,
      "metadata": {
        "id": "kr-taHGncGkE"
      },
      "outputs": [],
      "source": [
        "url = \"https://www.moedict.tw/uni/\""
      ]
    },
    {
      "cell_type": "code",
      "source": [
        "data = requests.get(url+\"教室\").json()"
      ],
      "metadata": {
        "id": "HNmpj6PjdwXO"
      },
      "execution_count": null,
      "outputs": []
    },
    {
      "cell_type": "code",
      "source": [
        "type(data)"
      ],
      "metadata": {
        "colab": {
          "base_uri": "https://localhost:8080/"
        },
        "id": "smR8QFbLfQa2",
        "outputId": "7c34b896-f82b-4ad7-f069-6952d4e1ea74"
      },
      "execution_count": null,
      "outputs": [
        {
          "output_type": "execute_result",
          "data": {
            "text/plain": [
              "dict"
            ]
          },
          "metadata": {},
          "execution_count": 6
        }
      ]
    },
    {
      "cell_type": "code",
      "source": [
        "data"
      ],
      "metadata": {
        "colab": {
          "base_uri": "https://localhost:8080/"
        },
        "id": "xgILbnJ-fTdh",
        "outputId": "dbf23301-052c-48cc-9c58-6f42022951c9"
      },
      "execution_count": null,
      "outputs": [
        {
          "output_type": "execute_result",
          "data": {
            "text/plain": [
              "{'heteronyms': [{'bopomofo': 'ㄐㄧㄠˋ ㄕˋ',\n",
              "   'bopomofo2': 'jiàu shr̀',\n",
              "   'definitions': [{'def': '學校裡進行教學活動的房間。',\n",
              "     'example': ['如：「實驗教室」、「音樂教室」。'],\n",
              "     'synonyms': '課堂,講堂'}],\n",
              "   'pinyin': 'jiào shì'}],\n",
              " 'title': '教室'}"
            ]
          },
          "metadata": {},
          "execution_count": 7
        }
      ]
    },
    {
      "cell_type": "code",
      "source": [
        "def lookup(word):\n",
        "  url = \"https://www.moedict.tw/uni/\"\n",
        "  data = requests.get(url+word).json()\n",
        "  # return definition\n",
        "  return data['heteronyms'][0]['definitions'][0]['def']"
      ],
      "metadata": {
        "id": "DWGxfOOzfU-Z"
      },
      "execution_count": null,
      "outputs": []
    },
    {
      "cell_type": "code",
      "source": [
        "lookup(\"你\")"
      ],
      "metadata": {
        "colab": {
          "base_uri": "https://localhost:8080/",
          "height": 35
        },
        "id": "hUXh9-ynf_QF",
        "outputId": "9ea91853-ba4d-4339-a703-ffad51218b8e"
      },
      "execution_count": null,
      "outputs": [
        {
          "output_type": "execute_result",
          "data": {
            "text/plain": [
              "'第二人稱，亦指對方。'"
            ],
            "application/vnd.google.colaboratory.intrinsic+json": {
              "type": "string"
            }
          },
          "metadata": {},
          "execution_count": 13
        }
      ]
    },
    {
      "cell_type": "code",
      "source": [
        "!pip install gradio"
      ],
      "metadata": {
        "id": "p0vxHZ7agb4X"
      },
      "execution_count": null,
      "outputs": []
    },
    {
      "cell_type": "code",
      "source": [
        "import gradio as gr"
      ],
      "metadata": {
        "id": "sz71QC6cgqlX"
      },
      "execution_count": null,
      "outputs": []
    },
    {
      "cell_type": "code",
      "source": [
        "gr.Interface(lookup, \"text\", \"text\", title=\"國語字典\").launch(share=True)\n",
        "#gr.Interface(function used, input type, output type, title of page).launch(share=True)"
      ],
      "metadata": {
        "colab": {
          "base_uri": "https://localhost:8080/",
          "height": 666
        },
        "id": "UZ9unYppgxbg",
        "outputId": "c57f161e-5202-42f6-d714-32f556ab3780"
      },
      "execution_count": null,
      "outputs": [
        {
          "output_type": "stream",
          "name": "stdout",
          "text": [
            "Colab notebook detected. To show errors in colab notebook, set `debug=True` in `launch()`\n",
            "Running on public URL: https://30859.gradio.app\n",
            "\n",
            "This share link expires in 72 hours. For free permanent hosting, check out Spaces (https://huggingface.co/spaces)\n"
          ]
        },
        {
          "output_type": "display_data",
          "data": {
            "text/plain": [
              "<IPython.core.display.HTML object>"
            ],
            "text/html": [
              "<div><iframe src=\"https://30859.gradio.app\" width=\"900\" height=\"500\" allow=\"autoplay; camera; microphone;\" frameborder=\"0\" allowfullscreen></iframe></div>"
            ]
          },
          "metadata": {}
        },
        {
          "output_type": "execute_result",
          "data": {
            "text/plain": [
              "(<gradio.routes.App at 0x7f5105b32710>,\n",
              " 'http://127.0.0.1:7861/',\n",
              " 'https://30859.gradio.app')"
            ]
          },
          "metadata": {},
          "execution_count": 17
        }
      ]
    },
    {
      "cell_type": "markdown",
      "source": [
        "# ZeroJudge Exercise\n",
        "https://zerojudge.tw/"
      ],
      "metadata": {
        "id": "GND2zrXJdwzH"
      }
    },
    {
      "cell_type": "code",
      "source": [
        "# a001\n",
        "# adding hello to beginning\n",
        "name = input(\"Please input your name: \")\n",
        "print(f\"hello, {name}\")"
      ],
      "metadata": {
        "colab": {
          "base_uri": "https://localhost:8080/"
        },
        "id": "zTUB1tq7kVTr",
        "outputId": "4189a02b-93d7-4808-dc2d-958d4fab39b8"
      },
      "execution_count": null,
      "outputs": [
        {
          "output_type": "stream",
          "name": "stdout",
          "text": [
            "Please input your name: Justyna\n",
            "hello, Justyna\n"
          ]
        }
      ]
    },
    {
      "cell_type": "code",
      "source": [
        "# a002\n",
        "# finding the sum\n",
        "number = input(\"Please input two numbers that you want to add: \")\n",
        "new_number = number.split()\n",
        "print(int(new_number[0]) + int(new_number[1]))\n"
      ],
      "metadata": {
        "colab": {
          "base_uri": "https://localhost:8080/"
        },
        "id": "WEqE-WLFlAdd",
        "outputId": "25248a73-3574-4f43-f99f-be33d120f296"
      },
      "execution_count": null,
      "outputs": [
        {
          "output_type": "stream",
          "name": "stdout",
          "text": [
            "Please input two numbers that you want to add: 5 6\n",
            "11\n"
          ]
        }
      ]
    },
    {
      "cell_type": "code",
      "source": [
        "# a003\n",
        "luckfortune = [\"普通\",\"吉\",\"大吉\"]\n",
        "data = input()\n",
        "new_data = data.split()\n",
        "M = int(new_data[0])\n",
        "D = int(new_data[1])\n",
        "S = (M*2+D)%3\n",
        "print(luckfortune[S])"
      ],
      "metadata": {
        "colab": {
          "base_uri": "https://localhost:8080/"
        },
        "id": "qmB6tgXWl1xE",
        "outputId": "24eb865f-995b-4bad-e614-2141779755da"
      },
      "execution_count": null,
      "outputs": [
        {
          "output_type": "stream",
          "name": "stdout",
          "text": [
            "9 30\n",
            "普通\n"
          ]
        }
      ]
    },
    {
      "cell_type": "markdown",
      "source": [
        "# Homework\n",
        "- part one (chinese/english dictionary)\n",
        "- part two (zerojudge practice)\n",
        "  - https://zerojudge.tw/ShowProblem?problemid=a004"
      ],
      "metadata": {
        "id": "AUi0lK5_hyw-"
      }
    },
    {
      "cell_type": "markdown",
      "source": [
        "## Part One(chinese to english dictionary)"
      ],
      "metadata": {
        "id": "7b7VFCNsiHM6"
      }
    },
    {
      "cell_type": "code",
      "source": [
        "# hint\n",
        "url = \"https://www.moedict.tw/a/\"\n",
        "data = requests.get(url + \"雨天\" + \".json\").json()"
      ],
      "metadata": {
        "id": "EgdFrAqRiGgR"
      },
      "execution_count": null,
      "outputs": []
    },
    {
      "cell_type": "code",
      "source": [
        "data"
      ],
      "metadata": {
        "colab": {
          "base_uri": "https://localhost:8080/"
        },
        "id": "1hEh-ZYqimGt",
        "outputId": "2729e940-3694-4ff8-e4f2-1cbce557292e"
      },
      "execution_count": null,
      "outputs": [
        {
          "output_type": "execute_result",
          "data": {
            "text/plain": [
              "{'Deutsch': 'Regentag  (S)',\n",
              " 'English': 'rainy day',\n",
              " 'francais': 'jour pluvieux',\n",
              " 'h': [{'=': '646800004',\n",
              "   'b': 'ㄩˇ\\u3000ㄊㄧㄢ',\n",
              "   'd': [{'a': '`晴天~',\n",
              "     'f': '`下雨~`的~`日子~。',\n",
              "     'q': ['`唐~．`劉禹錫~〈`牛~`相公~`見示~`新~`什~`謹~`依~`本~`韻~`次~`用~`以~`抒~`下情~〉`詩~：「`雨天~`龍~`變化~，`晴~`日~`鳳~`騫騰~。」',\n",
              "      '`唐~．`杜~`荀~`鶴~〈`春日~`登樓~`遇~`雨~〉`詩~：「`忽地~`晴天~`作~`雨天~，`全~`無~`暑氣~`似~`秋~`間~。」']}],\n",
              "   'p': 'yǔ tiān'}],\n",
              " 't': '`雨~`天~',\n",
              " 'translation': {'Deutsch': ['Regentag  (S)', 'Regenwetter  (S)'],\n",
              "  'English': ['rainy day', 'rainy weather'],\n",
              "  'francais': ['jour pluvieux', 'temps pluvieux']}}"
            ]
          },
          "metadata": {},
          "execution_count": 19
        }
      ]
    },
    {
      "cell_type": "code",
      "source": [
        "# function\n",
        "def translator(word):\n",
        "  url = \"https://www.moedict.tw/a/\"\n",
        "  data = requests.get(url + word + \".json\").json()\n",
        "  return data['English']"
      ],
      "metadata": {
        "id": "4JeGjydAirt7"
      },
      "execution_count": null,
      "outputs": []
    },
    {
      "cell_type": "code",
      "source": [
        "translator(\"雨天\")"
      ],
      "metadata": {
        "colab": {
          "base_uri": "https://localhost:8080/",
          "height": 35
        },
        "id": "nHdnk6xyi6DS",
        "outputId": "e8e8edf5-01c4-48f5-e5e9-e0d3d1609379"
      },
      "execution_count": null,
      "outputs": [
        {
          "output_type": "execute_result",
          "data": {
            "text/plain": [
              "'rainy day'"
            ],
            "application/vnd.google.colaboratory.intrinsic+json": {
              "type": "string"
            }
          },
          "metadata": {},
          "execution_count": 22
        }
      ]
    },
    {
      "cell_type": "code",
      "source": [
        "# putting in gradio\n",
        "gr.Interface(translator, \"text\", \"text\", title=\"Chinese to English Translator\").launch(share=True)"
      ],
      "metadata": {
        "colab": {
          "base_uri": "https://localhost:8080/",
          "height": 666
        },
        "id": "CJCG-lE-i-3v",
        "outputId": "81856c2a-afe3-4282-9575-c391d91fae9e"
      },
      "execution_count": null,
      "outputs": [
        {
          "output_type": "stream",
          "name": "stdout",
          "text": [
            "Colab notebook detected. To show errors in colab notebook, set `debug=True` in `launch()`\n",
            "Running on public URL: https://43076.gradio.app\n",
            "\n",
            "This share link expires in 72 hours. For free permanent hosting, check out Spaces (https://huggingface.co/spaces)\n"
          ]
        },
        {
          "output_type": "display_data",
          "data": {
            "text/plain": [
              "<IPython.core.display.HTML object>"
            ],
            "text/html": [
              "<div><iframe src=\"https://43076.gradio.app\" width=\"900\" height=\"500\" allow=\"autoplay; camera; microphone;\" frameborder=\"0\" allowfullscreen></iframe></div>"
            ]
          },
          "metadata": {}
        },
        {
          "output_type": "execute_result",
          "data": {
            "text/plain": [
              "(<gradio.routes.App at 0x7f5105a1ef90>,\n",
              " 'http://127.0.0.1:7862/',\n",
              " 'https://43076.gradio.app')"
            ]
          },
          "metadata": {},
          "execution_count": 24
        }
      ]
    },
    {
      "cell_type": "markdown",
      "source": [
        "## Part Two(zerojudge practice)\n",
        "https://zerojudge.tw/ShowProblem?problemid=a004"
      ],
      "metadata": {
        "id": "A0jTK8jMngam"
      }
    },
    {
      "cell_type": "code",
      "source": [
        "# a004\n",
        "# identifing leap years\n",
        "x = []\n",
        "data = input(\"Please input years: \")\n",
        "while data:\n",
        "  x.append(int(data))\n",
        "  data = input()\n",
        "for i in x:\n",
        "  calculate1 = i % 4\n",
        "  calculate2 = i % 100\n",
        "  calculate3 = i % 400\n",
        "  if calculate1 == 0 and calculate2 != 0 or calculate3 == 0:\n",
        "    print(f\"{i}是閏年\")\n",
        "  else:\n",
        "    print(f\"{i}是平年\")\n"
      ],
      "metadata": {
        "colab": {
          "base_uri": "https://localhost:8080/"
        },
        "id": "r6wLAXAOnvIo",
        "outputId": "ef78deee-c57c-4fb2-a1bd-edfedf684093"
      },
      "execution_count": null,
      "outputs": [
        {
          "output_type": "stream",
          "name": "stdout",
          "text": [
            "Please input years: 1234\n",
            "2020\n",
            "2022\n",
            "123\n",
            "400\n",
            "100\n",
            "\n",
            "1234是平年\n",
            "2020是閏年\n",
            "2022是平年\n",
            "123是平年\n",
            "400是閏年\n",
            "100是平年\n"
          ]
        }
      ]
    },
    {
      "cell_type": "markdown",
      "source": [
        "# Intro to BeautifulSoup\n",
        "\n",
        "Used to organize information from requests"
      ],
      "metadata": {
        "id": "6Etk9HmEmubf"
      }
    },
    {
      "cell_type": "code",
      "source": [
        "import requests"
      ],
      "metadata": {
        "id": "MpJyNNyqm8ZS"
      },
      "execution_count": 2,
      "outputs": []
    },
    {
      "cell_type": "code",
      "source": [
        "r = requests.get(\"https://victorgau.github.io/khpy_web_intro/html_only.html\")"
      ],
      "metadata": {
        "id": "7fJAYX6lmuGW"
      },
      "execution_count": 3,
      "outputs": []
    },
    {
      "cell_type": "code",
      "source": [
        "from bs4 import BeautifulSoup"
      ],
      "metadata": {
        "id": "ZyqVwcv5nDlm"
      },
      "execution_count": 4,
      "outputs": []
    },
    {
      "cell_type": "code",
      "source": [
        "# will start to organize the request given\n",
        "soup = BeautifulSoup(r.text)"
      ],
      "metadata": {
        "id": "TK4QIKIYnKH3"
      },
      "execution_count": 6,
      "outputs": []
    },
    {
      "cell_type": "code",
      "source": [
        "# you can use it to get specific information\n",
        "# this command returns the line for title\n",
        "soup.title"
      ],
      "metadata": {
        "colab": {
          "base_uri": "https://localhost:8080/"
        },
        "id": "aMoRW9aXnXhj",
        "outputId": "06626df9-a3e6-4958-c53e-6ce4a63bb864"
      },
      "execution_count": 8,
      "outputs": [
        {
          "output_type": "execute_result",
          "data": {
            "text/plain": [
              "<title>HTML範例</title>"
            ]
          },
          "metadata": {},
          "execution_count": 8
        }
      ]
    },
    {
      "cell_type": "code",
      "source": [
        "# this returns the text in title\n",
        "soup.title.text"
      ],
      "metadata": {
        "colab": {
          "base_uri": "https://localhost:8080/",
          "height": 35
        },
        "id": "_KAJo3OnneK3",
        "outputId": "1fef4c1a-deef-4e3c-9681-f55d8b45133f"
      },
      "execution_count": 9,
      "outputs": [
        {
          "output_type": "execute_result",
          "data": {
            "text/plain": [
              "'HTML範例'"
            ],
            "application/vnd.google.colaboratory.intrinsic+json": {
              "type": "string"
            }
          },
          "metadata": {},
          "execution_count": 9
        }
      ]
    }
  ]
}
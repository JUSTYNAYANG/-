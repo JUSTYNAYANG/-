{
  "nbformat": 4,
  "nbformat_minor": 0,
  "metadata": {
    "colab": {
      "name": "20220704.ipynb",
      "provenance": [],
      "authorship_tag": "ABX9TyMrarf02/MhdxIDz76rd9kw",
      "include_colab_link": true
    },
    "kernelspec": {
      "name": "python3",
      "display_name": "Python 3"
    },
    "language_info": {
      "name": "python"
    }
  },
  "cells": [
    {
      "cell_type": "markdown",
      "metadata": {
        "id": "view-in-github",
        "colab_type": "text"
      },
      "source": [
        "<a href=\"https://colab.research.google.com/github/JUSTYNAYANG/summerpy/blob/main/20220704.ipynb\" target=\"_parent\"><img src=\"https://colab.research.google.com/assets/colab-badge.svg\" alt=\"Open In Colab\"/></a>"
      ]
    },
    {
      "cell_type": "markdown",
      "source": [
        "#teachable machine"
      ],
      "metadata": {
        "id": "miO7OjK8IDif"
      }
    },
    {
      "cell_type": "code",
      "source": [
        "!unzip converted_keras.zip"
      ],
      "metadata": {
        "colab": {
          "base_uri": "https://localhost:8080/"
        },
        "id": "o7JJYoyA3pf2",
        "outputId": "e97835f7-1c99-41a2-d5c2-f117b2fb738a"
      },
      "execution_count": 2,
      "outputs": [
        {
          "output_type": "stream",
          "name": "stdout",
          "text": [
            "Archive:  converted_keras.zip\n",
            "replace keras_model.h5? [y]es, [n]o, [A]ll, [N]one, [r]ename: y\n",
            " extracting: keras_model.h5          \n",
            "replace labels.txt? [y]es, [n]o, [A]ll, [N]one, [r]ename: y\n",
            " extracting: labels.txt              \n"
          ]
        }
      ]
    },
    {
      "cell_type": "code",
      "execution_count": 10,
      "metadata": {
        "colab": {
          "base_uri": "https://localhost:8080/"
        },
        "id": "V7fEzQ093K4e",
        "outputId": "b7d4edbb-a1d8-4c01-f3b9-de4fc915c6b2"
      },
      "outputs": [
        {
          "output_type": "stream",
          "name": "stdout",
          "text": [
            "WARNING:tensorflow:No training configuration found in the save file, so the model was *not* compiled. Compile it manually.\n",
            "hair down\n"
          ]
        }
      ],
      "source": [
        "from keras.models import load_model\n",
        "from PIL import Image, ImageOps\n",
        "import numpy as np\n",
        "\n",
        "# Load the model\n",
        "model = load_model('keras_model.h5')\n",
        "\n",
        "# Create the array of the right shape to feed into the keras model\n",
        "# The 'length' or number of images you can put into the array is\n",
        "# determined by the first position in the shape tuple, in this case 1.\n",
        "data = np.ndarray(shape=(1, 224, 224, 3), dtype=np.float32)\n",
        "# Replace this with the path to your image\n",
        "image = Image.open('pic.jpg')\n",
        "#resize the image to a 224x224 with the same strategy as in TM2:\n",
        "#resizing the image to be at least 224x224 and then cropping from the center\n",
        "size = (224, 224)\n",
        "image = ImageOps.fit(image, size, Image.ANTIALIAS)\n",
        "\n",
        "#turn the image into a numpy array\n",
        "image_array = np.asarray(image)\n",
        "# Normalize the image\n",
        "normalized_image_array = (image_array.astype(np.float32) / 127.0) - 1\n",
        "# Load the image into the array\n",
        "data[0] = normalized_image_array\n",
        "\n",
        "labels = ['hair up', 'hair down']\n",
        "\n",
        "# run the inference\n",
        "prediction = model.predict(data)\n",
        "i = np.argmax(prediction)\n",
        "print(labels[i])\n"
      ]
    },
    {
      "cell_type": "code",
      "source": [
        "x = [0, 2, 4, 1, 2, 3, 2, 1, 0]"
      ],
      "metadata": {
        "id": "pfZUmw0I-Bsc"
      },
      "execution_count": 52,
      "outputs": []
    },
    {
      "cell_type": "code",
      "source": [
        "np.argmax(x)\n",
        "# this gives the index of the biggest number in the list"
      ],
      "metadata": {
        "colab": {
          "base_uri": "https://localhost:8080/"
        },
        "id": "iXfd70rm-HQA",
        "outputId": "e29cdf89-cb27-4a23-d0a9-e46dd918b17f"
      },
      "execution_count": 8,
      "outputs": [
        {
          "output_type": "execute_result",
          "data": {
            "text/plain": [
              "2"
            ]
          },
          "metadata": {},
          "execution_count": 8
        }
      ]
    },
    {
      "cell_type": "markdown",
      "source": [
        "##homework"
      ],
      "metadata": {
        "id": "_nxpW4yrIBrF"
      }
    },
    {
      "cell_type": "code",
      "source": [
        "!unzip ehe.zip"
      ],
      "metadata": {
        "colab": {
          "base_uri": "https://localhost:8080/"
        },
        "id": "XiH5kbhROhnQ",
        "outputId": "209257d1-c495-45eb-ebc5-8fd707ce2e66"
      },
      "execution_count": 90,
      "outputs": [
        {
          "output_type": "stream",
          "name": "stdout",
          "text": [
            "Archive:  ehe.zip\n",
            "replace keras_model.h5? [y]es, [n]o, [A]ll, [N]one, [r]ename: r\n",
            "new name: homework_model.h5\n",
            " extracting: homework_model.h5       \n",
            "replace labels.txt? [y]es, [n]o, [A]ll, [N]one, [r]ename: r\n",
            "new name: homework.text\n",
            " extracting: homework.text           \n"
          ]
        }
      ]
    },
    {
      "cell_type": "code",
      "source": [
        "from keras.models import load_model\n",
        "from PIL import Image, ImageOps\n",
        "import numpy as np\n",
        "\n",
        "# Load the model\n",
        "model = load_model('homework_model.h5')\n",
        "\n",
        "# Create the array of the right shape to feed into the keras model\n",
        "# The 'length' or number of images you can put into the array is\n",
        "# determined by the first position in the shape tuple, in this case 1.\n",
        "data = np.ndarray(shape=(1, 224, 224, 3), dtype=np.float32)\n",
        "# Replace this with the path to your image\n",
        "image = Image.open('cat.png')\n",
        "#resize the image to a 224x224 with the same strategy as in TM2:\n",
        "#resizing the image to be at least 224x224 and then cropping from the center\n",
        "size = (224, 224)\n",
        "image = ImageOps.fit(image, size, Image.ANTIALIAS)\n",
        "\n",
        "#turn the image into a numpy array\n",
        "image_array = np.asarray(image)\n",
        "# Normalize the image\n",
        "normalized_image_array = (image_array.astype(np.float32) / 127.0) - 1\n",
        "# Load the image into the array\n",
        "data[0] = normalized_image_array\n",
        "\n",
        "catordog = [\"cat\", \"dog\"]\n",
        "\n",
        "# run the inference\n",
        "prediction = model.predict(data)\n",
        "i = np.argmax(prediction)\n",
        "print(catordog[i])\n"
      ],
      "metadata": {
        "colab": {
          "base_uri": "https://localhost:8080/"
        },
        "id": "HXCHFS8AILL8",
        "outputId": "cac8685f-bdcf-417e-d664-1a286801be9a"
      },
      "execution_count": 91,
      "outputs": [
        {
          "output_type": "stream",
          "name": "stdout",
          "text": [
            "WARNING:tensorflow:No training configuration found in the save file, so the model was *not* compiled. Compile it manually.\n",
            "cat\n"
          ]
        }
      ]
    },
    {
      "cell_type": "code",
      "source": [
        "inputt = input(\"please give the file name: \")\n",
        "\n",
        "# Load the model\n",
        "model = load_model('homework_model.h5')\n",
        "\n",
        "# Create the array of the right shape to feed into the keras model\n",
        "# The 'length' or number of images you can put into the array is\n",
        "# determined by the first position in the shape tuple, in this case 1.\n",
        "data = np.ndarray(shape=(1, 224, 224, 3), dtype=np.float32)\n",
        "# Replace this with the path to your image\n",
        "image = Image.open(inputt)\n",
        "#resize the image to a 224x224 with the same strategy as in TM2:\n",
        "#resizing the image to be at least 224x224 and then cropping from the center\n",
        "size = (224, 224)\n",
        "image = ImageOps.fit(image, size, Image.ANTIALIAS)\n",
        "\n",
        "#turn the image into a numpy array\n",
        "image_array = np.asarray(image)\n",
        "# Normalize the image\n",
        "normalized_image_array = (image_array.astype(np.float32) / 127.0) - 1\n",
        "# Load the image into the array\n",
        "data[0] = normalized_image_array\n",
        "\n",
        "catordog = [\"cat\", \"dog\"]\n",
        "\n",
        "# run the inference\n",
        "prediction = model.predict(data)\n",
        "i = np.argmax(prediction)\n",
        "print(catordog[i])\n"
      ],
      "metadata": {
        "colab": {
          "base_uri": "https://localhost:8080/"
        },
        "id": "-dg4VVvoZXwQ",
        "outputId": "afa70fe8-d91c-4c1c-f860-8f4f1cd275a8"
      },
      "execution_count": 93,
      "outputs": [
        {
          "output_type": "stream",
          "name": "stdout",
          "text": [
            "please give the file name: cat.png\n",
            "WARNING:tensorflow:No training configuration found in the save file, so the model was *not* compiled. Compile it manually.\n",
            "cat\n"
          ]
        }
      ]
    },
    {
      "cell_type": "markdown",
      "source": [
        "#Nested Loop"
      ],
      "metadata": {
        "id": "AqxuRJ0CDrHA"
      }
    },
    {
      "cell_type": "code",
      "source": [
        "for i in range(5):\n",
        "  for j in range(5):\n",
        "    print(i, j)\n",
        "# basically a loop in a loop"
      ],
      "metadata": {
        "colab": {
          "base_uri": "https://localhost:8080/"
        },
        "id": "WM6bon91DtwR",
        "outputId": "db2ae2f3-b13a-4494-9396-22b66b6f8e05"
      },
      "execution_count": 11,
      "outputs": [
        {
          "output_type": "stream",
          "name": "stdout",
          "text": [
            "0 0\n",
            "0 1\n",
            "0 2\n",
            "0 3\n",
            "0 4\n",
            "1 0\n",
            "1 1\n",
            "1 2\n",
            "1 3\n",
            "1 4\n",
            "2 0\n",
            "2 1\n",
            "2 2\n",
            "2 3\n",
            "2 4\n",
            "3 0\n",
            "3 1\n",
            "3 2\n",
            "3 3\n",
            "3 4\n",
            "4 0\n",
            "4 1\n",
            "4 2\n",
            "4 3\n",
            "4 4\n"
          ]
        }
      ]
    },
    {
      "cell_type": "code",
      "source": [
        "for i in range(1, 10):\n",
        "  for j in range(1, 10):\n",
        "      print(i, \"*\", j, \"=\", i*j)"
      ],
      "metadata": {
        "colab": {
          "base_uri": "https://localhost:8080/"
        },
        "id": "M6Ddtv5QDyjj",
        "outputId": "762c7712-a4dd-47d0-fa55-62962351f97c"
      },
      "execution_count": 22,
      "outputs": [
        {
          "output_type": "stream",
          "name": "stdout",
          "text": [
            "1 * 1 = 1\n",
            "1 * 2 = 2\n",
            "1 * 3 = 3\n",
            "1 * 4 = 4\n",
            "1 * 5 = 5\n",
            "1 * 6 = 6\n",
            "1 * 7 = 7\n",
            "1 * 8 = 8\n",
            "1 * 9 = 9\n",
            "2 * 1 = 2\n",
            "2 * 2 = 4\n",
            "2 * 3 = 6\n",
            "2 * 4 = 8\n",
            "2 * 5 = 10\n",
            "2 * 6 = 12\n",
            "2 * 7 = 14\n",
            "2 * 8 = 16\n",
            "2 * 9 = 18\n",
            "3 * 1 = 3\n",
            "3 * 2 = 6\n",
            "3 * 3 = 9\n",
            "3 * 4 = 12\n",
            "3 * 5 = 15\n",
            "3 * 6 = 18\n",
            "3 * 7 = 21\n",
            "3 * 8 = 24\n",
            "3 * 9 = 27\n",
            "4 * 1 = 4\n",
            "4 * 2 = 8\n",
            "4 * 3 = 12\n",
            "4 * 4 = 16\n",
            "4 * 5 = 20\n",
            "4 * 6 = 24\n",
            "4 * 7 = 28\n",
            "4 * 8 = 32\n",
            "4 * 9 = 36\n",
            "5 * 1 = 5\n",
            "5 * 2 = 10\n",
            "5 * 3 = 15\n",
            "5 * 4 = 20\n",
            "5 * 5 = 25\n",
            "5 * 6 = 30\n",
            "5 * 7 = 35\n",
            "5 * 8 = 40\n",
            "5 * 9 = 45\n",
            "6 * 1 = 6\n",
            "6 * 2 = 12\n",
            "6 * 3 = 18\n",
            "6 * 4 = 24\n",
            "6 * 5 = 30\n",
            "6 * 6 = 36\n",
            "6 * 7 = 42\n",
            "6 * 8 = 48\n",
            "6 * 9 = 54\n",
            "7 * 1 = 7\n",
            "7 * 2 = 14\n",
            "7 * 3 = 21\n",
            "7 * 4 = 28\n",
            "7 * 5 = 35\n",
            "7 * 6 = 42\n",
            "7 * 7 = 49\n",
            "7 * 8 = 56\n",
            "7 * 9 = 63\n",
            "8 * 1 = 8\n",
            "8 * 2 = 16\n",
            "8 * 3 = 24\n",
            "8 * 4 = 32\n",
            "8 * 5 = 40\n",
            "8 * 6 = 48\n",
            "8 * 7 = 56\n",
            "8 * 8 = 64\n",
            "8 * 9 = 72\n",
            "9 * 1 = 9\n",
            "9 * 2 = 18\n",
            "9 * 3 = 27\n",
            "9 * 4 = 36\n",
            "9 * 5 = 45\n",
            "9 * 6 = 54\n",
            "9 * 7 = 63\n",
            "9 * 8 = 72\n",
            "9 * 9 = 81\n"
          ]
        }
      ]
    },
    {
      "cell_type": "markdown",
      "source": [
        "#String"
      ],
      "metadata": {
        "id": "PUX4MiR7KE-i"
      }
    },
    {
      "cell_type": "markdown",
      "source": [
        "##escape sequences\n",
        "\n",
        "allows you to put characters that you cannot normally put in a string with a backslash"
      ],
      "metadata": {
        "id": "tZKuEiepLwlH"
      }
    },
    {
      "cell_type": "code",
      "source": [
        "# ASCII (American Standard Code for Information Interchange)"
      ],
      "metadata": {
        "id": "yNAoRTlrLUup"
      },
      "execution_count": 38,
      "outputs": []
    },
    {
      "cell_type": "code",
      "source": [
        "print(\"hello \\ni am here\")\n",
        "# here \\n allows us to create a new line\n",
        "# we cannot normally do this, the backslash n helps us create this effect"
      ],
      "metadata": {
        "colab": {
          "base_uri": "https://localhost:8080/"
        },
        "id": "gDpUNXuDMVns",
        "outputId": "87b86ef9-7bfb-4fb6-e549-251aaf236048"
      },
      "execution_count": 41,
      "outputs": [
        {
          "output_type": "stream",
          "name": "stdout",
          "text": [
            "hello \n",
            "i am here\n"
          ]
        }
      ]
    },
    {
      "cell_type": "code",
      "source": [
        "a = \"abc\\nabc\""
      ],
      "metadata": {
        "id": "uE7Q2yf3KEgv"
      },
      "execution_count": 23,
      "outputs": []
    },
    {
      "cell_type": "code",
      "source": [
        "print(a)"
      ],
      "metadata": {
        "colab": {
          "base_uri": "https://localhost:8080/"
        },
        "id": "hUxC7Qz1KKMv",
        "outputId": "317ed168-6a84-4f63-bff5-f1f22e241fe9"
      },
      "execution_count": 24,
      "outputs": [
        {
          "output_type": "stream",
          "name": "stdout",
          "text": [
            "abc\n",
            "abc\n"
          ]
        }
      ]
    },
    {
      "cell_type": "code",
      "source": [
        "# you can use both \" \" and ' ' for strings"
      ],
      "metadata": {
        "id": "_qQjNU8-KMVN"
      },
      "execution_count": 26,
      "outputs": []
    },
    {
      "cell_type": "code",
      "source": [
        "x = \"it's ice cream\"\n",
        "print(x)\n",
        "# here the single quotation mark ' is not counted as the marking \n",
        "# for the string as the uses double quotation marks"
      ],
      "metadata": {
        "colab": {
          "base_uri": "https://localhost:8080/"
        },
        "id": "UZpCk9zcKenw",
        "outputId": "9c8aa661-1862-4aed-e2b2-b3169f66f05b"
      },
      "execution_count": 29,
      "outputs": [
        {
          "output_type": "stream",
          "name": "stdout",
          "text": [
            "it's ice cream\n"
          ]
        }
      ]
    },
    {
      "cell_type": "code",
      "source": [
        "y = 'it\\'s ice cream'\n",
        "print(y)\n",
        "# here the single quotation mark is used so we have to add slash to\n",
        "# keep it as a string"
      ],
      "metadata": {
        "colab": {
          "base_uri": "https://localhost:8080/"
        },
        "id": "I3zW61uuK13K",
        "outputId": "f8ab16c1-fc8e-4bfe-ba2e-16ddfb5a7de7"
      },
      "execution_count": 30,
      "outputs": [
        {
          "output_type": "stream",
          "name": "stdout",
          "text": [
            "it's ice cream\n"
          ]
        }
      ]
    },
    {
      "cell_type": "markdown",
      "source": [
        "##string format\n",
        "\n",
        "The format() method formats the specified value(s) and insert them inside the string's placeholder.\n",
        "\n",
        "The placeholder is defined using curly brackets: {}."
      ],
      "metadata": {
        "id": "55OkgX3aLhLL"
      }
    },
    {
      "cell_type": "code",
      "source": [
        "a = 'abc'\n",
        "b = 'cde'"
      ],
      "metadata": {
        "id": "2NRv-n3-Lh5T"
      },
      "execution_count": 33,
      "outputs": []
    },
    {
      "cell_type": "code",
      "source": [
        "print(a, b)"
      ],
      "metadata": {
        "colab": {
          "base_uri": "https://localhost:8080/"
        },
        "id": "0nWCryUgLmmX",
        "outputId": "fe46f6c9-ea4a-473d-d35e-661edf19823d"
      },
      "execution_count": 35,
      "outputs": [
        {
          "output_type": "stream",
          "name": "stdout",
          "text": [
            "abc cde\n"
          ]
        }
      ]
    },
    {
      "cell_type": "code",
      "source": [
        "print(a, b, sep=\"\")\n",
        "# this is removes the space in between"
      ],
      "metadata": {
        "colab": {
          "base_uri": "https://localhost:8080/"
        },
        "id": "62twaDR3Lnlh",
        "outputId": "733b9f81-679d-452e-fcdc-90fe752b0204"
      },
      "execution_count": 37,
      "outputs": [
        {
          "output_type": "stream",
          "name": "stdout",
          "text": [
            "abccde\n"
          ]
        }
      ]
    },
    {
      "cell_type": "markdown",
      "source": [
        "### f-string and string format"
      ],
      "metadata": {
        "id": "cnsab0ToMuua"
      }
    },
    {
      "cell_type": "code",
      "source": [
        "a = \"abc\"\n",
        "b = \"cde\"\n",
        "c = 123"
      ],
      "metadata": {
        "id": "QLsSJ9lLMw5f"
      },
      "execution_count": 42,
      "outputs": []
    },
    {
      "cell_type": "code",
      "source": [
        "print(f\"{a} {b} {c}\")\n",
        "# by putting values in brackets they are exchanged for whatever that is stored in them (only happens in f-string)"
      ],
      "metadata": {
        "colab": {
          "base_uri": "https://localhost:8080/"
        },
        "id": "lAP2saieM9xF",
        "outputId": "e89e160a-3593-4f32-8967-ebb3c80633b7"
      },
      "execution_count": 44,
      "outputs": [
        {
          "output_type": "stream",
          "name": "stdout",
          "text": [
            "abc cde 123\n"
          ]
        }
      ]
    },
    {
      "cell_type": "code",
      "source": [
        "print(\"{} {} {}\".format(a, b, c))\n",
        "# format() will put the things in the parentheses in the brackets in order (basically same thing as top)"
      ],
      "metadata": {
        "colab": {
          "base_uri": "https://localhost:8080/"
        },
        "id": "3NJ7ZP8-NNI2",
        "outputId": "422e4045-d337-42b3-c186-faa157f5d263"
      },
      "execution_count": 45,
      "outputs": [
        {
          "output_type": "stream",
          "name": "stdout",
          "text": [
            "abc cde 123\n"
          ]
        }
      ]
    },
    {
      "cell_type": "code",
      "source": [
        "print(\"{2} {1} {2}\".format(a, b, c))\n",
        "# by putting numbers in the brackets it places the objects in the format according to numbers (acts like index)"
      ],
      "metadata": {
        "colab": {
          "base_uri": "https://localhost:8080/"
        },
        "id": "p2yn7WjCNaGN",
        "outputId": "f32d2abc-f31e-4005-f886-8d50efa180a4"
      },
      "execution_count": 46,
      "outputs": [
        {
          "output_type": "stream",
          "name": "stdout",
          "text": [
            "123 cde 123\n"
          ]
        }
      ]
    },
    {
      "cell_type": "markdown",
      "source": [
        "### ways to use strings"
      ],
      "metadata": {
        "id": "0DKo1e1pOFoL"
      }
    },
    {
      "cell_type": "code",
      "source": [
        "a = \"It's my dog\""
      ],
      "metadata": {
        "id": "2_DA7oKBOFIu"
      },
      "execution_count": 47,
      "outputs": []
    },
    {
      "cell_type": "code",
      "source": [
        "a.split()\n",
        "# splits to string that are seperated with spaces"
      ],
      "metadata": {
        "colab": {
          "base_uri": "https://localhost:8080/"
        },
        "id": "9O3TpvLaOOfM",
        "outputId": "c6b395b6-25b9-4b89-c6da-8adb2aef9d9e"
      },
      "execution_count": 50,
      "outputs": [
        {
          "output_type": "execute_result",
          "data": {
            "text/plain": [
              "[\"It's\", 'my', 'dog']"
            ]
          },
          "metadata": {},
          "execution_count": 50
        }
      ]
    },
    {
      "cell_type": "markdown",
      "source": [
        "## strings with dictionary exercise"
      ],
      "metadata": {
        "id": "YQdOKbrLQIij"
      }
    },
    {
      "cell_type": "markdown",
      "source": [
        "3 commands:\n",
        "1. a name phonenumber ==> add phone number into dictionary\n",
        "2. s name ==> find the phone number of a specific person\n",
        "3. q ==> break loop\n"
      ],
      "metadata": {
        "id": "RckKw9IbQUSg"
      }
    },
    {
      "cell_type": "code",
      "source": [
        "data = {}\n",
        "\n",
        "while True:\n",
        "  x = input(\"Please give a command: \")\n",
        "  xlist = x.split()\n",
        "  if xlist[0]=='a':\n",
        "    # adding a name and a phone number into the dictionary\n",
        "    print(\"Adding information...\")\n",
        "    y = input(\"please type in the name and phone number with a space in between: \")\n",
        "    ylist= y.split()\n",
        "    data[ylist[0]] = ylist[1]\n",
        "    print(\"Information recorded.\")\n",
        "  elif xlist[0]=='s':\n",
        "    # printing the phone number of a specific person\n",
        "    print(\"Searching...\")\n",
        "    y = input(\"please type in the name of the phone number you want to look up: \")\n",
        "    ylist= y.split()\n",
        "    print(f\"{ylist[0]}'s phone number is {data[ylist[0]]}\")\n",
        "  elif xlist[0]=='q':\n",
        "    print(\"Thank you, hope you enjoyed our services.\")\n",
        "    break"
      ],
      "metadata": {
        "colab": {
          "base_uri": "https://localhost:8080/"
        },
        "id": "c0sQKT5cQH9J",
        "outputId": "236c4dbe-4a7f-4861-b226-cd41a73f7ac3"
      },
      "execution_count": 69,
      "outputs": [
        {
          "output_type": "stream",
          "name": "stdout",
          "text": [
            "Please give a command: a\n",
            "Adding information...\n",
            "please type in the name and phone number with a space in between: hellp 01\n",
            "Information recorded.\n",
            "Please give a command: s\n",
            "Searching...\n",
            "please type in the name of the phone number you want to look up: hellp\n",
            "hellp's phone number is 01\n",
            "Please give a command: q\n",
            "Thank you, hope you enjoyed our services.\n"
          ]
        }
      ]
    },
    {
      "cell_type": "code",
      "source": [
        "#for phone numbers that are not in contacts\n",
        "data = {}\n",
        "\n",
        "while True:\n",
        "  x = input(\"Please give a command: \")\n",
        "  xlist = x.split()\n",
        "  if xlist[0]=='a':\n",
        "    # adding a name and a phone number into the dictionary\n",
        "    print(\"Adding information...\")\n",
        "    y = input(\"please type in the name and phone number with a space in between: \")\n",
        "    ylist= y.split()\n",
        "    data[ylist[0]] = ylist[1]\n",
        "    print(\"Information recorded.\")\n",
        "  elif xlist[0]=='s':\n",
        "    # printing the phone number of a specific person\n",
        "    print(\"Searching...\")\n",
        "    y = input(\"please type in the name of the phone number you want to look up: \")\n",
        "    ylist= y.split()\n",
        "    if ylist[0] in data:\n",
        "      print(f\"{ylist[0]}'s phone number is {data[ylist[0]]}\")\n",
        "    else:\n",
        "      print(f\"{ylist[0]} is not in your contacts\")\n",
        "  elif xlist[0]=='q':\n",
        "    print(\"Thank you, hope you enjoyed our services.\")\n",
        "    break"
      ],
      "metadata": {
        "colab": {
          "base_uri": "https://localhost:8080/"
        },
        "id": "_f5ZQDw0VnO8",
        "outputId": "845b4178-085d-444f-982a-754de28bb49a"
      },
      "execution_count": 81,
      "outputs": [
        {
          "output_type": "stream",
          "name": "stdout",
          "text": [
            "Please give a command: a\n",
            "Adding information...\n",
            "please type in the name and phone number with a space in between: shira 0920855752\n",
            "Information recorded.\n",
            "Please give a command: s\n",
            "Searching...\n",
            "please type in the name of the phone number you want to look up: shira\n",
            "shira's phone number is 0920855752\n",
            "Please give a command: s\n",
            "Searching...\n",
            "please type in the name of the phone number you want to look up: lita\n",
            "lita is not in your contacts\n",
            "Please give a command: q\n",
            "Thank you, hope you enjoyed our services.\n"
          ]
        }
      ]
    },
    {
      "cell_type": "code",
      "source": [
        "y = input(\"please type in the name and phone number with a space in between: \")\n",
        "ylist= y.split()\n",
        "data[ylist[0]] = ylist[1]\n",
        "print(data)"
      ],
      "metadata": {
        "colab": {
          "base_uri": "https://localhost:8080/"
        },
        "id": "_IfRLXxQSCN_",
        "outputId": "89f79e50-a1ab-484c-81d7-d50bbd3da5c4"
      },
      "execution_count": 76,
      "outputs": [
        {
          "output_type": "stream",
          "name": "stdout",
          "text": [
            "please type in the name and phone number with a space in between: hello 09124\n",
            "{'hello': '09124'}\n"
          ]
        }
      ]
    }
  ]
}
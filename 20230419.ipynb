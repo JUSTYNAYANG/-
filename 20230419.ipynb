{
  "nbformat": 4,
  "nbformat_minor": 0,
  "metadata": {
    "colab": {
      "provenance": [],
      "authorship_tag": "ABX9TyPkrd4Mzhn5NVkjU+6K4E0C",
      "include_colab_link": true
    },
    "kernelspec": {
      "name": "python3",
      "display_name": "Python 3"
    },
    "language_info": {
      "name": "python"
    }
  },
  "cells": [
    {
      "cell_type": "markdown",
      "metadata": {
        "id": "view-in-github",
        "colab_type": "text"
      },
      "source": [
        "<a href=\"https://colab.research.google.com/github/JUSTYNAYANG/summerpy/blob/main/20230419.ipynb\" target=\"_parent\"><img src=\"https://colab.research.google.com/assets/colab-badge.svg\" alt=\"Open In Colab\"/></a>"
      ]
    },
    {
      "cell_type": "markdown",
      "source": [],
      "metadata": {
        "id": "yJWYkrMOcSPR"
      }
    },
    {
      "cell_type": "code",
      "execution_count": null,
      "metadata": {
        "id": "WisGzQOLZnrf"
      },
      "outputs": [],
      "source": [
        "import turtle\n",
        "\n",
        "\n",
        "def draw(x, y, size, angle):\n",
        "  turtle.penup()\n",
        "  turtle.goto(x, y)\n",
        "  turtle.pendown()\n",
        "\n",
        "  for i in range(40):\n",
        "    turtle.forward((i+1)*size)\n",
        "    turtle.left(angle)\n",
        "\n",
        "\n",
        "\n",
        "draw(50, 20, 3, 50)"
      ]
    }
  ]
}
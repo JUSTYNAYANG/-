{
  "nbformat": 4,
  "nbformat_minor": 0,
  "metadata": {
    "colab": {
      "provenance": [],
      "authorship_tag": "ABX9TyPLDdoMbLnaZztpCg5PSHvv",
      "include_colab_link": true
    },
    "kernelspec": {
      "name": "python3",
      "display_name": "Python 3"
    },
    "language_info": {
      "name": "python"
    }
  },
  "cells": [
    {
      "cell_type": "markdown",
      "metadata": {
        "id": "view-in-github",
        "colab_type": "text"
      },
      "source": [
        "<a href=\"https://colab.research.google.com/github/JUSTYNAYANG/summerpy/blob/main/03152023.ipynb\" target=\"_parent\"><img src=\"https://colab.research.google.com/assets/colab-badge.svg\" alt=\"Open In Colab\"/></a>"
      ]
    },
    {
      "cell_type": "code",
      "source": [
        "# Imports go at the top\n",
        "from microbit import *\n",
        "import machine\n"
      ],
      "metadata": {
        "id": "d6b8EzTpkVPn"
      },
      "execution_count": null,
      "outputs": []
    },
    {
      "cell_type": "code",
      "execution_count": null,
      "metadata": {
        "id": "rG-nmQf5kQ-u"
      },
      "outputs": [],
      "source": [
        "# detecting if there are object in the front and how far\n",
        "\n",
        "#if the display is not off, pin3 is used in LED, if we turn display off, pin3 can be used for other things\n",
        "\n",
        "display.off()\n",
        "\n",
        "echo = pin9\n",
        "trigger = pin3\n",
        "\n",
        "#detects the distance of the objects in front of the moon car\n",
        "def distance():\n",
        "    #send out the signal\n",
        "    pin3.write_digital(1)\n",
        "    pin3.write_digital(0)\n",
        "\n",
        "    #calculate how long the signal takes to echo back\n",
        "    micros = machine.time_pulse_us(pin9, 1)\n",
        "\n",
        "    #changing microsecond to second and divide the seconds by two because it is an echo\n",
        "    secs = micros / 2000000\n",
        "    \n",
        "    #distance = time taken * velocity (v=m/s)\n",
        "    # the number is multiplied by 100 to get the distance in centimeters\n",
        "    dist = secs * 34660\n",
        "    \n",
        "    return dist\n",
        "\n",
        "\n",
        "while True:\n",
        "    #prints the distance in the serial\n",
        "    print(distance())\n",
        "    #wait one second\n",
        "    sleep(1000)"
      ]
    },
    {
      "cell_type": "code",
      "source": [
        "# code for mooncar to avoid colliding into objects\n",
        "\n",
        "#if the display is not off, pin3 is used in LED, if we turn display off, pin3 can be used for other things\n",
        "\n",
        "display.off()\n",
        "\n",
        "echo = pin9\n",
        "trigger = pin3\n",
        "\n",
        "#detects the distance of the objects in front of the moon car\n",
        "def distance():\n",
        "    #send out the signal\n",
        "    pin3.write_digital(1)\n",
        "    pin3.write_digital(0)\n",
        "\n",
        "    #calculate how long the signal takes to echo back\n",
        "    micros = machine.time_pulse_us(pin9, 1)\n",
        "\n",
        "    #changing microsecond to second and divide the seconds by two because it is an echo\n",
        "    secs = micros / 2000000\n",
        "    \n",
        "    #distance = time taken * velocity (v=m/s)\n",
        "    # the number is multiplied by 100 to get the distance in centimeters\n",
        "    dist = secs * 34660\n",
        "    \n",
        "    return dist\n",
        "\n",
        "#left wheel forward = pin8\n",
        "#left wheel back = pin14\n",
        "#right wheel forward = pin2\n",
        "#right wheel back = pin 13\n",
        "\n",
        "while True:\n",
        "    distan = distance()\n",
        "    sleep(1000)\n",
        "    if distan < 10:\n",
        "        #move back for one second\n",
        "        pin8.write_analog (0)\n",
        "        pin14.write_analog(100)\n",
        "        pin2.write_analog(0)\n",
        "        pin13.write_analog(100)\n",
        "        sleep(1000)\n",
        "        #turn left\n",
        "        pin8.write_analog (0)\n",
        "        pin14.write_analog(100)\n",
        "        pin2.write_analog(0)\n",
        "        pin13.write_analog(0)\n",
        "        sleep(1000)\n",
        "    else:\n",
        "        #move forward\n",
        "        pin8.write_analog (100)\n",
        "        pin14.write_analog(0)\n",
        "        pin2.write_analog(100)\n",
        "        pin13.write_analog(0)"
      ],
      "metadata": {
        "id": "mm1MqO5PkusB"
      },
      "execution_count": null,
      "outputs": []
    }
  ]
}
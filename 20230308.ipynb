{
  "nbformat": 4,
  "nbformat_minor": 0,
  "metadata": {
    "colab": {
      "provenance": [],
      "authorship_tag": "ABX9TyPSPI+QPCt/o53FqkjoENWy",
      "include_colab_link": true
    },
    "kernelspec": {
      "name": "python3",
      "display_name": "Python 3"
    },
    "language_info": {
      "name": "python"
    }
  },
  "cells": [
    {
      "cell_type": "markdown",
      "metadata": {
        "id": "view-in-github",
        "colab_type": "text"
      },
      "source": [
        "<a href=\"https://colab.research.google.com/github/JUSTYNAYANG/summerpy/blob/main/20230308.ipynb\" target=\"_parent\"><img src=\"https://colab.research.google.com/assets/colab-badge.svg\" alt=\"Open In Colab\"/></a>"
      ]
    },
    {
      "cell_type": "code",
      "execution_count": null,
      "metadata": {
        "id": "gA8gujhxdQ-j"
      },
      "outputs": [],
      "source": [
        "# Imports go at the top\n",
        "from microbit import *"
      ]
    },
    {
      "cell_type": "code",
      "source": [
        "#setting sensor for ground detection today"
      ],
      "metadata": {
        "id": "QwPRcLFAdfTg"
      },
      "execution_count": null,
      "outputs": []
    },
    {
      "cell_type": "code",
      "source": [
        "#set the sensor: (pull_down, read outside signal, if signal = 0)\n",
        "#(pull-up, read outside signal, if signal = 1)\n",
        "#(No-pull, read outside)\n",
        "pin15.set_pull (pin15.NO_PULL)\n",
        "pin16.set_pull (pin16.NO_PULL)"
      ],
      "metadata": {
        "id": "4HGHKS99dj6k"
      },
      "execution_count": null,
      "outputs": []
    },
    {
      "cell_type": "code",
      "source": [
        "pin15.set_pull (pin15.NO_PULL)\n",
        "pin16.set_pull (pin16.NO_PULL)\n",
        "\n",
        "#just to see which part goes with which pin\n",
        "\n",
        "print(\"PIN15:\", p15, \",\" \"PIN16:\" ,p16)\n",
        "#0 = TOUCH GROUND, 1 = NO GROUND\n",
        "sleep(10)"
      ],
      "metadata": {
        "id": "IxUs92iDdkvo"
      },
      "execution_count": null,
      "outputs": []
    },
    {
      "cell_type": "code",
      "source": [
        "#preventing the moon car from falling off the table\n",
        "while True:\n",
        "    p15 = pin15.read_digital()\n",
        "    p16 = pin16.read_digital()\n",
        "    if p15 and p16:\n",
        "        pin8.write_analog (0)\n",
        "        pin14.write_analog(100)\n",
        "        pin2.write_analog(0)\n",
        "        pin13.write_analog(100)\n",
        "        sleep(1000) \n",
        "        pin13.write_analog (0)\n",
        "        pin14.write_analog(100)\n",
        "        sleep(3000) \n",
        "    \n",
        "    else:\n",
        "       pin8.write_analog (300)\n",
        "       pin14.write_analog (0)\n",
        "       pin2.write_analog (300)\n",
        "       pin13.write_analog(0)"
      ],
      "metadata": {
        "id": "6R-oz2g6eIMc"
      },
      "execution_count": null,
      "outputs": []
    },
    {
      "cell_type": "code",
      "source": [
        "#running the moon car on a black track (on white ground)\n",
        "#follow the track\n",
        "\n",
        "pin15.set_pull (pin15.NO_PULL)\n",
        "pin16.set_pull (pin16.NO_PULL)\n",
        "\n",
        "while True:\n",
        "    p15 = pin15.read_digital()\n",
        "    p16 = pin16.read_digital()\n",
        "     \n",
        "     #if the ground is white\n",
        "    if p16==False:\n",
        "        pin8.write_analog(0)\n",
        "        pin14.write_analog(0)\n",
        "        pin2.write_analog(100)\n",
        "        pin13.write_analog(0)\n",
        "\n",
        "    #if the ground is white    \n",
        "    elif p15==False:\n",
        "        pin8.write_analog(100)\n",
        "        pin14.write_analog(0)\n",
        "        pin2.write_analog(0)\n",
        "        pin13.write_analog(0)\n",
        "        \n",
        "    #if the ground is blacl (on track)\n",
        "    else:\n",
        "       pin8.write_analog (100)\n",
        "       pin14.write_analog (0)\n",
        "       pin2.write_analog (100)\n",
        "       pin13.write_analog(0)"
      ],
      "metadata": {
        "id": "4WGgCAV7dvui"
      },
      "execution_count": null,
      "outputs": []
    }
  ]
}
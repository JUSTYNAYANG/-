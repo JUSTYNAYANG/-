{
  "nbformat": 4,
  "nbformat_minor": 0,
  "metadata": {
    "colab": {
      "name": "20220718",
      "provenance": [],
      "toc_visible": true,
      "authorship_tag": "ABX9TyNyEmBTrGmBXvpxkq2Q/wSa",
      "include_colab_link": true
    },
    "kernelspec": {
      "name": "python3",
      "display_name": "Python 3"
    },
    "language_info": {
      "name": "python"
    }
  },
  "cells": [
    {
      "cell_type": "markdown",
      "metadata": {
        "id": "view-in-github",
        "colab_type": "text"
      },
      "source": [
        "<a href=\"https://colab.research.google.com/github/JUSTYNAYANG/summerpy/blob/main/20220718.ipynb\" target=\"_parent\"><img src=\"https://colab.research.google.com/assets/colab-badge.svg\" alt=\"Open In Colab\"/></a>"
      ]
    },
    {
      "cell_type": "markdown",
      "source": [
        "# Using pillow(PIL) in Gradio"
      ],
      "metadata": {
        "id": "MF8StywF65kV"
      }
    },
    {
      "cell_type": "code",
      "source": [
        "from PIL import Image"
      ],
      "metadata": {
        "id": "As2Q010C65Ju"
      },
      "execution_count": 4,
      "outputs": []
    },
    {
      "cell_type": "code",
      "execution_count": 5,
      "metadata": {
        "id": "60CapC986w2D"
      },
      "outputs": [],
      "source": [
        "def convert(input):\n",
        "  r, g, b = input.split()\n",
        "  return Image.merge(\"RGB\", (b, g, r))"
      ]
    },
    {
      "cell_type": "code",
      "source": [
        "!pip install gradio"
      ],
      "metadata": {
        "id": "iVkdpgsg7zQO",
        "colab": {
          "base_uri": "https://localhost:8080/"
        },
        "outputId": "6ce033ec-0552-4a4a-d68f-15592a1b77f6"
      },
      "execution_count": 6,
      "outputs": [
        {
          "output_type": "stream",
          "name": "stdout",
          "text": [
            "Looking in indexes: https://pypi.org/simple, https://us-python.pkg.dev/colab-wheels/public/simple/\n",
            "Collecting gradio\n",
            "  Downloading gradio-3.0.26-py3-none-any.whl (5.3 MB)\n",
            "\u001b[K     |████████████████████████████████| 5.3 MB 36.7 MB/s \n",
            "\u001b[?25hCollecting orjson\n",
            "  Downloading orjson-3.7.7-cp37-cp37m-manylinux_2_17_x86_64.manylinux2014_x86_64.whl (272 kB)\n",
            "\u001b[K     |████████████████████████████████| 272 kB 74.1 MB/s \n",
            "\u001b[?25hRequirement already satisfied: numpy in /usr/local/lib/python3.7/dist-packages (from gradio) (1.21.6)\n",
            "Collecting httpx\n",
            "  Downloading httpx-0.23.0-py3-none-any.whl (84 kB)\n",
            "\u001b[K     |████████████████████████████████| 84 kB 4.1 MB/s \n",
            "\u001b[?25hCollecting uvicorn\n",
            "  Downloading uvicorn-0.18.2-py3-none-any.whl (57 kB)\n",
            "\u001b[K     |████████████████████████████████| 57 kB 5.0 MB/s \n",
            "\u001b[?25hRequirement already satisfied: Jinja2 in /usr/local/lib/python3.7/dist-packages (from gradio) (2.11.3)\n",
            "Requirement already satisfied: pandas in /usr/local/lib/python3.7/dist-packages (from gradio) (1.3.5)\n",
            "Collecting aiohttp\n",
            "  Downloading aiohttp-3.8.1-cp37-cp37m-manylinux_2_5_x86_64.manylinux1_x86_64.manylinux_2_12_x86_64.manylinux2010_x86_64.whl (1.1 MB)\n",
            "\u001b[K     |████████████████████████████████| 1.1 MB 48.5 MB/s \n",
            "\u001b[?25hCollecting h11<0.13,>=0.11\n",
            "  Downloading h11-0.12.0-py3-none-any.whl (54 kB)\n",
            "\u001b[K     |████████████████████████████████| 54 kB 3.8 MB/s \n",
            "\u001b[?25hRequirement already satisfied: requests in /usr/local/lib/python3.7/dist-packages (from gradio) (2.23.0)\n",
            "Collecting fastapi\n",
            "  Downloading fastapi-0.79.0-py3-none-any.whl (54 kB)\n",
            "\u001b[K     |████████████████████████████████| 54 kB 3.5 MB/s \n",
            "\u001b[?25hCollecting pydub\n",
            "  Downloading pydub-0.25.1-py2.py3-none-any.whl (32 kB)\n",
            "Requirement already satisfied: pillow in /usr/local/lib/python3.7/dist-packages (from gradio) (7.1.2)\n",
            "Collecting pycryptodome\n",
            "  Downloading pycryptodome-3.15.0-cp35-abi3-manylinux2010_x86_64.whl (2.3 MB)\n",
            "\u001b[K     |████████████████████████████████| 2.3 MB 37.4 MB/s \n",
            "\u001b[?25hRequirement already satisfied: pydantic in /usr/local/lib/python3.7/dist-packages (from gradio) (1.8.2)\n",
            "Collecting ffmpy\n",
            "  Downloading ffmpy-0.3.0.tar.gz (4.8 kB)\n",
            "Collecting markdown-it-py[linkify,plugins]\n",
            "  Downloading markdown_it_py-2.1.0-py3-none-any.whl (84 kB)\n",
            "\u001b[K     |████████████████████████████████| 84 kB 4.3 MB/s \n",
            "\u001b[?25hRequirement already satisfied: matplotlib in /usr/local/lib/python3.7/dist-packages (from gradio) (3.2.2)\n",
            "Collecting fsspec\n",
            "  Downloading fsspec-2022.5.0-py3-none-any.whl (140 kB)\n",
            "\u001b[K     |████████████████████████████████| 140 kB 60.0 MB/s \n",
            "\u001b[?25hCollecting python-multipart\n",
            "  Downloading python-multipart-0.0.5.tar.gz (32 kB)\n",
            "Requirement already satisfied: typing-extensions in /usr/local/lib/python3.7/dist-packages (from gradio) (4.1.1)\n",
            "Collecting analytics-python\n",
            "  Downloading analytics_python-1.4.0-py2.py3-none-any.whl (15 kB)\n",
            "Collecting paramiko\n",
            "  Downloading paramiko-2.11.0-py2.py3-none-any.whl (212 kB)\n",
            "\u001b[K     |████████████████████████████████| 212 kB 52.7 MB/s \n",
            "\u001b[?25hRequirement already satisfied: attrs>=17.3.0 in /usr/local/lib/python3.7/dist-packages (from aiohttp->gradio) (21.4.0)\n",
            "Collecting aiosignal>=1.1.2\n",
            "  Downloading aiosignal-1.2.0-py3-none-any.whl (8.2 kB)\n",
            "Collecting multidict<7.0,>=4.5\n",
            "  Downloading multidict-6.0.2-cp37-cp37m-manylinux_2_17_x86_64.manylinux2014_x86_64.whl (94 kB)\n",
            "\u001b[K     |████████████████████████████████| 94 kB 3.9 MB/s \n",
            "\u001b[?25hRequirement already satisfied: charset-normalizer<3.0,>=2.0 in /usr/local/lib/python3.7/dist-packages (from aiohttp->gradio) (2.1.0)\n",
            "Collecting yarl<2.0,>=1.0\n",
            "  Downloading yarl-1.7.2-cp37-cp37m-manylinux_2_5_x86_64.manylinux1_x86_64.manylinux_2_12_x86_64.manylinux2010_x86_64.whl (271 kB)\n",
            "\u001b[K     |████████████████████████████████| 271 kB 66.0 MB/s \n",
            "\u001b[?25hCollecting frozenlist>=1.1.1\n",
            "  Downloading frozenlist-1.3.0-cp37-cp37m-manylinux_2_5_x86_64.manylinux1_x86_64.manylinux_2_17_x86_64.manylinux2014_x86_64.whl (144 kB)\n",
            "\u001b[K     |████████████████████████████████| 144 kB 75.9 MB/s \n",
            "\u001b[?25hCollecting async-timeout<5.0,>=4.0.0a3\n",
            "  Downloading async_timeout-4.0.2-py3-none-any.whl (5.8 kB)\n",
            "Collecting asynctest==0.13.0\n",
            "  Downloading asynctest-0.13.0-py3-none-any.whl (26 kB)\n",
            "Requirement already satisfied: idna>=2.0 in /usr/local/lib/python3.7/dist-packages (from yarl<2.0,>=1.0->aiohttp->gradio) (2.10)\n",
            "Requirement already satisfied: six>=1.5 in /usr/local/lib/python3.7/dist-packages (from analytics-python->gradio) (1.15.0)\n",
            "Requirement already satisfied: python-dateutil>2.1 in /usr/local/lib/python3.7/dist-packages (from analytics-python->gradio) (2.8.2)\n",
            "Collecting monotonic>=1.5\n",
            "  Downloading monotonic-1.6-py2.py3-none-any.whl (8.2 kB)\n",
            "Collecting backoff==1.10.0\n",
            "  Downloading backoff-1.10.0-py2.py3-none-any.whl (31 kB)\n",
            "Requirement already satisfied: chardet<4,>=3.0.2 in /usr/local/lib/python3.7/dist-packages (from requests->gradio) (3.0.4)\n",
            "Requirement already satisfied: certifi>=2017.4.17 in /usr/local/lib/python3.7/dist-packages (from requests->gradio) (2022.6.15)\n",
            "Requirement already satisfied: urllib3!=1.25.0,!=1.25.1,<1.26,>=1.21.1 in /usr/local/lib/python3.7/dist-packages (from requests->gradio) (1.24.3)\n",
            "Collecting starlette==0.19.1\n",
            "  Downloading starlette-0.19.1-py3-none-any.whl (63 kB)\n",
            "\u001b[K     |████████████████████████████████| 63 kB 2.2 MB/s \n",
            "\u001b[?25hCollecting anyio<5,>=3.4.0\n",
            "  Downloading anyio-3.6.1-py3-none-any.whl (80 kB)\n",
            "\u001b[K     |████████████████████████████████| 80 kB 9.7 MB/s \n",
            "\u001b[?25hCollecting sniffio>=1.1\n",
            "  Downloading sniffio-1.2.0-py3-none-any.whl (10 kB)\n",
            "Collecting httpcore<0.16.0,>=0.15.0\n",
            "  Downloading httpcore-0.15.0-py3-none-any.whl (68 kB)\n",
            "\u001b[K     |████████████████████████████████| 68 kB 7.1 MB/s \n",
            "\u001b[?25hCollecting rfc3986[idna2008]<2,>=1.3\n",
            "  Downloading rfc3986-1.5.0-py2.py3-none-any.whl (31 kB)\n",
            "Requirement already satisfied: MarkupSafe>=0.23 in /usr/local/lib/python3.7/dist-packages (from Jinja2->gradio) (2.0.1)\n",
            "Collecting mdurl~=0.1\n",
            "  Downloading mdurl-0.1.1-py3-none-any.whl (10 kB)\n",
            "Collecting mdit-py-plugins\n",
            "  Downloading mdit_py_plugins-0.3.0-py3-none-any.whl (43 kB)\n",
            "\u001b[K     |████████████████████████████████| 43 kB 2.2 MB/s \n",
            "\u001b[?25hCollecting linkify-it-py~=1.0\n",
            "  Downloading linkify_it_py-1.0.3-py3-none-any.whl (19 kB)\n",
            "Collecting uc-micro-py\n",
            "  Downloading uc_micro_py-1.0.1-py3-none-any.whl (6.2 kB)\n",
            "Requirement already satisfied: cycler>=0.10 in /usr/local/lib/python3.7/dist-packages (from matplotlib->gradio) (0.11.0)\n",
            "Requirement already satisfied: pyparsing!=2.0.4,!=2.1.2,!=2.1.6,>=2.0.1 in /usr/local/lib/python3.7/dist-packages (from matplotlib->gradio) (3.0.9)\n",
            "Requirement already satisfied: kiwisolver>=1.0.1 in /usr/local/lib/python3.7/dist-packages (from matplotlib->gradio) (1.4.3)\n",
            "Requirement already satisfied: pytz>=2017.3 in /usr/local/lib/python3.7/dist-packages (from pandas->gradio) (2022.1)\n",
            "Collecting pynacl>=1.0.1\n",
            "  Downloading PyNaCl-1.5.0-cp36-abi3-manylinux_2_17_x86_64.manylinux2014_x86_64.manylinux_2_24_x86_64.whl (856 kB)\n",
            "\u001b[K     |████████████████████████████████| 856 kB 47.7 MB/s \n",
            "\u001b[?25hCollecting bcrypt>=3.1.3\n",
            "  Downloading bcrypt-3.2.2-cp36-abi3-manylinux_2_17_x86_64.manylinux2014_x86_64.manylinux_2_24_x86_64.whl (62 kB)\n",
            "\u001b[K     |████████████████████████████████| 62 kB 1.1 MB/s \n",
            "\u001b[?25hCollecting cryptography>=2.5\n",
            "  Downloading cryptography-37.0.4-cp36-abi3-manylinux_2_24_x86_64.whl (4.1 MB)\n",
            "\u001b[K     |████████████████████████████████| 4.1 MB 52.2 MB/s \n",
            "\u001b[?25hRequirement already satisfied: cffi>=1.1 in /usr/local/lib/python3.7/dist-packages (from bcrypt>=3.1.3->paramiko->gradio) (1.15.1)\n",
            "Requirement already satisfied: pycparser in /usr/local/lib/python3.7/dist-packages (from cffi>=1.1->bcrypt>=3.1.3->paramiko->gradio) (2.21)\n",
            "Requirement already satisfied: click>=7.0 in /usr/local/lib/python3.7/dist-packages (from uvicorn->gradio) (7.1.2)\n",
            "Building wheels for collected packages: ffmpy, python-multipart\n",
            "  Building wheel for ffmpy (setup.py) ... \u001b[?25l\u001b[?25hdone\n",
            "  Created wheel for ffmpy: filename=ffmpy-0.3.0-py3-none-any.whl size=4712 sha256=18828a60c1a3d416fa0156fc355b7a9bf670c7905149fb5e9f120d5da35df57d\n",
            "  Stored in directory: /root/.cache/pip/wheels/13/e4/6c/e8059816e86796a597c6e6b0d4c880630f51a1fcfa0befd5e6\n",
            "  Building wheel for python-multipart (setup.py) ... \u001b[?25l\u001b[?25hdone\n",
            "  Created wheel for python-multipart: filename=python_multipart-0.0.5-py3-none-any.whl size=31678 sha256=f955f8ace3a99956524063689a2c560d554a34bb25c6eda09165e3218882e4bf\n",
            "  Stored in directory: /root/.cache/pip/wheels/2c/41/7c/bfd1c180534ffdcc0972f78c5758f89881602175d48a8bcd2c\n",
            "Successfully built ffmpy python-multipart\n",
            "Installing collected packages: sniffio, mdurl, uc-micro-py, rfc3986, multidict, markdown-it-py, h11, frozenlist, anyio, yarl, starlette, pynacl, monotonic, mdit-py-plugins, linkify-it-py, httpcore, cryptography, bcrypt, backoff, asynctest, async-timeout, aiosignal, uvicorn, python-multipart, pydub, pycryptodome, paramiko, orjson, httpx, fsspec, ffmpy, fastapi, analytics-python, aiohttp, gradio\n",
            "Successfully installed aiohttp-3.8.1 aiosignal-1.2.0 analytics-python-1.4.0 anyio-3.6.1 async-timeout-4.0.2 asynctest-0.13.0 backoff-1.10.0 bcrypt-3.2.2 cryptography-37.0.4 fastapi-0.79.0 ffmpy-0.3.0 frozenlist-1.3.0 fsspec-2022.5.0 gradio-3.0.26 h11-0.12.0 httpcore-0.15.0 httpx-0.23.0 linkify-it-py-1.0.3 markdown-it-py-2.1.0 mdit-py-plugins-0.3.0 mdurl-0.1.1 monotonic-1.6 multidict-6.0.2 orjson-3.7.7 paramiko-2.11.0 pycryptodome-3.15.0 pydub-0.25.1 pynacl-1.5.0 python-multipart-0.0.5 rfc3986-1.5.0 sniffio-1.2.0 starlette-0.19.1 uc-micro-py-1.0.1 uvicorn-0.18.2 yarl-1.7.2\n"
          ]
        }
      ]
    },
    {
      "cell_type": "code",
      "source": [
        "import gradio as gr"
      ],
      "metadata": {
        "id": "t9NGDBjK7tTE"
      },
      "execution_count": 7,
      "outputs": []
    },
    {
      "cell_type": "code",
      "source": [
        "gr.Interface(convert, gr.inputs.Image(type=\"pil\"), gr.outputs.Image(type=\"pil\"), title=\"Changing Color\").launch(share=True)"
      ],
      "metadata": {
        "colab": {
          "base_uri": "https://localhost:8080/",
          "height": 773
        },
        "id": "3J1_Pfzr8BgQ",
        "outputId": "2cf83f70-1730-4140-d5ea-66602e80d1e3"
      },
      "execution_count": 8,
      "outputs": [
        {
          "output_type": "stream",
          "name": "stderr",
          "text": [
            "/usr/local/lib/python3.7/dist-packages/gradio/inputs.py:257: UserWarning: Usage of gradio.inputs is deprecated, and will not be supported in the future, please import your component from gradio.components\n",
            "  \"Usage of gradio.inputs is deprecated, and will not be supported in the future, please import your component from gradio.components\",\n",
            "/usr/local/lib/python3.7/dist-packages/gradio/deprecation.py:40: UserWarning: `optional` parameter is deprecated, and it has no effect\n",
            "  warnings.warn(value)\n",
            "/usr/local/lib/python3.7/dist-packages/gradio/outputs.py:43: UserWarning: Usage of gradio.outputs is deprecated, and will not be supported in the future, please import your components from gradio.components\n",
            "  \"Usage of gradio.outputs is deprecated, and will not be supported in the future, please import your components from gradio.components\",\n"
          ]
        },
        {
          "output_type": "stream",
          "name": "stdout",
          "text": [
            "Colab notebook detected. To show errors in colab notebook, set `debug=True` in `launch()`\n",
            "Running on public URL: https://33297.gradio.app\n",
            "\n",
            "This share link expires in 72 hours. For free permanent hosting, check out Spaces (https://huggingface.co/spaces)\n"
          ]
        },
        {
          "output_type": "display_data",
          "data": {
            "text/plain": [
              "<IPython.core.display.HTML object>"
            ],
            "text/html": [
              "<div><iframe src=\"https://33297.gradio.app\" width=\"900\" height=\"500\" allow=\"autoplay; camera; microphone;\" frameborder=\"0\" allowfullscreen></iframe></div>"
            ]
          },
          "metadata": {}
        },
        {
          "output_type": "execute_result",
          "data": {
            "text/plain": [
              "(<gradio.routes.App at 0x7f92d6b5a4d0>,\n",
              " 'http://127.0.0.1:7860/',\n",
              " 'https://33297.gradio.app')"
            ]
          },
          "metadata": {},
          "execution_count": 8
        }
      ]
    },
    {
      "cell_type": "code",
      "source": [
        "import requests"
      ],
      "metadata": {
        "id": "WDacureG8c4_"
      },
      "execution_count": 9,
      "outputs": []
    },
    {
      "cell_type": "code",
      "source": [
        "url = 'https://i.pinimg.com/originals/10/f3/a3/10f3a37f101e431272cc893dc1cccb61.png'"
      ],
      "metadata": {
        "id": "5Is0ykcJ8f5B"
      },
      "execution_count": 10,
      "outputs": []
    },
    {
      "cell_type": "code",
      "source": [
        "r = requests.get(url)"
      ],
      "metadata": {
        "id": "JFlpkyn_8ljv"
      },
      "execution_count": 11,
      "outputs": []
    },
    {
      "cell_type": "code",
      "source": [
        "with open(\"augustus.png\", \"wb\") as f:\n",
        "  f.write(r.content)"
      ],
      "metadata": {
        "id": "3qA88iGB8yjt"
      },
      "execution_count": 12,
      "outputs": []
    },
    {
      "cell_type": "markdown",
      "source": [
        "# Crawling to Get Middle School English Vocabulary\n",
        "\n",
        "* https://raw.githubusercontent.com/greenhill33/rootmemo/master/juniorhigh1.txt\n",
        "* https://raw.githubusercontent.com/greenhill33/rootmemo/master/juniorhigh2.txt\n",
        "* https://raw.githubusercontent.com/greenhill33/rootmemo/master/juniorhigh3.txt"
      ],
      "metadata": {
        "id": "M58yxR7-92hR"
      }
    },
    {
      "cell_type": "code",
      "source": [
        "url1 = \"https://raw.githubusercontent.com/greenhill33/rootmemo/master/juniorhigh1.txt\""
      ],
      "metadata": {
        "id": "6LpFFUjd-bT2"
      },
      "execution_count": 13,
      "outputs": []
    },
    {
      "cell_type": "code",
      "source": [
        "r1 = requests.get(url1)"
      ],
      "metadata": {
        "id": "DytfW0BZ-Ood"
      },
      "execution_count": 14,
      "outputs": []
    },
    {
      "cell_type": "code",
      "source": [
        "r1.text"
      ],
      "metadata": {
        "colab": {
          "base_uri": "https://localhost:8080/",
          "height": 196
        },
        "id": "f_oNhXlY-ipk",
        "outputId": "7d37f31a-9683-4d47-80f6-6a843e5a7e05"
      },
      "execution_count": 15,
      "outputs": [
        {
          "output_type": "execute_result",
          "data": {
            "text/plain": [
              "\"a\\na few\\na little\\na lot\\na lot of=ph.許多,大量\\na.m.\\nable\\nabout\\nabove\\nabroad\\nabsent\\naccident\\naction\\nactivity\\nadult\\naffect\\nafraid\\nafter\\nafternoon\\nagain\\nage\\nago\\nagree\\nAIDS\\nair\\nair-conditioner\\nairplane\\nairport\\nalarm\\nalarm clock=ph.鬧鐘\\nalbum\\nalike\\nall\\nalmost\\nalong\\nalphabet\\nalready\\nalso\\nalthough\\nalways\\nam\\nambulance\\nAmerica\\nAmerican\\nan\\nancient\\nand\\nangry\\nanimal\\nankle\\nanother\\nanswer\\nant\\nany\\nanybody\\nanyone\\nanything\\napartment\\nappear\\napple\\nappreciate\\nApril\\nare\\narm\\narmchair\\naround\\narrange\\narrive\\nart\\nas\\nas if=ph.好像,似乎,彷彿\\nas soon as=ph.一…就…,不遲於\\nas well as=ph.也,還,不但…而且\\nAsia\\nask\\nassume\\nat\\nAugust\\naunt\\nAustralia\\nautumn\\navoid\\naway\\nbaby\\nbaby sitter\\nback\\nbad\\nbadminton\\nbag\\nbakery\\nbalcony\\nball\\nbanana\\nband\\nbank\\nbarber\\nbark\\nbaseball\\nbasement\\nbasket\\nbasketball\\nbat\\nbath\\nbathroom\\nbe\\nbeach\\nbean\\nbear\\nbeard\\nbeautiful\\nbecause\\nbecome\\nbed\\nbedroom\\nbee\\nbeef\\nbeen\\nbefore\\nbegin\\nbeginning\\nbehave\\nbehind\\nbeing\\nbelieve\\nbell\\nbelong\\nbelow\\nbelt\\nbeside\\nbetween\\nbicycle\\nbicycle riding=ph.騎腳踏車\\nbig\\nbike\\nbird\\nbirthday\\nbite\\nbitter\\nblack\\nblackboard\\nblank\\nblind\\nblock\\nblouse\\nblow\\nblue\\nboat\\nbody\\nbomb\\nbook\\nbookcase\\nbookstore\\nbore\\nboring\\nborn\\nborrow\\nboss\\nboth\\nboth-and=ph.both…and…是用來強調兩者皆為真實\\nbother\\nbottle\\nbottom\\nbowl\\nbowling\\nbox\\nboy\\nboyfriend\\nbread\\nbreak\\nbreakfast\\nbrick\\nbridge\\nbright\\nbring\\nBritain\\nbrother\\nbrown\\nbrunch\\nbrush\\nbuffet\\nbug\\nbuild\\nbuilding\\nbun\\nbundle\\nburger\\nburn\\nburst\\nbus\\nbus stop=ph.公車的停車站\\nbusiness\\nbusinessman\\nbusy\\nbut\\nbutter\\nbutterfly\\nbuy\\nby\\nbye\\ncabbage\\ncable\\ncafeteria\\ncake\\ncalendar\\ncall\\ncamera\\ncamp\\ncamping\\ncampus\\ncan\\nCanada\\nCanadian\\ncancel\\ncancer\\ncandy\\ncap\\ncar\\ncard\\ncare\\ncareful\\ncareless\\ncarry\\ncase\\ncash\\ncassette\\ncat\\ncatch\\nCD\\nCD player=ph.CD唱機\\ncelebrate\\ncellphone\\ncent\\ncenter\\ncentimeter\\ncereal\\nchair\\nchalk\\nchance\\nchange\\nchannel\\ncharacter\\ncharge\\nchase\\ncheap\\ncheat\\ncheck\\ncheer\\ncheerleader\\ncheese\\nchemical\\nchess\\nchicken\\nchild\\nchildish\\nchildlike\\nchin\\nChina\\nChinese\\nChinese New Year=ph.中國新年,春節,農曆新年\\nchocolate\\nchopsticks\\nChristmas\\nchubby\\nchurch\\ncircle\\ncity\\nclap\\nclass\\nclass leader=ph.班長,職業隊長,領導者\\nclassical\\nclassmate\\nclassroom\\nclean\\nclear\\nclimate\\nclimb\\nclimbing\\nclock\\nclose\\ncloset\\nclothes\\ncloudy\\nclub\\ncoach\\ncoat\\ncockroach\\ncoffee\\ncoke\\ncold\\ncollect\\ncolor\\ncome\\ncomfortable\\ncomic\\ncommand\\ncomment\\ncommon\\ncomplain\\ncomputer\\ncomputer game=ph.電腦遊戲,電腦玩具\\nconfident\\nconfuse\\ncontact lens\\ncontract\\nconvenience store\\nconvenient\\ncook\\ncookie\\ncooking\\ncool\\ncopy\\ncorrect\\ncost\\ncouch\\ncould\\ncount\\ncountry\\ncourt\\ncousin\\ncover\\ncow\\ncrab\\ncrazy\\ncreate\\ncredit card\\ncrime\\ncross\\ncrowded\\ncry\\nculture\\ncup\\ncurve\\ncustom\\ncut\\ncute\\ndad\\ndaddy\\ndamage\\ndance\\ndangerous\\ndark\\ndate\\ndaughter\\ndead\\ndear\\ndebate\\nDecember\\ndecide\\ndecorate\\ndelicious\\ndeliver\\ndepartment store\\ndesk\\ndessert\\ndictionary\\ndid\\ndie\\ndifferent\\ndifficult\\ndig\\ndining room\\ndinner\\ndirect\\ndirty\\ndish\\ndo\\ndoctor\\ndoes\\ndog\\ndoll\\ndollar\\ndone=adj.完成了,做完的\\ndoor\\ndoubt\\ndown\\ndownstairs\\ndozen\\nDr.\\ndraw\\ndream\\ndress\\ndrink\\ndrive\\ndriver\\ndrop\\ndrum\\ndry\\ndumb\\ndumpling\\nduring\\ne-mail\\neach\\near\\nearly\\nearth\\neast\\neasy\\neat\\negg\\neight\\neighteen\\neighth\\neighty\\neither\\neither-or=ph.只能二選一的\\nelementary school\\nelephant\\neleven\\nelse\\nemploy\\nend\\nEnglish\\nenjoy\\nenough\\nenter\\nenvironment\\neraser\\neve\\neven\\neven if=ph.即使,雖然\\nevening\\never\\nevery\\neverybody\\neveryone\\neverything\\nexample\\nexcellent\\nexcept\\nexcited\\nexciting\\nexcuse\\nexercise\\nexpensive\\nexperience\\nexpress\\neye\\nface\\nfact\\nfactory\\nfall\\nfamily\\nfamous\\nfan\\nfarm\\nfarmer\\nfast\\nfat\\nfather\\nfavorite\\nFebruary\\nfeel\\nfestival\\nfew\\nfifteen\\nfifth\\nfifty\\nfill\\nfinally\\nfind\\nfine\\nfinger\\nfinish\\nfire\\nfirst\\nfish\\nfisherman\\nfit\\nfive\\nfix\\nfloor\\nflower\\nflute\\nfly\\nfocus\\nfog\\nfoggy\\nfollow\\nfood\\nfoot\\nfor\\nforeign\\nforeigner\\nforget\\nfork\\nformer\\nforty\\nfour\\nfourteen\\nfourth\\nFrance\\nfree\\nFrench fries\\nfresh\\nFriday\\nfriend\\nfriendly\\nfrog\\nfrom\\nfront\\nfruit\\nfull\\nfun\\nfunny\\nfuture\\ngain\\ngame\\ngarbage\\ngarden\\ngas\\ngeneral\\ngenerous\\ngeography\\nGermany\\nget\\nget off=ph.離開,動身出發,下車\\nget on=ph.進展,出人頭地,應付,上車,穿上,責怪\\ngift\\ngirl\\ngive\\nglad\\nglass\\nglove\\nglue\\ngo\\ngoat\\ngood\\ngood-bye\\ngoodbye\\ngoose\\ngrade\\ngranddaughter\\ngrandfather\\ngrandma\\ngrandmother\\ngrandpa\\ngrandson\\ngrape\\ngrass\\ngray\\ngreat\\ngreedy\\ngreen\\nground\\ngroup\\ngrow\\nguess\\nguitar\\ngym\\nhabit\\nhad\\nhair\\nhalf\\nham\\nhamburger\\nhand\\nhandle\\nhandsome\\nhanger\\nhappen\\nhappy\\nhard\\nhard-working\\nhas\\nhat\\nhate\\nhave\\nhe\\nhead\\nheadache\\nhealth\\nhealthy\\nhear\\nheart\\nheat\\nheavy\\nhelicopter\\nhello\\nhelp\\nhelpful\\nher\\nhere\\nhers\\nherself\\nhi\\nhide\\nhigh\\nhighway\\nhill\\nhim\\nhimself\\nhippo\\nhis\\nhistory\\nhit\\nhobby\\nhold\\nholiday\\nhome\\nhomework\\nhonest\\nhope\\nhorrible\\nhorse\\nhospital\\nhot\\nhotdog\\nhotel\\nhour\\nhouse\\nhousewife\\nhow\\nhowever\\nhumble\\nhundred\\nhungry\\nhurry\\nhurt\\nhusband\\nI\\nice\\nice-cream\\nidea\\nif\\nimagine\\nimportant\\nin\\nin front of=ph.在某人或某物前面\\ninfluence\\ninsect\\ninside\\ninspire\\ninstant\\ninterest\\ninterested\\ninteresting\\nInternet\\ninterrupt\\ninterview\\ninto\\nis\\nisland\\nit\\nItaly\\nits\\nitself\\njacket\\njam\\nJanuary\\nJapan\\njealous\\njeans\\njeep\\njob\\njog\\njoin\\njoy\\njudge\\njuice\\nJuly\\njump\\nJune\\njunior high school\\njust\\nkangaroo\\nkeep\\nkey\\nkick\\nkid\\nkill\\nkilogram\\nkind\\nking\\nkiss\\nkitchen\\nkite\\nknee\\nknife\\nknock\\nknow\\nknowledge\\nKorea\\nlake\\nlamp\\nland\\nlanguage\\nlarge\\nlast\\nlate\\nlater\\nlaugh\\nlawyer\\nlazy\\nlead\\nleader\\nlearn\\nleast\\nleave\\nleft\\nleg\\nlemon\\nlend\\nless\\nlesson\\nlet\\nletter\\nlibrary\\nlie\\nlife\\nlight\\nlightning\\nlike\\nlimit\\nline\\nlion\\nlip\\nlist\\nlisten\\nlittle\\nlive\\nliving room\\nlonely\\nlong\\nlook\\nlose\\nloud\\nlove\\nlow\\nlucky\\nlunch\\nmachine\\nmagic\\nmail\\nmail carrier=ph.郵車,郵船\\nmailman\\nmake\\nmale\\nman\\nmanner\\nmany\\nmap\\nMarch\\nmark\\nmarket\\nmarried\\nmask\\nmat\\nmath\\nmathematics\\nmatter\\nmaximum\\nMay\\nmaybe\\nme\\nmeal\\nmean\\nmeat\\nmedicine\\nmedium\\nmeet\\nmeeting\\nmenu\\nmetal\\nmeter\\nmight\\nmile\\nmilk\\nmillion\\nmind\\nmine\\nminor\\nminus\\nminute\\nmiss\\nmistake\\nmodern\\nmom\\nmoment\\nmommy\\nMonday\\nmoney\\nmonkey\\nmonth\\nmoon\\nmore\\nmorning\\nmosquito\\nmost\\nmother\\nmotorcycle\\nmountain\\nmouse\\nmouth\\nmove\\nmovie\\nMr.\\nMrs.\\nMs.\\nmuch\\nmud\\nmuseum\\nmusic\\nmust\\nmy\\nmyself\\nname\\nnational\\nnaughty\\nnear\\nneck\\nneed\\nneedle\\nnegative\\nneighbor\\nneither-nor=ph.既不…也不…\\nnephew\\nnever\\nnew\\nnews\\nnext\\nnext to=ph.在…旁邊,幾乎\\nnice\\nniece\\nnight\\nnine\\nnineteen\\nninety\\nninth\\nno\\nnobody\\nnod\\nnoise\\nnoodle\\nnoon\\nnorth\\nnose\\nnot\\nnot only-but also=ph.不僅…而且…\\nnote\\nnotebook\\nnothing\\nnotice\\nNovember\\nnow\\nnumber\\nnurse\\no'clock\\nobject\\nOctober\\nof\\noff\\noffer\\noffice\\nofficer\\noften\\noil\\nOK\\nold\\nomit\\non\\nonce\\none\\nonly\\nopen\\nor\\norange\\norder\\nother\\nour\\nours\\nourselves\\nout\\nout of=ph.自…離開,在…範圍之外\\noutside\\nover\\nown\\np.m.\\npack\\npackage\\npage\\npaint\\npair\\npajamas\\npanda\\npants\\npaper\\nparent\\npark\\npart\\npartner\\nparty\\npass\\npast\\npause\\npay\\npen\\npencil\\npencil box=ph.鉛筆盒\\npeople\\npepper\\nperhaps\\nperson\\npet\\nphone\\nphysical education=ph.體育教育,體育課\\npiano\\npick\\npicnic\\npicture\\npie\\npiece\\npig\\npigeon\\npillow\\npink\\npizza\\nplace\\nplan\\nplane\\nplastic\\nplatform\\nplay\\nplayer\\nplayground\\nplease\\npleased\\nplus\\npoint\\npolice\\npoliceman\\npolite\\npollution\\npoor\\npopcorn\\npopular\\npork\\npossible\\npost office\\npostcard\\npotato\\npound\\npractice\\nprepare\\npresent\\npretty\\nprice\\nprimary school=ph.小學\\nprincipal\\nproblem\\nprogram\\nproud\\nprovide\\npublic\\npull\\npurple\\npurse\\npush\\nput\\npuzzle\\nqueen\\nquestion\\nquick\\nquiet\\nquit\\nquite\\nquiz\\nrabbit\\nradio\\nrailroad\\nrailway\\nrain\\nrainbow\\nrainy\\nraise\\nread\\nready\\nreal\\nreally\\nreceive\\nrectangle\\nred\\nrefrigerator\\nreject\\nrelative\\nremember\\nrent\\nrepeat\\nrest\\nrestaurant\\nrestroom\\nrice\\nrich\\nride\\nright\\nring\\nriver\\nroad\\nROC\\nroof\\nroom\\nrose\\nround\\nruin\\nrule\\nruler\\nrun\\nsad\\nsafe\\nsailor\\nsalad\\nsale\\nsalesman\\nsalt\\nsame\\nsample\\nsandwich\\nSaturday\\nsaucer\\nsave\\nsay\\nscarf\\nschool\\nscientist\\nscore\\nscreen\\nsea\\nseason\\nseat\\nsecond\\nsee\\nseldom\\nsell\\nsend\\nsenior high school\\nsentence\\nSeptember\\nserious\\nservant\\nserve\\nseven\\nseventeen\\nseventh\\nseventy\\nseveral\\nshake\\nshall\\nshape\\nshare\\nshark\\nshe\\nsheep\\nship\\nshirt\\nshoe\\nshop\\nshopkeeper\\nshort\\nshorts\\nshould\\nshoulder\\nshow\\nshy\\nsick\\nside\\nsidewalk\\nsign\\nsilver\\nsimilar\\nsimple\\nsince\\nsing\\nSingapore\\nsinger\\nsir\\nsister\\nsit\\nsix\\nsixteen\\nsixth\\nsixty\\nsize\\nskirt\\nsky\\nsleep\\nslow\\nsmall\\nsmart\\nsmell\\nsmile\\nsmoke\\nsnack\\nsnake\\nsnow\\nsnowy\\nso\\nsocial\\nsocks\\nsoda\\nsofa\\nsome\\nsomebody\\nsomeone\\nsomething\\nsometimes\\nsomewhere\\nson\\nsong\\nsoon\\nsorry\\nsound\\nsoup\\nsour\\nsouth\\nspace\\nspeak\\nspecial\\nspell\\nspend\\nspoon\\nsports\\nspring\\nsquare\\nstairs\\nstand\\nstar\\nstart\\nstation\\nstay\\nsteak\\nstill\\nstomach\\nstop\\nstore\\nstory\\nstrange\\nstranger\\nstreet\\nstrike\\nstrong\\nstudent\\nstudy\\nstupid\\nsubmarine\\nsubway\\nsucceed\\nsuccessful\\nsugar\\nsuit\\nsummer\\nsun\\nSunday\\nsunny\\nsupermarket\\nsure\\nsurprise\\nsurprised\\nsurvive\\nswallow\\nsweater\\nsweet\\nswim\\nsymbol\\nT-shirt\\ntable\\nTaiwan\\ntake\\ntalk\\ntall\\ntape\\ntaste\\ntaxi\\ntea\\nteach\\nteacher\\nteam\\nteenager\\ntelephone\\ntelevision\\ntell\\nten\\ntennis\\ntenth\\ntest\\nthan\\nthank\\nthat\\nthe\\ntheater\\ntheir\\ntheirs\\nthem\\nthemselves\\nthen\\nthere\\nthese\\nthey\\nthin\\nthing\\nthink\\nthird\\nthirsty\\nthirteen\\nthirty\\nthis\\nthose\\nthough\\nthousand\\nthree\\nthrough\\nthrow\\nthunder\\nThursday\\nticket\\ntiger\\ntime\\ntired\\nto\\ntoday\\ntogether\\ntomato\\ntomorrow\\ntonight\\ntoo\\ntooth\\ntouch\\ntowel\\ntown\\ntoy\\ntrace\\ntraffic\\ntraffic jam=ph.交通擁擠\\ntraffic lights=ph.交通號誌燈\\ntrain\\ntreat\\ntree\\ntriangle\\ntrip\\ntrouble\\ntruck\\ntrue\\ntrumpet\\ntry\\nTuesday\\nturkey\\nturn\\nTV\\ntwelve\\ntwenty\\ntwo\\ntyphoon\\numbrella\\nuncle\\nunder\\nunderstand\\nunhappy\\nuniform\\nunique\\nuniverse\\nuntil\\nup\\nus\\nUSA\\nuse\\nuseful\\nusually\\nvacation\\nvalue\\nvegetable\\nvery\\nvest\\nvideo\\nvillage\\nvinegar\\nviolin\\nvisit\\nvoice\\nwait\\nwaiter\\nwaitress\\nwake\\nwalk\\nwall\\nwant\\nwarm\\nwas\\nwash\\nwashing machine=ph.洗衣機\\nwatch\\nwater\\nwaterfall\\nway\\nwe\\nweak\\nwear\\nweather\\nWednesday\\nweek\\nweekend\\nwelcome\\nwell\\nwere\\nwest\\nwet\\nwhale\\nwhat\\nwhen\\nwhere\\nwhether\\nwhich\\nwhite\\nwho\\nwhose\\nwhy\\nwife\\nwill\\nwin\\nwind\\nwindow\\nwindy\\nwinter\\nwise\\nwish\\nwith\\nwithout\\nwolf\\nwoman\\nwonderful\\nword\\nwork\\nworkbook\\nworker\\nworld\\nworry\\nwould\\nwound\\nwrite\\nwriter\\nwrong\\nyeah\\nyear\\nyellow\\nyes\\nyesterday\\nyet\\nyou\\nyoung\\nyour\\nyours\\nyourself\\nzoo\\n\""
            ],
            "application/vnd.google.colaboratory.intrinsic+json": {
              "type": "string"
            }
          },
          "metadata": {},
          "execution_count": 15
        }
      ]
    },
    {
      "cell_type": "code",
      "source": [
        "words = r1.text.split()"
      ],
      "metadata": {
        "id": "DFl65KgJAY4V"
      },
      "execution_count": 16,
      "outputs": []
    },
    {
      "cell_type": "code",
      "source": [
        "n = len(words)"
      ],
      "metadata": {
        "id": "ThDySpdTBtCu"
      },
      "execution_count": 17,
      "outputs": []
    },
    {
      "cell_type": "code",
      "source": [
        "'education=ph.體育教育,體育課'.split(\"=\")"
      ],
      "metadata": {
        "colab": {
          "base_uri": "https://localhost:8080/"
        },
        "id": "Lnf25lVvCl86",
        "outputId": "ac4d1679-1b30-457a-a0c0-ba2d9dd3f155"
      },
      "execution_count": 18,
      "outputs": [
        {
          "output_type": "execute_result",
          "data": {
            "text/plain": [
              "['education', 'ph.體育教育,體育課']"
            ]
          },
          "metadata": {},
          "execution_count": 18
        }
      ]
    },
    {
      "cell_type": "code",
      "source": [
        "'education=ph.體育教育,體育課'.split(\"=\")[0]"
      ],
      "metadata": {
        "colab": {
          "base_uri": "https://localhost:8080/",
          "height": 35
        },
        "id": "nemDvUD4Ckx4",
        "outputId": "fda3a4c2-db33-4f92-ac2d-395f24ba882c"
      },
      "execution_count": 19,
      "outputs": [
        {
          "output_type": "execute_result",
          "data": {
            "text/plain": [
              "'education'"
            ],
            "application/vnd.google.colaboratory.intrinsic+json": {
              "type": "string"
            }
          },
          "metadata": {},
          "execution_count": 19
        }
      ]
    },
    {
      "cell_type": "code",
      "source": [
        "# this function gets rid of the definitions (we don't want them)\n",
        "for i in range(n):\n",
        "  if \"=\" in words[i]:\n",
        "    words[i] = words[i].split(\"=\")[0]"
      ],
      "metadata": {
        "id": "6Fa0PWV2B89D"
      },
      "execution_count": 20,
      "outputs": []
    },
    {
      "cell_type": "code",
      "source": [
        "def get_words(url):\n",
        "  r = requests.get(url)\n",
        "  words = r.text.split()\n",
        "  n = len(words)\n",
        "  for i in range(n):\n",
        "    if \"=\" in words[i]:\n",
        "      words[i] = words[i].split(\"=\")[0]\n",
        " # placing them into sets get rid of repeating words\n",
        "  return set(words)"
      ],
      "metadata": {
        "id": "p7K3ggSbDEsU"
      },
      "execution_count": 21,
      "outputs": []
    },
    {
      "cell_type": "code",
      "source": [
        "juniorhigh1 = get_words(\"https://raw.githubusercontent.com/greenhill33/rootmemo/master/juniorhigh1.txt\")"
      ],
      "metadata": {
        "id": "8smUxJ2bDgp-"
      },
      "execution_count": 22,
      "outputs": []
    },
    {
      "cell_type": "code",
      "source": [
        "juniorhigh2 = get_words(\"https://raw.githubusercontent.com/greenhill33/rootmemo/master/juniorhigh2.txt\")"
      ],
      "metadata": {
        "id": "RWwNEEe2Dmtx"
      },
      "execution_count": 23,
      "outputs": []
    },
    {
      "cell_type": "code",
      "source": [
        "juniorhigh3 = get_words(\"https://raw.githubusercontent.com/greenhill33/rootmemo/master/juniorhigh3.txt\")"
      ],
      "metadata": {
        "id": "ThGuTWd6DnCn"
      },
      "execution_count": 24,
      "outputs": []
    },
    {
      "cell_type": "code",
      "source": [
        "len(juniorhigh1)"
      ],
      "metadata": {
        "colab": {
          "base_uri": "https://localhost:8080/"
        },
        "id": "AFm7lHZRDx_Z",
        "outputId": "34f2fb1b-b61e-4748-bc11-a8d7609a689e"
      },
      "execution_count": 25,
      "outputs": [
        {
          "output_type": "execute_result",
          "data": {
            "text/plain": [
              "1335"
            ]
          },
          "metadata": {},
          "execution_count": 25
        }
      ]
    },
    {
      "cell_type": "code",
      "source": [
        "len(juniorhigh2)"
      ],
      "metadata": {
        "colab": {
          "base_uri": "https://localhost:8080/"
        },
        "id": "cbDDUAbGD1z5",
        "outputId": "4f6f6923-cc4a-4d4c-cedf-e58bde9929f0"
      },
      "execution_count": 26,
      "outputs": [
        {
          "output_type": "execute_result",
          "data": {
            "text/plain": [
              "1665"
            ]
          },
          "metadata": {},
          "execution_count": 26
        }
      ]
    },
    {
      "cell_type": "code",
      "source": [
        "len(juniorhigh3)"
      ],
      "metadata": {
        "colab": {
          "base_uri": "https://localhost:8080/"
        },
        "id": "VFN44jgcEXe0",
        "outputId": "77c03f85-e936-4604-900c-10d24e3e6759"
      },
      "execution_count": 27,
      "outputs": [
        {
          "output_type": "execute_result",
          "data": {
            "text/plain": [
              "2052"
            ]
          },
          "metadata": {},
          "execution_count": 27
        }
      ]
    },
    {
      "cell_type": "code",
      "source": [
        "len(juniorhigh1 & juniorhigh2)\n",
        "# this means that the juniorhigh 3 will contain both words from juniorhigh1 & 2"
      ],
      "metadata": {
        "colab": {
          "base_uri": "https://localhost:8080/"
        },
        "id": "UUNw5AwbEbWb",
        "outputId": "601b7be8-9e5a-444f-94f0-1721dcdfc560"
      },
      "execution_count": 28,
      "outputs": [
        {
          "output_type": "execute_result",
          "data": {
            "text/plain": [
              "1335"
            ]
          },
          "metadata": {},
          "execution_count": 28
        }
      ]
    },
    {
      "cell_type": "markdown",
      "source": [
        "## Comparing vocabulary to Actual News"
      ],
      "metadata": {
        "id": "L-gUcSTvHwFy"
      }
    },
    {
      "cell_type": "code",
      "source": [
        "news = \"\"\"When Chinese leader Xi Jinping made his first state visit to Europe in 2014, he set out to herald a new era of cooperation in a multi-country tour, which the European Parliament President at the time called \"a welcome signal of the importance that the new Chinese leader attaches to a strengthened EU-China partnership.\"\n",
        "Eight years later, the optimism of that period has cratered, with the relationship between China and the European Union reaching what analysts call a clear low point of recent decades.\n",
        "European concern about China's global ambitions and its human rights record, US-China tensions, tit-for-tat sanctions and, now, Russia's war in Ukraine -- the impact of which on China-EU ties Beijing appears to have either underestimated or dismissed -- have all brought relations to a nadir.\n",
        "Europe sees China through a Russian lens, and Beijing is not happy\n",
        "Europe sees China through a Russian lens, and Beijing is not happy\n",
        "That was underlined last month during two summits featuring European leaders. Both the Group of Seven (G7) advanced economies and NATO significantly hardened their lines on China, in a signal that views in Europe have fallen more in line with Washington's.\n",
        "The shift is the culmination of a series of steps in which Beijing may have at times underestimated the extent to which it was pushing Europe away, but also appeared prepared to pay that price.\n",
        "But it is a significant blow for Beijing's ideal vision: a Europe with robust China ties that provides a counterbalance to American power and posture.\n",
        "\"China and the EU should act as two major forces upholding world peace, and offset uncertainties in the international landscape,\" Xi told EU leaders at a summit in April, urging them to reject \"rival-bloc mentality.\"\n",
        "But those words appeared to fall flat with the European side, which focused instead on pressing China to help broker peace in Ukraine. \"The dialogue was everything but a dialogue. In any case, it was a dialogue of the deaf,\" EU foreign affairs chief Josep Borrell said afterward.\"\"\""
      ],
      "metadata": {
        "id": "OubLMpofF356"
      },
      "execution_count": 29,
      "outputs": []
    },
    {
      "cell_type": "markdown",
      "source": [
        "### Getting rid of punctuations\n",
        "(there are 2 methods below)"
      ],
      "metadata": {
        "id": "1oAy5wvQH2hO"
      }
    },
    {
      "cell_type": "code",
      "source": [
        "s = \"It's my book!\""
      ],
      "metadata": {
        "id": "WxHK7lUVGrA3"
      },
      "execution_count": 30,
      "outputs": []
    },
    {
      "cell_type": "code",
      "source": [
        "# deleting commas and replacing them with spaces\n",
        "s.replace(\"'\", \" \")"
      ],
      "metadata": {
        "colab": {
          "base_uri": "https://localhost:8080/",
          "height": 35
        },
        "id": "7RVGrbKMGuR1",
        "outputId": "e24cd428-8b7f-40e3-a47f-59f3aadddbfa"
      },
      "execution_count": 31,
      "outputs": [
        {
          "output_type": "execute_result",
          "data": {
            "text/plain": [
              "'It s my book!'"
            ],
            "application/vnd.google.colaboratory.intrinsic+json": {
              "type": "string"
            }
          },
          "metadata": {},
          "execution_count": 31
        }
      ]
    },
    {
      "cell_type": "code",
      "source": [
        "# ways to get rid of punctuations all at once (way 1)\n",
        "punctuations = \".,'!?\"\n",
        "for c in punctuations:\n",
        "  s = s.replace(c, \" \")\n",
        "print(s)"
      ],
      "metadata": {
        "colab": {
          "base_uri": "https://localhost:8080/"
        },
        "id": "BYi-wmuBHSQr",
        "outputId": "08925eb7-3941-4fa6-e068-c90b152addfd"
      },
      "execution_count": 32,
      "outputs": [
        {
          "output_type": "stream",
          "name": "stdout",
          "text": [
            "It s my book \n"
          ]
        }
      ]
    },
    {
      "cell_type": "code",
      "source": [
        "# ways to get rid of punctuations all at once (way 2)\n",
        "import string"
      ],
      "metadata": {
        "id": "Dhw9afYqIBam"
      },
      "execution_count": 33,
      "outputs": []
    },
    {
      "cell_type": "code",
      "source": [
        "string.punctuation"
      ],
      "metadata": {
        "colab": {
          "base_uri": "https://localhost:8080/",
          "height": 35
        },
        "id": "L-tbP-EkINh8",
        "outputId": "85bdb65c-2254-4ab8-b5ea-405f0faeb144"
      },
      "execution_count": 34,
      "outputs": [
        {
          "output_type": "execute_result",
          "data": {
            "text/plain": [
              "'!\"#$%&\\'()*+,-./:;<=>?@[\\\\]^_`{|}~'"
            ],
            "application/vnd.google.colaboratory.intrinsic+json": {
              "type": "string"
            }
          },
          "metadata": {},
          "execution_count": 34
        }
      ]
    },
    {
      "cell_type": "code",
      "source": [
        "for c in string.punctuation:\n",
        "  s = s.replace(c, \"\")"
      ],
      "metadata": {
        "id": "JVIBMGe5INTG"
      },
      "execution_count": 35,
      "outputs": []
    },
    {
      "cell_type": "markdown",
      "source": [
        "### Changing the Text"
      ],
      "metadata": {
        "id": "9hbuUY_oIbSZ"
      }
    },
    {
      "cell_type": "code",
      "source": [
        "for c in string.punctuation:\n",
        "  news = news.replace(c, \" \")"
      ],
      "metadata": {
        "id": "LRPX7KLNIXbf"
      },
      "execution_count": 36,
      "outputs": []
    },
    {
      "cell_type": "code",
      "source": [
        "news = news.lower()"
      ],
      "metadata": {
        "id": "xTCg2Wu2I2CW"
      },
      "execution_count": 37,
      "outputs": []
    },
    {
      "cell_type": "code",
      "source": [
        "news"
      ],
      "metadata": {
        "colab": {
          "base_uri": "https://localhost:8080/",
          "height": 196
        },
        "id": "dsZDcsWBI4WT",
        "outputId": "5eddd402-3b0a-4054-9987-0d352bc932b7"
      },
      "execution_count": 38,
      "outputs": [
        {
          "output_type": "execute_result",
          "data": {
            "text/plain": [
              "'when chinese leader xi jinping made his first state visit to europe in 2014  he set out to herald a new era of cooperation in a multi country tour  which the european parliament president at the time called  a welcome signal of the importance that the new chinese leader attaches to a strengthened eu china partnership  \\neight years later  the optimism of that period has cratered  with the relationship between china and the european union reaching what analysts call a clear low point of recent decades \\neuropean concern about china s global ambitions and its human rights record  us china tensions  tit for tat sanctions and  now  russia s war in ukraine    the impact of which on china eu ties beijing appears to have either underestimated or dismissed    have all brought relations to a nadir \\neurope sees china through a russian lens  and beijing is not happy\\neurope sees china through a russian lens  and beijing is not happy\\nthat was underlined last month during two summits featuring european leaders  both the group of seven  g7  advanced economies and nato significantly hardened their lines on china  in a signal that views in europe have fallen more in line with washington s \\nthe shift is the culmination of a series of steps in which beijing may have at times underestimated the extent to which it was pushing europe away  but also appeared prepared to pay that price \\nbut it is a significant blow for beijing s ideal vision  a europe with robust china ties that provides a counterbalance to american power and posture \\n china and the eu should act as two major forces upholding world peace  and offset uncertainties in the international landscape   xi told eu leaders at a summit in april  urging them to reject  rival bloc mentality  \\nbut those words appeared to fall flat with the european side  which focused instead on pressing china to help broker peace in ukraine   the dialogue was everything but a dialogue  in any case  it was a dialogue of the deaf   eu foreign affairs chief josep borrell said afterward '"
            ],
            "application/vnd.google.colaboratory.intrinsic+json": {
              "type": "string"
            }
          },
          "metadata": {},
          "execution_count": 38
        }
      ]
    },
    {
      "cell_type": "code",
      "source": [
        "news_words = set(news.split())"
      ],
      "metadata": {
        "id": "wic3MIN5JJVL"
      },
      "execution_count": 39,
      "outputs": []
    },
    {
      "cell_type": "code",
      "source": [
        "len(news_words)"
      ],
      "metadata": {
        "colab": {
          "base_uri": "https://localhost:8080/"
        },
        "id": "7-DApwVTJMFl",
        "outputId": "f2cb43a2-2bc4-49f2-828c-ee1d1fb1c970"
      },
      "execution_count": 40,
      "outputs": [
        {
          "output_type": "execute_result",
          "data": {
            "text/plain": [
              "198"
            ]
          },
          "metadata": {},
          "execution_count": 40
        }
      ]
    },
    {
      "cell_type": "code",
      "source": [
        "len(juniorhigh3 & news_words)"
      ],
      "metadata": {
        "colab": {
          "base_uri": "https://localhost:8080/"
        },
        "id": "tgl2xXADJRVb",
        "outputId": "13924f2f-6f1a-4a8c-d3bf-185c5cbeb926"
      },
      "execution_count": 41,
      "outputs": [
        {
          "output_type": "execute_result",
          "data": {
            "text/plain": [
              "87"
            ]
          },
          "metadata": {},
          "execution_count": 41
        }
      ]
    },
    {
      "cell_type": "code",
      "source": [
        "highschool = get_words(\"https://raw.githubusercontent.com/greenhill33/rootmemo/master/high_gov_levels.txt\")"
      ],
      "metadata": {
        "id": "cFkAZRyQKHr_"
      },
      "execution_count": 42,
      "outputs": []
    },
    {
      "cell_type": "code",
      "source": [
        "len(highschool & news_words)"
      ],
      "metadata": {
        "colab": {
          "base_uri": "https://localhost:8080/"
        },
        "id": "B3THwLC4Kxo6",
        "outputId": "6ad1cf03-4104-4853-b816-d511f2186696"
      },
      "execution_count": 43,
      "outputs": [
        {
          "output_type": "execute_result",
          "data": {
            "text/plain": [
              "109"
            ]
          },
          "metadata": {},
          "execution_count": 43
        }
      ]
    },
    {
      "cell_type": "code",
      "source": [
        "len(highschool & news_words)/len(news_words)\n",
        "# so after high school, normally you did only understand 50% of the words in the"
      ],
      "metadata": {
        "colab": {
          "base_uri": "https://localhost:8080/"
        },
        "id": "OVlzVg6SKy9g",
        "outputId": "bf127e18-ff06-48df-ff6f-16d5cb252783"
      },
      "execution_count": 44,
      "outputs": [
        {
          "output_type": "execute_result",
          "data": {
            "text/plain": [
              "0.5505050505050505"
            ]
          },
          "metadata": {},
          "execution_count": 44
        }
      ]
    },
    {
      "cell_type": "code",
      "source": [
        "len(juniorhigh3 & highschool)"
      ],
      "metadata": {
        "colab": {
          "base_uri": "https://localhost:8080/"
        },
        "id": "Aqz2fFFHK2Ry",
        "outputId": "c5e69041-a8d9-4b8a-e7dc-434395da2929"
      },
      "execution_count": 45,
      "outputs": [
        {
          "output_type": "execute_result",
          "data": {
            "text/plain": [
              "1770"
            ]
          },
          "metadata": {},
          "execution_count": 45
        }
      ]
    },
    {
      "cell_type": "markdown",
      "source": [
        "### Crawling to Get Text From Web"
      ],
      "metadata": {
        "id": "wrvKBpPzPHO5"
      }
    },
    {
      "cell_type": "code",
      "source": [
        "from bs4 import BeautifulSoup"
      ],
      "metadata": {
        "id": "BjCrY0QtPadq"
      },
      "execution_count": 46,
      "outputs": []
    },
    {
      "cell_type": "code",
      "source": [
        "url = \"https://edition.cnn.com/2022/07/17/china/china-europe-relations-ukraine-russia-intl-mic-hnk/index.html\""
      ],
      "metadata": {
        "id": "ZA5M8QCjPL-1"
      },
      "execution_count": 47,
      "outputs": []
    },
    {
      "cell_type": "code",
      "source": [
        "r = requests.get(url)"
      ],
      "metadata": {
        "id": "aEGDeq5CPBut"
      },
      "execution_count": 48,
      "outputs": []
    },
    {
      "cell_type": "code",
      "source": [
        "soup = BeautifulSoup(r.text)"
      ],
      "metadata": {
        "id": "p7khrx7BPWQK"
      },
      "execution_count": 49,
      "outputs": []
    },
    {
      "cell_type": "code",
      "source": [
        "soup.select(\".l-container\")"
      ],
      "metadata": {
        "colab": {
          "base_uri": "https://localhost:8080/"
        },
        "id": "o5Y-cIxVPgEa",
        "outputId": "7e420956-73fe-45bc-b420-00c4b22dc6a3"
      },
      "execution_count": 50,
      "outputs": [
        {
          "output_type": "execute_result",
          "data": {
            "text/plain": [
              "[<div class=\"l-container\"><h1 class=\"pg-headline\">China once saw Europe as a counter to US power. Now ties are at an abysmal low</h1><div class=\"metadata \"><div class=\"metadata__info js-byline-images\" data-bundle=\"byline\"><p class=\"metadata__byline\"><span class=\"metadata__byline__author\">Analysis by <a href=\"/profiles/simone-mccarthy\">Simone McCarthy</a></span></p><p class=\"metadata__show\"></p><p class=\"update-time\">Updated 0020 GMT (0820 HKT) July 18, 2022 <span class=\"video__source top_source\" id=\"js-pagetop_video_source\"></span></p></div></div><div class=\"pg-rail-tall__wrapper\"><div class=\"pg-side-of-rail pg-rail-tall__side\"><div class=\"pg-rail-tall__head js-pg-rail-tall__head\"><section class=\"zn zn-large-media zn-body zn--idx-0 zn--ordinary zn-has-one-container\" data-containers=\"1\" data-eq-pts=\"xsmall: 0, medium: 460, large: 780, full16x9: 1100\" data-vr-zone=\"zone-0-0\" data-zn-id=\"large-media\" data-zone-label=\"headerMedia\" id=\"large-media\"><div class=\"l-container\"><img alt=\"Chinese leader Xi Jinping greets European leaders before a meeting at the Elysee Palace in Paris in 2019. \" class=\"media__image media__image--responsive\" data-demand-load=\"not-loaded\" data-eq-pts=\"mini: 0, xsmall: 221, small: 308, medium: 461, large: 781\" data-src-full16x9=\"//cdn.cnn.com/cnnnext/dam/assets/220707052105-03-europe-china-ukraine-g7-nato-full-169.jpg\" data-src-large=\"//cdn.cnn.com/cnnnext/dam/assets/220707052105-03-europe-china-ukraine-g7-nato-super-169.jpg\" data-src-medium=\"//cdn.cnn.com/cnnnext/dam/assets/220707052105-03-europe-china-ukraine-g7-nato-exlarge-169.jpg\" data-src-mini=\"//cdn.cnn.com/cnnnext/dam/assets/220707052105-03-europe-china-ukraine-g7-nato-small-169.jpg\" data-src-mini1x1=\"//cdn.cnn.com/cnnnext/dam/assets/220707052105-03-europe-china-ukraine-g7-nato-small-11.jpg\" data-src-small=\"//cdn.cnn.com/cnnnext/dam/assets/220707052105-03-europe-china-ukraine-g7-nato-large-169.jpg\" data-src-xsmall=\"//cdn.cnn.com/cnnnext/dam/assets/220707052105-03-europe-china-ukraine-g7-nato-medium-plus-169.jpg\" src=\"data:image/gif;base64,R0lGODlhEAAJAJEAAAAAAP///////wAAACH5BAEAAAIALAAAAAAQAAkAAAIKlI+py+0Po5yUFQA7\"/><div class=\"img__preloader\"></div><noscript><img alt=\"Chinese leader Xi Jinping greets European leaders before a meeting at the Elysee Palace in Paris in 2019. \" class=\"media__image\" src=\"//cdn.cnn.com/cnnnext/dam/assets/220707052105-03-europe-china-ukraine-g7-nato-large-169.jpg\"/></noscript><div class=\"media__caption el__gallery_image-title\"><div class=\"element-raw appearance-standard\">Chinese leader Xi Jinping greets European leaders before a meeting at the Elysee Palace in Paris in 2019. </div></div></div></section></div><div class=\"pg-rail-tall__body\" itemprop=\"articleBody\"><section class=\"zn zn-body-text zn-body zn--idx-0 zn--ordinary zn-has-multiple-containers zn-has-45-containers\" data-containers=\"45\" data-eq-pts=\"xsmall: 0, medium: 460, large: 780, full16x9: 1100\" data-vr-zone=\"zone-1-0\" data-zn-id=\"body-text\" data-zone-label=\"bodyText\" id=\"body-text\"><div class=\"l-container\"><div class=\"el__leafmedia el__leafmedia--editorial-note\"><p class=\"zn-body__paragraph\"><q class=\"el-editorial-note\"><strong><em>A version of this story appeared in CNN's Meanwhile in China newsletter, a three-times-a-week update exploring what you need to know about the country's rise and how it impacts the world. </em></strong><a href=\"https://www.cnn.com/specials/meanwhile-in-china\" target=\"_blank\"><strong><em>Sign up here.</em></strong></a></q></p></div><div class=\"el__leafmedia el__leafmedia--sourced-paragraph\"><p class=\"zn-body__paragraph speakable\" data-paragraph-id=\"paragraph_9140E1D7-233F-A588-216B-D80873618161\"><cite class=\"el-editorial-source\">Hong Kong (CNN)</cite>When Chinese leader Xi Jinping made his first state visit to Europe in 2014, he set out to herald a new era of cooperation in a multi-country tour, which the European Parliament President at the time called \"a welcome signal of the importance that the new Chinese leader attaches to a strengthened EU-China partnership.\"</p></div><div class=\"zn-body__paragraph\" data-paragraph-id=\"paragraph_DE40F945-2388-C611-AAF0-D808B143DFCD\">Eight years later, the optimism of that period has cratered, with the relationship between <a href=\"https://www.cnn.com/china\" target=\"_blank\">China</a> and the European Union reaching what analysts call a clear low point of recent decades. </div><div class=\"zn-body__paragraph\" data-paragraph-id=\"paragraph_2F4CBD50-72DA-2C04-4FB4-D808B145C671\">European concern about China's global ambitions and its human rights record, US-China tensions, tit-for-tat sanctions and, now, <a href=\"https://www.cnn.com/specials/europe/ukraine\" target=\"_blank\">Russia's war in Ukraine</a> -- the impact of which on China-EU ties Beijing appears to have either underestimated or dismissed -- have all brought relations to a nadir.</div><div class=\"ad ad--epic ad--mobile\" data-ad-text=\"show\"><div data-ad-id=\"ad_rect_atf_01\" data-ad-position=\"mobile\" data-ad-refresh=\"default\"><div class=\"ad-ad_rect_atf_01 ad-refresh-default\" id=\"ad_rect_atf_01\"></div></div></div><div class=\"ad ad--epic ad--tablet\" data-ad-text=\"show\"><div data-ad-id=\"ad_nat_btf_01\" data-ad-position=\"tablet\" data-ad-refresh=\"default\"><div class=\"ad-ad_nat_btf_01 ad-refresh-default\" id=\"ad_nat_btf_01\"></div></div></div><div class=\"ad ad--epic ad--desktop\" data-ad-text=\"show\"><div data-ad-id=\"ad_nat_btf_01\" data-ad-position=\"desktop\" data-ad-refresh=\"default\"><div class=\"ad-ad_nat_btf_01 ad-refresh-default\" id=\"ad_nat_btf_01\"></div></div></div><ul class=\"cn cn-list-hierarchical-xs cn--idx-4 cn-zoneAdContainer\" data-layout=\"list-hierarchical-xs\"></ul><div class=\"el__embedded el__embedded--standard\"><div class=\"el__storyelement--standard el__article--embed\"><div class=\"el__article--teaseimage\"><a href=\"/2022/06/29/china/china-nato-g7-russia-ukraine-intl-hnk-mic/index.html\"><img alt=\"Europe sees China through a Russian lens, and Beijing is not happy\" class=\"media__image media__image--responsive\" data-demand-load=\"not-loaded\" data-eq-pts=\"mini: 0, xsmall: 221, small: 308, medium: 461, large: 781\" data-src-full16x9=\"//cdn.cnn.com/cnnnext/dam/assets/220628213136-01-china-nato-g7-russia-ukraine-intl-hnk-mic-full-169.jpg\" data-src-large=\"//cdn.cnn.com/cnnnext/dam/assets/220628213136-01-china-nato-g7-russia-ukraine-intl-hnk-mic-super-169.jpg\" data-src-medium=\"//cdn.cnn.com/cnnnext/dam/assets/220628213136-01-china-nato-g7-russia-ukraine-intl-hnk-mic-exlarge-169.jpg\" data-src-mini=\"//cdn.cnn.com/cnnnext/dam/assets/220628213136-01-china-nato-g7-russia-ukraine-intl-hnk-mic-small-169.jpg\" data-src-mini1x1=\"//cdn.cnn.com/cnnnext/dam/assets/220628213136-01-china-nato-g7-russia-ukraine-intl-hnk-mic-small-11.jpg\" data-src-small=\"//cdn.cnn.com/cnnnext/dam/assets/220628213136-01-china-nato-g7-russia-ukraine-intl-hnk-mic-large-169.jpg\" data-src-xsmall=\"//cdn.cnn.com/cnnnext/dam/assets/220628213136-01-china-nato-g7-russia-ukraine-intl-hnk-mic-medium-plus-169.jpg\" src=\"data:image/gif;base64,R0lGODlhEAAJAJEAAAAAAP///////wAAACH5BAEAAAIALAAAAAAQAAkAAAIKlI+py+0Po5yUFQA7\"/><div class=\"img__preloader\"></div><noscript><img alt=\"Europe sees China through a Russian lens, and Beijing is not happy\" class=\"media__image\" src=\"//cdn.cnn.com/cnnnext/dam/assets/220628213136-01-china-nato-g7-russia-ukraine-intl-hnk-mic-large-169.jpg\"/></noscript></a></div><div class=\"media__caption el__storyelement__title\"><span class=\"el__storyelement__header\"><a href=\"/2022/06/29/china/china-nato-g7-russia-ukraine-intl-hnk-mic/index.html\">Europe sees China through a Russian lens, and Beijing is not happy</a></span></div></div></div><div class=\"zn-body__paragraph\" data-paragraph-id=\"paragraph_D1F0A62A-C69A-C95D-BCB1-D808B146459F\">That was underlined last month during two summits featuring European leaders. Both the <a href=\"https://www.cnn.com/2022/06/25/world/g7-summit-analysis-intl-cmd/index.html\" target=\"_blank\">Group of Seven (G7)</a> advanced economies and <a href=\"https://www.cnn.com/2022/06/29/politics/joe-biden-nato-day-2/index.html\" target=\"_blank\">NATO</a> significantly hardened their lines on China, in a signal that views in Europe have fallen more in line with Washington's.</div><div class=\"ad ad--epic ad--mobile\" data-ad-text=\"show\"><div data-ad-id=\"ad_nat_btf_01\" data-ad-position=\"mobile\" data-ad-refresh=\"default\"><div class=\"ad-ad_nat_btf_01 ad-refresh-default\" id=\"ad_nat_btf_01\"></div></div></div><ul class=\"cn cn-list-hierarchical-xs cn--idx-7 cn-zoneAdContainer\" data-layout=\"list-hierarchical-xs\"></ul><div class=\"zn-body__paragraph\" data-paragraph-id=\"paragraph_20C4A4A3-A923-6363-F820-D93B2FDE3A5A\">The shift is the culmination of a series of steps in which Beijing may have at times underestimated the extent to which it was pushing Europe away, but also appeared prepared to pay that price.</div><div class=\"zn-body__read-more\"><div class=\"read-more-gradient\"></div><div class=\"read-more-button\" data-zjs=\"click\" data-zjs-campaign=\"readmore-btn-mobile\"><div class=\"read-more-link\" id=\"js-body-read-more\">Read More</div></div></div><div class=\"zn-body__read-all\"><div class=\"zn-body__paragraph\" data-paragraph-id=\"paragraph_764A646E-A237-D778-D854-D808B1471DBA\">But it is a significant blow for Beijing's ideal vision: a Europe with robust China ties that provides a counterbalance to American power and posture.</div><div class=\"zn-body__paragraph\" data-paragraph-id=\"paragraph_B744ACF8-E280-23F3-FCC1-D808B14E7A4B\">\"China and the EU should act as two major forces upholding world peace, and offset uncertainties in the international landscape,\" Xi told EU leaders at a summit in April, urging them to reject \"rival-bloc mentality.\" </div><div class=\"ad ad--epic ad--mobile\" data-ad-text=\"show\"><div data-ad-id=\"ad_out_vid_01\" data-ad-position=\"mobile\" data-ad-refresh=\"default\"><div class=\"ad-ad_out_vid_01 ad-refresh-default\" id=\"ad_out_vid_01\"></div></div></div><div class=\"ad ad--epic ad--tablet\" data-ad-text=\"show\"><div data-ad-id=\"ad_out_vid_01\" data-ad-position=\"tablet\" data-ad-refresh=\"default\"></div></div><div class=\"ad ad--epic ad--desktop\" data-ad-text=\"show\"><div data-ad-id=\"ad_out_vid_01\" data-ad-position=\"desktop\" data-ad-refresh=\"default\"></div></div><ul class=\"cn cn-list-hierarchical-xs cn--idx-12 cn-zoneAdContainer\" data-layout=\"list-hierarchical-xs\"></ul><div class=\"zn-body__paragraph\" data-paragraph-id=\"paragraph_58673CB0-5C77-9962-9461-D808B14F278D\">But those words appeared to fall flat with the European side, which focused instead on pressing China to help broker peace in Ukraine. \"The dialogue was everything but a dialogue. In any case, it was a dialogue of the deaf,\" EU foreign affairs chief Josep Borrell said afterward.</div><div class=\"zn-body__paragraph\" data-paragraph-id=\"paragraph_60512FAF-5365-80F7-5880-D8100E575814\"><h3><strong>Downward spiral </strong></h3></div><div class=\"zn-body__paragraph\" data-paragraph-id=\"paragraph_453D32BB-510D-D960-367E-D808B15099CA\">Beijing had carefully crafted its relationships in Europe in recent decades -- creating a dedicated annual summit with Central and Eastern European countries and seeking inroads for its Belt and Road infrastructure initiative, which won support from one G7 member when Italy signed on in 2019.</div><div class=\"zn-body__paragraph\" data-paragraph-id=\"paragraph_33192267-B3C4-8A0A-1D98-D82171838675\">US concerns about the <a href=\"https://www.google.com/search?q=US+warns+China+Huawei+CNN&amp;sxsrf=ALiCzsY8qkJgt4NE2xcAXMs-zyDP9NLHUA%3A1657235969571&amp;ei=AWrHYpmwIqmv5NoPt72amAg&amp;ved=0ahUKEwjZtJmK9ef4AhWpF1kFHbeeBoMQ4dUDCA4&amp;uact=5&amp;oq=US+warns+China+Huawei+CNN&amp;gs_lcp=Cgdnd3Mtd2l6EAMyBQgAEKIEMgUIABCiBDIFCAAQogQyBQgAEKIEOgcIABBHELADSgQIQRgASgQIRhgAUIkLWModYLkfaARwAXgAgAG4A4gBmxSSAQUzLTYuMZgBAKABAcgBCMABAQ&amp;sclient=gws-wiz#bsht=CgRmYnNtEgQIBBAA:~:text=Former%20top%20US,new%2Dzealand%2Dintl\" target=\"_blank\">risks of collaboration </a>with China resonated in Europe. And European nations were themselves watching Xi's China grow increasingly assertive in its foreign policy, from the combative tone of its \"wolf warrior\" diplomats to the establishment of a naval base in Africa, rising aggressiveness in the South China Sea and toward <a href=\"https://www.cnn.com/specials/asia/taiwan\" target=\"_blank\">Taiwan</a>, and the targeting of companies or countries that ran foul of its line on hot-button issues. </div><div class=\"zn-body__paragraph\" data-paragraph-id=\"paragraph_06F6BBA3-EBAC-DF5F-38DF-D817A82B07B8\">Allegations of major <a href=\"https://www.cnn.com/specials/china/xinjiang\" target=\"_blank\">human rights violations</a> in China's northwestern region of Xinjiang, and its dismantling of civil society in <a href=\"https://www.cnn.com/specials/asia/hong-kong\" target=\"_blank\">Hong Kong</a> also played a role in shifting European perceptions, analysts say. Chinese officials have called allegations that it held <a href=\"https://www.cnn.com/2020/06/19/asia/xinjiang-explainer-intl-hnk-scli/index.html\" target=\"_blank\">more than a million</a> Uyghur and other Muslim minorities in internment camps in Xinjiang \"fabrications,\" and slammed discussion of these issues as \"interference\" in its internal affairs.</div><div class=\"zn-body__paragraph\" data-paragraph-id=\"paragraph_E4013D14-9C87-E4F2-EA60-DAF4BA6AFC08\">The EU declared China a \"systemic rival\" in 2019 and ties have continued to fray since. </div><div class=\"el__embedded el__embedded--fullwidth\"><div class=\"el__image--fullwidth js__image--fullwidth\"><div><img alt=\"Chinese leader Xi Jinping attends the opening of the 2014 Nuclear Security Summit in the Netherlands during his first state visit to Europe.\" class=\"media__image media__image--responsive\" data-demand-load=\"not-loaded\" data-eq-pts=\"mini: 0, xsmall: 221, small: 308, medium: 461, large: 781\" data-src-full16x9=\"//cdn.cnn.com/cnnnext/dam/assets/220707051928-01-europe-china-ukraine-g7-nato-full-169.jpg\" data-src-large=\"//cdn.cnn.com/cnnnext/dam/assets/220707051928-01-europe-china-ukraine-g7-nato-super-169.jpg\" data-src-medium=\"//cdn.cnn.com/cnnnext/dam/assets/220707051928-01-europe-china-ukraine-g7-nato-exlarge-169.jpg\" data-src-mini=\"//cdn.cnn.com/cnnnext/dam/assets/220707051928-01-europe-china-ukraine-g7-nato-small-169.jpg\" data-src-mini1x1=\"//cdn.cnn.com/cnnnext/dam/assets/220707051928-01-europe-china-ukraine-g7-nato-small-11.jpg\" data-src-small=\"//cdn.cnn.com/cnnnext/dam/assets/220707051928-01-europe-china-ukraine-g7-nato-large-169.jpg\" data-src-xsmall=\"//cdn.cnn.com/cnnnext/dam/assets/220707051928-01-europe-china-ukraine-g7-nato-medium-plus-169.jpg\" src=\"data:image/gif;base64,R0lGODlhEAAJAJEAAAAAAP///////wAAACH5BAEAAAIALAAAAAAQAAkAAAIKlI+py+0Po5yUFQA7\"/><div class=\"img__preloader\"></div><noscript><img alt=\"Chinese leader Xi Jinping attends the opening of the 2014 Nuclear Security Summit in the Netherlands during his first state visit to Europe.\" class=\"media__image\" src=\"//cdn.cnn.com/cnnnext/dam/assets/220707051928-01-europe-china-ukraine-g7-nato-large-169.jpg\"/></noscript><div class=\"media__caption el__gallery_image-title\"><div class=\"element-raw appearance-fullwidth\">Chinese leader Xi Jinping attends the opening of the 2014 Nuclear Security Summit in the Netherlands during his first state visit to Europe.</div></div><script name=\"metaScript\" type=\"application/ld+json\">{\"@context\": \"http://schema.org\",\"@type\": \"ImageObject\",\"name\": \"Chinese leader Xi Jinping attends the opening of the 2014 Nuclear Security Summit in the Netherlands during his first state visit to Europe.\",\"description\": \"Chinese leader Xi Jinping attends the opening of the 2014 Nuclear Security Summit in the Netherlands during his first state visit to Europe.\",\"url\": \"//cdn.cnn.com/cnnnext/dam/assets/220707051928-01-europe-china-ukraine-g7-nato-large-169.jpg\"}</script></div></div></div><div class=\"zn-body__paragraph\" data-paragraph-id=\"paragraph_D105273E-1FAA-6DC7-B872-D808B1534C61\">\"China now demands the rest of the world pay it due respect and recognize the positions China takes, without paying much regard to what the others may think,\" said Steve Tsang, director of the SOAS China Institute at the University of London.</div><div class=\"zn-body__paragraph\" data-paragraph-id=\"paragraph_0C161C20-2D6A-5718-3CF0-D808B15465B3\">This approach made Western democracies \"abandon the decades-long policy of helping China to modernize and rise with a hope that greater economic integration will encourage China to become a responsible stake holder in world affairs,\" Tsang said.</div><div class=\"zn-body__paragraph\" data-paragraph-id=\"paragraph_48E17C23-D805-DCB4-E390-D817573E29B5\"><h3><strong>Economic edge</strong></h3></div><div class=\"zn-body__paragraph\" data-paragraph-id=\"paragraph_210630DC-FC55-25A8-0CDA-D808B16725AE\">China was the third largest export market for European goods and the largest source of products entering Europe last year, but frictions have taken their toll on the economic relationship between the EU and Beijing.</div><div class=\"zn-body__paragraph\" data-paragraph-id=\"paragraph_A7C66333-ACD4-CC30-EC9B-D808B169944B\">Earlier this year, a dispute between China and Lithuania pushed the EU to level a case at the WTO. It accused Beijing of <a href=\"https://www.cnn.com/2022/01/30/europe/lithuania-took-on-china-intl-cmd/index.html\" target=\"_blank\">\"discriminatory trade practices against Lithuania\"</a> in retaliation for what Beijing views as a violation by the Baltic state of its \"One China\" principle, by which it claims self-ruled Taiwan as its sovereign territory. </div><div class=\"zn-body__paragraph\" data-paragraph-id=\"paragraph_5E604FBC-A49F-E59C-3479-D826775E7036\">The greatest financial casualty was the long-awaited trade deal between the EU and China, which stalled last year after being caught in the crossfire of a sanctions exchange. Beijing slapped penalties on EU lawmakers and bodies, European think tanks and independent scholars after the EU sanctioned four Chinese officials for alleged abuses in Xinjiang. </div><div class=\"zn-body__paragraph\" data-paragraph-id=\"paragraph_737C51F0-4EF6-CC3F-9DDF-D916E69462D0\">But the damage was greater than just the deal.</div><div class=\"zn-body__paragraph\" data-paragraph-id=\"paragraph_772B1057-D19A-54B0-04B3-D808B16BF9C5\">\"This overreaction (from Beijing) was not a wise move,\" said Ingrid d'Hooghe, a senior research associate at the Netherlands-based think tank Clingendael, pointing to the harmful effect on public opinion.</div><div class=\"zn-body__paragraph\" data-paragraph-id=\"paragraph_77D27CB7-2BB7-9ACF-238A-D808B16DE1F6\">\"China's strategy toward Europe was falling apart and it apparently didn't understand that all these actions -- the over-reactive sanctions, coercive diplomacy -- in the end worked against China's diplomatic goals ... and also pushed Europe closer to the United States,\" she said.</div><div class=\"zn-body__paragraph\" data-paragraph-id=\"paragraph_E0BC5D70-0BBC-487B-785E-D82DFE2C2E3A\">While these actions may have pushed a shift in European thinking with clear economic consequences, they added up for Beijing's Foreign Ministry, according to Henry Gao, a professor at Singapore Management University's Yong Pung How School of Law.</div><div class=\"zn-body__paragraph\" data-paragraph-id=\"paragraph_BF743081-3427-EF8F-353D-D808B171DDF2\">\"For them, the cold relationship is a necessary price and it is more important to make political points,\" he said.</div><div class=\"zn-body__paragraph\" data-paragraph-id=\"paragraph_5BEC464E-7EB6-E023-1D00-D831A738915A\"><h3><strong>Blind spot?</strong></h3></div><div class=\"zn-body__paragraph\" data-paragraph-id=\"paragraph_AA8A27CD-0049-432F-5F25-D808B17CDEC1\">It is China's most recent calculations over how to respond to Russia's war in Ukraine that may end up the most costly when it comes to European ties. </div><div class=\"zn-body__paragraph\" data-paragraph-id=\"paragraph_205D7388-CD37-40D7-50E8-D922B5526B1D\">As European countries and the US united in support of Ukraine, China refused to condemn the war -- instead bolstering its relationship with Russia and joining the Kremlin in <a href=\"https://www.cnn.com/2022/02/25/china/china-reaction-ukraine-russia-intl-hnk-mic/index.html\" target=\"_blank\">finger-pointing at the US and NATO</a>.</div><div class=\"zn-body__paragraph\" data-paragraph-id=\"paragraph_BB068062-1134-72D7-E0FE-D808B181E4E8\">There were leading policy analysts in China who understood the negative consequences China's position would have on its European ties, according to Li Mingjiang, an associate professor and Provost's Chair in International Relations at Nanyang Technological University's S. Rajaratnam School of International Studies in Singapore. But that assessment may have been \"underestimated\" by decision makers, Li said.</div><div class=\"el__embedded el__embedded--fullwidth\"><div class=\"el__image--fullwidth js__image--fullwidth\"><div><img alt=\"Russian President Vladimir Putin and Chinese leader Xi Jinping in Brazil in 2019.\" class=\"media__image media__image--responsive\" data-demand-load=\"not-loaded\" data-eq-pts=\"mini: 0, xsmall: 221, small: 308, medium: 461, large: 781\" data-src-full16x9=\"//cdn.cnn.com/cnnnext/dam/assets/220707052212-04-europe-china-ukraine-g7-nato-full-169.jpg\" data-src-large=\"//cdn.cnn.com/cnnnext/dam/assets/220707052212-04-europe-china-ukraine-g7-nato-super-169.jpg\" data-src-medium=\"//cdn.cnn.com/cnnnext/dam/assets/220707052212-04-europe-china-ukraine-g7-nato-exlarge-169.jpg\" data-src-mini=\"//cdn.cnn.com/cnnnext/dam/assets/220707052212-04-europe-china-ukraine-g7-nato-small-169.jpg\" data-src-mini1x1=\"//cdn.cnn.com/cnnnext/dam/assets/220707052212-04-europe-china-ukraine-g7-nato-small-11.jpg\" data-src-small=\"//cdn.cnn.com/cnnnext/dam/assets/220707052212-04-europe-china-ukraine-g7-nato-large-169.jpg\" data-src-xsmall=\"//cdn.cnn.com/cnnnext/dam/assets/220707052212-04-europe-china-ukraine-g7-nato-medium-plus-169.jpg\" src=\"data:image/gif;base64,R0lGODlhEAAJAJEAAAAAAP///////wAAACH5BAEAAAIALAAAAAAQAAkAAAIKlI+py+0Po5yUFQA7\"/><div class=\"img__preloader\"></div><noscript><img alt=\"Russian President Vladimir Putin and Chinese leader Xi Jinping in Brazil in 2019.\" class=\"media__image\" src=\"//cdn.cnn.com/cnnnext/dam/assets/220707052212-04-europe-china-ukraine-g7-nato-large-169.jpg\"/></noscript><div class=\"media__caption el__gallery_image-title\"><div class=\"element-raw appearance-fullwidth\">Russian President Vladimir Putin and Chinese leader Xi Jinping in Brazil in 2019.</div></div><script name=\"metaScript\" type=\"application/ld+json\">{\"@context\": \"http://schema.org\",\"@type\": \"ImageObject\",\"name\": \"Russian President Vladimir Putin and Chinese leader Xi Jinping in Brazil in 2019.\",\"description\": \"Russian President Vladimir Putin and Chinese leader Xi Jinping in Brazil in 2019.\",\"url\": \"//cdn.cnn.com/cnnnext/dam/assets/220707052212-04-europe-china-ukraine-g7-nato-large-169.jpg\"}</script></div></div></div><div class=\"zn-body__paragraph\" data-paragraph-id=\"paragraph_555BF294-DFC2-795E-DD90-D92003DE9BC1\">Calculations about the geopolitical importance of ties with Russia, and also the <a href=\"https://www.cnn.com/2022/06/15/asia/china-support-russia-security-xi-birthday-putin-intl-hnk/index.html\" target=\"_blank\">close bond</a> between Xi and Russian President Vladimir Putin also likely came to bear, he added.</div><div class=\"zn-body__paragraph\" data-paragraph-id=\"paragraph_661B2C3B-33DC-D7CA-4161-D91F99217888\">\"It's a really huge dilemma for China ... and they couldn't afford any major negative consequences on the China-Russia strategic partnership. That imperative really prevailed,\" Li said.</div><div class=\"zn-body__paragraph\" data-paragraph-id=\"paragraph_45117A02-9908-775D-C824-D808B18781EE\">There has been acknowledgment of China's myopia among mainland scholars,</div><div class=\"zn-body__paragraph\" data-paragraph-id=\"paragraph_8C743621-1FC6-15D3-97C3-D808B189F0B6\">Chen Dingding, founding director of the Intellisia Institute think tank in Guangzhou, wrote in a <a href=\"https://thediplomat.com/2022/03/europe-and-china-at-a-crossroads/\" target=\"_blank\">coauthored article</a> in The Diplomat, that the risks of the war in Ukraine are \"not fully understood in China,\" where officials and academics had failed to acknowledge the \"shock\" that death and destruction in Ukraine would bring Europeans.</div><div class=\"zn-body__paragraph\" data-paragraph-id=\"paragraph_D511A2BA-9CAE-4FBB-1E0D-D959DFD6973A\">\"The geographic as well as emotional proximity of the war will fundamentally change European sentiments toward common security, economic dependencies, and national sovereignty for years to come,\" Chen and his international group of coauthors wrote.</div><div class=\"ad ad--epic ad--mobile\" data-ad-text=\"show\"><div data-ad-id=\"ad_rect_btf_01\" data-ad-position=\"mobile\" data-ad-refresh=\"default\"></div></div><ul class=\"cn cn-list-hierarchical-xs cn--idx-41 cn-zoneAdContainer\" data-layout=\"list-hierarchical-xs\"></ul><div class=\"zn-body__paragraph\" data-paragraph-id=\"paragraph_51CB2F69-C066-3F2C-D6B2-D808B18DD5D6\">However, strong voices within many countries do continue to advocate a balanced approach to China, according to d'Hooghe. The future may bring not a decoupling, she said, but rather a recalibration within Europe of how to collaborate with China while keeping an eye on security and balance.</div><div class=\"zn-body__paragraph\" data-paragraph-id=\"paragraph_BADBBF1D-1628-1F35-54A3-D808B18FBE6D\">\"But right now -- and this is also true with the European relationship with Russia -- normative considerations seem to weigh heavier than economic interests,\" she said.</div></div><p class=\"zn-body__paragraph zn-body__footer\"></p></div><div class=\"zn-body__read-more-outbrain\"><ul class=\"cn cn-list-hierarchical-small-horizontal cn--idx-0 cn-\" data-layout=\"list-hierarchical-small-horizontal\"><li><article class=\"cd cd--tool cd--tool__outbrain\" data-analytics=\"tool-type_list-hierarchical-small-horizontal_outbrain\" data-eq-pts=\"xsmall: 0, small: 300, medium: 460, large: 780\" data-vr-contentbox=\"\"><div class=\"OB_HOP_25 conditionalremove\"><div class=\"OUTBRAIN js-m-outbrain m-outbrain\" data-ob-template=\"cnn\" data-src=\"https://edition.cnn.com/2022/07/17/china/china-europe-relations-ukraine-russia-intl-mic-hnk/index.html\" data-widget-id=\"HOP_25\"></div></div></article></li></ul></div></section><section class=\"zn zn-story-bottom zn-single-column zn--idx-1 zn--ordinary zn-has-multiple-containers zn-has-3-containers\" data-eq-pts=\"xsmall: 0, medium: 460, large: 780, full16x9: 1100\" data-vr-zone=\"zone-1-1\" data-zone-label=\"storyBottom\" id=\"story-bottom\"><div class=\"ad ad--epic ad--mobile\" data-ad-text=\"show\"><div data-ad-id=\"freewheel-rail-placeholder\" data-ad-position=\"mobile\" data-ad-refresh=\"default\"></div></div><div class=\"zn-top\"><div class=\"zn-top__background\"></div></div><div class=\"l-container zn__background--content-relative\"><div class=\"zn__containers\"><div class=\"column zn__column--idx-0\"><ul class=\"cn cn-list-hierarchical-small-horizontal cn--idx-0 cn-\" data-layout=\"list-hierarchical-small-horizontal\"><li><article class=\"cd cd--tool cd--tool__outbrain\" data-analytics=\"tool-type_list-hierarchical-small-horizontal_outbrain\" data-eq-pts=\"xsmall: 0, small: 300, medium: 460, large: 780\" data-vr-contentbox=\"\"><div class=\"OB_AR_36\"><div class=\"OUTBRAIN js-m-outbrain m-outbrain\" data-ob-template=\"cnn\" data-src=\"https://edition.cnn.com/2022/07/17/china/china-europe-relations-ukraine-russia-intl-mic-hnk/index.html\" data-widget-id=\"AR_36\"></div></div></article></li></ul></div><div class=\"column zn__column--idx-1\"><ul class=\"cn cn-list-hierarchical-small-horizontal cn--idx-1 cn-\" data-layout=\"list-hierarchical-small-horizontal\"><li><article class=\"cd cd--tool cd--tool__outbrain\" data-analytics=\"tool-type_list-hierarchical-small-horizontal_outbrain\" data-eq-pts=\"xsmall: 0, small: 300, medium: 460, large: 780\" data-vr-contentbox=\"\"><div class=\"OB_AR_13\"><div class=\"OUTBRAIN js-m-outbrain m-outbrain\" data-ob-template=\"cnn\" data-src=\"https://edition.cnn.com/2022/07/17/china/china-europe-relations-ukraine-russia-intl-mic-hnk/index.html\" data-widget-id=\"AR_13\"></div></div></article></li></ul></div><div class=\"column zn__column--idx-2\"><ul class=\"cn cn-list-hierarchical-small-horizontal cn--idx-2 cn-\" data-layout=\"list-hierarchical-small-horizontal\"><li><article class=\"cd cd--tool cd--tool__outbrain\" data-analytics=\"tool-type_list-hierarchical-small-horizontal_outbrain\" data-eq-pts=\"xsmall: 0, small: 300, medium: 460, large: 780\" data-vr-contentbox=\"\"><div class=\"OB_AR_39\"><div class=\"OUTBRAIN js-m-outbrain m-outbrain\" data-ob-template=\"cnn\" data-src=\"https://edition.cnn.com/2022/07/17/china/china-europe-relations-ukraine-russia-intl-mic-hnk/index.html\" data-widget-id=\"AR_39\"></div></div></article></li></ul></div></div></div></section><section class=\"zn zn-ad-spon-1mnuej zn-left-fluid zn--idx-3 zn--ordinary zn-left-fluid-share zn-has-one-container\" data-containers=\"1\" data-eq-pts=\"xsmall: 0, medium: 460, large: 780, full16x9: 1100\" data-vr-zone=\"zone-1-3\" id=\"ad-spon-1mnuej\"><div class=\"zn-top \"><div class=\"l-container zn-top__label\"></div><div class=\"l-container zn-top__banner\"></div><div class=\"zn-top__background\"></div></div><div class=\"l-container\"><div class=\"zn__containers\"><div class=\"column zn__column--idx-0\"><div class=\"ad ad--epic ad--desktop\" data-ad-text=\"show\"><div class=\"ad-ad_bnr_btf_02 ad-refresh-adbody\" data-ad-id=\"ad_bnr_btf_02\" id=\"ad_bnr_btf_02\"></div></div><ul class=\"cn cn-list-hierarchical-xs cn--idx-0 cn-zoneAdContainer\" data-layout=\"list-hierarchical-xs\"></ul></div></div></div></section></div></div><div class=\"pg-rail pg-rail-tall__rail\" data-bundle=\"adzones\"><section class=\"zn zn-sponsored-outbrain-1 zn-balanced zn--idx-0 zn--ordinary zn-has-two-containers\" data-containers=\"2\" data-eq-pts=\"xsmall: 0, medium: 460, large: 780, full16x9: 1100\" data-vr-zone=\"zone-2-0\" data-zn-id=\"sponsored-outbrain-1\" data-zone-label=\"rail-zone-1\" id=\"sponsored-outbrain-1\"><div class=\"zn-top\"><div class=\"zn-top__background\"></div></div><div class=\"l-container zn__background--content-relative\"><div class=\"zn__containers\"><div class=\"column zn__column--idx-0\"><div class=\"ad ad--epic ad--tablet\" data-ad-text=\"show\"><div data-ad-id=\"freewheel-rail-placeholder\" data-ad-position=\"tablet\" data-ad-refresh=\"default\"></div></div><div class=\"ad ad--epic ad--tablet\" data-ad-text=\"show\"><div data-ad-id=\"ad_rect_atf_01\" data-ad-position=\"tablet\" data-ad-refresh=\"adtop\"></div></div><ul class=\"cn cn-list-hierarchical-small-horizontal cn--idx-0 cn-\" data-layout=\"list-hierarchical-small-horizontal\"><li><article class=\"cd cd--tool cd--tool__outbrain\" data-analytics=\"tool-type_list-hierarchical-small-horizontal_outbrain\" data-eq-pts=\"xsmall: 0, small: 300, medium: 460, large: 780\" data-vr-contentbox=\"\"><div class=\"OB_AR_38\"><div class=\"OUTBRAIN js-m-outbrain m-outbrain\" data-ob-template=\"cnn\" data-src=\"https://edition.cnn.com/2022/07/17/china/china-europe-relations-ukraine-russia-intl-mic-hnk/index.html\" data-widget-id=\"AR_38\"></div></div></article></li></ul></div><div class=\"column zn__column--idx-1\"><div class=\"ad ad--epic ad--desktop\" data-ad-text=\"show\"><div data-ad-id=\"freewheel-rail-placeholder\" data-ad-position=\"desktop\" data-ad-refresh=\"default\"></div></div><div class=\"ad ad--epic ad--desktop\" data-ad-text=\"show\"><div data-ad-id=\"ad_rect_atf_01\" data-ad-position=\"desktop\" data-ad-refresh=\"adtop\"></div></div><ul class=\"cn cn-list-hierarchical-xs cn--idx-1 cn-zoneAdContainer\" data-layout=\"list-hierarchical-xs\"></ul></div></div></div></section><section class=\"zn zn-sponsored-outbrain-2 zn-balanced zn--idx-1 zn--ordinary zn-has-one-container\" data-containers=\"1\" data-eq-pts=\"xsmall: 0, medium: 460, large: 780, full16x9: 1100\" data-vr-zone=\"zone-2-1\" data-zn-id=\"sponsored-outbrain-2\" data-zone-label=\"rail-zone-2\" id=\"sponsored-outbrain-2\"><div class=\"zn-top\"><div class=\"zn-top__background\"></div></div><div class=\"l-container zn__background--content-relative\"><div class=\"zn__containers\"><div class=\"column zn__column--idx-0\"><ul class=\"cn cn-list-hierarchical-xs cn--idx-0 cn-\" data-layout=\"list-hierarchical-xs\"></ul></div></div></div></section><section class=\"zn zn-sponsored-outbrain-3 zn-balanced zn--idx-2 zn--ordinary zn-has-two-containers\" data-containers=\"2\" data-eq-pts=\"xsmall: 0, medium: 460, large: 780, full16x9: 1100\" data-vr-zone=\"zone-2-2\" data-zn-id=\"sponsored-outbrain-3\" data-zone-label=\"rail-zone-3\" id=\"sponsored-outbrain-3\"><div class=\"zn-top\"><div class=\"zn-top__background\"></div></div><div class=\"l-container zn__background--content-relative\"><div class=\"zn__containers\"><div class=\"column zn__column--idx-0\"><ul class=\"cn cn-list-hierarchical-small-horizontal cn--idx-0 cn-\" data-layout=\"list-hierarchical-small-horizontal\"><li><article class=\"cd cd--tool cd--tool__outbrain\" data-analytics=\"tool-type_list-hierarchical-small-horizontal_outbrain\" data-eq-pts=\"xsmall: 0, small: 300, medium: 460, large: 780\" data-vr-contentbox=\"\"><div class=\"OB_AR_18\"><div class=\"OUTBRAIN js-m-outbrain m-outbrain\" data-ob-template=\"cnn\" data-src=\"https://edition.cnn.com/2022/07/17/china/china-europe-relations-ukraine-russia-intl-mic-hnk/index.html\" data-widget-id=\"AR_18\"></div></div></article></li></ul></div><div class=\"column zn__column--idx-1\"><ul class=\"cn cn-list-hierarchical-small-horizontal cn--idx-1 cn-\" data-layout=\"list-hierarchical-small-horizontal\"><li><article class=\"cd cd--tool cd--tool__outbrain\" data-analytics=\"tool-type_list-hierarchical-small-horizontal_outbrain\" data-eq-pts=\"xsmall: 0, small: 300, medium: 460, large: 780\" data-vr-contentbox=\"\"><div class=\"OB_AR_14\"><div class=\"OUTBRAIN js-m-outbrain m-outbrain\" data-ob-template=\"cnn\" data-src=\"https://edition.cnn.com/2022/07/17/china/china-europe-relations-ukraine-russia-intl-mic-hnk/index.html\" data-widget-id=\"AR_14\"></div></div></article></li></ul></div></div></div></section><section class=\"zn zn-partner-zone zn-balanced zn--idx-3 zn--ordinary zn-has-one-container\" data-containers=\"1\" data-eq-pts=\"xsmall: 0, medium: 460, large: 780, full16x9: 1100\" data-vr-zone=\"zone-2-3\" data-zn-id=\"partner-zone\" data-zone-label=\"partnerRail\" id=\"partner-zone\"><div class=\"zn-top\"><div class=\"zn-top__background\"></div></div><div class=\"l-container zn__background--content-relative\"><div class=\"zn__containers\"><div class=\"column zn__column--idx-0\"><div class=\"ad ad--epic ad--tablet\" data-ad-text=\"show\"><div data-ad-id=\"ad_rect_btf_01\" data-ad-position=\"tablet\" data-ad-refresh=\"adbody\"></div></div><div class=\"ad ad--epic ad--desktop\" data-ad-text=\"show\"><div data-ad-id=\"ad_rect_btf_01\" data-ad-position=\"desktop\" data-ad-refresh=\"adbody\"></div></div><ul class=\"cn cn-list-hierarchical-xs cn--idx-0 cn-zoneAdContainer\" data-layout=\"list-hierarchical-xs\"></ul></div></div></div></section><section class=\"zn zn- zn-body zn--idx-4 zn--ordinary zn-has-one-container\" data-containers=\"1\" data-eq-pts=\"xsmall: 0, medium: 460, large: 780, full16x9: 1100\" data-vr-zone=\"zone-2-4\" id=\"\"><div class=\"l-container\"><ul class=\"cn cn-list-hierarchical-xs cn--idx-0 cn-\" data-layout=\"list-hierarchical-xs\"></ul></div></section></div><div class=\"pg-comments pg-rail-tall__comments\"></div></div></div>,\n",
              " <div class=\"l-container\"><img alt=\"Chinese leader Xi Jinping greets European leaders before a meeting at the Elysee Palace in Paris in 2019. \" class=\"media__image media__image--responsive\" data-demand-load=\"not-loaded\" data-eq-pts=\"mini: 0, xsmall: 221, small: 308, medium: 461, large: 781\" data-src-full16x9=\"//cdn.cnn.com/cnnnext/dam/assets/220707052105-03-europe-china-ukraine-g7-nato-full-169.jpg\" data-src-large=\"//cdn.cnn.com/cnnnext/dam/assets/220707052105-03-europe-china-ukraine-g7-nato-super-169.jpg\" data-src-medium=\"//cdn.cnn.com/cnnnext/dam/assets/220707052105-03-europe-china-ukraine-g7-nato-exlarge-169.jpg\" data-src-mini=\"//cdn.cnn.com/cnnnext/dam/assets/220707052105-03-europe-china-ukraine-g7-nato-small-169.jpg\" data-src-mini1x1=\"//cdn.cnn.com/cnnnext/dam/assets/220707052105-03-europe-china-ukraine-g7-nato-small-11.jpg\" data-src-small=\"//cdn.cnn.com/cnnnext/dam/assets/220707052105-03-europe-china-ukraine-g7-nato-large-169.jpg\" data-src-xsmall=\"//cdn.cnn.com/cnnnext/dam/assets/220707052105-03-europe-china-ukraine-g7-nato-medium-plus-169.jpg\" src=\"data:image/gif;base64,R0lGODlhEAAJAJEAAAAAAP///////wAAACH5BAEAAAIALAAAAAAQAAkAAAIKlI+py+0Po5yUFQA7\"/><div class=\"img__preloader\"></div><noscript><img alt=\"Chinese leader Xi Jinping greets European leaders before a meeting at the Elysee Palace in Paris in 2019. \" class=\"media__image\" src=\"//cdn.cnn.com/cnnnext/dam/assets/220707052105-03-europe-china-ukraine-g7-nato-large-169.jpg\"/></noscript><div class=\"media__caption el__gallery_image-title\"><div class=\"element-raw appearance-standard\">Chinese leader Xi Jinping greets European leaders before a meeting at the Elysee Palace in Paris in 2019. </div></div></div>,\n",
              " <div class=\"l-container\"><div class=\"el__leafmedia el__leafmedia--editorial-note\"><p class=\"zn-body__paragraph\"><q class=\"el-editorial-note\"><strong><em>A version of this story appeared in CNN's Meanwhile in China newsletter, a three-times-a-week update exploring what you need to know about the country's rise and how it impacts the world. </em></strong><a href=\"https://www.cnn.com/specials/meanwhile-in-china\" target=\"_blank\"><strong><em>Sign up here.</em></strong></a></q></p></div><div class=\"el__leafmedia el__leafmedia--sourced-paragraph\"><p class=\"zn-body__paragraph speakable\" data-paragraph-id=\"paragraph_9140E1D7-233F-A588-216B-D80873618161\"><cite class=\"el-editorial-source\">Hong Kong (CNN)</cite>When Chinese leader Xi Jinping made his first state visit to Europe in 2014, he set out to herald a new era of cooperation in a multi-country tour, which the European Parliament President at the time called \"a welcome signal of the importance that the new Chinese leader attaches to a strengthened EU-China partnership.\"</p></div><div class=\"zn-body__paragraph\" data-paragraph-id=\"paragraph_DE40F945-2388-C611-AAF0-D808B143DFCD\">Eight years later, the optimism of that period has cratered, with the relationship between <a href=\"https://www.cnn.com/china\" target=\"_blank\">China</a> and the European Union reaching what analysts call a clear low point of recent decades. </div><div class=\"zn-body__paragraph\" data-paragraph-id=\"paragraph_2F4CBD50-72DA-2C04-4FB4-D808B145C671\">European concern about China's global ambitions and its human rights record, US-China tensions, tit-for-tat sanctions and, now, <a href=\"https://www.cnn.com/specials/europe/ukraine\" target=\"_blank\">Russia's war in Ukraine</a> -- the impact of which on China-EU ties Beijing appears to have either underestimated or dismissed -- have all brought relations to a nadir.</div><div class=\"ad ad--epic ad--mobile\" data-ad-text=\"show\"><div data-ad-id=\"ad_rect_atf_01\" data-ad-position=\"mobile\" data-ad-refresh=\"default\"><div class=\"ad-ad_rect_atf_01 ad-refresh-default\" id=\"ad_rect_atf_01\"></div></div></div><div class=\"ad ad--epic ad--tablet\" data-ad-text=\"show\"><div data-ad-id=\"ad_nat_btf_01\" data-ad-position=\"tablet\" data-ad-refresh=\"default\"><div class=\"ad-ad_nat_btf_01 ad-refresh-default\" id=\"ad_nat_btf_01\"></div></div></div><div class=\"ad ad--epic ad--desktop\" data-ad-text=\"show\"><div data-ad-id=\"ad_nat_btf_01\" data-ad-position=\"desktop\" data-ad-refresh=\"default\"><div class=\"ad-ad_nat_btf_01 ad-refresh-default\" id=\"ad_nat_btf_01\"></div></div></div><ul class=\"cn cn-list-hierarchical-xs cn--idx-4 cn-zoneAdContainer\" data-layout=\"list-hierarchical-xs\"></ul><div class=\"el__embedded el__embedded--standard\"><div class=\"el__storyelement--standard el__article--embed\"><div class=\"el__article--teaseimage\"><a href=\"/2022/06/29/china/china-nato-g7-russia-ukraine-intl-hnk-mic/index.html\"><img alt=\"Europe sees China through a Russian lens, and Beijing is not happy\" class=\"media__image media__image--responsive\" data-demand-load=\"not-loaded\" data-eq-pts=\"mini: 0, xsmall: 221, small: 308, medium: 461, large: 781\" data-src-full16x9=\"//cdn.cnn.com/cnnnext/dam/assets/220628213136-01-china-nato-g7-russia-ukraine-intl-hnk-mic-full-169.jpg\" data-src-large=\"//cdn.cnn.com/cnnnext/dam/assets/220628213136-01-china-nato-g7-russia-ukraine-intl-hnk-mic-super-169.jpg\" data-src-medium=\"//cdn.cnn.com/cnnnext/dam/assets/220628213136-01-china-nato-g7-russia-ukraine-intl-hnk-mic-exlarge-169.jpg\" data-src-mini=\"//cdn.cnn.com/cnnnext/dam/assets/220628213136-01-china-nato-g7-russia-ukraine-intl-hnk-mic-small-169.jpg\" data-src-mini1x1=\"//cdn.cnn.com/cnnnext/dam/assets/220628213136-01-china-nato-g7-russia-ukraine-intl-hnk-mic-small-11.jpg\" data-src-small=\"//cdn.cnn.com/cnnnext/dam/assets/220628213136-01-china-nato-g7-russia-ukraine-intl-hnk-mic-large-169.jpg\" data-src-xsmall=\"//cdn.cnn.com/cnnnext/dam/assets/220628213136-01-china-nato-g7-russia-ukraine-intl-hnk-mic-medium-plus-169.jpg\" src=\"data:image/gif;base64,R0lGODlhEAAJAJEAAAAAAP///////wAAACH5BAEAAAIALAAAAAAQAAkAAAIKlI+py+0Po5yUFQA7\"/><div class=\"img__preloader\"></div><noscript><img alt=\"Europe sees China through a Russian lens, and Beijing is not happy\" class=\"media__image\" src=\"//cdn.cnn.com/cnnnext/dam/assets/220628213136-01-china-nato-g7-russia-ukraine-intl-hnk-mic-large-169.jpg\"/></noscript></a></div><div class=\"media__caption el__storyelement__title\"><span class=\"el__storyelement__header\"><a href=\"/2022/06/29/china/china-nato-g7-russia-ukraine-intl-hnk-mic/index.html\">Europe sees China through a Russian lens, and Beijing is not happy</a></span></div></div></div><div class=\"zn-body__paragraph\" data-paragraph-id=\"paragraph_D1F0A62A-C69A-C95D-BCB1-D808B146459F\">That was underlined last month during two summits featuring European leaders. Both the <a href=\"https://www.cnn.com/2022/06/25/world/g7-summit-analysis-intl-cmd/index.html\" target=\"_blank\">Group of Seven (G7)</a> advanced economies and <a href=\"https://www.cnn.com/2022/06/29/politics/joe-biden-nato-day-2/index.html\" target=\"_blank\">NATO</a> significantly hardened their lines on China, in a signal that views in Europe have fallen more in line with Washington's.</div><div class=\"ad ad--epic ad--mobile\" data-ad-text=\"show\"><div data-ad-id=\"ad_nat_btf_01\" data-ad-position=\"mobile\" data-ad-refresh=\"default\"><div class=\"ad-ad_nat_btf_01 ad-refresh-default\" id=\"ad_nat_btf_01\"></div></div></div><ul class=\"cn cn-list-hierarchical-xs cn--idx-7 cn-zoneAdContainer\" data-layout=\"list-hierarchical-xs\"></ul><div class=\"zn-body__paragraph\" data-paragraph-id=\"paragraph_20C4A4A3-A923-6363-F820-D93B2FDE3A5A\">The shift is the culmination of a series of steps in which Beijing may have at times underestimated the extent to which it was pushing Europe away, but also appeared prepared to pay that price.</div><div class=\"zn-body__read-more\"><div class=\"read-more-gradient\"></div><div class=\"read-more-button\" data-zjs=\"click\" data-zjs-campaign=\"readmore-btn-mobile\"><div class=\"read-more-link\" id=\"js-body-read-more\">Read More</div></div></div><div class=\"zn-body__read-all\"><div class=\"zn-body__paragraph\" data-paragraph-id=\"paragraph_764A646E-A237-D778-D854-D808B1471DBA\">But it is a significant blow for Beijing's ideal vision: a Europe with robust China ties that provides a counterbalance to American power and posture.</div><div class=\"zn-body__paragraph\" data-paragraph-id=\"paragraph_B744ACF8-E280-23F3-FCC1-D808B14E7A4B\">\"China and the EU should act as two major forces upholding world peace, and offset uncertainties in the international landscape,\" Xi told EU leaders at a summit in April, urging them to reject \"rival-bloc mentality.\" </div><div class=\"ad ad--epic ad--mobile\" data-ad-text=\"show\"><div data-ad-id=\"ad_out_vid_01\" data-ad-position=\"mobile\" data-ad-refresh=\"default\"><div class=\"ad-ad_out_vid_01 ad-refresh-default\" id=\"ad_out_vid_01\"></div></div></div><div class=\"ad ad--epic ad--tablet\" data-ad-text=\"show\"><div data-ad-id=\"ad_out_vid_01\" data-ad-position=\"tablet\" data-ad-refresh=\"default\"></div></div><div class=\"ad ad--epic ad--desktop\" data-ad-text=\"show\"><div data-ad-id=\"ad_out_vid_01\" data-ad-position=\"desktop\" data-ad-refresh=\"default\"></div></div><ul class=\"cn cn-list-hierarchical-xs cn--idx-12 cn-zoneAdContainer\" data-layout=\"list-hierarchical-xs\"></ul><div class=\"zn-body__paragraph\" data-paragraph-id=\"paragraph_58673CB0-5C77-9962-9461-D808B14F278D\">But those words appeared to fall flat with the European side, which focused instead on pressing China to help broker peace in Ukraine. \"The dialogue was everything but a dialogue. In any case, it was a dialogue of the deaf,\" EU foreign affairs chief Josep Borrell said afterward.</div><div class=\"zn-body__paragraph\" data-paragraph-id=\"paragraph_60512FAF-5365-80F7-5880-D8100E575814\"><h3><strong>Downward spiral </strong></h3></div><div class=\"zn-body__paragraph\" data-paragraph-id=\"paragraph_453D32BB-510D-D960-367E-D808B15099CA\">Beijing had carefully crafted its relationships in Europe in recent decades -- creating a dedicated annual summit with Central and Eastern European countries and seeking inroads for its Belt and Road infrastructure initiative, which won support from one G7 member when Italy signed on in 2019.</div><div class=\"zn-body__paragraph\" data-paragraph-id=\"paragraph_33192267-B3C4-8A0A-1D98-D82171838675\">US concerns about the <a href=\"https://www.google.com/search?q=US+warns+China+Huawei+CNN&amp;sxsrf=ALiCzsY8qkJgt4NE2xcAXMs-zyDP9NLHUA%3A1657235969571&amp;ei=AWrHYpmwIqmv5NoPt72amAg&amp;ved=0ahUKEwjZtJmK9ef4AhWpF1kFHbeeBoMQ4dUDCA4&amp;uact=5&amp;oq=US+warns+China+Huawei+CNN&amp;gs_lcp=Cgdnd3Mtd2l6EAMyBQgAEKIEMgUIABCiBDIFCAAQogQyBQgAEKIEOgcIABBHELADSgQIQRgASgQIRhgAUIkLWModYLkfaARwAXgAgAG4A4gBmxSSAQUzLTYuMZgBAKABAcgBCMABAQ&amp;sclient=gws-wiz#bsht=CgRmYnNtEgQIBBAA:~:text=Former%20top%20US,new%2Dzealand%2Dintl\" target=\"_blank\">risks of collaboration </a>with China resonated in Europe. And European nations were themselves watching Xi's China grow increasingly assertive in its foreign policy, from the combative tone of its \"wolf warrior\" diplomats to the establishment of a naval base in Africa, rising aggressiveness in the South China Sea and toward <a href=\"https://www.cnn.com/specials/asia/taiwan\" target=\"_blank\">Taiwan</a>, and the targeting of companies or countries that ran foul of its line on hot-button issues. </div><div class=\"zn-body__paragraph\" data-paragraph-id=\"paragraph_06F6BBA3-EBAC-DF5F-38DF-D817A82B07B8\">Allegations of major <a href=\"https://www.cnn.com/specials/china/xinjiang\" target=\"_blank\">human rights violations</a> in China's northwestern region of Xinjiang, and its dismantling of civil society in <a href=\"https://www.cnn.com/specials/asia/hong-kong\" target=\"_blank\">Hong Kong</a> also played a role in shifting European perceptions, analysts say. Chinese officials have called allegations that it held <a href=\"https://www.cnn.com/2020/06/19/asia/xinjiang-explainer-intl-hnk-scli/index.html\" target=\"_blank\">more than a million</a> Uyghur and other Muslim minorities in internment camps in Xinjiang \"fabrications,\" and slammed discussion of these issues as \"interference\" in its internal affairs.</div><div class=\"zn-body__paragraph\" data-paragraph-id=\"paragraph_E4013D14-9C87-E4F2-EA60-DAF4BA6AFC08\">The EU declared China a \"systemic rival\" in 2019 and ties have continued to fray since. </div><div class=\"el__embedded el__embedded--fullwidth\"><div class=\"el__image--fullwidth js__image--fullwidth\"><div><img alt=\"Chinese leader Xi Jinping attends the opening of the 2014 Nuclear Security Summit in the Netherlands during his first state visit to Europe.\" class=\"media__image media__image--responsive\" data-demand-load=\"not-loaded\" data-eq-pts=\"mini: 0, xsmall: 221, small: 308, medium: 461, large: 781\" data-src-full16x9=\"//cdn.cnn.com/cnnnext/dam/assets/220707051928-01-europe-china-ukraine-g7-nato-full-169.jpg\" data-src-large=\"//cdn.cnn.com/cnnnext/dam/assets/220707051928-01-europe-china-ukraine-g7-nato-super-169.jpg\" data-src-medium=\"//cdn.cnn.com/cnnnext/dam/assets/220707051928-01-europe-china-ukraine-g7-nato-exlarge-169.jpg\" data-src-mini=\"//cdn.cnn.com/cnnnext/dam/assets/220707051928-01-europe-china-ukraine-g7-nato-small-169.jpg\" data-src-mini1x1=\"//cdn.cnn.com/cnnnext/dam/assets/220707051928-01-europe-china-ukraine-g7-nato-small-11.jpg\" data-src-small=\"//cdn.cnn.com/cnnnext/dam/assets/220707051928-01-europe-china-ukraine-g7-nato-large-169.jpg\" data-src-xsmall=\"//cdn.cnn.com/cnnnext/dam/assets/220707051928-01-europe-china-ukraine-g7-nato-medium-plus-169.jpg\" src=\"data:image/gif;base64,R0lGODlhEAAJAJEAAAAAAP///////wAAACH5BAEAAAIALAAAAAAQAAkAAAIKlI+py+0Po5yUFQA7\"/><div class=\"img__preloader\"></div><noscript><img alt=\"Chinese leader Xi Jinping attends the opening of the 2014 Nuclear Security Summit in the Netherlands during his first state visit to Europe.\" class=\"media__image\" src=\"//cdn.cnn.com/cnnnext/dam/assets/220707051928-01-europe-china-ukraine-g7-nato-large-169.jpg\"/></noscript><div class=\"media__caption el__gallery_image-title\"><div class=\"element-raw appearance-fullwidth\">Chinese leader Xi Jinping attends the opening of the 2014 Nuclear Security Summit in the Netherlands during his first state visit to Europe.</div></div><script name=\"metaScript\" type=\"application/ld+json\">{\"@context\": \"http://schema.org\",\"@type\": \"ImageObject\",\"name\": \"Chinese leader Xi Jinping attends the opening of the 2014 Nuclear Security Summit in the Netherlands during his first state visit to Europe.\",\"description\": \"Chinese leader Xi Jinping attends the opening of the 2014 Nuclear Security Summit in the Netherlands during his first state visit to Europe.\",\"url\": \"//cdn.cnn.com/cnnnext/dam/assets/220707051928-01-europe-china-ukraine-g7-nato-large-169.jpg\"}</script></div></div></div><div class=\"zn-body__paragraph\" data-paragraph-id=\"paragraph_D105273E-1FAA-6DC7-B872-D808B1534C61\">\"China now demands the rest of the world pay it due respect and recognize the positions China takes, without paying much regard to what the others may think,\" said Steve Tsang, director of the SOAS China Institute at the University of London.</div><div class=\"zn-body__paragraph\" data-paragraph-id=\"paragraph_0C161C20-2D6A-5718-3CF0-D808B15465B3\">This approach made Western democracies \"abandon the decades-long policy of helping China to modernize and rise with a hope that greater economic integration will encourage China to become a responsible stake holder in world affairs,\" Tsang said.</div><div class=\"zn-body__paragraph\" data-paragraph-id=\"paragraph_48E17C23-D805-DCB4-E390-D817573E29B5\"><h3><strong>Economic edge</strong></h3></div><div class=\"zn-body__paragraph\" data-paragraph-id=\"paragraph_210630DC-FC55-25A8-0CDA-D808B16725AE\">China was the third largest export market for European goods and the largest source of products entering Europe last year, but frictions have taken their toll on the economic relationship between the EU and Beijing.</div><div class=\"zn-body__paragraph\" data-paragraph-id=\"paragraph_A7C66333-ACD4-CC30-EC9B-D808B169944B\">Earlier this year, a dispute between China and Lithuania pushed the EU to level a case at the WTO. It accused Beijing of <a href=\"https://www.cnn.com/2022/01/30/europe/lithuania-took-on-china-intl-cmd/index.html\" target=\"_blank\">\"discriminatory trade practices against Lithuania\"</a> in retaliation for what Beijing views as a violation by the Baltic state of its \"One China\" principle, by which it claims self-ruled Taiwan as its sovereign territory. </div><div class=\"zn-body__paragraph\" data-paragraph-id=\"paragraph_5E604FBC-A49F-E59C-3479-D826775E7036\">The greatest financial casualty was the long-awaited trade deal between the EU and China, which stalled last year after being caught in the crossfire of a sanctions exchange. Beijing slapped penalties on EU lawmakers and bodies, European think tanks and independent scholars after the EU sanctioned four Chinese officials for alleged abuses in Xinjiang. </div><div class=\"zn-body__paragraph\" data-paragraph-id=\"paragraph_737C51F0-4EF6-CC3F-9DDF-D916E69462D0\">But the damage was greater than just the deal.</div><div class=\"zn-body__paragraph\" data-paragraph-id=\"paragraph_772B1057-D19A-54B0-04B3-D808B16BF9C5\">\"This overreaction (from Beijing) was not a wise move,\" said Ingrid d'Hooghe, a senior research associate at the Netherlands-based think tank Clingendael, pointing to the harmful effect on public opinion.</div><div class=\"zn-body__paragraph\" data-paragraph-id=\"paragraph_77D27CB7-2BB7-9ACF-238A-D808B16DE1F6\">\"China's strategy toward Europe was falling apart and it apparently didn't understand that all these actions -- the over-reactive sanctions, coercive diplomacy -- in the end worked against China's diplomatic goals ... and also pushed Europe closer to the United States,\" she said.</div><div class=\"zn-body__paragraph\" data-paragraph-id=\"paragraph_E0BC5D70-0BBC-487B-785E-D82DFE2C2E3A\">While these actions may have pushed a shift in European thinking with clear economic consequences, they added up for Beijing's Foreign Ministry, according to Henry Gao, a professor at Singapore Management University's Yong Pung How School of Law.</div><div class=\"zn-body__paragraph\" data-paragraph-id=\"paragraph_BF743081-3427-EF8F-353D-D808B171DDF2\">\"For them, the cold relationship is a necessary price and it is more important to make political points,\" he said.</div><div class=\"zn-body__paragraph\" data-paragraph-id=\"paragraph_5BEC464E-7EB6-E023-1D00-D831A738915A\"><h3><strong>Blind spot?</strong></h3></div><div class=\"zn-body__paragraph\" data-paragraph-id=\"paragraph_AA8A27CD-0049-432F-5F25-D808B17CDEC1\">It is China's most recent calculations over how to respond to Russia's war in Ukraine that may end up the most costly when it comes to European ties. </div><div class=\"zn-body__paragraph\" data-paragraph-id=\"paragraph_205D7388-CD37-40D7-50E8-D922B5526B1D\">As European countries and the US united in support of Ukraine, China refused to condemn the war -- instead bolstering its relationship with Russia and joining the Kremlin in <a href=\"https://www.cnn.com/2022/02/25/china/china-reaction-ukraine-russia-intl-hnk-mic/index.html\" target=\"_blank\">finger-pointing at the US and NATO</a>.</div><div class=\"zn-body__paragraph\" data-paragraph-id=\"paragraph_BB068062-1134-72D7-E0FE-D808B181E4E8\">There were leading policy analysts in China who understood the negative consequences China's position would have on its European ties, according to Li Mingjiang, an associate professor and Provost's Chair in International Relations at Nanyang Technological University's S. Rajaratnam School of International Studies in Singapore. But that assessment may have been \"underestimated\" by decision makers, Li said.</div><div class=\"el__embedded el__embedded--fullwidth\"><div class=\"el__image--fullwidth js__image--fullwidth\"><div><img alt=\"Russian President Vladimir Putin and Chinese leader Xi Jinping in Brazil in 2019.\" class=\"media__image media__image--responsive\" data-demand-load=\"not-loaded\" data-eq-pts=\"mini: 0, xsmall: 221, small: 308, medium: 461, large: 781\" data-src-full16x9=\"//cdn.cnn.com/cnnnext/dam/assets/220707052212-04-europe-china-ukraine-g7-nato-full-169.jpg\" data-src-large=\"//cdn.cnn.com/cnnnext/dam/assets/220707052212-04-europe-china-ukraine-g7-nato-super-169.jpg\" data-src-medium=\"//cdn.cnn.com/cnnnext/dam/assets/220707052212-04-europe-china-ukraine-g7-nato-exlarge-169.jpg\" data-src-mini=\"//cdn.cnn.com/cnnnext/dam/assets/220707052212-04-europe-china-ukraine-g7-nato-small-169.jpg\" data-src-mini1x1=\"//cdn.cnn.com/cnnnext/dam/assets/220707052212-04-europe-china-ukraine-g7-nato-small-11.jpg\" data-src-small=\"//cdn.cnn.com/cnnnext/dam/assets/220707052212-04-europe-china-ukraine-g7-nato-large-169.jpg\" data-src-xsmall=\"//cdn.cnn.com/cnnnext/dam/assets/220707052212-04-europe-china-ukraine-g7-nato-medium-plus-169.jpg\" src=\"data:image/gif;base64,R0lGODlhEAAJAJEAAAAAAP///////wAAACH5BAEAAAIALAAAAAAQAAkAAAIKlI+py+0Po5yUFQA7\"/><div class=\"img__preloader\"></div><noscript><img alt=\"Russian President Vladimir Putin and Chinese leader Xi Jinping in Brazil in 2019.\" class=\"media__image\" src=\"//cdn.cnn.com/cnnnext/dam/assets/220707052212-04-europe-china-ukraine-g7-nato-large-169.jpg\"/></noscript><div class=\"media__caption el__gallery_image-title\"><div class=\"element-raw appearance-fullwidth\">Russian President Vladimir Putin and Chinese leader Xi Jinping in Brazil in 2019.</div></div><script name=\"metaScript\" type=\"application/ld+json\">{\"@context\": \"http://schema.org\",\"@type\": \"ImageObject\",\"name\": \"Russian President Vladimir Putin and Chinese leader Xi Jinping in Brazil in 2019.\",\"description\": \"Russian President Vladimir Putin and Chinese leader Xi Jinping in Brazil in 2019.\",\"url\": \"//cdn.cnn.com/cnnnext/dam/assets/220707052212-04-europe-china-ukraine-g7-nato-large-169.jpg\"}</script></div></div></div><div class=\"zn-body__paragraph\" data-paragraph-id=\"paragraph_555BF294-DFC2-795E-DD90-D92003DE9BC1\">Calculations about the geopolitical importance of ties with Russia, and also the <a href=\"https://www.cnn.com/2022/06/15/asia/china-support-russia-security-xi-birthday-putin-intl-hnk/index.html\" target=\"_blank\">close bond</a> between Xi and Russian President Vladimir Putin also likely came to bear, he added.</div><div class=\"zn-body__paragraph\" data-paragraph-id=\"paragraph_661B2C3B-33DC-D7CA-4161-D91F99217888\">\"It's a really huge dilemma for China ... and they couldn't afford any major negative consequences on the China-Russia strategic partnership. That imperative really prevailed,\" Li said.</div><div class=\"zn-body__paragraph\" data-paragraph-id=\"paragraph_45117A02-9908-775D-C824-D808B18781EE\">There has been acknowledgment of China's myopia among mainland scholars,</div><div class=\"zn-body__paragraph\" data-paragraph-id=\"paragraph_8C743621-1FC6-15D3-97C3-D808B189F0B6\">Chen Dingding, founding director of the Intellisia Institute think tank in Guangzhou, wrote in a <a href=\"https://thediplomat.com/2022/03/europe-and-china-at-a-crossroads/\" target=\"_blank\">coauthored article</a> in The Diplomat, that the risks of the war in Ukraine are \"not fully understood in China,\" where officials and academics had failed to acknowledge the \"shock\" that death and destruction in Ukraine would bring Europeans.</div><div class=\"zn-body__paragraph\" data-paragraph-id=\"paragraph_D511A2BA-9CAE-4FBB-1E0D-D959DFD6973A\">\"The geographic as well as emotional proximity of the war will fundamentally change European sentiments toward common security, economic dependencies, and national sovereignty for years to come,\" Chen and his international group of coauthors wrote.</div><div class=\"ad ad--epic ad--mobile\" data-ad-text=\"show\"><div data-ad-id=\"ad_rect_btf_01\" data-ad-position=\"mobile\" data-ad-refresh=\"default\"></div></div><ul class=\"cn cn-list-hierarchical-xs cn--idx-41 cn-zoneAdContainer\" data-layout=\"list-hierarchical-xs\"></ul><div class=\"zn-body__paragraph\" data-paragraph-id=\"paragraph_51CB2F69-C066-3F2C-D6B2-D808B18DD5D6\">However, strong voices within many countries do continue to advocate a balanced approach to China, according to d'Hooghe. The future may bring not a decoupling, she said, but rather a recalibration within Europe of how to collaborate with China while keeping an eye on security and balance.</div><div class=\"zn-body__paragraph\" data-paragraph-id=\"paragraph_BADBBF1D-1628-1F35-54A3-D808B18FBE6D\">\"But right now -- and this is also true with the European relationship with Russia -- normative considerations seem to weigh heavier than economic interests,\" she said.</div></div><p class=\"zn-body__paragraph zn-body__footer\"></p></div>,\n",
              " <div class=\"l-container zn__background--content-relative\"><div class=\"zn__containers\"><div class=\"column zn__column--idx-0\"><ul class=\"cn cn-list-hierarchical-small-horizontal cn--idx-0 cn-\" data-layout=\"list-hierarchical-small-horizontal\"><li><article class=\"cd cd--tool cd--tool__outbrain\" data-analytics=\"tool-type_list-hierarchical-small-horizontal_outbrain\" data-eq-pts=\"xsmall: 0, small: 300, medium: 460, large: 780\" data-vr-contentbox=\"\"><div class=\"OB_AR_36\"><div class=\"OUTBRAIN js-m-outbrain m-outbrain\" data-ob-template=\"cnn\" data-src=\"https://edition.cnn.com/2022/07/17/china/china-europe-relations-ukraine-russia-intl-mic-hnk/index.html\" data-widget-id=\"AR_36\"></div></div></article></li></ul></div><div class=\"column zn__column--idx-1\"><ul class=\"cn cn-list-hierarchical-small-horizontal cn--idx-1 cn-\" data-layout=\"list-hierarchical-small-horizontal\"><li><article class=\"cd cd--tool cd--tool__outbrain\" data-analytics=\"tool-type_list-hierarchical-small-horizontal_outbrain\" data-eq-pts=\"xsmall: 0, small: 300, medium: 460, large: 780\" data-vr-contentbox=\"\"><div class=\"OB_AR_13\"><div class=\"OUTBRAIN js-m-outbrain m-outbrain\" data-ob-template=\"cnn\" data-src=\"https://edition.cnn.com/2022/07/17/china/china-europe-relations-ukraine-russia-intl-mic-hnk/index.html\" data-widget-id=\"AR_13\"></div></div></article></li></ul></div><div class=\"column zn__column--idx-2\"><ul class=\"cn cn-list-hierarchical-small-horizontal cn--idx-2 cn-\" data-layout=\"list-hierarchical-small-horizontal\"><li><article class=\"cd cd--tool cd--tool__outbrain\" data-analytics=\"tool-type_list-hierarchical-small-horizontal_outbrain\" data-eq-pts=\"xsmall: 0, small: 300, medium: 460, large: 780\" data-vr-contentbox=\"\"><div class=\"OB_AR_39\"><div class=\"OUTBRAIN js-m-outbrain m-outbrain\" data-ob-template=\"cnn\" data-src=\"https://edition.cnn.com/2022/07/17/china/china-europe-relations-ukraine-russia-intl-mic-hnk/index.html\" data-widget-id=\"AR_39\"></div></div></article></li></ul></div></div></div>,\n",
              " <div class=\"l-container zn-top__label\"></div>,\n",
              " <div class=\"l-container zn-top__banner\"></div>,\n",
              " <div class=\"l-container\"><div class=\"zn__containers\"><div class=\"column zn__column--idx-0\"><div class=\"ad ad--epic ad--desktop\" data-ad-text=\"show\"><div class=\"ad-ad_bnr_btf_02 ad-refresh-adbody\" data-ad-id=\"ad_bnr_btf_02\" id=\"ad_bnr_btf_02\"></div></div><ul class=\"cn cn-list-hierarchical-xs cn--idx-0 cn-zoneAdContainer\" data-layout=\"list-hierarchical-xs\"></ul></div></div></div>,\n",
              " <div class=\"l-container zn__background--content-relative\"><div class=\"zn__containers\"><div class=\"column zn__column--idx-0\"><div class=\"ad ad--epic ad--tablet\" data-ad-text=\"show\"><div data-ad-id=\"freewheel-rail-placeholder\" data-ad-position=\"tablet\" data-ad-refresh=\"default\"></div></div><div class=\"ad ad--epic ad--tablet\" data-ad-text=\"show\"><div data-ad-id=\"ad_rect_atf_01\" data-ad-position=\"tablet\" data-ad-refresh=\"adtop\"></div></div><ul class=\"cn cn-list-hierarchical-small-horizontal cn--idx-0 cn-\" data-layout=\"list-hierarchical-small-horizontal\"><li><article class=\"cd cd--tool cd--tool__outbrain\" data-analytics=\"tool-type_list-hierarchical-small-horizontal_outbrain\" data-eq-pts=\"xsmall: 0, small: 300, medium: 460, large: 780\" data-vr-contentbox=\"\"><div class=\"OB_AR_38\"><div class=\"OUTBRAIN js-m-outbrain m-outbrain\" data-ob-template=\"cnn\" data-src=\"https://edition.cnn.com/2022/07/17/china/china-europe-relations-ukraine-russia-intl-mic-hnk/index.html\" data-widget-id=\"AR_38\"></div></div></article></li></ul></div><div class=\"column zn__column--idx-1\"><div class=\"ad ad--epic ad--desktop\" data-ad-text=\"show\"><div data-ad-id=\"freewheel-rail-placeholder\" data-ad-position=\"desktop\" data-ad-refresh=\"default\"></div></div><div class=\"ad ad--epic ad--desktop\" data-ad-text=\"show\"><div data-ad-id=\"ad_rect_atf_01\" data-ad-position=\"desktop\" data-ad-refresh=\"adtop\"></div></div><ul class=\"cn cn-list-hierarchical-xs cn--idx-1 cn-zoneAdContainer\" data-layout=\"list-hierarchical-xs\"></ul></div></div></div>,\n",
              " <div class=\"l-container zn__background--content-relative\"><div class=\"zn__containers\"><div class=\"column zn__column--idx-0\"><ul class=\"cn cn-list-hierarchical-xs cn--idx-0 cn-\" data-layout=\"list-hierarchical-xs\"></ul></div></div></div>,\n",
              " <div class=\"l-container zn__background--content-relative\"><div class=\"zn__containers\"><div class=\"column zn__column--idx-0\"><ul class=\"cn cn-list-hierarchical-small-horizontal cn--idx-0 cn-\" data-layout=\"list-hierarchical-small-horizontal\"><li><article class=\"cd cd--tool cd--tool__outbrain\" data-analytics=\"tool-type_list-hierarchical-small-horizontal_outbrain\" data-eq-pts=\"xsmall: 0, small: 300, medium: 460, large: 780\" data-vr-contentbox=\"\"><div class=\"OB_AR_18\"><div class=\"OUTBRAIN js-m-outbrain m-outbrain\" data-ob-template=\"cnn\" data-src=\"https://edition.cnn.com/2022/07/17/china/china-europe-relations-ukraine-russia-intl-mic-hnk/index.html\" data-widget-id=\"AR_18\"></div></div></article></li></ul></div><div class=\"column zn__column--idx-1\"><ul class=\"cn cn-list-hierarchical-small-horizontal cn--idx-1 cn-\" data-layout=\"list-hierarchical-small-horizontal\"><li><article class=\"cd cd--tool cd--tool__outbrain\" data-analytics=\"tool-type_list-hierarchical-small-horizontal_outbrain\" data-eq-pts=\"xsmall: 0, small: 300, medium: 460, large: 780\" data-vr-contentbox=\"\"><div class=\"OB_AR_14\"><div class=\"OUTBRAIN js-m-outbrain m-outbrain\" data-ob-template=\"cnn\" data-src=\"https://edition.cnn.com/2022/07/17/china/china-europe-relations-ukraine-russia-intl-mic-hnk/index.html\" data-widget-id=\"AR_14\"></div></div></article></li></ul></div></div></div>,\n",
              " <div class=\"l-container zn__background--content-relative\"><div class=\"zn__containers\"><div class=\"column zn__column--idx-0\"><div class=\"ad ad--epic ad--tablet\" data-ad-text=\"show\"><div data-ad-id=\"ad_rect_btf_01\" data-ad-position=\"tablet\" data-ad-refresh=\"adbody\"></div></div><div class=\"ad ad--epic ad--desktop\" data-ad-text=\"show\"><div data-ad-id=\"ad_rect_btf_01\" data-ad-position=\"desktop\" data-ad-refresh=\"adbody\"></div></div><ul class=\"cn cn-list-hierarchical-xs cn--idx-0 cn-zoneAdContainer\" data-layout=\"list-hierarchical-xs\"></ul></div></div></div>,\n",
              " <div class=\"l-container\"><ul class=\"cn cn-list-hierarchical-xs cn--idx-0 cn-\" data-layout=\"list-hierarchical-xs\"></ul></div>]"
            ]
          },
          "metadata": {},
          "execution_count": 50
        }
      ]
    },
    {
      "cell_type": "code",
      "source": [
        "article = soup.select(\".l-container\")[0].text\n",
        "# shows the information as words"
      ],
      "metadata": {
        "id": "F5FirvH6Pt8W"
      },
      "execution_count": 51,
      "outputs": []
    },
    {
      "cell_type": "code",
      "source": [
        "with open(\"news.txt\", \"w\") as f:\n",
        "  f.write(article)"
      ],
      "metadata": {
        "id": "7WcmYKT5QeDU"
      },
      "execution_count": 52,
      "outputs": []
    },
    {
      "cell_type": "markdown",
      "source": [
        "# Some Extra Commands"
      ],
      "metadata": {
        "id": "eAXDRz3vTy8x"
      }
    },
    {
      "cell_type": "code",
      "source": [
        "x = [\"1\", \"2\", \"3\", \"4\", \"5\"]"
      ],
      "metadata": {
        "id": "N-JV0OWxT4qp"
      },
      "execution_count": 53,
      "outputs": []
    },
    {
      "cell_type": "code",
      "source": [
        "list(map(int, x))\n",
        "# map changes can be used to change every object in list"
      ],
      "metadata": {
        "colab": {
          "base_uri": "https://localhost:8080/"
        },
        "id": "EjfO3CvKT19f",
        "outputId": "4142d854-b74b-4399-aaa8-4a4800ad18ee"
      },
      "execution_count": 54,
      "outputs": [
        {
          "output_type": "execute_result",
          "data": {
            "text/plain": [
              "[1, 2, 3, 4, 5]"
            ]
          },
          "metadata": {},
          "execution_count": 54
        }
      ]
    },
    {
      "cell_type": "code",
      "source": [
        "def foo(a):\n",
        "  u = int(a)\n",
        "  return u*u"
      ],
      "metadata": {
        "id": "9h_ON4IJUfs8"
      },
      "execution_count": 55,
      "outputs": []
    },
    {
      "cell_type": "code",
      "source": [
        "list(map(foo, x))"
      ],
      "metadata": {
        "colab": {
          "base_uri": "https://localhost:8080/"
        },
        "id": "49xw1pz5UhSe",
        "outputId": "d36cd67c-1b78-424f-9b73-0a918ffd702a"
      },
      "execution_count": 56,
      "outputs": [
        {
          "output_type": "execute_result",
          "data": {
            "text/plain": [
              "[1, 4, 9, 16, 25]"
            ]
          },
          "metadata": {},
          "execution_count": 56
        }
      ]
    },
    {
      "cell_type": "code",
      "source": [
        "print(*x, end=\"0\")\n",
        "# prints a the list with and ends it with 0"
      ],
      "metadata": {
        "colab": {
          "base_uri": "https://localhost:8080/"
        },
        "id": "VxvWcTg9T4U1",
        "outputId": "afdcf387-8acb-4104-9dbf-6784f7f84b3c"
      },
      "execution_count": 57,
      "outputs": [
        {
          "output_type": "stream",
          "name": "stdout",
          "text": [
            "1 2 3 4 50"
          ]
        }
      ]
    },
    {
      "cell_type": "code",
      "source": [
        "print(\"1\", \"2\", \"3\", \"4\", end=\"0\")\n"
      ],
      "metadata": {
        "colab": {
          "base_uri": "https://localhost:8080/"
        },
        "id": "Dq_l81COa3QL",
        "outputId": "20d90821-916f-4500-f143-76d273dad8bd"
      },
      "execution_count": 58,
      "outputs": [
        {
          "output_type": "stream",
          "name": "stdout",
          "text": [
            "1 2 3 40"
          ]
        }
      ]
    },
    {
      "cell_type": "markdown",
      "source": [
        "# Homework:\n",
        "\n",
        "1. Find a article and create a ratio based of it to junior high volcabulary\n",
        "2. [a009](https://zerojudge.tw/ShowProblem?problemid=a009)"
      ],
      "metadata": {
        "id": "K8BfAtKgaStr"
      }
    },
    {
      "cell_type": "markdown",
      "source": [
        "## Find a article and create a ratio based of it to junior high volcabulary"
      ],
      "metadata": {
        "id": "TYJgRnS7VH8j"
      }
    },
    {
      "cell_type": "code",
      "source": [
        "url = \"https://raw.githubusercontent.com/greenhill33/rootmemo/master/juniorhigh3.txt\""
      ],
      "metadata": {
        "id": "dW4fJVZ7yuon"
      },
      "execution_count": 70,
      "outputs": []
    },
    {
      "cell_type": "code",
      "source": [
        "r = requests.get(url)"
      ],
      "metadata": {
        "id": "x4pHQx7DP_V8"
      },
      "execution_count": 71,
      "outputs": []
    },
    {
      "cell_type": "code",
      "source": [
        "r = r.text.split()"
      ],
      "metadata": {
        "id": "HSPTIYxwROnd"
      },
      "execution_count": 72,
      "outputs": []
    },
    {
      "cell_type": "code",
      "source": [
        "for i in range(len(r)):\n",
        "  if \"=\" in r[i]:\n",
        "    r[i] = r[i].split(\"=\")[0]"
      ],
      "metadata": {
        "id": "38CVgHFcRS9-"
      },
      "execution_count": 75,
      "outputs": []
    },
    {
      "cell_type": "code",
      "source": [
        "r = set(r)"
      ],
      "metadata": {
        "id": "vua80golRfIA"
      },
      "execution_count": 77,
      "outputs": []
    },
    {
      "cell_type": "code",
      "source": [
        "article = \"\"\"On a warm and humid morning in the central Indian state of Madhya Pradesh last September, Chetan Singh Solanki stepped off a bus he’d been living in for the past 10 months and walked into a high school auditorium in the small town of Raisen, where 200 students, teachers, and officials had gathered to hear him speak.\n",
        "\n",
        "A solar energy professor at the Indian Institute of Technology (IIT) in Mumbai, Solanki is a slender man in his mid-40s with a boyish appearance and a quick smile that are assets for the mission he’s on. In late 2020 he took a leave to make an 11-year road trip around India to inspire action to fight climate change. Solanki’s vehicle is a mobile demonstration of the utility of renewable energy: Solar panels generate enough electricity to run the lights, fans, computers, stove, and television on board. After being garlanded and welcomed on the stage, Solanki made an unusual request.\n",
        "\n",
        "“I see 15 ceiling fans in this room. It’s the middle of the day, there’s so much sunlight outside, yet we have so many lights on in here,” he said. “Do we really need all of these fans and lights? Let’s turn some of them off and see if we’ll be OK with it.”\"\"\""
      ],
      "metadata": {
        "id": "d7Xqr4YVRUpr"
      },
      "execution_count": 94,
      "outputs": []
    },
    {
      "cell_type": "code",
      "source": [
        "string.punctuation"
      ],
      "metadata": {
        "colab": {
          "base_uri": "https://localhost:8080/",
          "height": 35
        },
        "id": "kuK-HWofTtMd",
        "outputId": "f2dafc26-ee00-43a2-f8cb-8af03f489d7a"
      },
      "execution_count": 95,
      "outputs": [
        {
          "output_type": "execute_result",
          "data": {
            "text/plain": [
              "'!\"#$%&\\'()*+,-./:;<=>?@[\\\\]^_`{|}~'"
            ],
            "application/vnd.google.colaboratory.intrinsic+json": {
              "type": "string"
            }
          },
          "metadata": {},
          "execution_count": 95
        }
      ]
    },
    {
      "cell_type": "code",
      "source": [
        "for c in string.punctuation:\n",
        "  article = article.replace(c, \" \")"
      ],
      "metadata": {
        "id": "IvhFRQE1S8GG"
      },
      "execution_count": 96,
      "outputs": []
    },
    {
      "cell_type": "code",
      "source": [
        "article"
      ],
      "metadata": {
        "colab": {
          "base_uri": "https://localhost:8080/",
          "height": 196
        },
        "id": "zXSKjhxVT-OW",
        "outputId": "52598213-6728-4e4a-cb70-d40d8f2525da"
      },
      "execution_count": 97,
      "outputs": [
        {
          "output_type": "execute_result",
          "data": {
            "text/plain": [
              "'On a warm and humid morning in the central Indian state of Madhya Pradesh last September  Chetan Singh Solanki stepped off a bus he’d been living in for the past 10 months and walked into a high school auditorium in the small town of Raisen  where 200 students  teachers  and officials had gathered to hear him speak \\n\\nA solar energy professor at the Indian Institute of Technology  IIT  in Mumbai  Solanki is a slender man in his mid 40s with a boyish appearance and a quick smile that are assets for the mission he’s on  In late 2020 he took a leave to make an 11 year road trip around India to inspire action to fight climate change  Solanki’s vehicle is a mobile demonstration of the utility of renewable energy  Solar panels generate enough electricity to run the lights  fans  computers  stove  and television on board  After being garlanded and welcomed on the stage  Solanki made an unusual request \\n\\n“I see 15 ceiling fans in this room  It’s the middle of the day  there’s so much sunlight outside  yet we have so many lights on in here ” he said  “Do we really need all of these fans and lights  Let’s turn some of them off and see if we’ll be OK with it ”'"
            ],
            "application/vnd.google.colaboratory.intrinsic+json": {
              "type": "string"
            }
          },
          "metadata": {},
          "execution_count": 97
        }
      ]
    },
    {
      "cell_type": "code",
      "source": [
        "article = article.lower()"
      ],
      "metadata": {
        "id": "VWUQQF1FUFai"
      },
      "execution_count": 98,
      "outputs": []
    },
    {
      "cell_type": "code",
      "source": [
        "article = article.split()\n",
        "for i in range(len(article)):\n",
        "  if \"\\n\" in article[i]:\n",
        "    article.remove(article[i])"
      ],
      "metadata": {
        "id": "7fT0YFetUMci"
      },
      "execution_count": 99,
      "outputs": []
    },
    {
      "cell_type": "code",
      "source": [
        "article = set(article)"
      ],
      "metadata": {
        "id": "YpFhX9XPUwMB"
      },
      "execution_count": 101,
      "outputs": []
    },
    {
      "cell_type": "code",
      "source": [
        "len(r & article)"
      ],
      "metadata": {
        "colab": {
          "base_uri": "https://localhost:8080/"
        },
        "id": "1tYEFFUkU1Om",
        "outputId": "527ea4f2-9687-4a46-9bc7-dc1d99a9ed22"
      },
      "execution_count": 103,
      "outputs": [
        {
          "output_type": "execute_result",
          "data": {
            "text/plain": [
              "82"
            ]
          },
          "metadata": {},
          "execution_count": 103
        }
      ]
    },
    {
      "cell_type": "code",
      "source": [
        "len(r & article)/len(article)"
      ],
      "metadata": {
        "colab": {
          "base_uri": "https://localhost:8080/"
        },
        "id": "sxYapAW5U-V8",
        "outputId": "5794257d-bc18-4e9f-a495-41821640f090"
      },
      "execution_count": 104,
      "outputs": [
        {
          "output_type": "execute_result",
          "data": {
            "text/plain": [
              "0.5466666666666666"
            ]
          },
          "metadata": {},
          "execution_count": 104
        }
      ]
    },
    {
      "cell_type": "code",
      "source": [
        ""
      ],
      "metadata": {
        "id": "2nc-z63JVG5o"
      },
      "execution_count": null,
      "outputs": []
    }
  ]
}